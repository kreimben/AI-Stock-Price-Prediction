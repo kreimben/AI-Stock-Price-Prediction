{
 "cells": [
  {
   "cell_type": "code",
   "execution_count": 57,
   "id": "initial_id",
   "metadata": {
    "collapsed": true,
    "ExecuteTime": {
     "end_time": "2024-01-12T07:30:02.978866Z",
     "start_time": "2024-01-12T07:30:01.171666Z"
    }
   },
   "outputs": [],
   "source": [
    "import numpy as np\n",
    "import pandas as pd\n",
    "import torch\n",
    "from PIL import Image\n",
    "from fastai.data.external import untar_data, URLs\n",
    "from fastai.torch_core import tensor, show_image\n",
    "from fastbook import plot_function"
   ]
  },
  {
   "cell_type": "code",
   "outputs": [],
   "source": [
    "path = untar_data(URLs.MNIST_SAMPLE)"
   ],
   "metadata": {
    "collapsed": false,
    "ExecuteTime": {
     "end_time": "2024-01-12T07:30:02.981863Z",
     "start_time": "2024-01-12T07:30:02.979395Z"
    }
   },
   "id": "de080aecf3ae586f",
   "execution_count": 58
  },
  {
   "cell_type": "code",
   "outputs": [
    {
     "data": {
      "text/plain": "(#3) [Path('/Users/kreimben/.fastai/data/mnist_sample/valid'),Path('/Users/kreimben/.fastai/data/mnist_sample/labels.csv'),Path('/Users/kreimben/.fastai/data/mnist_sample/train')]"
     },
     "execution_count": 59,
     "metadata": {},
     "output_type": "execute_result"
    }
   ],
   "source": [
    "path.ls()"
   ],
   "metadata": {
    "collapsed": false,
    "ExecuteTime": {
     "end_time": "2024-01-12T07:30:02.985512Z",
     "start_time": "2024-01-12T07:30:02.981784Z"
    }
   },
   "id": "5abffb32f1f03305",
   "execution_count": 59
  },
  {
   "cell_type": "code",
   "outputs": [
    {
     "data": {
      "text/plain": "(#2) [Path('/Users/kreimben/.fastai/data/mnist_sample/train/7'),Path('/Users/kreimben/.fastai/data/mnist_sample/train/3')]"
     },
     "execution_count": 60,
     "metadata": {},
     "output_type": "execute_result"
    }
   ],
   "source": [
    "(path / 'train').ls()"
   ],
   "metadata": {
    "collapsed": false,
    "ExecuteTime": {
     "end_time": "2024-01-12T07:30:02.989238Z",
     "start_time": "2024-01-12T07:30:02.985574Z"
    }
   },
   "id": "e0a4d32d6ec82212",
   "execution_count": 60
  },
  {
   "cell_type": "markdown",
   "source": [
    "간략하게 3과 7만 사용한다."
   ],
   "metadata": {
    "collapsed": false
   },
   "id": "35755e482cf45f21"
  },
  {
   "cell_type": "code",
   "outputs": [
    {
     "data": {
      "text/plain": "(#6131) [Path('/Users/kreimben/.fastai/data/mnist_sample/train/3/10.png'),Path('/Users/kreimben/.fastai/data/mnist_sample/train/3/10000.png'),Path('/Users/kreimben/.fastai/data/mnist_sample/train/3/10011.png'),Path('/Users/kreimben/.fastai/data/mnist_sample/train/3/10031.png'),Path('/Users/kreimben/.fastai/data/mnist_sample/train/3/10034.png'),Path('/Users/kreimben/.fastai/data/mnist_sample/train/3/10042.png'),Path('/Users/kreimben/.fastai/data/mnist_sample/train/3/10052.png'),Path('/Users/kreimben/.fastai/data/mnist_sample/train/3/1007.png'),Path('/Users/kreimben/.fastai/data/mnist_sample/train/3/10074.png'),Path('/Users/kreimben/.fastai/data/mnist_sample/train/3/10091.png')...]"
     },
     "execution_count": 61,
     "metadata": {},
     "output_type": "execute_result"
    }
   ],
   "source": [
    "three = (path / 'train' / '3').ls().sorted()\n",
    "seven = (path / 'train' / '7').ls().sorted()\n",
    "\n",
    "three"
   ],
   "metadata": {
    "collapsed": false,
    "ExecuteTime": {
     "end_time": "2024-01-12T07:30:03.061909Z",
     "start_time": "2024-01-12T07:30:02.989731Z"
    }
   },
   "id": "dc3d0e0b60652f0c",
   "execution_count": 61
  },
  {
   "cell_type": "code",
   "outputs": [
    {
     "data": {
      "text/plain": "<PIL.PngImagePlugin.PngImageFile image mode=L size=28x28>",
      "image/png": "[encoded data removed]",
      "image/jpeg": "[encoded data removed]"
     },
     "execution_count": 62,
     "metadata": {},
     "output_type": "execute_result"
    }
   ],
   "source": [
    "im3_path = three[1]\n",
    "im3 = Image.open(im3_path)\n",
    "im3"
   ],
   "metadata": {
    "collapsed": false,
    "ExecuteTime": {
     "end_time": "2024-01-12T07:30:03.066266Z",
     "start_time": "2024-01-12T07:30:03.062107Z"
    }
   },
   "id": "dbab3f54efc345e",
   "execution_count": 62
  },
  {
   "cell_type": "code",
   "outputs": [
    {
     "data": {
      "text/plain": "array([[  0,   0,   0,   0,   0,   0],\n       [  0,   0,   0,   0,   0,  29],\n       [  0,   0,   0,  48, 166, 224],\n       [  0,  93, 244, 249, 253, 187],\n       [  0, 107, 253, 253, 230,  48],\n       [  0,   3,  20,  20,  15,   0]], dtype=uint8)"
     },
     "execution_count": 63,
     "metadata": {},
     "output_type": "execute_result"
    }
   ],
   "source": [
    "np.array(im3)[4:10, 4:10]"
   ],
   "metadata": {
    "collapsed": false,
    "ExecuteTime": {
     "end_time": "2024-01-12T07:30:03.069332Z",
     "start_time": "2024-01-12T07:30:03.065522Z"
    }
   },
   "id": "f8a6015f1723b3e5",
   "execution_count": 63
  },
  {
   "cell_type": "code",
   "outputs": [
    {
     "data": {
      "text/plain": "tensor([[  0,   0,   0,   0,   0,   0],\n        [  0,   0,   0,   0,   0,  29],\n        [  0,   0,   0,  48, 166, 224],\n        [  0,  93, 244, 249, 253, 187],\n        [  0, 107, 253, 253, 230,  48],\n        [  0,   3,  20,  20,  15,   0]], dtype=torch.uint8)"
     },
     "execution_count": 64,
     "metadata": {},
     "output_type": "execute_result"
    }
   ],
   "source": [
    "tensor(im3)[4:10, 4:10]"
   ],
   "metadata": {
    "collapsed": false,
    "ExecuteTime": {
     "end_time": "2024-01-12T07:30:03.078954Z",
     "start_time": "2024-01-12T07:30:03.068365Z"
    }
   },
   "id": "a61e1187e8c164a2",
   "execution_count": 64
  },
  {
   "cell_type": "code",
   "outputs": [
    {
     "data": {
      "text/plain": "    0    1    2    3    4    5    6    7    8    9    10   11   12   13   14  \\\n0    0    0    0    0    0    0    0    0    0    0    0    0    0    0    0   \n1    0    0    0    0    0   29  150  195  254  255  254  176  193  150   96   \n2    0    0    0   48  166  224  253  253  234  196  253  253  253  253  233   \n3    0   93  244  249  253  187   46   10    8    4   10  194  253  253  233   \n4    0  107  253  253  230   48    0    0    0    0    0  192  253  253  156   \n5    0    3   20   20   15    0    0    0    0    0   43  224  253  245   74   \n6    0    0    0    0    0    0    0    0    0    0  249  253  245  126    0   \n7    0    0    0    0    0    0    0   14  101  223  253  248  124    0    0   \n8    0    0    0    0    0   11  166  239  253  253  253  187   30    0    0   \n9    0    0    0    0    0   16  248  250  253  253  253  253  232  213  111   \n10   0    0    0    0    0    0    0   43   98   98  208  253  253  253  253   \n\n     15  16  17  \n0     0   0   0  \n1     0   0   0  \n2     0   0   0  \n3     0   0   0  \n4     0   0   0  \n5     0   0   0  \n6     0   0   0  \n7     0   0   0  \n8     0   0   0  \n9     2   0   0  \n10  187  22   0  ",
      "text/html": "<div>\n<style scoped>\n    .dataframe tbody tr th:only-of-type {\n        vertical-align: middle;\n    }\n\n    .dataframe tbody tr th {\n        vertical-align: top;\n    }\n\n    .dataframe thead th {\n        text-align: right;\n    }\n</style>\n<table border=\"1\" class=\"dataframe\">\n  <thead>\n    <tr style=\"text-align: right;\">\n      <th></th>\n      <th>0</th>\n      <th>1</th>\n      <th>2</th>\n      <th>3</th>\n      <th>4</th>\n      <th>5</th>\n      <th>6</th>\n      <th>7</th>\n      <th>8</th>\n      <th>9</th>\n      <th>10</th>\n      <th>11</th>\n      <th>12</th>\n      <th>13</th>\n      <th>14</th>\n      <th>15</th>\n      <th>16</th>\n      <th>17</th>\n    </tr>\n  </thead>\n  <tbody>\n    <tr>\n      <th>0</th>\n      <td>0</td>\n      <td>0</td>\n      <td>0</td>\n      <td>0</td>\n      <td>0</td>\n      <td>0</td>\n      <td>0</td>\n      <td>0</td>\n      <td>0</td>\n      <td>0</td>\n      <td>0</td>\n      <td>0</td>\n      <td>0</td>\n      <td>0</td>\n      <td>0</td>\n      <td>0</td>\n      <td>0</td>\n      <td>0</td>\n    </tr>\n    <tr>\n      <th>1</th>\n      <td>0</td>\n      <td>0</td>\n      <td>0</td>\n      <td>0</td>\n      <td>0</td>\n      <td>29</td>\n      <td>150</td>\n      <td>195</td>\n      <td>254</td>\n      <td>255</td>\n      <td>254</td>\n      <td>176</td>\n      <td>193</td>\n      <td>150</td>\n      <td>96</td>\n      <td>0</td>\n      <td>0</td>\n      <td>0</td>\n    </tr>\n    <tr>\n      <th>2</th>\n      <td>0</td>\n      <td>0</td>\n      <td>0</td>\n      <td>48</td>\n      <td>166</td>\n      <td>224</td>\n      <td>253</td>\n      <td>253</td>\n      <td>234</td>\n      <td>196</td>\n      <td>253</td>\n      <td>253</td>\n      <td>253</td>\n      <td>253</td>\n      <td>233</td>\n      <td>0</td>\n      <td>0</td>\n      <td>0</td>\n    </tr>\n    <tr>\n      <th>3</th>\n      <td>0</td>\n      <td>93</td>\n      <td>244</td>\n      <td>249</td>\n      <td>253</td>\n      <td>187</td>\n      <td>46</td>\n      <td>10</td>\n      <td>8</td>\n      <td>4</td>\n      <td>10</td>\n      <td>194</td>\n      <td>253</td>\n      <td>253</td>\n      <td>233</td>\n      <td>0</td>\n      <td>0</td>\n      <td>0</td>\n    </tr>\n    <tr>\n      <th>4</th>\n      <td>0</td>\n      <td>107</td>\n      <td>253</td>\n      <td>253</td>\n      <td>230</td>\n      <td>48</td>\n      <td>0</td>\n      <td>0</td>\n      <td>0</td>\n      <td>0</td>\n      <td>0</td>\n      <td>192</td>\n      <td>253</td>\n      <td>253</td>\n      <td>156</td>\n      <td>0</td>\n      <td>0</td>\n      <td>0</td>\n    </tr>\n    <tr>\n      <th>5</th>\n      <td>0</td>\n      <td>3</td>\n      <td>20</td>\n      <td>20</td>\n      <td>15</td>\n      <td>0</td>\n      <td>0</td>\n      <td>0</td>\n      <td>0</td>\n      <td>0</td>\n      <td>43</td>\n      <td>224</td>\n      <td>253</td>\n      <td>245</td>\n      <td>74</td>\n      <td>0</td>\n      <td>0</td>\n      <td>0</td>\n    </tr>\n    <tr>\n      <th>6</th>\n      <td>0</td>\n      <td>0</td>\n      <td>0</td>\n      <td>0</td>\n      <td>0</td>\n      <td>0</td>\n      <td>0</td>\n      <td>0</td>\n      <td>0</td>\n      <td>0</td>\n      <td>249</td>\n      <td>253</td>\n      <td>245</td>\n      <td>126</td>\n      <td>0</td>\n      <td>0</td>\n      <td>0</td>\n      <td>0</td>\n    </tr>\n    <tr>\n      <th>7</th>\n      <td>0</td>\n      <td>0</td>\n      <td>0</td>\n      <td>0</td>\n      <td>0</td>\n      <td>0</td>\n      <td>0</td>\n      <td>14</td>\n      <td>101</td>\n      <td>223</td>\n      <td>253</td>\n      <td>248</td>\n      <td>124</td>\n      <td>0</td>\n      <td>0</td>\n      <td>0</td>\n      <td>0</td>\n      <td>0</td>\n    </tr>\n    <tr>\n      <th>8</th>\n      <td>0</td>\n      <td>0</td>\n      <td>0</td>\n      <td>0</td>\n      <td>0</td>\n      <td>11</td>\n      <td>166</td>\n      <td>239</td>\n      <td>253</td>\n      <td>253</td>\n      <td>253</td>\n      <td>187</td>\n      <td>30</td>\n      <td>0</td>\n      <td>0</td>\n      <td>0</td>\n      <td>0</td>\n      <td>0</td>\n    </tr>\n    <tr>\n      <th>9</th>\n      <td>0</td>\n      <td>0</td>\n      <td>0</td>\n      <td>0</td>\n      <td>0</td>\n      <td>16</td>\n      <td>248</td>\n      <td>250</td>\n      <td>253</td>\n      <td>253</td>\n      <td>253</td>\n      <td>253</td>\n      <td>232</td>\n      <td>213</td>\n      <td>111</td>\n      <td>2</td>\n      <td>0</td>\n      <td>0</td>\n    </tr>\n    <tr>\n      <th>10</th>\n      <td>0</td>\n      <td>0</td>\n      <td>0</td>\n      <td>0</td>\n      <td>0</td>\n      <td>0</td>\n      <td>0</td>\n      <td>43</td>\n      <td>98</td>\n      <td>98</td>\n      <td>208</td>\n      <td>253</td>\n      <td>253</td>\n      <td>253</td>\n      <td>253</td>\n      <td>187</td>\n      <td>22</td>\n      <td>0</td>\n    </tr>\n  </tbody>\n</table>\n</div>"
     },
     "execution_count": 65,
     "metadata": {},
     "output_type": "execute_result"
    }
   ],
   "source": [
    "im3_t = tensor(im3)\n",
    "df = pd.DataFrame(im3_t[4:15, 4:22])\n",
    "df.style.set_properties(**{'font-size': '6pt'}).background_gradient('Greys')\n",
    "df"
   ],
   "metadata": {
    "collapsed": false,
    "ExecuteTime": {
     "end_time": "2024-01-12T07:30:03.110401Z",
     "start_time": "2024-01-12T07:30:03.072346Z"
    }
   },
   "id": "f4f218941dce8ace",
   "execution_count": 65
  },
  {
   "cell_type": "markdown",
   "source": [
    "## 픽셀 유사성으로 3과 7 구분하기\n",
    "\n",
    "두 숫자 그룹에 대한 평균 픽셀값을 구하는것이다."
   ],
   "metadata": {
    "collapsed": false
   },
   "id": "91073741cdcdd25e"
  },
  {
   "cell_type": "code",
   "outputs": [
    {
     "data": {
      "text/plain": "(6131, 6265)"
     },
     "execution_count": 66,
     "metadata": {},
     "output_type": "execute_result"
    }
   ],
   "source": [
    "seven_tensors = [tensor(Image.open(o)) for o in seven]\n",
    "three_tensors = [tensor(Image.open(o)) for o in three]\n",
    "len(three_tensors), len(seven_tensors)"
   ],
   "metadata": {
    "collapsed": false,
    "ExecuteTime": {
     "end_time": "2024-01-12T07:30:05.427545Z",
     "start_time": "2024-01-12T07:30:03.083401Z"
    }
   },
   "id": "d9bb0594a4726afd",
   "execution_count": 66
  },
  {
   "cell_type": "code",
   "outputs": [
    {
     "data": {
      "text/plain": "<Figure size 100x100 with 1 Axes>",
      "image/png": "[encoded data removed]"
     },
     "metadata": {},
     "output_type": "display_data"
    }
   ],
   "source": [
    "show_image(three_tensors[123]);"
   ],
   "metadata": {
    "collapsed": false,
    "ExecuteTime": {
     "end_time": "2024-01-12T07:30:05.512974Z",
     "start_time": "2024-01-12T07:30:05.431196Z"
    }
   },
   "id": "d0eeabb766812e8e",
   "execution_count": 67
  },
  {
   "cell_type": "markdown",
   "source": [
    "모든 이미지를 대상으로 각 픽셀 위치의 전체 평균을 계산하여 각 픽셀의 강도를 구하는 것이 목표였다. 그러려면 리스트 내의 모든 이미지를 3차원 텐서 하나로 결합해야한다. 일반적으로 3차원 텐서는 rank-3 텐서라고 함. 이렇게 컬렉션에 담긴 개별 텐서들을 쌓아 올려 단일 텐서를 만드는 일은 꽤 흔한 작업 패턴이다. 그래서 파이토치는 이 작업을 수행하는 stack이라는 함수를 제공한다.\n",
    "\n",
    "평균 계산 등 파이토치가 제공하는 일부 연산은 정수 대신 부동소수형 데이터만을 지원하여, 작업에 따라 형 변환을 해야한다."
   ],
   "metadata": {
    "collapsed": false
   },
   "id": "f22d8c140e21efde"
  },
  {
   "cell_type": "code",
   "outputs": [
    {
     "data": {
      "text/plain": "torch.Size([6265, 28, 28])"
     },
     "execution_count": 68,
     "metadata": {},
     "output_type": "execute_result"
    }
   ],
   "source": [
    "stacked_sevens = torch.stack(seven_tensors).float() / 255\n",
    "stacked_threes = torch.stack(three_tensors).float() / 255\n",
    "stacked_sevens.shape"
   ],
   "metadata": {
    "collapsed": false,
    "ExecuteTime": {
     "end_time": "2024-01-12T07:30:05.576250Z",
     "start_time": "2024-01-12T07:30:05.488094Z"
    }
   },
   "id": "86e0736559a93e01",
   "execution_count": 68
  },
  {
   "cell_type": "code",
   "outputs": [],
   "source": [
    "mean3 = stacked_threes.mean(0)\n",
    "mean7 = stacked_sevens.mean(0)"
   ],
   "metadata": {
    "collapsed": false,
    "ExecuteTime": {
     "end_time": "2024-01-12T07:30:05.577169Z",
     "start_time": "2024-01-12T07:30:05.516436Z"
    }
   },
   "id": "df8296d9b2f73f87",
   "execution_count": 69
  },
  {
   "cell_type": "code",
   "outputs": [
    {
     "data": {
      "text/plain": "<Figure size 100x100 with 1 Axes>",
      "image/png": "[encoded data removed]"
     },
     "metadata": {},
     "output_type": "display_data"
    }
   ],
   "source": [
    "show_image(mean3);"
   ],
   "metadata": {
    "collapsed": false,
    "ExecuteTime": {
     "end_time": "2024-01-12T07:30:05.579554Z",
     "start_time": "2024-01-12T07:30:05.531683Z"
    }
   },
   "id": "781c2f5398c28b23",
   "execution_count": 70
  },
  {
   "cell_type": "code",
   "outputs": [
    {
     "data": {
      "text/plain": "<Axes: >"
     },
     "execution_count": 71,
     "metadata": {},
     "output_type": "execute_result"
    },
    {
     "data": {
      "text/plain": "<Figure size 100x100 with 1 Axes>",
      "image/png": "[encoded data removed]"
     },
     "metadata": {},
     "output_type": "display_data"
    }
   ],
   "source": [
    "show_image(mean7)"
   ],
   "metadata": {
    "collapsed": false,
    "ExecuteTime": {
     "end_time": "2024-01-12T07:30:05.667388Z",
     "start_time": "2024-01-12T07:30:05.558910Z"
    }
   },
   "id": "706c2086cdc9d542",
   "execution_count": 71
  },
  {
   "cell_type": "code",
   "outputs": [
    {
     "data": {
      "text/plain": "3"
     },
     "execution_count": 72,
     "metadata": {},
     "output_type": "execute_result"
    }
   ],
   "source": [
    "stacked_threes.ndim"
   ],
   "metadata": {
    "collapsed": false,
    "ExecuteTime": {
     "end_time": "2024-01-12T07:30:05.668346Z",
     "start_time": "2024-01-12T07:30:05.584420Z"
    }
   },
   "id": "97e7c065d834e468",
   "execution_count": 72
  },
  {
   "cell_type": "markdown",
   "source": [
    "축이 3개라는 소리. 차원과 구별할 줄 알아야 함."
   ],
   "metadata": {
    "collapsed": false
   },
   "id": "cd7db9d01849fe1c"
  },
  {
   "cell_type": "code",
   "outputs": [
    {
     "data": {
      "text/plain": "<Axes: >"
     },
     "execution_count": 73,
     "metadata": {},
     "output_type": "execute_result"
    },
    {
     "data": {
      "text/plain": "<Figure size 100x100 with 1 Axes>",
      "image/png": "[encoded data removed]"
     },
     "metadata": {},
     "output_type": "display_data"
    }
   ],
   "source": [
    "from random import randint\n",
    "\n",
    "N = len(stacked_threes)\n",
    "\n",
    "a_3 = stacked_threes[1]\n",
    "show_image(a_3)"
   ],
   "metadata": {
    "collapsed": false,
    "ExecuteTime": {
     "end_time": "2024-01-12T07:30:05.670535Z",
     "start_time": "2024-01-12T07:30:05.588749Z"
    }
   },
   "id": "50cdac77da1091c7",
   "execution_count": 73
  },
  {
   "cell_type": "markdown",
   "source": [
    "이상적인 숫자 3과의 거리를 어떻게 구할까?\n",
    "1. 차이의 적댓값에 대한 평균을 구하는 (음수를 양수화) 방법. L1 노름 또는 평균절대차 (Mean Absolute Difference, MAD)라고 함.\n",
    "1. 차이의 제곱(모든 수를 양수화 한다)에 대한 평균의 제굽근(제곱을 다시 원상태로 돌린다)을 구하는 방법. L2 노름 또는 평균제곱근오차 (Root Mean Squared Error, RMSE)라고 함."
   ],
   "metadata": {
    "collapsed": false
   },
   "id": "49d942833846f579"
  },
  {
   "cell_type": "code",
   "outputs": [
    {
     "data": {
      "text/plain": "(tensor(0.1114), tensor(0.1586))"
     },
     "execution_count": 74,
     "metadata": {},
     "output_type": "execute_result"
    }
   ],
   "source": [
    "# L1\n",
    "dist_3_abs = (a_3 - mean3).abs().mean()\n",
    "dist_7_abs = (a_3 - mean7).abs().mean()\n",
    "dist_3_abs, dist_7_abs"
   ],
   "metadata": {
    "collapsed": false,
    "ExecuteTime": {
     "end_time": "2024-01-12T07:30:05.683073Z",
     "start_time": "2024-01-12T07:30:05.643106Z"
    }
   },
   "id": "bc7bb20e8683384d",
   "execution_count": 74
  },
  {
   "cell_type": "code",
   "outputs": [
    {
     "data": {
      "text/plain": "(tensor(0.2021), tensor(0.3021))"
     },
     "execution_count": 75,
     "metadata": {},
     "output_type": "execute_result"
    }
   ],
   "source": [
    "# L2\n",
    "dist_3_sqr = ((a_3 - mean3)**2).mean().sqrt()\n",
    "dist_7_sqr = ((a_3 - mean7)**2).mean().sqrt()\n",
    "dist_3_sqr, dist_7_sqr"
   ],
   "metadata": {
    "collapsed": false,
    "ExecuteTime": {
     "end_time": "2024-01-12T07:30:05.683358Z",
     "start_time": "2024-01-12T07:30:05.650544Z"
    }
   },
   "id": "d1c67f67508a18eb",
   "execution_count": 75
  },
  {
   "cell_type": "markdown",
   "source": [
    "각 방법 모두에서 선택한 숫자 3 이미지는 '이상적인' 숫자 7보다 이상적인 숫자 3과의 거리가 더 짧습니다. 즉 간단히 만든 기준선 모델이 예측을 올바르게 수행했다고 볼 수 있다.\n",
    "이것을 손실함수로 다시 측정해 보자."
   ],
   "metadata": {
    "collapsed": false
   },
   "id": "91b255104b840eb4"
  },
  {
   "cell_type": "code",
   "outputs": [
    {
     "data": {
      "text/plain": "(tensor(0.1586), tensor(0.3021))"
     },
     "execution_count": 76,
     "metadata": {},
     "output_type": "execute_result"
    }
   ],
   "source": [
    "from torch.nn.functional import l1_loss, mse_loss\n",
    "\n",
    "l1_loss(a_3.float(), mean7), mse_loss(a_3, mean7).sqrt()"
   ],
   "metadata": {
    "collapsed": false,
    "ExecuteTime": {
     "end_time": "2024-01-12T07:30:05.752267Z",
     "start_time": "2024-01-12T07:30:05.659166Z"
    }
   },
   "id": "56562c552952947",
   "execution_count": 76
  },
  {
   "cell_type": "markdown",
   "source": [
    "결국 궁극적인 목표는 `is_3`라는 함수를 만들어 어떠한 이미지가 오더라도 3인지 7인지 구별할 수 있는 모델을 세우는것이다. 그렇게 하기 위해서는 두 이미지 사이의 거리를 계산해야 하므로, 거리의 개념부터 정의 해야함."
   ],
   "metadata": {
    "collapsed": false
   },
   "id": "e480ceabbb59b42"
  },
  {
   "cell_type": "code",
   "outputs": [],
   "source": [
    "valid_3_tens = torch.stack(\n",
    "    [tensor(Image.open(o)) for o in (path / 'valid' / '3').ls()]\n",
    ")\n",
    "valid_7_tens = torch.stack(\n",
    "    [tensor(Image.open(o)) for o in (path / 'valid' / '7').ls()]\n",
    ")"
   ],
   "metadata": {
    "collapsed": false,
    "ExecuteTime": {
     "end_time": "2024-01-12T07:30:06.045330Z",
     "start_time": "2024-01-12T07:30:05.665985Z"
    }
   },
   "id": "3c1f958a47903c2d",
   "execution_count": 77
  },
  {
   "cell_type": "code",
   "outputs": [],
   "source": [
    "valid_3_tens = valid_3_tens.float() / 255\n",
    "valid_7_tens = valid_7_tens.float() / 255"
   ],
   "metadata": {
    "collapsed": false,
    "ExecuteTime": {
     "end_time": "2024-01-12T07:30:06.054573Z",
     "start_time": "2024-01-12T07:30:06.045688Z"
    }
   },
   "id": "93b62a0325f545f0",
   "execution_count": 78
  },
  {
   "cell_type": "code",
   "outputs": [
    {
     "data": {
      "text/plain": "(torch.Size([1010, 28, 28]), torch.Size([1028, 28, 28]))"
     },
     "execution_count": 79,
     "metadata": {},
     "output_type": "execute_result"
    }
   ],
   "source": [
    "valid_3_tens.shape, valid_7_tens.shape"
   ],
   "metadata": {
    "collapsed": false,
    "ExecuteTime": {
     "end_time": "2024-01-12T07:30:06.056101Z",
     "start_time": "2024-01-12T07:30:06.051563Z"
    }
   },
   "id": "de38f693c75c6b03",
   "execution_count": 79
  },
  {
   "cell_type": "code",
   "outputs": [
    {
     "data": {
      "text/plain": "(tensor(0.1114), tensor(0.1586))"
     },
     "execution_count": 80,
     "metadata": {},
     "output_type": "execute_result"
    }
   ],
   "source": [
    "def mnist_distance(a, b): return (a - b).abs().mean((-1, -2))\n",
    "mnist_distance(a_3, mean3), mnist_distance(a_3, mean7)"
   ],
   "metadata": {
    "collapsed": false,
    "ExecuteTime": {
     "end_time": "2024-01-12T07:30:06.060477Z",
     "start_time": "2024-01-12T07:30:06.056049Z"
    }
   },
   "id": "62dff7d04379b0f1",
   "execution_count": 80
  },
  {
   "cell_type": "markdown",
   "source": [
    "그런데 전체 이미지에 대한 평가지표를 계산하려면, 검증용 데이터셋 내 **모든** 이미지와 이상적인 숫자 3 이미지의 거리를 계산해야 한다."
   ],
   "metadata": {
    "collapsed": false
   },
   "id": "da5f63f2bda1f7b9"
  },
  {
   "cell_type": "code",
   "outputs": [
    {
     "data": {
      "text/plain": "(tensor([0.1634, 0.1145, 0.1363,  ..., 0.1105, 0.1111, 0.1640]),\n torch.Size([1010]))"
     },
     "execution_count": 81,
     "metadata": {},
     "output_type": "execute_result"
    }
   ],
   "source": [
    "valid_3_dist = mnist_distance(valid_3_tens, mean3)\n",
    "valid_3_dist, valid_3_dist.shape"
   ],
   "metadata": {
    "collapsed": false,
    "ExecuteTime": {
     "end_time": "2024-01-12T07:30:06.063310Z",
     "start_time": "2024-01-12T07:30:06.059541Z"
    }
   },
   "id": "972dc4ba7dd1f0e6",
   "execution_count": 81
  },
  {
   "cell_type": "code",
   "outputs": [],
   "source": [
    "def is_3(x):\n",
    "    return mnist_distance(x, mean3) < mnist_distance(x, mean7)"
   ],
   "metadata": {
    "collapsed": false,
    "ExecuteTime": {
     "end_time": "2024-01-12T07:30:06.069472Z",
     "start_time": "2024-01-12T07:30:06.062425Z"
    }
   },
   "id": "cbaa87c103aae603",
   "execution_count": 82
  },
  {
   "cell_type": "code",
   "outputs": [
    {
     "data": {
      "text/plain": "(tensor(True), tensor(1.))"
     },
     "execution_count": 83,
     "metadata": {},
     "output_type": "execute_result"
    }
   ],
   "source": [
    "is_3(a_3), is_3(a_3).float()"
   ],
   "metadata": {
    "collapsed": false,
    "ExecuteTime": {
     "end_time": "2024-01-12T07:30:06.112743Z",
     "start_time": "2024-01-12T07:30:06.064429Z"
    }
   },
   "id": "e0bb6f6d06356c42",
   "execution_count": 83
  },
  {
   "cell_type": "code",
   "outputs": [],
   "source": [
    "# is_3(valid_3_dist)"
   ],
   "metadata": {
    "collapsed": false,
    "ExecuteTime": {
     "end_time": "2024-01-12T07:30:06.116956Z",
     "start_time": "2024-01-12T07:30:06.069935Z"
    }
   },
   "id": "4df1c9c87424d6e0",
   "execution_count": 84
  },
  {
   "cell_type": "code",
   "outputs": [
    {
     "data": {
      "text/plain": "(tensor(0.9168), tensor(0.9854), tensor(0.9511))"
     },
     "execution_count": 85,
     "metadata": {},
     "output_type": "execute_result"
    }
   ],
   "source": [
    "accuracy_3s = is_3(valid_3_tens).float().mean()\n",
    "accuracy_7s = (1 - is_3(valid_7_tens).float()).mean()\n",
    "\n",
    "accuracy_3s, accuracy_7s, (accuracy_3s + accuracy_7s) / 2"
   ],
   "metadata": {
    "collapsed": false,
    "ExecuteTime": {
     "end_time": "2024-01-12T07:30:06.129525Z",
     "start_time": "2024-01-12T07:30:06.072105Z"
    }
   },
   "id": "aa9d2ac08fb204a3",
   "execution_count": 85
  },
  {
   "cell_type": "markdown",
   "source": [
    "이렇게 하면 꽤나 신뢰성 높은 함수를 얻을 수 있다.\n",
    "\n",
    "하지만, 더 나은 결과를 얻으려면 실제로 무언가를 학습하는 시스템을 시도해야 함. 즉 시스템이 스스로 자동 수정해나가도록 하는 방법이 필요하다.\n",
    "이를 SGD로 해결해 보자.\n",
    "\n",
    "특정 이미지와 '이상적인 이미지' 사이의 유사도를 찾는 대신, 개별 픽셀마다 가중치를 설정하고 숫자를 표현하는 검은색 픽셀의 가중치를 높이는 방법을 생각해보자. 가령 숫자 7 이미지 우측 하단에 위치한 픽셀은 활성화 될 가능성이 매우 낮지만, 숫자 3 이미지라면 해당 부분이 높은 확률로 활성화됨. 따라서 이미지 우측 하단 픽셀들의 가중치는 숫자 7에서는 낮게, 숫자 3에서는 높게 매겨짐. 이 과정은 이미지 픽셀(x)과 각 픽셀에 대한 가중치(w)를 입력받는 함수로 표현할 수 있다. 가령 숫자 3이 될 확률은 아래와 같다."
   ],
   "metadata": {
    "collapsed": false
   },
   "id": "3c09165254cab370"
  },
  {
   "cell_type": "code",
   "outputs": [],
   "source": [
    "def pr_three(pixels, weight): return (pixels * weight).sum()"
   ],
   "metadata": {
    "collapsed": false,
    "ExecuteTime": {
     "end_time": "2024-01-12T07:30:06.130685Z",
     "start_time": "2024-01-12T07:30:06.080267Z"
    }
   },
   "id": "b43e6161f6e7f2e4",
   "execution_count": 86
  },
  {
   "cell_type": "markdown",
   "source": [
    "# MNIST loss function"
   ],
   "metadata": {
    "collapsed": false
   },
   "id": "b2c1fc652daf9a01"
  },
  {
   "cell_type": "code",
   "outputs": [],
   "source": [
    "train_x = torch.cat([stacked_threes, stacked_sevens]).view(-1, 28 * 28)"
   ],
   "metadata": {
    "collapsed": false,
    "ExecuteTime": {
     "end_time": "2024-01-12T07:30:06.131586Z",
     "start_time": "2024-01-12T07:30:06.083480Z"
    }
   },
   "id": "e99a4acafbd46885",
   "execution_count": 87
  },
  {
   "cell_type": "code",
   "outputs": [
    {
     "data": {
      "text/plain": "(torch.Size([12396, 784]), torch.Size([12396, 1]))"
     },
     "execution_count": 88,
     "metadata": {},
     "output_type": "execute_result"
    }
   ],
   "source": [
    "train_y = tensor([1] * len(three_tensors) + [0] * len(seven_tensors)).unsqueeze(1)\n",
    "train_x.shape, train_y.shape"
   ],
   "metadata": {
    "collapsed": false,
    "ExecuteTime": {
     "end_time": "2024-01-12T07:30:06.132547Z",
     "start_time": "2024-01-12T07:30:06.090165Z"
    }
   },
   "id": "af35973a3918ec6c",
   "execution_count": 88
  },
  {
   "cell_type": "code",
   "outputs": [
    {
     "data": {
      "text/plain": "(torch.Size([784]), torch.Size([1]))"
     },
     "execution_count": 89,
     "metadata": {},
     "output_type": "execute_result"
    }
   ],
   "source": [
    "dset = list(zip(train_x, train_y))\n",
    "x, y = dset[0]\n",
    "x.shape, y.shape"
   ],
   "metadata": {
    "collapsed": false,
    "ExecuteTime": {
     "end_time": "2024-01-12T07:30:06.169837Z",
     "start_time": "2024-01-12T07:30:06.093404Z"
    }
   },
   "id": "5dc8f5fb0af19cb0",
   "execution_count": 89
  },
  {
   "cell_type": "code",
   "outputs": [],
   "source": [
    "valid_x = torch.cat([valid_3_tens, valid_7_tens]).view(-1, 28 * 28)\n",
    "valid_y = tensor([1] * len(valid_3_tens) + [0] * len(valid_7_tens)).unsqueeze(1)\n",
    "valid_dset = list(zip(valid_x, valid_y))"
   ],
   "metadata": {
    "collapsed": false,
    "ExecuteTime": {
     "end_time": "2024-01-12T07:30:06.171123Z",
     "start_time": "2024-01-12T07:30:06.120283Z"
    }
   },
   "id": "8cae47656897b702",
   "execution_count": 90
  },
  {
   "cell_type": "code",
   "outputs": [
    {
     "data": {
      "text/plain": "tensor([[ 1.9269e+00],\n        [ 1.4873e+00],\n        [ 9.0072e-01],\n        [-2.1055e+00],\n        [ 6.7842e-01],\n        [-1.2345e+00],\n        [-4.3067e-02],\n        [-1.6047e+00],\n        [-7.5214e-01],\n        [ 1.6487e+00],\n        [-3.9248e-01],\n        [-1.4036e+00],\n        [-7.2788e-01],\n        [-5.5943e-01],\n        [-7.6884e-01],\n        [ 7.6245e-01],\n        [ 1.6423e+00],\n        [-1.5960e-01],\n        [-4.9740e-01],\n        [ 4.3959e-01],\n        [-7.5813e-01],\n        [ 1.0783e+00],\n        [ 8.0080e-01],\n        [ 1.6806e+00],\n        [ 1.2791e+00],\n        [ 1.2964e+00],\n        [ 6.1047e-01],\n        [ 1.3347e+00],\n        [-2.3162e-01],\n        [ 4.1759e-02],\n        [-2.5158e-01],\n        [ 8.5986e-01],\n        [-1.3847e+00],\n        [-8.7124e-01],\n        [-2.2337e-01],\n        [ 1.7174e+00],\n        [ 3.1888e-01],\n        [-4.2452e-01],\n        [ 3.0572e-01],\n        [-7.7459e-01],\n        [-1.5576e+00],\n        [ 9.9564e-01],\n        [-8.7979e-01],\n        [-6.0114e-01],\n        [-1.2742e+00],\n        [ 2.1228e+00],\n        [-1.2347e+00],\n        [-4.8791e-01],\n        [-9.1382e-01],\n        [-6.5814e-01],\n        [ 7.8024e-02],\n        [ 5.2581e-01],\n        [-4.8799e-01],\n        [ 1.1914e+00],\n        [-8.1401e-01],\n        [-7.3599e-01],\n        [-1.4032e+00],\n        [ 3.6004e-02],\n        [-6.3477e-02],\n        [ 6.7561e-01],\n        [-9.7807e-02],\n        [ 1.8446e+00],\n        [-1.1845e+00],\n        [ 1.3835e+00],\n        [ 1.4451e+00],\n        [ 8.5641e-01],\n        [ 2.2181e+00],\n        [ 5.2317e-01],\n        [ 3.4665e-01],\n        [-1.9733e-01],\n        [-1.0546e+00],\n        [ 1.2780e+00],\n        [-1.7219e-01],\n        [ 5.2379e-01],\n        [ 5.6622e-02],\n        [ 4.2630e-01],\n        [ 5.7501e-01],\n        [-6.4172e-01],\n        [-2.2064e+00],\n        [-7.5080e-01],\n        [ 1.0868e-02],\n        [-3.3874e-01],\n        [-1.3407e+00],\n        [-5.8537e-01],\n        [ 5.3619e-01],\n        [ 5.2462e-01],\n        [ 1.1412e+00],\n        [ 5.1644e-02],\n        [ 7.4395e-01],\n        [-4.8158e-01],\n        [-1.0495e+00],\n        [ 6.0390e-01],\n        [-1.7223e+00],\n        [-8.2777e-01],\n        [ 1.3347e+00],\n        [ 4.8354e-01],\n        [-2.5095e+00],\n        [ 4.8800e-01],\n        [ 7.8459e-01],\n        [ 2.8647e-02],\n        [ 6.4076e-01],\n        [ 5.8325e-01],\n        [ 1.0669e+00],\n        [-4.5015e-01],\n        [-1.8527e-01],\n        [ 7.5276e-01],\n        [ 4.0476e-01],\n        [ 1.7847e-01],\n        [ 2.6491e-01],\n        [ 1.2732e+00],\n        [-1.3109e-03],\n        [-3.0360e-01],\n        [-1.4570e+00],\n        [-1.0234e-01],\n        [-5.9915e-01],\n        [ 4.7706e-01],\n        [ 7.2618e-01],\n        [ 9.1152e-02],\n        [-3.8907e-01],\n        [ 5.2792e-01],\n        [-1.2685e-02],\n        [ 2.4084e-01],\n        [ 1.3254e-01],\n        [ 7.6424e-01],\n        [ 1.0950e+00],\n        [ 3.3989e-01],\n        [ 7.1997e-01],\n        [ 4.1141e-01],\n        [ 1.9312e+00],\n        [ 1.0119e+00],\n        [-1.4364e+00],\n        [-1.1299e+00],\n        [-1.3603e-01],\n        [ 1.6354e+00],\n        [ 6.5474e-01],\n        [ 5.7600e-01],\n        [ 1.1415e+00],\n        [ 1.8565e-02],\n        [-1.8058e+00],\n        [ 9.2543e-01],\n        [-3.7534e-01],\n        [ 1.0331e+00],\n        [-6.8665e-01],\n        [ 6.3681e-01],\n        [-9.7267e-01],\n        [ 9.5846e-01],\n        [ 1.6192e+00],\n        [ 1.4506e+00],\n        [ 2.6948e-01],\n        [-2.1038e-01],\n        [-7.3280e-01],\n        [ 1.0430e-01],\n        [ 3.4875e-01],\n        [ 9.6759e-01],\n        [-4.6569e-01],\n        [ 1.6048e+00],\n        [-2.4801e+00],\n        [-4.1754e-01],\n        [-1.1955e+00],\n        [ 8.1234e-01],\n        [-1.9006e+00],\n        [ 2.2858e-01],\n        [ 2.4859e-02],\n        [-3.4595e-01],\n        [ 2.8683e-01],\n        [-7.3084e-01],\n        [ 1.7482e-01],\n        [-1.0939e+00],\n        [-1.6022e+00],\n        [ 1.3529e+00],\n        [ 1.2888e+00],\n        [ 5.2296e-02],\n        [-1.5469e+00],\n        [ 7.5671e-01],\n        [ 7.7552e-01],\n        [ 2.0265e+00],\n        [ 3.5818e-02],\n        [ 1.2059e-01],\n        [-8.0566e-01],\n        [-2.0758e-01],\n        [-9.3195e-01],\n        [-1.5910e+00],\n        [-1.1360e+00],\n        [-5.2260e-01],\n        [-5.1877e-01],\n        [-1.5013e+00],\n        [-1.9267e+00],\n        [ 1.2785e-01],\n        [ 1.0229e+00],\n        [-5.5579e-01],\n        [ 7.0427e-01],\n        [ 7.0988e-01],\n        [ 1.7744e+00],\n        [-9.2155e-01],\n        [ 9.6245e-01],\n        [-3.3702e-01],\n        [-1.1753e+00],\n        [ 3.5806e-01],\n        [ 4.7877e-01],\n        [ 1.3537e+00],\n        [ 5.2606e-01],\n        [ 2.1120e+00],\n        [-5.2076e-01],\n        [-9.3201e-01],\n        [ 1.8516e-01],\n        [ 1.0687e+00],\n        [ 1.3065e+00],\n        [ 4.5983e-01],\n        [-8.1463e-01],\n        [-1.0212e+00],\n        [-4.9492e-01],\n        [-5.9225e-01],\n        [ 1.5432e-01],\n        [ 4.4077e-01],\n        [-1.4829e-01],\n        [-2.3184e+00],\n        [-3.9800e-01],\n        [ 1.0805e+00],\n        [-1.7809e+00],\n        [ 1.5080e+00],\n        [ 3.0943e-01],\n        [-5.0031e-01],\n        [ 1.0350e+00],\n        [ 1.6896e+00],\n        [-4.5051e-03],\n        [ 1.6668e+00],\n        [ 1.5392e-01],\n        [-1.0603e+00],\n        [-5.7266e-01],\n        [ 8.3568e-02],\n        [ 3.9991e-01],\n        [ 1.9892e+00],\n        [-7.1988e-02],\n        [-9.0609e-01],\n        [-2.0487e+00],\n        [-1.0811e+00],\n        [ 1.7623e-02],\n        [ 7.8226e-02],\n        [ 1.9316e-01],\n        [ 4.0967e-01],\n        [-9.2913e-01],\n        [ 2.7619e-01],\n        [-5.3888e-01],\n        [ 4.6258e-01],\n        [-8.7189e-01],\n        [-2.7118e-02],\n        [-3.5325e-01],\n        [ 1.4639e+00],\n        [ 1.2554e+00],\n        [-7.1496e-01],\n        [ 8.5392e-01],\n        [ 5.1299e-01],\n        [ 5.3973e-01],\n        [ 5.6551e-01],\n        [ 5.0579e-01],\n        [ 2.2245e-01],\n        [-6.8548e-01],\n        [ 5.6356e-01],\n        [-1.5072e+00],\n        [-1.6107e+00],\n        [-1.4790e+00],\n        [ 4.3227e-01],\n        [-1.2503e-01],\n        [ 7.8212e-01],\n        [-1.5988e+00],\n        [-1.0913e-01],\n        [ 7.1520e-01],\n        [ 3.9140e-02],\n        [ 1.3059e+00],\n        [ 2.4659e-01],\n        [-1.9776e+00],\n        [ 1.7896e-02],\n        [-1.3793e+00],\n        [ 6.2580e-01],\n        [-2.5850e+00],\n        [-2.3999e-02],\n        [-1.2219e-01],\n        [-7.4700e-01],\n        [ 1.7093e+00],\n        [ 5.7923e-02],\n        [ 1.1930e+00],\n        [ 1.9373e+00],\n        [ 7.2871e-01],\n        [ 9.8089e-01],\n        [ 4.1459e-01],\n        [ 1.1566e+00],\n        [ 2.6905e-01],\n        [-3.6629e-02],\n        [ 9.7329e-01],\n        [-1.0151e+00],\n        [-5.4192e-01],\n        [-4.4102e-01],\n        [-3.1362e-01],\n        [-1.2925e-01],\n        [-7.1496e-01],\n        [-4.7562e-02],\n        [ 2.0207e+00],\n        [ 2.5392e-01],\n        [ 9.3644e-01],\n        [ 7.1224e-01],\n        [-3.1766e-02],\n        [ 1.0164e-01],\n        [ 1.3433e+00],\n        [ 7.1327e-01],\n        [ 4.0380e-01],\n        [-7.1398e-01],\n        [ 8.3373e-01],\n        [-9.5855e-01],\n        [ 4.5363e-01],\n        [ 1.2461e+00],\n        [-2.3065e+00],\n        [-1.2869e+00],\n        [ 1.7989e-01],\n        [-2.1268e+00],\n        [-1.3408e-01],\n        [-1.0408e+00],\n        [-7.6472e-01],\n        [-5.5283e-02],\n        [ 1.2049e+00],\n        [-9.8247e-01],\n        [ 4.3344e-01],\n        [-7.1719e-01],\n        [ 1.0554e+00],\n        [-1.4534e+00],\n        [ 4.6515e-01],\n        [ 3.7139e-01],\n        [-4.6568e-03],\n        [ 7.9549e-02],\n        [ 3.7818e-01],\n        [ 7.0511e-01],\n        [-1.7237e+00],\n        [-8.4348e-01],\n        [ 4.3514e-01],\n        [ 2.6589e-01],\n        [-5.8710e-01],\n        [ 8.2689e-02],\n        [ 8.8538e-01],\n        [ 1.8244e-01],\n        [ 7.8638e-01],\n        [-5.7920e-02],\n        [ 5.6667e-01],\n        [-7.0976e-01],\n        [-4.8751e-01],\n        [ 5.0096e-02],\n        [ 6.0841e-01],\n        [ 1.6309e+00],\n        [-8.4723e-02],\n        [ 1.0844e+00],\n        [ 9.4777e-01],\n        [-6.7663e-01],\n        [-5.7302e-01],\n        [-3.3032e-01],\n        [-7.9394e-01],\n        [ 3.7523e-01],\n        [ 8.7910e-02],\n        [-1.2415e+00],\n        [-3.2025e-01],\n        [-8.4438e-01],\n        [-5.5135e-01],\n        [ 1.9890e+00],\n        [ 1.9003e+00],\n        [ 1.6951e+00],\n        [ 2.8090e-02],\n        [-1.7537e-01],\n        [-1.7735e+00],\n        [-7.0464e-01],\n        [-3.9465e-01],\n        [ 1.8868e+00],\n        [-2.1844e-01],\n        [ 1.6630e-01],\n        [ 2.1442e+00],\n        [ 1.7046e+00],\n        [ 3.4590e-01],\n        [ 6.4248e-01],\n        [-2.0395e-01],\n        [ 6.8537e-01],\n        [-1.3969e-01],\n        [-1.1808e+00],\n        [-1.2829e+00],\n        [ 4.4849e-01],\n        [-5.9074e-01],\n        [ 8.5406e-01],\n        [-4.9007e-01],\n        [-3.5946e-01],\n        [ 6.6637e-01],\n        [-7.4266e-02],\n        [-2.0960e-01],\n        [ 1.6632e-01],\n        [ 1.4703e+00],\n        [-9.3909e-01],\n        [-6.0132e-01],\n        [-9.9640e-02],\n        [-9.8515e-01],\n        [-2.4885e+00],\n        [-3.3132e-01],\n        [ 8.4358e-01],\n        [ 9.8745e-01],\n        [-3.3197e-01],\n        [-8.0762e-01],\n        [ 8.2436e-01],\n        [ 2.4700e-02],\n        [-1.0641e+00],\n        [-7.6019e-01],\n        [-4.0751e-01],\n        [ 9.6236e-01],\n        [-1.4264e-01],\n        [ 1.5271e-01],\n        [-3.8802e-02],\n        [ 9.4461e-01],\n        [-1.5824e+00],\n        [ 9.8713e-01],\n        [ 1.1457e+00],\n        [-1.4181e-01],\n        [-2.7634e-01],\n        [-1.9321e-01],\n        [ 7.7678e-01],\n        [ 6.8388e-01],\n        [-1.3246e+00],\n        [-5.1608e-01],\n        [ 6.0018e-01],\n        [-4.7022e-01],\n        [-6.0864e-01],\n        [-4.6192e-02],\n        [-1.6457e+00],\n        [-4.8333e-01],\n        [-7.4029e-01],\n        [ 3.1428e-01],\n        [ 1.4156e-01],\n        [ 1.0348e+00],\n        [-6.2644e-01],\n        [-5.1509e-01],\n        [ 6.9029e-01],\n        [-4.9400e-01],\n        [ 1.1366e+00],\n        [-4.6184e-01],\n        [ 1.4200e+00],\n        [ 8.4852e-01],\n        [-4.7891e-02],\n        [ 6.6856e-01],\n        [ 1.0430e+00],\n        [ 6.8990e-01],\n        [-1.3129e+00],\n        [ 3.7804e-02],\n        [-1.1702e+00],\n        [-1.0319e-01],\n        [ 1.1895e+00],\n        [ 7.6069e-01],\n        [-7.4630e-01],\n        [-1.3839e+00],\n        [ 4.8687e-01],\n        [-1.0020e+00],\n        [ 3.2949e-02],\n        [-4.2920e-01],\n        [-9.8180e-01],\n        [-6.4206e-01],\n        [ 8.2659e-01],\n        [ 1.5914e+00],\n        [-1.2081e-01],\n        [-4.8302e-01],\n        [ 1.1330e-01],\n        [ 7.7151e-02],\n        [-9.2281e-01],\n        [-1.2620e+00],\n        [ 1.0861e+00],\n        [ 1.0966e+00],\n        [-6.8369e-01],\n        [ 6.6043e-02],\n        [-7.7414e-04],\n        [ 1.6206e-01],\n        [ 1.1960e+00],\n        [-1.3062e+00],\n        [-1.4040e+00],\n        [-1.0597e+00],\n        [ 3.0573e-01],\n        [ 4.1506e-01],\n        [-7.1741e-01],\n        [ 2.8340e+00],\n        [ 1.9535e+00],\n        [ 2.0487e+00],\n        [-1.0880e+00],\n        [ 1.6217e+00],\n        [ 8.5127e-01],\n        [-4.0047e-01],\n        [-6.0883e-01],\n        [-5.0810e-01],\n        [-6.1849e-01],\n        [-1.6470e+00],\n        [-1.0362e+00],\n        [-4.5031e-01],\n        [-7.2966e-02],\n        [-5.4795e-01],\n        [-1.1426e+00],\n        [-4.4875e-01],\n        [-3.0454e-02],\n        [ 3.8303e-01],\n        [-4.4770e-02],\n        [ 1.1799e+00],\n        [-3.3143e-01],\n        [ 6.4950e-01],\n        [ 9.4959e-02],\n        [-7.5259e-01],\n        [-6.4723e-01],\n        [-1.2823e+00],\n        [ 1.9653e+00],\n        [-9.6385e-01],\n        [-2.5668e+00],\n        [ 7.0961e-01],\n        [ 8.1984e-01],\n        [ 6.2145e-01],\n        [ 4.2319e-01],\n        [-3.3890e-01],\n        [ 5.1797e-01],\n        [-1.3638e+00],\n        [ 1.9296e-01],\n        [-6.1033e-01],\n        [ 1.6323e-01],\n        [ 1.5102e+00],\n        [ 2.1230e-01],\n        [-7.2520e-01],\n        [-9.5277e-01],\n        [ 5.2169e-01],\n        [-4.6387e-01],\n        [ 1.8238e-01],\n        [-3.8666e-01],\n        [-1.7907e+00],\n        [ 9.3293e-02],\n        [-1.9153e+00],\n        [-6.4218e-01],\n        [ 1.3439e+00],\n        [-1.2922e+00],\n        [ 7.6624e-01],\n        [ 6.4540e-01],\n        [ 3.5332e-01],\n        [-2.6475e+00],\n        [-1.4575e+00],\n        [-9.7124e-01],\n        [ 2.5403e-01],\n        [-1.7906e-01],\n        [ 1.1993e+00],\n        [-4.2922e-01],\n        [ 1.0103e+00],\n        [ 6.1104e-01],\n        [ 1.2208e+00],\n        [-6.0764e-01],\n        [-1.7376e+00],\n        [-1.2535e-01],\n        [-1.3658e+00],\n        [ 1.1117e+00],\n        [-6.2280e-01],\n        [-7.8918e-01],\n        [-1.6782e-01],\n        [ 1.6433e+00],\n        [ 2.0071e+00],\n        [-1.2531e+00],\n        [ 1.1189e+00],\n        [ 1.7733e+00],\n        [-2.0717e+00],\n        [-4.1253e-01],\n        [-9.7696e-01],\n        [-3.3634e-02],\n        [ 1.8595e+00],\n        [ 2.6221e+00],\n        [ 3.6905e-01],\n        [ 3.8030e-01],\n        [ 1.9898e-01],\n        [-2.3609e-01],\n        [ 3.0341e-01],\n        [-4.5008e-01],\n        [ 4.7390e-01],\n        [ 6.5034e-01],\n        [ 1.1662e+00],\n        [ 1.6936e-02],\n        [ 5.3259e-01],\n        [-6.0354e-01],\n        [-1.7426e-01],\n        [ 6.0921e-01],\n        [-8.0322e-01],\n        [-1.1209e+00],\n        [ 1.9564e-01],\n        [-7.8152e-01],\n        [-1.7899e+00],\n        [-2.6157e-01],\n        [-4.4025e-01],\n        [ 2.1848e+00],\n        [-4.8010e-01],\n        [-1.2872e+00],\n        [ 7.3888e-01],\n        [ 3.3895e-02],\n        [-3.1229e-01],\n        [-2.5418e-01],\n        [-1.2055e+00],\n        [-9.5421e-01],\n        [ 6.1277e-02],\n        [ 8.5261e-02],\n        [ 7.4813e-01],\n        [-1.6356e-01],\n        [-9.0856e-01],\n        [ 3.1300e-01],\n        [ 8.0505e-01],\n        [-1.1134e+00],\n        [ 4.9816e-01],\n        [-1.2000e+00],\n        [ 1.2711e-01],\n        [ 4.4037e-01],\n        [ 6.3777e-01],\n        [ 1.5979e-01],\n        [ 1.7698e+00],\n        [ 6.2682e-01],\n        [-1.8737e+00],\n        [ 2.3259e+00],\n        [-9.2039e-01],\n        [ 6.6611e-01],\n        [-4.4026e-01],\n        [-2.3180e+00],\n        [ 1.2946e+00],\n        [ 2.2267e-01],\n        [-8.4834e-01],\n        [ 1.6489e+00],\n        [ 1.6006e+00],\n        [-7.8589e-02],\n        [ 4.3105e-01],\n        [ 3.6835e-01],\n        [ 7.6380e-01],\n        [ 1.1792e+00],\n        [-4.1379e-01],\n        [ 5.1841e-01],\n        [-7.0154e-01],\n        [-4.3234e-01],\n        [ 1.4148e-01],\n        [ 7.1104e-02],\n        [ 5.6335e-01],\n        [-5.7864e-01],\n        [-1.0838e+00],\n        [-3.8893e-01],\n        [ 8.1261e-01],\n        [ 1.4981e+00],\n        [ 4.3896e-02],\n        [ 1.4443e+00],\n        [ 2.3203e-01],\n        [ 5.0650e-01],\n        [-1.2787e+00],\n        [-3.8427e-02],\n        [ 1.9138e+00],\n        [ 3.3784e-01],\n        [ 1.2506e-01],\n        [-7.6215e-01],\n        [-1.1906e+00],\n        [ 7.7561e-01],\n        [ 4.5572e-01],\n        [ 2.5033e-01],\n        [-1.3611e+00],\n        [ 1.8018e+00],\n        [-7.4342e-02],\n        [-1.5664e-01],\n        [-8.7085e-01],\n        [-6.4110e-01],\n        [-4.1456e-01],\n        [-6.9024e-01],\n        [-2.2996e-01],\n        [-2.1723e+00],\n        [ 8.7683e-02],\n        [ 1.0938e+00],\n        [-1.1772e-01],\n        [-2.9864e-01],\n        [-9.5362e-01],\n        [-9.2473e-02],\n        [-1.0167e+00],\n        [-7.6757e-03],\n        [-5.1822e-01],\n        [ 8.3954e-01],\n        [ 5.8523e-02],\n        [-1.6682e+00],\n        [ 2.1296e+00],\n        [-1.5181e+00],\n        [ 1.3873e-01],\n        [-1.1798e+00],\n        [-5.2974e-01],\n        [ 9.6252e-01],\n        [ 2.7944e-01],\n        [-5.7182e-01],\n        [-2.7936e+00],\n        [-7.1115e-01],\n        [ 5.2352e-01],\n        [-1.7106e+00],\n        [ 8.3849e-01],\n        [-2.6985e-01],\n        [ 1.2306e-01],\n        [ 8.7575e-01],\n        [ 1.5133e-01],\n        [ 7.3939e-01],\n        [ 2.7310e-01],\n        [ 2.7312e+00],\n        [ 4.3201e-01],\n        [-3.0918e-01],\n        [-9.6581e-02],\n        [ 1.5419e+00],\n        [-1.0874e-01],\n        [-4.1890e-01],\n        [ 1.4384e+00],\n        [-7.0684e-01],\n        [-1.2520e+00],\n        [ 3.0250e+00],\n        [ 1.3463e+00],\n        [ 8.5561e-01],\n        [ 3.2203e-01],\n        [ 4.4606e-01],\n        [ 1.5230e+00],\n        [ 1.2805e+00],\n        [-1.1616e-01],\n        [ 1.3705e+00],\n        [-4.8094e-01],\n        [-9.9036e-01],\n        [-1.3642e+00],\n        [ 8.2057e-03],\n        [-4.0586e-01],\n        [-7.1109e-01],\n        [-3.4958e-01],\n        [ 3.7975e-01],\n        [ 9.9930e-01],\n        [ 1.2752e+00],\n        [ 9.5949e-01],\n        [ 1.0351e-01],\n        [ 8.2903e-01],\n        [ 2.0921e+00],\n        [ 7.9531e-01],\n        [ 2.7928e-01],\n        [ 1.8645e-01],\n        [ 3.5471e-01],\n        [ 9.0639e-02],\n        [ 1.7423e+00],\n        [-1.2660e+00],\n        [ 3.8916e-01],\n        [ 3.4288e-01],\n        [-1.4591e+00],\n        [-1.4937e+00],\n        [-2.2139e-01],\n        [ 2.2524e-01],\n        [-7.7245e-02],\n        [ 9.8569e-01],\n        [ 1.2783e+00],\n        [ 2.8815e-01],\n        [ 8.6905e-01],\n        [-8.0971e-01],\n        [-1.4299e+00],\n        [ 4.5902e-01],\n        [ 5.3093e-01],\n        [-1.3615e+00],\n        [ 1.9562e+00],\n        [ 1.7685e+00],\n        [-9.8580e-01],\n        [-1.2371e+00],\n        [-2.3019e+00],\n        [-1.0086e-03],\n        [-8.4943e-01],\n        [-1.6594e+00],\n        [ 3.0629e-01],\n        [ 1.1820e+00],\n        [ 3.2603e-01],\n        [-3.8945e-01],\n        [ 2.8544e+00],\n        [ 8.2437e-01],\n        [ 7.9835e-01],\n        [ 1.8890e+00],\n        [ 5.9346e-01],\n        [ 6.9654e-02],\n        [-1.6034e+00],\n        [-4.2982e-01],\n        [ 5.7616e-01],\n        [ 3.4436e-01],\n        [-3.1016e+00],\n        [-1.4587e+00],\n        [-1.4318e+00],\n        [-6.0713e-01],\n        [-2.5974e-01],\n        [-7.1902e-01],\n        [-3.8583e-01],\n        [ 5.2335e-01],\n        [-8.2118e-01],\n        [-4.7087e-01],\n        [ 6.0164e-01],\n        [-2.8251e-01],\n        [ 7.6927e-01],\n        [-7.6689e-01],\n        [-9.4949e-01]], requires_grad=True)"
     },
     "execution_count": 91,
     "metadata": {},
     "output_type": "execute_result"
    }
   ],
   "source": [
    "def init_params(size, std=1.0): return (torch.randn(size) * std).requires_grad_()\n",
    "weights = init_params((28 * 28, 1))\n",
    "weights"
   ],
   "metadata": {
    "collapsed": false,
    "ExecuteTime": {
     "end_time": "2024-01-12T07:30:06.193453Z",
     "start_time": "2024-01-12T07:30:06.126656Z"
    }
   },
   "id": "a22e698851087180",
   "execution_count": 91
  },
  {
   "cell_type": "code",
   "outputs": [
    {
     "data": {
      "text/plain": "tensor([0.3472], requires_grad=True)"
     },
     "execution_count": 92,
     "metadata": {},
     "output_type": "execute_result"
    }
   ],
   "source": [
    "bias = init_params(1)\n",
    "bias"
   ],
   "metadata": {
    "collapsed": false,
    "ExecuteTime": {
     "end_time": "2024-01-12T07:30:06.194571Z",
     "start_time": "2024-01-12T07:30:06.134103Z"
    }
   },
   "id": "64051db1409a29ce",
   "execution_count": 92
  },
  {
   "cell_type": "markdown",
   "source": [
    "신경망에서는 `y = w * x + b` 방정식의 w를 가중치(weights), b를 편향이라고 함. 그리고 가중치와 편향을 모두 통틀어서 `parameter`라고 지칭함."
   ],
   "metadata": {
    "collapsed": false
   },
   "id": "62f50bd9903d0d59"
  },
  {
   "cell_type": "code",
   "outputs": [
    {
     "data": {
      "text/plain": "tensor([-6.2330], grad_fn=<AddBackward0>)"
     },
     "execution_count": 93,
     "metadata": {},
     "output_type": "execute_result"
    }
   ],
   "source": [
    "(train_x[0] * weights.T).sum() + bias"
   ],
   "metadata": {
    "collapsed": false,
    "ExecuteTime": {
     "end_time": "2024-01-12T07:30:06.195927Z",
     "start_time": "2024-01-12T07:30:06.138824Z"
    }
   },
   "id": "94f7c6162597ac06",
   "execution_count": 93
  },
  {
   "cell_type": "code",
   "outputs": [],
   "source": [
    "def linear1(xb): return xb @ weights + bias"
   ],
   "metadata": {
    "collapsed": false,
    "ExecuteTime": {
     "end_time": "2024-01-12T07:30:06.196921Z",
     "start_time": "2024-01-12T07:30:06.143615Z"
    }
   },
   "id": "b3c40c2223e36a7b",
   "execution_count": 94
  },
  {
   "cell_type": "code",
   "outputs": [
    {
     "data": {
      "text/plain": "tensor([[ -6.2330],\n        [-10.6388],\n        [-20.8865],\n        ...,\n        [-15.9176],\n        [ -1.6866],\n        [-11.3568]], grad_fn=<AddBackward0>)"
     },
     "execution_count": 95,
     "metadata": {},
     "output_type": "execute_result"
    }
   ],
   "source": [
    "preds = linear1(train_x)\n",
    "preds"
   ],
   "metadata": {
    "collapsed": false,
    "ExecuteTime": {
     "end_time": "2024-01-12T07:30:06.197977Z",
     "start_time": "2024-01-12T07:30:06.147016Z"
    }
   },
   "id": "cd082f19630e65e",
   "execution_count": 95
  },
  {
   "cell_type": "markdown",
   "source": [
    "정확도를 검사하기 위해서 예측이 3인지 7인지 판단하려면 출력값이 0.5보다 큰지를 검사하면 된다."
   ],
   "metadata": {
    "collapsed": false
   },
   "id": "424d4879840834c"
  },
  {
   "cell_type": "code",
   "outputs": [
    {
     "data": {
      "text/plain": "tensor([[False],\n        [False],\n        [False],\n        ...,\n        [ True],\n        [ True],\n        [ True]])"
     },
     "execution_count": 96,
     "metadata": {},
     "output_type": "execute_result"
    }
   ],
   "source": [
    "corrects = (preds > 0.5).float() == train_y\n",
    "corrects"
   ],
   "metadata": {
    "collapsed": false,
    "ExecuteTime": {
     "end_time": "2024-01-12T07:30:06.260513Z",
     "start_time": "2024-01-12T07:30:06.155107Z"
    }
   },
   "id": "82dd42c68b955009",
   "execution_count": 96
  },
  {
   "cell_type": "markdown",
   "source": [
    "그리고 가중치 하나를 약간 바꿨을 때 정확도에 일어나는 변화를 실험해보자."
   ],
   "metadata": {
    "collapsed": false
   },
   "id": "dac30934bb99d836"
  },
  {
   "cell_type": "code",
   "outputs": [],
   "source": [
    "# weights[0] *= 1.0001"
   ],
   "metadata": {
    "collapsed": false,
    "ExecuteTime": {
     "end_time": "2024-01-12T07:30:06.261398Z",
     "start_time": "2024-01-12T07:30:06.158727Z"
    }
   },
   "id": "290ab431e061705c",
   "execution_count": 97
  },
  {
   "cell_type": "code",
   "outputs": [
    {
     "data": {
      "text/plain": "0.5355759859085083"
     },
     "execution_count": 98,
     "metadata": {},
     "output_type": "execute_result"
    }
   ],
   "source": [
    "preds = linear1(train_x)\n",
    "((preds > 0.5).float() == train_y).float().mean().item()"
   ],
   "metadata": {
    "collapsed": false,
    "ExecuteTime": {
     "end_time": "2024-01-12T07:30:06.262573Z",
     "start_time": "2024-01-12T07:30:06.161051Z"
    }
   },
   "id": "12fd24947e307272",
   "execution_count": 98
  },
  {
   "cell_type": "markdown",
   "source": [
    "(경사하강법 작동방식은 따로 참조)\n",
    "\n",
    "SGD를 쓴다면 그라디언트를 계속해서 계산 할 수 밖에 없고 결국 0이 최적이니 더이상 계산이 일어나지 않는다.\n",
    "그렇기 때문에 그 정확도 대신 약간 더 나은 예측을 도출한 가중치에 따라 약간 더 나은 손실을 계산하는 손실 함수가 필요함.\n",
    "\n",
    "손실 함수는 이미지 자체가 아니라 모델 예측을 입력받는다. 따라서 이미지가 3인지에 대한 예측으로 0부터 1까지의 사잇값을 가지는 prds라는 한 인자를 정의함.\n",
    "이 인자는 이미지로 색인된 벡터임.\n",
    "\n",
    "손실 함수의 목적은 예측값과 참값 (target or label) 사이의 달므을 측정하는 것. 예측 인자는 앞서 언급했으므로, 이번에는 0 또는 1의 값을 가지는 `trgts`라는 인자를 정의함. 이 또한 이미지 별로 색인된 벡터임.\n",
    "\n",
    "예를 들어 실제 정답이 3, 7, 3인 이미지 세장을 떠올려 보자. 모델은 높은 신뢰도 (0.9)로 첫번째 이미지가 3이고, 약간의 신뢰도(0.4)로 두번째 이미지가 7이라 예측했지만, 낮은 신뢰도(0.2)로 세번째 이미지가 7이라 틀리게 예측했다고 가정해 보겠습니다. 이때 손실 함수는 다음 6개의 값을 입력 받는다."
   ],
   "metadata": {
    "collapsed": false
   },
   "id": "553ec73ad9bb333f"
  },
  {
   "cell_type": "code",
   "outputs": [],
   "source": [
    "targets = tensor([1., 0., 1.])\n",
    "predicts = tensor([0.9, 0.4, 0.2])"
   ],
   "metadata": {
    "collapsed": false,
    "ExecuteTime": {
     "end_time": "2024-01-12T07:30:06.263462Z",
     "start_time": "2024-01-12T07:30:06.164709Z"
    }
   },
   "id": "b52b3b437dd993ac",
   "execution_count": 99
  },
  {
   "cell_type": "code",
   "outputs": [],
   "source": [
    "# 그리고 predictions와 targets 사이의 거리를 측정하는 손실 함수를 만든다.\n",
    "\n",
    "def mnist_loss(predictions, targets):\n",
    "    '''\n",
    "    Exactly same with below python comprehension\n",
    "    `[b[i] if a[i] else c[i] for i in range(len(a))]`\n",
    "    \n",
    "    This function returns the probability if the target is 1, otherwise returns 1 - probability (and normally would be 0).\n",
    "    :param predictions: \n",
    "    :param targets: \n",
    "    :return: float and tensor\n",
    "    '''\n",
    "    return torch.where(targets == 1, 1 - predictions, predictions).mean()"
   ],
   "metadata": {
    "collapsed": false,
    "ExecuteTime": {
     "end_time": "2024-01-12T07:30:06.274886Z",
     "start_time": "2024-01-12T07:30:06.167262Z"
    }
   },
   "id": "5c8f68f83ef253f7",
   "execution_count": 100
  },
  {
   "cell_type": "code",
   "outputs": [
    {
     "data": {
      "text/plain": "tensor(0.4333)"
     },
     "execution_count": 101,
     "metadata": {},
     "output_type": "execute_result"
    }
   ],
   "source": [
    "mnist_loss(predicts, targets)"
   ],
   "metadata": {
    "collapsed": false,
    "ExecuteTime": {
     "end_time": "2024-01-12T07:30:06.278412Z",
     "start_time": "2024-01-12T07:30:06.170425Z"
    }
   },
   "id": "2215d3f83c31f2d8",
   "execution_count": 101
  },
  {
   "cell_type": "code",
   "outputs": [
    {
     "data": {
      "text/plain": "tensor(0.)"
     },
     "execution_count": 102,
     "metadata": {},
     "output_type": "execute_result"
    }
   ],
   "source": [
    "# 손실율을 계산하는 함수이니 결과값이 줄어들 수록 당연히 좋은것이다.\n",
    "\n",
    "mnist_loss(torch.tensor([1., 0., 1.]), targets)"
   ],
   "metadata": {
    "collapsed": false,
    "ExecuteTime": {
     "end_time": "2024-01-12T07:30:06.279409Z",
     "start_time": "2024-01-12T07:30:06.174180Z"
    }
   },
   "id": "b04809e325f48073",
   "execution_count": 102
  },
  {
   "cell_type": "markdown",
   "source": [
    "하지만 이 함수는 결과 값이 0과 1사이에 반드시 포함된지는 않을 가능성이 있다. 그렇기 때문에 반드시 손실률을 0과 1사이로 제한하는 함수를 만들어야 한다.\n",
    "sigmoid를 이용해 보자."
   ],
   "metadata": {
    "collapsed": false
   },
   "id": "46cb5b95c8b13d7"
  },
  {
   "cell_type": "code",
   "outputs": [],
   "source": [
    "def sigmoid(x): return 1 / (1 + torch.exp(-x))"
   ],
   "metadata": {
    "collapsed": false,
    "ExecuteTime": {
     "end_time": "2024-01-12T07:30:06.286426Z",
     "start_time": "2024-01-12T07:30:06.177763Z"
    }
   },
   "id": "8e261d922d7c029d",
   "execution_count": 103
  },
  {
   "cell_type": "code",
   "outputs": [
    {
     "data": {
      "text/plain": "<Figure size 600x400 with 1 Axes>",
      "image/png": "[encoded data removed]"
     },
     "metadata": {},
     "output_type": "display_data"
    }
   ],
   "source": [
    "plot_function(torch.sigmoid, title='Sigmoid', min=-4, max=4)"
   ],
   "metadata": {
    "collapsed": false,
    "ExecuteTime": {
     "end_time": "2024-01-12T07:30:06.300993Z",
     "start_time": "2024-01-12T07:30:06.183107Z"
    }
   },
   "id": "2e394df3474b59cb",
   "execution_count": 104
  },
  {
   "cell_type": "code",
   "outputs": [],
   "source": [
    "def mnist_loss(predictions, targets):\n",
    "    '''\n",
    "    이제 예측이 0과 1 사잇값이 아니더라도 손실 함수가 잘 작동한다고 확신할 수 있다. 단 하나의 전제 조건은 높은 예측값이 곧 높은 신뢰도로 연결된다는 사실이다.\n",
    "    :param predictions: \n",
    "    :param targets: \n",
    "    :return: \n",
    "    '''\n",
    "    predictions = predictions.sigmoid()\n",
    "    return torch.where(targets == 1, 1 - predictions, predictions).mean()"
   ],
   "metadata": {
    "collapsed": false,
    "ExecuteTime": {
     "end_time": "2024-01-12T07:31:28.647004Z",
     "start_time": "2024-01-12T07:31:28.621958Z"
    }
   },
   "id": "62920c6001e8d7ea",
   "execution_count": 105
  },
  {
   "cell_type": "markdown",
   "source": [
    "# 손실이 왜 필요한가\n",
    "\n",
    "평가지표는 사람의 이해를 돕고, 손실은 자동화된 학습을 이끌어간다는 점이 주된 차이이다. 따라서 손실은 유의미한 미분이 있는 함수여야만 한다. 넓고 평평하거나 급작스러운 변화구간이 있어선 안되며, 적당히 매끄러운 형태를 띄어야만 한다. 앞서 구상했던 작은 신뢰도 변화에도 반응하는 손실 함수가 이런 특징을 수용한다. 손실 함수의 요구 사항은 사람이 정한 달성 목표를 정확히 반영하지는 못하지만, 달성 목표와 그레디언트로 최적화 될 수 있는 함수 사이의 절충안으로 볼 수 있다. 손실 함수는 데이터셋의 각 요소에 대해 계산되고, 한 에포크가 끝나는 시점에는 모든 손실값의 평균을 구할 수 있다.\n",
    "\n",
    "반면 평가지표는 사람이 실제로 관심을 가지는 숫자이다. 매 에포크의 끝에서 모델이 얼마나 학습을 잘했는지를 알려주는 값이다. \n",
    "\n",
    "## 손실보다는 평가지표로 모델의 성능을 판단해야 한다는 사실을 기억하자."
   ],
   "metadata": {
    "collapsed": false
   },
   "id": "f13acc1729326da0"
  },
  {
   "cell_type": "code",
   "outputs": [],
   "source": [
    "# 최적화 단계\n",
    "\n"
   ],
   "metadata": {
    "collapsed": false
   },
   "id": "74bdcf27ec5e1ddb"
  }
 ],
 "metadata": {
  "kernelspec": {
   "display_name": "Python 3",
   "language": "python",
   "name": "python3"
  },
  "language_info": {
   "codemirror_mode": {
    "name": "ipython",
    "version": 2
   },
   "file_extension": ".py",
   "mimetype": "text/x-python",
   "name": "python",
   "nbconvert_exporter": "python",
   "pygments_lexer": "ipython2",
   "version": "2.7.6"
  }
 },
 "nbformat": 4,
 "nbformat_minor": 5
}
