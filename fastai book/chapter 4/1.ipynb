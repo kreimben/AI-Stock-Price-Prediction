{
 "cells": [
  {
   "cell_type": "code",
   "execution_count": 375,
   "id": "initial_id",
   "metadata": {
    "collapsed": true,
    "ExecuteTime": {
     "end_time": "2024-01-16T09:30:59.271395Z",
     "start_time": "2024-01-16T09:30:58.894943Z"
    }
   },
   "outputs": [
    {
     "ename": "FileNotFoundError",
     "evalue": "[Errno 2] No such file or directory: './model-1999-val_0.67311615.ckpt'",
     "output_type": "error",
     "traceback": [
      "\u001B[0;31m---------------------------------------------------------------------------\u001B[0m",
      "\u001B[0;31mFileNotFoundError\u001B[0m                         Traceback (most recent call last)",
      "Cell \u001B[0;32mIn[375], line 23\u001B[0m\n\u001B[1;32m     21\u001B[0m \u001B[38;5;28;01mfrom\u001B[39;00m \u001B[38;5;21;01mtorch\u001B[39;00m\u001B[38;5;21;01m.\u001B[39;00m\u001B[38;5;21;01mfx\u001B[39;00m\u001B[38;5;21;01m.\u001B[39;00m\u001B[38;5;21;01mexperimental\u001B[39;00m\u001B[38;5;21;01m.\u001B[39;00m\u001B[38;5;21;01mmigrate_gradual_types\u001B[39;00m\u001B[38;5;21;01m.\u001B[39;00m\u001B[38;5;21;01mconstraint\u001B[39;00m \u001B[38;5;28;01mimport\u001B[39;00m F\n\u001B[1;32m     22\u001B[0m \u001B[38;5;28;01mfrom\u001B[39;00m \u001B[38;5;21;01mtorchvision\u001B[39;00m\u001B[38;5;21;01m.\u001B[39;00m\u001B[38;5;21;01mmodels\u001B[39;00m \u001B[38;5;28;01mimport\u001B[39;00m resnet18\n\u001B[0;32m---> 23\u001B[0m \u001B[38;5;28;01mfrom\u001B[39;00m \u001B[38;5;21;01mtransformers\u001B[39;00m\u001B[38;5;21;01m.\u001B[39;00m\u001B[38;5;21;01mmodels\u001B[39;00m\u001B[38;5;21;01m.\u001B[39;00m\u001B[38;5;21;01mpop2piano\u001B[39;00m\u001B[38;5;21;01m.\u001B[39;00m\u001B[38;5;21;01mconvert_pop2piano_weights_to_hf\u001B[39;00m \u001B[38;5;28;01mimport\u001B[39;00m model\n",
      "File \u001B[0;32m~/Repository/ML_Notes/venv/lib/python3.11/site-packages/transformers/models/pop2piano/convert_pop2piano_weights_to_hf.py:29\u001B[0m\n\u001B[1;32m     22\u001B[0m \u001B[38;5;28;01mfrom\u001B[39;00m \u001B[38;5;21;01mtransformers\u001B[39;00m \u001B[38;5;28;01mimport\u001B[39;00m Pop2PianoConfig, Pop2PianoForConditionalGeneration\n\u001B[1;32m     25\u001B[0m \u001B[38;5;66;03m########################## MODEL WEIGHTS ##########################\u001B[39;00m\n\u001B[1;32m     26\u001B[0m \n\u001B[1;32m     27\u001B[0m \u001B[38;5;66;03m# This weights were downloaded from the official pop2piano repository\u001B[39;00m\n\u001B[1;32m     28\u001B[0m \u001B[38;5;66;03m# https://huggingface.co/sweetcocoa/pop2piano/blob/main/model-1999-val_0.67311615.ckpt\u001B[39;00m\n\u001B[0;32m---> 29\u001B[0m official_weights \u001B[38;5;241m=\u001B[39m \u001B[43mtorch\u001B[49m\u001B[38;5;241;43m.\u001B[39;49m\u001B[43mload\u001B[49m\u001B[43m(\u001B[49m\u001B[38;5;124;43m\"\u001B[39;49m\u001B[38;5;124;43m./model-1999-val_0.67311615.ckpt\u001B[39;49m\u001B[38;5;124;43m\"\u001B[39;49m\u001B[43m)\u001B[49m\n\u001B[1;32m     30\u001B[0m state_dict \u001B[38;5;241m=\u001B[39m {}\n\u001B[1;32m     33\u001B[0m \u001B[38;5;66;03m# load the config and init the model\u001B[39;00m\n",
      "File \u001B[0;32m~/Repository/ML_Notes/venv/lib/python3.11/site-packages/torch/serialization.py:986\u001B[0m, in \u001B[0;36mload\u001B[0;34m(f, map_location, pickle_module, weights_only, mmap, **pickle_load_args)\u001B[0m\n\u001B[1;32m    983\u001B[0m \u001B[38;5;28;01mif\u001B[39;00m \u001B[38;5;124m'\u001B[39m\u001B[38;5;124mencoding\u001B[39m\u001B[38;5;124m'\u001B[39m \u001B[38;5;129;01mnot\u001B[39;00m \u001B[38;5;129;01min\u001B[39;00m pickle_load_args\u001B[38;5;241m.\u001B[39mkeys():\n\u001B[1;32m    984\u001B[0m     pickle_load_args[\u001B[38;5;124m'\u001B[39m\u001B[38;5;124mencoding\u001B[39m\u001B[38;5;124m'\u001B[39m] \u001B[38;5;241m=\u001B[39m \u001B[38;5;124m'\u001B[39m\u001B[38;5;124mutf-8\u001B[39m\u001B[38;5;124m'\u001B[39m\n\u001B[0;32m--> 986\u001B[0m \u001B[38;5;28;01mwith\u001B[39;00m \u001B[43m_open_file_like\u001B[49m\u001B[43m(\u001B[49m\u001B[43mf\u001B[49m\u001B[43m,\u001B[49m\u001B[43m \u001B[49m\u001B[38;5;124;43m'\u001B[39;49m\u001B[38;5;124;43mrb\u001B[39;49m\u001B[38;5;124;43m'\u001B[39;49m\u001B[43m)\u001B[49m \u001B[38;5;28;01mas\u001B[39;00m opened_file:\n\u001B[1;32m    987\u001B[0m     \u001B[38;5;28;01mif\u001B[39;00m _is_zipfile(opened_file):\n\u001B[1;32m    988\u001B[0m         \u001B[38;5;66;03m# The zipfile reader is going to advance the current file position.\u001B[39;00m\n\u001B[1;32m    989\u001B[0m         \u001B[38;5;66;03m# If we want to actually tail call to torch.jit.load, we need to\u001B[39;00m\n\u001B[1;32m    990\u001B[0m         \u001B[38;5;66;03m# reset back to the original position.\u001B[39;00m\n\u001B[1;32m    991\u001B[0m         orig_position \u001B[38;5;241m=\u001B[39m opened_file\u001B[38;5;241m.\u001B[39mtell()\n",
      "File \u001B[0;32m~/Repository/ML_Notes/venv/lib/python3.11/site-packages/torch/serialization.py:435\u001B[0m, in \u001B[0;36m_open_file_like\u001B[0;34m(name_or_buffer, mode)\u001B[0m\n\u001B[1;32m    433\u001B[0m \u001B[38;5;28;01mdef\u001B[39;00m \u001B[38;5;21m_open_file_like\u001B[39m(name_or_buffer, mode):\n\u001B[1;32m    434\u001B[0m     \u001B[38;5;28;01mif\u001B[39;00m _is_path(name_or_buffer):\n\u001B[0;32m--> 435\u001B[0m         \u001B[38;5;28;01mreturn\u001B[39;00m \u001B[43m_open_file\u001B[49m\u001B[43m(\u001B[49m\u001B[43mname_or_buffer\u001B[49m\u001B[43m,\u001B[49m\u001B[43m \u001B[49m\u001B[43mmode\u001B[49m\u001B[43m)\u001B[49m\n\u001B[1;32m    436\u001B[0m     \u001B[38;5;28;01melse\u001B[39;00m:\n\u001B[1;32m    437\u001B[0m         \u001B[38;5;28;01mif\u001B[39;00m \u001B[38;5;124m'\u001B[39m\u001B[38;5;124mw\u001B[39m\u001B[38;5;124m'\u001B[39m \u001B[38;5;129;01min\u001B[39;00m mode:\n",
      "File \u001B[0;32m~/Repository/ML_Notes/venv/lib/python3.11/site-packages/torch/serialization.py:416\u001B[0m, in \u001B[0;36m_open_file.__init__\u001B[0;34m(self, name, mode)\u001B[0m\n\u001B[1;32m    415\u001B[0m \u001B[38;5;28;01mdef\u001B[39;00m \u001B[38;5;21m__init__\u001B[39m(\u001B[38;5;28mself\u001B[39m, name, mode):\n\u001B[0;32m--> 416\u001B[0m     \u001B[38;5;28msuper\u001B[39m()\u001B[38;5;241m.\u001B[39m\u001B[38;5;21m__init__\u001B[39m(\u001B[38;5;28;43mopen\u001B[39;49m\u001B[43m(\u001B[49m\u001B[43mname\u001B[49m\u001B[43m,\u001B[49m\u001B[43m \u001B[49m\u001B[43mmode\u001B[49m\u001B[43m)\u001B[49m)\n",
      "\u001B[0;31mFileNotFoundError\u001B[0m: [Errno 2] No such file or directory: './model-1999-val_0.67311615.ckpt'"
     ]
    }
   ],
   "source": [
    "import string\n",
    "\n",
    "import numpy as np\n",
    "import pandas as pd\n",
    "import torch\n",
    "from PIL import Image\n",
    "from fastai.data.core import DataLoaders\n",
    "from fastai.data.external import untar_data, URLs\n",
    "from fastai.data.load import DataLoader\n",
    "from fastai.learner import Learner\n",
    "from fastai.metrics import accuracy\n",
    "from fastai.optimizer import SGD\n",
    "from fastai.torch_core import tensor, show_image\n",
    "from fastai.vision.data import ImageDataLoaders\n",
    "from fastai.vision.learner import cnn_learner, vision_learner\n",
    "from fastbook import plot_function\n",
    "from fastcore.basics import first\n",
    "from fastcore.foundation import L\n",
    "from matplotlib import pyplot as plt\n",
    "from torch import nn\n",
    "from torch.fx.experimental.migrate_gradual_types.constraint import F\n",
    "from torchvision.models import resnet18\n",
    "from transformers.models.pop2piano.convert_pop2piano_weights_to_hf import model"
   ]
  },
  {
   "cell_type": "code",
   "outputs": [],
   "source": [
    "path = untar_data(URLs.MNIST_SAMPLE)"
   ],
   "metadata": {
    "collapsed": false,
    "ExecuteTime": {
     "end_time": "2024-01-16T09:30:59.596402Z",
     "start_time": "2024-01-16T09:30:59.270524Z"
    }
   },
   "id": "de080aecf3ae586f",
   "execution_count": 376
  },
  {
   "cell_type": "code",
   "outputs": [
    {
     "data": {
      "text/plain": "(#3) [Path('/Users/kreimben/.fastai/data/mnist_sample/valid'),Path('/Users/kreimben/.fastai/data/mnist_sample/labels.csv'),Path('/Users/kreimben/.fastai/data/mnist_sample/train')]"
     },
     "execution_count": 377,
     "metadata": {},
     "output_type": "execute_result"
    }
   ],
   "source": [
    "path.ls()"
   ],
   "metadata": {
    "collapsed": false,
    "ExecuteTime": {
     "end_time": "2024-01-16T09:30:59.708268Z",
     "start_time": "2024-01-16T09:30:59.311125Z"
    }
   },
   "id": "5abffb32f1f03305",
   "execution_count": 377
  },
  {
   "cell_type": "code",
   "outputs": [
    {
     "data": {
      "text/plain": "(#2) [Path('/Users/kreimben/.fastai/data/mnist_sample/train/7'),Path('/Users/kreimben/.fastai/data/mnist_sample/train/3')]"
     },
     "execution_count": 378,
     "metadata": {},
     "output_type": "execute_result"
    }
   ],
   "source": [
    "(path / 'train').ls()"
   ],
   "metadata": {
    "collapsed": false,
    "ExecuteTime": {
     "end_time": "2024-01-16T09:30:59.724654Z",
     "start_time": "2024-01-16T09:30:59.702312Z"
    }
   },
   "id": "e0a4d32d6ec82212",
   "execution_count": 378
  },
  {
   "cell_type": "markdown",
   "source": [
    "간략하게 3과 7만 사용한다."
   ],
   "metadata": {
    "collapsed": false
   },
   "id": "35755e482cf45f21"
  },
  {
   "cell_type": "code",
   "outputs": [
    {
     "data": {
      "text/plain": "(#6131) [Path('/Users/kreimben/.fastai/data/mnist_sample/train/3/10.png'),Path('/Users/kreimben/.fastai/data/mnist_sample/train/3/10000.png'),Path('/Users/kreimben/.fastai/data/mnist_sample/train/3/10011.png'),Path('/Users/kreimben/.fastai/data/mnist_sample/train/3/10031.png'),Path('/Users/kreimben/.fastai/data/mnist_sample/train/3/10034.png'),Path('/Users/kreimben/.fastai/data/mnist_sample/train/3/10042.png'),Path('/Users/kreimben/.fastai/data/mnist_sample/train/3/10052.png'),Path('/Users/kreimben/.fastai/data/mnist_sample/train/3/1007.png'),Path('/Users/kreimben/.fastai/data/mnist_sample/train/3/10074.png'),Path('/Users/kreimben/.fastai/data/mnist_sample/train/3/10091.png')...]"
     },
     "execution_count": 379,
     "metadata": {},
     "output_type": "execute_result"
    }
   ],
   "source": [
    "three = (path / 'train' / '3').ls().sorted()\n",
    "seven = (path / 'train' / '7').ls().sorted()\n",
    "\n",
    "three"
   ],
   "metadata": {
    "collapsed": false,
    "ExecuteTime": {
     "end_time": "2024-01-16T09:30:59.796542Z",
     "start_time": "2024-01-16T09:30:59.724561Z"
    }
   },
   "id": "dc3d0e0b60652f0c",
   "execution_count": 379
  },
  {
   "cell_type": "code",
   "outputs": [
    {
     "data": {
      "text/plain": "<PIL.PngImagePlugin.PngImageFile image mode=L size=28x28>",
      "image/png": "[encoded data removed]",
      "image/jpeg": "[encoded data removed]"
     },
     "execution_count": 380,
     "metadata": {},
     "output_type": "execute_result"
    }
   ],
   "source": [
    "im3_path = three[1]\n",
    "im3 = Image.open(im3_path)\n",
    "im3"
   ],
   "metadata": {
    "collapsed": false,
    "ExecuteTime": {
     "end_time": "2024-01-16T09:30:59.798536Z",
     "start_time": "2024-01-16T09:30:59.768573Z"
    }
   },
   "id": "dbab3f54efc345e",
   "execution_count": 380
  },
  {
   "cell_type": "code",
   "outputs": [
    {
     "data": {
      "text/plain": "array([[  0,   0,   0,   0,   0,   0],\n       [  0,   0,   0,   0,   0,  29],\n       [  0,   0,   0,  48, 166, 224],\n       [  0,  93, 244, 249, 253, 187],\n       [  0, 107, 253, 253, 230,  48],\n       [  0,   3,  20,  20,  15,   0]], dtype=uint8)"
     },
     "execution_count": 381,
     "metadata": {},
     "output_type": "execute_result"
    }
   ],
   "source": [
    "np.array(im3)[4:10, 4:10]"
   ],
   "metadata": {
    "collapsed": false,
    "ExecuteTime": {
     "end_time": "2024-01-16T09:30:59.847878Z",
     "start_time": "2024-01-16T09:30:59.798990Z"
    }
   },
   "id": "f8a6015f1723b3e5",
   "execution_count": 381
  },
  {
   "cell_type": "code",
   "outputs": [
    {
     "data": {
      "text/plain": "tensor([[  0,   0,   0,   0,   0,   0],\n        [  0,   0,   0,   0,   0,  29],\n        [  0,   0,   0,  48, 166, 224],\n        [  0,  93, 244, 249, 253, 187],\n        [  0, 107, 253, 253, 230,  48],\n        [  0,   3,  20,  20,  15,   0]], dtype=torch.uint8)"
     },
     "execution_count": 382,
     "metadata": {},
     "output_type": "execute_result"
    }
   ],
   "source": [
    "tensor(im3)[4:10, 4:10]"
   ],
   "metadata": {
    "collapsed": false,
    "ExecuteTime": {
     "end_time": "2024-01-16T09:30:59.873829Z",
     "start_time": "2024-01-16T09:30:59.839427Z"
    }
   },
   "id": "a61e1187e8c164a2",
   "execution_count": 382
  },
  {
   "cell_type": "code",
   "outputs": [
    {
     "data": {
      "text/plain": "    0    1    2    3    4    5    6    7    8    9    10   11   12   13   14  \\\n0    0    0    0    0    0    0    0    0    0    0    0    0    0    0    0   \n1    0    0    0    0    0   29  150  195  254  255  254  176  193  150   96   \n2    0    0    0   48  166  224  253  253  234  196  253  253  253  253  233   \n3    0   93  244  249  253  187   46   10    8    4   10  194  253  253  233   \n4    0  107  253  253  230   48    0    0    0    0    0  192  253  253  156   \n5    0    3   20   20   15    0    0    0    0    0   43  224  253  245   74   \n6    0    0    0    0    0    0    0    0    0    0  249  253  245  126    0   \n7    0    0    0    0    0    0    0   14  101  223  253  248  124    0    0   \n8    0    0    0    0    0   11  166  239  253  253  253  187   30    0    0   \n9    0    0    0    0    0   16  248  250  253  253  253  253  232  213  111   \n10   0    0    0    0    0    0    0   43   98   98  208  253  253  253  253   \n\n     15  16  17  \n0     0   0   0  \n1     0   0   0  \n2     0   0   0  \n3     0   0   0  \n4     0   0   0  \n5     0   0   0  \n6     0   0   0  \n7     0   0   0  \n8     0   0   0  \n9     2   0   0  \n10  187  22   0  ",
      "text/html": "<div>\n<style scoped>\n    .dataframe tbody tr th:only-of-type {\n        vertical-align: middle;\n    }\n\n    .dataframe tbody tr th {\n        vertical-align: top;\n    }\n\n    .dataframe thead th {\n        text-align: right;\n    }\n</style>\n<table border=\"1\" class=\"dataframe\">\n  <thead>\n    <tr style=\"text-align: right;\">\n      <th></th>\n      <th>0</th>\n      <th>1</th>\n      <th>2</th>\n      <th>3</th>\n      <th>4</th>\n      <th>5</th>\n      <th>6</th>\n      <th>7</th>\n      <th>8</th>\n      <th>9</th>\n      <th>10</th>\n      <th>11</th>\n      <th>12</th>\n      <th>13</th>\n      <th>14</th>\n      <th>15</th>\n      <th>16</th>\n      <th>17</th>\n    </tr>\n  </thead>\n  <tbody>\n    <tr>\n      <th>0</th>\n      <td>0</td>\n      <td>0</td>\n      <td>0</td>\n      <td>0</td>\n      <td>0</td>\n      <td>0</td>\n      <td>0</td>\n      <td>0</td>\n      <td>0</td>\n      <td>0</td>\n      <td>0</td>\n      <td>0</td>\n      <td>0</td>\n      <td>0</td>\n      <td>0</td>\n      <td>0</td>\n      <td>0</td>\n      <td>0</td>\n    </tr>\n    <tr>\n      <th>1</th>\n      <td>0</td>\n      <td>0</td>\n      <td>0</td>\n      <td>0</td>\n      <td>0</td>\n      <td>29</td>\n      <td>150</td>\n      <td>195</td>\n      <td>254</td>\n      <td>255</td>\n      <td>254</td>\n      <td>176</td>\n      <td>193</td>\n      <td>150</td>\n      <td>96</td>\n      <td>0</td>\n      <td>0</td>\n      <td>0</td>\n    </tr>\n    <tr>\n      <th>2</th>\n      <td>0</td>\n      <td>0</td>\n      <td>0</td>\n      <td>48</td>\n      <td>166</td>\n      <td>224</td>\n      <td>253</td>\n      <td>253</td>\n      <td>234</td>\n      <td>196</td>\n      <td>253</td>\n      <td>253</td>\n      <td>253</td>\n      <td>253</td>\n      <td>233</td>\n      <td>0</td>\n      <td>0</td>\n      <td>0</td>\n    </tr>\n    <tr>\n      <th>3</th>\n      <td>0</td>\n      <td>93</td>\n      <td>244</td>\n      <td>249</td>\n      <td>253</td>\n      <td>187</td>\n      <td>46</td>\n      <td>10</td>\n      <td>8</td>\n      <td>4</td>\n      <td>10</td>\n      <td>194</td>\n      <td>253</td>\n      <td>253</td>\n      <td>233</td>\n      <td>0</td>\n      <td>0</td>\n      <td>0</td>\n    </tr>\n    <tr>\n      <th>4</th>\n      <td>0</td>\n      <td>107</td>\n      <td>253</td>\n      <td>253</td>\n      <td>230</td>\n      <td>48</td>\n      <td>0</td>\n      <td>0</td>\n      <td>0</td>\n      <td>0</td>\n      <td>0</td>\n      <td>192</td>\n      <td>253</td>\n      <td>253</td>\n      <td>156</td>\n      <td>0</td>\n      <td>0</td>\n      <td>0</td>\n    </tr>\n    <tr>\n      <th>5</th>\n      <td>0</td>\n      <td>3</td>\n      <td>20</td>\n      <td>20</td>\n      <td>15</td>\n      <td>0</td>\n      <td>0</td>\n      <td>0</td>\n      <td>0</td>\n      <td>0</td>\n      <td>43</td>\n      <td>224</td>\n      <td>253</td>\n      <td>245</td>\n      <td>74</td>\n      <td>0</td>\n      <td>0</td>\n      <td>0</td>\n    </tr>\n    <tr>\n      <th>6</th>\n      <td>0</td>\n      <td>0</td>\n      <td>0</td>\n      <td>0</td>\n      <td>0</td>\n      <td>0</td>\n      <td>0</td>\n      <td>0</td>\n      <td>0</td>\n      <td>0</td>\n      <td>249</td>\n      <td>253</td>\n      <td>245</td>\n      <td>126</td>\n      <td>0</td>\n      <td>0</td>\n      <td>0</td>\n      <td>0</td>\n    </tr>\n    <tr>\n      <th>7</th>\n      <td>0</td>\n      <td>0</td>\n      <td>0</td>\n      <td>0</td>\n      <td>0</td>\n      <td>0</td>\n      <td>0</td>\n      <td>14</td>\n      <td>101</td>\n      <td>223</td>\n      <td>253</td>\n      <td>248</td>\n      <td>124</td>\n      <td>0</td>\n      <td>0</td>\n      <td>0</td>\n      <td>0</td>\n      <td>0</td>\n    </tr>\n    <tr>\n      <th>8</th>\n      <td>0</td>\n      <td>0</td>\n      <td>0</td>\n      <td>0</td>\n      <td>0</td>\n      <td>11</td>\n      <td>166</td>\n      <td>239</td>\n      <td>253</td>\n      <td>253</td>\n      <td>253</td>\n      <td>187</td>\n      <td>30</td>\n      <td>0</td>\n      <td>0</td>\n      <td>0</td>\n      <td>0</td>\n      <td>0</td>\n    </tr>\n    <tr>\n      <th>9</th>\n      <td>0</td>\n      <td>0</td>\n      <td>0</td>\n      <td>0</td>\n      <td>0</td>\n      <td>16</td>\n      <td>248</td>\n      <td>250</td>\n      <td>253</td>\n      <td>253</td>\n      <td>253</td>\n      <td>253</td>\n      <td>232</td>\n      <td>213</td>\n      <td>111</td>\n      <td>2</td>\n      <td>0</td>\n      <td>0</td>\n    </tr>\n    <tr>\n      <th>10</th>\n      <td>0</td>\n      <td>0</td>\n      <td>0</td>\n      <td>0</td>\n      <td>0</td>\n      <td>0</td>\n      <td>0</td>\n      <td>43</td>\n      <td>98</td>\n      <td>98</td>\n      <td>208</td>\n      <td>253</td>\n      <td>253</td>\n      <td>253</td>\n      <td>253</td>\n      <td>187</td>\n      <td>22</td>\n      <td>0</td>\n    </tr>\n  </tbody>\n</table>\n</div>"
     },
     "execution_count": 383,
     "metadata": {},
     "output_type": "execute_result"
    }
   ],
   "source": [
    "im3_t = tensor(im3)\n",
    "df = pd.DataFrame(im3_t[4:15, 4:22])\n",
    "df.style.set_properties(**{'font-size': '6pt'}).background_gradient('Greys')\n",
    "df"
   ],
   "metadata": {
    "collapsed": false,
    "ExecuteTime": {
     "end_time": "2024-01-16T09:30:59.900946Z",
     "start_time": "2024-01-16T09:30:59.875841Z"
    }
   },
   "id": "f4f218941dce8ace",
   "execution_count": 383
  },
  {
   "cell_type": "markdown",
   "source": [
    "## 픽셀 유사성으로 3과 7 구분하기\n",
    "\n",
    "두 숫자 그룹에 대한 평균 픽셀값을 구하는것이다."
   ],
   "metadata": {
    "collapsed": false
   },
   "id": "91073741cdcdd25e"
  },
  {
   "cell_type": "code",
   "outputs": [
    {
     "data": {
      "text/plain": "(6131, 6265)"
     },
     "execution_count": 384,
     "metadata": {},
     "output_type": "execute_result"
    }
   ],
   "source": [
    "seven_tensors = [tensor(Image.open(o)) for o in seven]\n",
    "three_tensors = [tensor(Image.open(o)) for o in three]\n",
    "len(three_tensors), len(seven_tensors)"
   ],
   "metadata": {
    "collapsed": false,
    "ExecuteTime": {
     "end_time": "2024-01-16T09:31:02.316011Z",
     "start_time": "2024-01-16T09:30:59.893175Z"
    }
   },
   "id": "d9bb0594a4726afd",
   "execution_count": 384
  },
  {
   "cell_type": "code",
   "outputs": [
    {
     "data": {
      "text/plain": "<Figure size 100x100 with 1 Axes>",
      "image/png": "[encoded data removed]"
     },
     "metadata": {},
     "output_type": "display_data"
    }
   ],
   "source": [
    "show_image(three_tensors[123]);"
   ],
   "metadata": {
    "collapsed": false,
    "ExecuteTime": {
     "end_time": "2024-01-16T09:31:02.332972Z",
     "start_time": "2024-01-16T09:31:02.314528Z"
    }
   },
   "id": "d0eeabb766812e8e",
   "execution_count": 385
  },
  {
   "cell_type": "markdown",
   "source": [
    "모든 이미지를 대상으로 각 픽셀 위치의 전체 평균을 계산하여 각 픽셀의 강도를 구하는 것이 목표였다. 그러려면 리스트 내의 모든 이미지를 3차원 텐서 하나로 결합해야한다. 일반적으로 3차원 텐서는 rank-3 텐서라고 함. 이렇게 컬렉션에 담긴 개별 텐서들을 쌓아 올려 단일 텐서를 만드는 일은 꽤 흔한 작업 패턴이다. 그래서 파이토치는 이 작업을 수행하는 stack이라는 함수를 제공한다.\n",
    "\n",
    "평균 계산 등 파이토치가 제공하는 일부 연산은 정수 대신 부동소수형 데이터만을 지원하여, 작업에 따라 형 변환을 해야한다."
   ],
   "metadata": {
    "collapsed": false
   },
   "id": "f22d8c140e21efde"
  },
  {
   "cell_type": "code",
   "outputs": [
    {
     "data": {
      "text/plain": "torch.Size([6265, 28, 28])"
     },
     "execution_count": 386,
     "metadata": {},
     "output_type": "execute_result"
    }
   ],
   "source": [
    "stacked_sevens = torch.stack(seven_tensors).float() / 255\n",
    "stacked_threes = torch.stack(three_tensors).float() / 255\n",
    "stacked_sevens.shape"
   ],
   "metadata": {
    "collapsed": false,
    "ExecuteTime": {
     "end_time": "2024-01-16T09:31:02.379334Z",
     "start_time": "2024-01-16T09:31:02.332364Z"
    }
   },
   "id": "86e0736559a93e01",
   "execution_count": 386
  },
  {
   "cell_type": "code",
   "outputs": [],
   "source": [
    "mean3 = stacked_threes.mean(0)\n",
    "mean7 = stacked_sevens.mean(0)"
   ],
   "metadata": {
    "collapsed": false,
    "ExecuteTime": {
     "end_time": "2024-01-16T09:31:02.382523Z",
     "start_time": "2024-01-16T09:31:02.367840Z"
    }
   },
   "id": "df8296d9b2f73f87",
   "execution_count": 387
  },
  {
   "cell_type": "code",
   "outputs": [
    {
     "data": {
      "text/plain": "<Figure size 100x100 with 1 Axes>",
      "image/png": "[encoded data removed]"
     },
     "metadata": {},
     "output_type": "display_data"
    }
   ],
   "source": [
    "show_image(mean3);"
   ],
   "metadata": {
    "collapsed": false,
    "ExecuteTime": {
     "end_time": "2024-01-16T09:31:02.425154Z",
     "start_time": "2024-01-16T09:31:02.381096Z"
    }
   },
   "id": "781c2f5398c28b23",
   "execution_count": 388
  },
  {
   "cell_type": "code",
   "outputs": [
    {
     "data": {
      "text/plain": "<Axes: >"
     },
     "execution_count": 389,
     "metadata": {},
     "output_type": "execute_result"
    },
    {
     "data": {
      "text/plain": "<Figure size 100x100 with 1 Axes>",
      "image/png": "[encoded data removed]"
     },
     "metadata": {},
     "output_type": "display_data"
    }
   ],
   "source": [
    "show_image(mean7)"
   ],
   "metadata": {
    "collapsed": false,
    "ExecuteTime": {
     "end_time": "2024-01-16T09:31:02.427908Z",
     "start_time": "2024-01-16T09:31:02.406326Z"
    }
   },
   "id": "706c2086cdc9d542",
   "execution_count": 389
  },
  {
   "cell_type": "code",
   "outputs": [
    {
     "data": {
      "text/plain": "3"
     },
     "execution_count": 390,
     "metadata": {},
     "output_type": "execute_result"
    }
   ],
   "source": [
    "stacked_threes.ndim"
   ],
   "metadata": {
    "collapsed": false,
    "ExecuteTime": {
     "end_time": "2024-01-16T09:31:02.492936Z",
     "start_time": "2024-01-16T09:31:02.424245Z"
    }
   },
   "id": "97e7c065d834e468",
   "execution_count": 390
  },
  {
   "cell_type": "markdown",
   "source": [
    "축이 3개라는 소리. 차원과 구별할 줄 알아야 함."
   ],
   "metadata": {
    "collapsed": false
   },
   "id": "cd7db9d01849fe1c"
  },
  {
   "cell_type": "code",
   "outputs": [
    {
     "data": {
      "text/plain": "<Axes: >"
     },
     "execution_count": 391,
     "metadata": {},
     "output_type": "execute_result"
    },
    {
     "data": {
      "text/plain": "<Figure size 100x100 with 1 Axes>",
      "image/png": "[encoded data removed]"
     },
     "metadata": {},
     "output_type": "display_data"
    }
   ],
   "source": [
    "from random import randint\n",
    "\n",
    "N = len(stacked_threes)\n",
    "\n",
    "a_3 = stacked_threes[1]\n",
    "show_image(a_3)"
   ],
   "metadata": {
    "collapsed": false,
    "ExecuteTime": {
     "end_time": "2024-01-16T09:31:02.503295Z",
     "start_time": "2024-01-16T09:31:02.431008Z"
    }
   },
   "id": "50cdac77da1091c7",
   "execution_count": 391
  },
  {
   "cell_type": "markdown",
   "source": [
    "이상적인 숫자 3과의 거리를 어떻게 구할까?\n",
    "1. 차이의 적댓값에 대한 평균을 구하는 (음수를 양수화) 방법. L1 노름 또는 평균절대차 (Mean Absolute Difference, MAD)라고 함.\n",
    "1. 차이의 제곱(모든 수를 양수화 한다)에 대한 평균의 제굽근(제곱을 다시 원상태로 돌린다)을 구하는 방법. L2 노름 또는 평균제곱근오차 (Root Mean Squared Error, RMSE)라고 함."
   ],
   "metadata": {
    "collapsed": false
   },
   "id": "49d942833846f579"
  },
  {
   "cell_type": "code",
   "outputs": [
    {
     "data": {
      "text/plain": "(tensor(0.1114), tensor(0.1586))"
     },
     "execution_count": 392,
     "metadata": {},
     "output_type": "execute_result"
    }
   ],
   "source": [
    "# L1\n",
    "dist_3_abs = (a_3 - mean3).abs().mean()\n",
    "dist_7_abs = (a_3 - mean7).abs().mean()\n",
    "dist_3_abs, dist_7_abs"
   ],
   "metadata": {
    "collapsed": false,
    "ExecuteTime": {
     "end_time": "2024-01-16T09:31:02.505492Z",
     "start_time": "2024-01-16T09:31:02.455067Z"
    }
   },
   "id": "bc7bb20e8683384d",
   "execution_count": 392
  },
  {
   "cell_type": "code",
   "outputs": [
    {
     "data": {
      "text/plain": "(tensor(0.2021), tensor(0.3021))"
     },
     "execution_count": 393,
     "metadata": {},
     "output_type": "execute_result"
    }
   ],
   "source": [
    "# L2\n",
    "dist_3_sqr = ((a_3 - mean3)**2).mean().sqrt()\n",
    "dist_7_sqr = ((a_3 - mean7)**2).mean().sqrt()\n",
    "dist_3_sqr, dist_7_sqr"
   ],
   "metadata": {
    "collapsed": false,
    "ExecuteTime": {
     "end_time": "2024-01-16T09:31:02.507680Z",
     "start_time": "2024-01-16T09:31:02.463943Z"
    }
   },
   "id": "d1c67f67508a18eb",
   "execution_count": 393
  },
  {
   "cell_type": "markdown",
   "source": [
    "각 방법 모두에서 선택한 숫자 3 이미지는 '이상적인' 숫자 7보다 이상적인 숫자 3과의 거리가 더 짧습니다. 즉 간단히 만든 기준선 모델이 예측을 올바르게 수행했다고 볼 수 있다.\n",
    "이것을 손실함수로 다시 측정해 보자."
   ],
   "metadata": {
    "collapsed": false
   },
   "id": "91b255104b840eb4"
  },
  {
   "cell_type": "code",
   "outputs": [
    {
     "data": {
      "text/plain": "(tensor(0.1586), tensor(0.3021))"
     },
     "execution_count": 394,
     "metadata": {},
     "output_type": "execute_result"
    }
   ],
   "source": [
    "from torch.nn.functional import l1_loss, mse_loss, cross_entropy, relu\n",
    "\n",
    "l1_loss(a_3.float(), mean7), mse_loss(a_3, mean7).sqrt()"
   ],
   "metadata": {
    "collapsed": false,
    "ExecuteTime": {
     "end_time": "2024-01-16T09:31:02.513262Z",
     "start_time": "2024-01-16T09:31:02.468776Z"
    }
   },
   "id": "56562c552952947",
   "execution_count": 394
  },
  {
   "cell_type": "markdown",
   "source": [
    "결국 궁극적인 목표는 `is_3`라는 함수를 만들어 어떠한 이미지가 오더라도 3인지 7인지 구별할 수 있는 모델을 세우는것이다. 그렇게 하기 위해서는 두 이미지 사이의 거리를 계산해야 하므로, 거리의 개념부터 정의 해야함."
   ],
   "metadata": {
    "collapsed": false
   },
   "id": "e480ceabbb59b42"
  },
  {
   "cell_type": "code",
   "outputs": [],
   "source": [
    "valid_3_tens = torch.stack(\n",
    "    [tensor(Image.open(o)) for o in (path / 'valid' / '3').ls()]\n",
    ")\n",
    "valid_7_tens = torch.stack(\n",
    "    [tensor(Image.open(o)) for o in (path / 'valid' / '7').ls()]\n",
    ")"
   ],
   "metadata": {
    "collapsed": false,
    "ExecuteTime": {
     "end_time": "2024-01-16T09:31:02.824785Z",
     "start_time": "2024-01-16T09:31:02.472696Z"
    }
   },
   "id": "3c1f958a47903c2d",
   "execution_count": 395
  },
  {
   "cell_type": "code",
   "outputs": [],
   "source": [
    "valid_3_tens = valid_3_tens.float() / 255\n",
    "valid_7_tens = valid_7_tens.float() / 255"
   ],
   "metadata": {
    "collapsed": false,
    "ExecuteTime": {
     "end_time": "2024-01-16T09:31:02.829867Z",
     "start_time": "2024-01-16T09:31:02.825335Z"
    }
   },
   "id": "93b62a0325f545f0",
   "execution_count": 396
  },
  {
   "cell_type": "code",
   "outputs": [
    {
     "data": {
      "text/plain": "(torch.Size([1010, 28, 28]), torch.Size([1028, 28, 28]))"
     },
     "execution_count": 397,
     "metadata": {},
     "output_type": "execute_result"
    }
   ],
   "source": [
    "valid_3_tens.shape, valid_7_tens.shape"
   ],
   "metadata": {
    "collapsed": false,
    "ExecuteTime": {
     "end_time": "2024-01-16T09:31:02.834384Z",
     "start_time": "2024-01-16T09:31:02.828080Z"
    }
   },
   "id": "de38f693c75c6b03",
   "execution_count": 397
  },
  {
   "cell_type": "code",
   "outputs": [
    {
     "data": {
      "text/plain": "(tensor(0.1114), tensor(0.1586))"
     },
     "execution_count": 398,
     "metadata": {},
     "output_type": "execute_result"
    }
   ],
   "source": [
    "def mnist_distance(a, b): return (a - b).abs().mean((-1, -2))\n",
    "mnist_distance(a_3, mean3), mnist_distance(a_3, mean7)"
   ],
   "metadata": {
    "collapsed": false,
    "ExecuteTime": {
     "end_time": "2024-01-16T09:31:02.842056Z",
     "start_time": "2024-01-16T09:31:02.830588Z"
    }
   },
   "id": "62dff7d04379b0f1",
   "execution_count": 398
  },
  {
   "cell_type": "markdown",
   "source": [
    "그런데 전체 이미지에 대한 평가지표를 계산하려면, 검증용 데이터셋 내 **모든** 이미지와 이상적인 숫자 3 이미지의 거리를 계산해야 한다."
   ],
   "metadata": {
    "collapsed": false
   },
   "id": "da5f63f2bda1f7b9"
  },
  {
   "cell_type": "code",
   "outputs": [
    {
     "data": {
      "text/plain": "(tensor([0.1634, 0.1145, 0.1363,  ..., 0.1105, 0.1111, 0.1640]),\n torch.Size([1010]))"
     },
     "execution_count": 399,
     "metadata": {},
     "output_type": "execute_result"
    }
   ],
   "source": [
    "valid_3_dist = mnist_distance(valid_3_tens, mean3)\n",
    "valid_3_dist, valid_3_dist.shape"
   ],
   "metadata": {
    "collapsed": false,
    "ExecuteTime": {
     "end_time": "2024-01-16T09:31:02.847174Z",
     "start_time": "2024-01-16T09:31:02.833462Z"
    }
   },
   "id": "972dc4ba7dd1f0e6",
   "execution_count": 399
  },
  {
   "cell_type": "code",
   "outputs": [],
   "source": [
    "def is_3(x):\n",
    "    return mnist_distance(x, mean3) < mnist_distance(x, mean7)"
   ],
   "metadata": {
    "collapsed": false,
    "ExecuteTime": {
     "end_time": "2024-01-16T09:31:02.852400Z",
     "start_time": "2024-01-16T09:31:02.836653Z"
    }
   },
   "id": "cbaa87c103aae603",
   "execution_count": 400
  },
  {
   "cell_type": "code",
   "outputs": [
    {
     "data": {
      "text/plain": "(tensor(True), tensor(1.))"
     },
     "execution_count": 401,
     "metadata": {},
     "output_type": "execute_result"
    }
   ],
   "source": [
    "is_3(a_3), is_3(a_3).float()"
   ],
   "metadata": {
    "collapsed": false,
    "ExecuteTime": {
     "end_time": "2024-01-16T09:31:02.858044Z",
     "start_time": "2024-01-16T09:31:02.838435Z"
    }
   },
   "id": "e0bb6f6d06356c42",
   "execution_count": 401
  },
  {
   "cell_type": "code",
   "outputs": [],
   "source": [
    "# is_3(valid_3_dist)"
   ],
   "metadata": {
    "collapsed": false,
    "ExecuteTime": {
     "end_time": "2024-01-16T09:31:02.861973Z",
     "start_time": "2024-01-16T09:31:02.840984Z"
    }
   },
   "id": "4df1c9c87424d6e0",
   "execution_count": 402
  },
  {
   "cell_type": "code",
   "outputs": [
    {
     "data": {
      "text/plain": "(tensor(0.9168), tensor(0.9854), tensor(0.9511))"
     },
     "execution_count": 403,
     "metadata": {},
     "output_type": "execute_result"
    }
   ],
   "source": [
    "accuracy_3s = is_3(valid_3_tens).float().mean()\n",
    "accuracy_7s = (1 - is_3(valid_7_tens).float()).mean()\n",
    "\n",
    "accuracy_3s, accuracy_7s, (accuracy_3s + accuracy_7s) / 2"
   ],
   "metadata": {
    "collapsed": false,
    "ExecuteTime": {
     "end_time": "2024-01-16T09:31:02.918729Z",
     "start_time": "2024-01-16T09:31:02.843560Z"
    }
   },
   "id": "aa9d2ac08fb204a3",
   "execution_count": 403
  },
  {
   "cell_type": "markdown",
   "source": [
    "이렇게 하면 꽤나 신뢰성 높은 함수를 얻을 수 있다.\n",
    "\n",
    "하지만, 더 나은 결과를 얻으려면 실제로 무언가를 학습하는 시스템을 시도해야 함. 즉 시스템이 스스로 자동 수정해나가도록 하는 방법이 필요하다.\n",
    "이를 SGD로 해결해 보자.\n",
    "\n",
    "특정 이미지와 '이상적인 이미지' 사이의 유사도를 찾는 대신, 개별 픽셀마다 가중치를 설정하고 숫자를 표현하는 검은색 픽셀의 가중치를 높이는 방법을 생각해보자. 가령 숫자 7 이미지 우측 하단에 위치한 픽셀은 활성화 될 가능성이 매우 낮지만, 숫자 3 이미지라면 해당 부분이 높은 확률로 활성화됨. 따라서 이미지 우측 하단 픽셀들의 가중치는 숫자 7에서는 낮게, 숫자 3에서는 높게 매겨짐. 이 과정은 이미지 픽셀(x)과 각 픽셀에 대한 가중치(w)를 입력받는 함수로 표현할 수 있다. 가령 숫자 3이 될 확률은 아래와 같다."
   ],
   "metadata": {
    "collapsed": false
   },
   "id": "3c09165254cab370"
  },
  {
   "cell_type": "code",
   "outputs": [],
   "source": [
    "def pr_three(pixels, weight): return (pixels * weight).sum()"
   ],
   "metadata": {
    "collapsed": false,
    "ExecuteTime": {
     "end_time": "2024-01-16T09:31:02.931224Z",
     "start_time": "2024-01-16T09:31:02.848112Z"
    }
   },
   "id": "b43e6161f6e7f2e4",
   "execution_count": 404
  },
  {
   "cell_type": "markdown",
   "source": [
    "# MNIST loss function"
   ],
   "metadata": {
    "collapsed": false
   },
   "id": "b2c1fc652daf9a01"
  },
  {
   "cell_type": "code",
   "outputs": [],
   "source": [
    "train_x = torch.cat([stacked_threes, stacked_sevens]).view(-1, 28 * 28)"
   ],
   "metadata": {
    "collapsed": false,
    "ExecuteTime": {
     "end_time": "2024-01-16T09:31:02.934965Z",
     "start_time": "2024-01-16T09:31:02.852204Z"
    }
   },
   "id": "e99a4acafbd46885",
   "execution_count": 405
  },
  {
   "cell_type": "code",
   "outputs": [
    {
     "data": {
      "text/plain": "(torch.Size([12396, 784]), torch.Size([12396, 1]))"
     },
     "execution_count": 406,
     "metadata": {},
     "output_type": "execute_result"
    }
   ],
   "source": [
    "train_y = tensor([1] * len(three_tensors) + [0] * len(seven_tensors)).unsqueeze(1)\n",
    "train_x.shape, train_y.shape"
   ],
   "metadata": {
    "collapsed": false,
    "ExecuteTime": {
     "end_time": "2024-01-16T09:31:02.945425Z",
     "start_time": "2024-01-16T09:31:02.858056Z"
    }
   },
   "id": "af35973a3918ec6c",
   "execution_count": 406
  },
  {
   "cell_type": "code",
   "outputs": [
    {
     "data": {
      "text/plain": "(torch.Size([784]), torch.Size([1]))"
     },
     "execution_count": 407,
     "metadata": {},
     "output_type": "execute_result"
    }
   ],
   "source": [
    "dset = list(zip(train_x, train_y))\n",
    "x, y = dset[0]\n",
    "x.shape, y.shape"
   ],
   "metadata": {
    "collapsed": false,
    "ExecuteTime": {
     "end_time": "2024-01-16T09:31:02.953110Z",
     "start_time": "2024-01-16T09:31:02.860646Z"
    }
   },
   "id": "5dc8f5fb0af19cb0",
   "execution_count": 407
  },
  {
   "cell_type": "code",
   "outputs": [],
   "source": [
    "valid_x = torch.cat([valid_3_tens, valid_7_tens]).view(-1, 28 * 28)\n",
    "valid_y = tensor([1] * len(valid_3_tens) + [0] * len(valid_7_tens)).unsqueeze(1)\n",
    "valid_dset = list(zip(valid_x, valid_y))"
   ],
   "metadata": {
    "collapsed": false,
    "ExecuteTime": {
     "end_time": "2024-01-16T09:31:02.954922Z",
     "start_time": "2024-01-16T09:31:02.876675Z"
    }
   },
   "id": "8cae47656897b702",
   "execution_count": 408
  },
  {
   "cell_type": "code",
   "outputs": [
    {
     "data": {
      "text/plain": "tensor([[-1.4363e-01],\n        [ 7.3335e-01],\n        [-5.6568e-01],\n        [-5.3988e-01],\n        [-9.3079e-02],\n        [ 3.5860e-01],\n        [-1.3683e+00],\n        [-2.1692e-01],\n        [ 8.1572e-01],\n        [ 3.5471e-01],\n        [ 1.6028e-01],\n        [-1.7709e-01],\n        [-1.7387e-01],\n        [-4.9110e-01],\n        [ 9.9980e-01],\n        [-1.1114e+00],\n        [ 2.2093e+00],\n        [-9.8381e-01],\n        [ 1.2464e+00],\n        [ 1.1122e+00],\n        [ 1.5487e-01],\n        [ 8.0487e-02],\n        [ 1.6432e-01],\n        [-1.2014e+00],\n        [ 6.2194e-01],\n        [-1.3075e+00],\n        [-2.5786e-01],\n        [ 7.7622e-02],\n        [ 1.3290e-01],\n        [-2.3734e-01],\n        [-2.8339e-01],\n        [-2.3187e+00],\n        [-1.1567e+00],\n        [ 1.0145e+00],\n        [-1.6940e+00],\n        [ 1.2187e+00],\n        [ 1.6009e+00],\n        [ 2.5859e-01],\n        [ 3.1066e-01],\n        [-1.9245e+00],\n        [ 3.9309e-01],\n        [-7.6439e-01],\n        [ 3.5328e-01],\n        [ 3.8231e-01],\n        [-1.0870e+00],\n        [ 2.2762e+00],\n        [-1.3499e-02],\n        [-1.8859e+00],\n        [-1.1669e+00],\n        [ 4.1647e-01],\n        [-7.2482e-01],\n        [-2.6437e-01],\n        [-9.9667e-01],\n        [ 1.1925e+00],\n        [-1.8274e-01],\n        [ 1.7246e+00],\n        [ 7.3691e-01],\n        [-2.2181e-01],\n        [-2.2864e+00],\n        [-2.0571e-02],\n        [-9.1163e-01],\n        [ 1.3017e+00],\n        [ 1.1556e-01],\n        [-9.2915e-02],\n        [-1.6354e+00],\n        [-1.3324e-01],\n        [-2.2419e+00],\n        [-1.6386e+00],\n        [-4.3204e-01],\n        [-1.0599e+00],\n        [-1.2671e+00],\n        [ 6.6097e-01],\n        [ 5.9997e-01],\n        [ 1.8074e-01],\n        [ 7.3504e-01],\n        [ 1.3650e+00],\n        [ 9.5337e-01],\n        [ 1.5343e-01],\n        [ 5.4904e-01],\n        [ 6.5374e-01],\n        [ 5.8890e-02],\n        [ 6.6739e-01],\n        [ 1.7260e-01],\n        [ 3.2771e-01],\n        [-5.0409e-01],\n        [-2.7954e-01],\n        [-3.1665e-01],\n        [ 3.8102e-01],\n        [-3.5998e-01],\n        [ 5.5481e-01],\n        [ 6.6545e-02],\n        [-1.3441e+00],\n        [ 8.3367e-01],\n        [-1.8141e+00],\n        [-8.9425e-01],\n        [ 1.2602e+00],\n        [-1.1612e+00],\n        [ 1.2386e-01],\n        [ 5.3888e-01],\n        [-3.8341e-01],\n        [-2.0744e+00],\n        [ 1.1570e+00],\n        [ 4.1163e-01],\n        [-5.6522e-01],\n        [ 4.6637e-01],\n        [ 2.9083e-01],\n        [ 1.6220e-01],\n        [ 8.1744e-01],\n        [-6.6437e-01],\n        [ 1.2478e+00],\n        [ 2.2011e-01],\n        [ 1.7095e-01],\n        [-2.0623e-01],\n        [-6.7832e-01],\n        [-1.4174e-01],\n        [ 1.3909e-01],\n        [ 7.7050e-01],\n        [-2.1777e+00],\n        [-2.6627e-01],\n        [ 6.4037e-01],\n        [ 1.7698e+00],\n        [-1.5795e+00],\n        [-9.1543e-01],\n        [ 3.9549e-01],\n        [ 6.2499e-01],\n        [ 6.0151e-02],\n        [ 6.8044e-01],\n        [-1.2408e+00],\n        [-4.1050e-02],\n        [-2.5181e+00],\n        [ 3.3441e-01],\n        [ 5.4972e-03],\n        [ 8.9674e-01],\n        [ 7.1310e-01],\n        [ 7.9094e-01],\n        [-6.1669e-01],\n        [-7.6180e-01],\n        [ 6.2728e-01],\n        [-1.3673e+00],\n        [ 1.4046e+00],\n        [-6.5401e-01],\n        [-1.5331e+00],\n        [ 4.2604e-01],\n        [-9.6554e-01],\n        [-5.3898e-01],\n        [ 1.2955e-01],\n        [ 1.3230e-01],\n        [-3.4672e-01],\n        [-4.7265e-01],\n        [-9.3990e-01],\n        [-8.4350e-01],\n        [-1.0709e+00],\n        [-1.1148e+00],\n        [-5.7415e-01],\n        [ 5.8498e-02],\n        [-1.1319e+00],\n        [ 3.1012e-01],\n        [ 8.4815e-02],\n        [-3.7388e-01],\n        [-7.0799e-01],\n        [-1.0494e+00],\n        [-1.1329e+00],\n        [-9.4855e-01],\n        [ 1.3264e+00],\n        [-2.3227e-02],\n        [-6.0784e-02],\n        [-1.3623e+00],\n        [ 1.7245e+00],\n        [ 1.6066e+00],\n        [-1.1424e+00],\n        [ 5.2860e-01],\n        [ 6.9828e-01],\n        [ 1.1550e+00],\n        [-8.2692e-01],\n        [-1.0517e+00],\n        [-1.1310e+00],\n        [-2.4231e-01],\n        [-2.5068e-01],\n        [ 9.1952e-01],\n        [ 1.4904e+00],\n        [ 3.5083e-01],\n        [-5.9590e-01],\n        [-1.2186e+00],\n        [-5.9806e-01],\n        [-7.2720e-01],\n        [-1.3571e+00],\n        [-8.9676e-01],\n        [ 1.4313e+00],\n        [ 1.9425e+00],\n        [ 2.8625e-01],\n        [ 5.6605e-01],\n        [ 3.6807e-01],\n        [ 4.0971e-01],\n        [-1.8593e+00],\n        [-3.8352e-01],\n        [-1.6298e+00],\n        [-1.6302e+00],\n        [ 1.8886e+00],\n        [-4.7580e-01],\n        [ 6.9369e-01],\n        [-1.7708e+00],\n        [-2.9210e-01],\n        [-1.1478e+00],\n        [-6.9092e-01],\n        [-4.0417e-01],\n        [ 1.3968e-01],\n        [ 8.5481e-01],\n        [ 3.6916e-01],\n        [ 9.4030e-01],\n        [ 1.4388e+00],\n        [ 1.0124e+00],\n        [-1.6410e-01],\n        [ 8.5870e-02],\n        [-4.5582e-01],\n        [ 1.6596e-01],\n        [-3.3790e-01],\n        [-4.9721e-01],\n        [ 4.1159e-01],\n        [-9.2898e-02],\n        [-2.0141e+00],\n        [ 1.9988e+00],\n        [-7.0173e-01],\n        [-3.1661e-01],\n        [-2.2509e-01],\n        [ 1.6196e+00],\n        [ 5.6845e-01],\n        [ 1.4426e+00],\n        [ 1.9349e+00],\n        [-9.7796e-01],\n        [-6.7577e-01],\n        [ 7.6169e-01],\n        [ 1.1051e+00],\n        [-1.0834e+00],\n        [ 5.2298e-01],\n        [ 8.1179e-01],\n        [ 3.5789e-01],\n        [-1.2097e+00],\n        [-5.6664e-01],\n        [ 3.5970e-01],\n        [-5.5188e-01],\n        [-1.1134e+00],\n        [ 3.2926e-01],\n        [-4.5478e-01],\n        [-6.7546e-01],\n        [ 5.3212e-01],\n        [ 1.9038e+00],\n        [ 5.2671e-01],\n        [-1.2704e-01],\n        [ 5.5124e-01],\n        [ 1.9858e-01],\n        [ 4.3288e-01],\n        [ 1.4625e+00],\n        [-5.9788e-02],\n        [ 9.3833e-01],\n        [ 2.2154e-01],\n        [-2.3501e+00],\n        [ 3.6182e-01],\n        [-1.1840e-01],\n        [ 1.6603e+00],\n        [ 5.8476e-01],\n        [-9.3657e-01],\n        [-1.0712e+00],\n        [ 2.1525e+00],\n        [ 3.0935e-01],\n        [ 2.0719e-01],\n        [-7.5555e-01],\n        [ 2.5876e-01],\n        [ 1.7436e+00],\n        [-4.7401e-01],\n        [-3.9467e-01],\n        [-8.6973e-01],\n        [-1.6308e+00],\n        [ 2.0492e+00],\n        [ 2.1584e-01],\n        [ 6.2934e-01],\n        [ 1.4859e-01],\n        [ 7.7395e-01],\n        [ 2.7113e-01],\n        [-7.4006e-01],\n        [ 5.0026e-01],\n        [ 3.0892e-01],\n        [-1.0747e+00],\n        [ 2.3727e+00],\n        [-5.6829e-02],\n        [-5.5039e-02],\n        [ 2.7745e-01],\n        [ 1.8514e+00],\n        [-1.6997e+00],\n        [ 1.8018e-01],\n        [-9.8751e-01],\n        [-1.8094e-01],\n        [ 2.1099e+00],\n        [ 4.3297e-02],\n        [-4.6259e-01],\n        [ 1.5709e+00],\n        [-5.3256e-01],\n        [ 9.7383e-01],\n        [ 3.2739e-01],\n        [ 5.8659e-01],\n        [-1.5798e-01],\n        [-9.2932e-01],\n        [ 7.3886e-01],\n        [-1.5200e+00],\n        [ 2.7059e-01],\n        [ 1.2739e+00],\n        [-1.1132e+00],\n        [ 6.1061e-01],\n        [-1.0027e+00],\n        [ 1.8439e+00],\n        [ 7.5444e-01],\n        [-5.6228e-01],\n        [-1.3287e+00],\n        [-5.8634e-01],\n        [-1.6722e+00],\n        [-1.3940e-02],\n        [ 4.7822e-01],\n        [ 1.2745e-01],\n        [ 6.2372e-01],\n        [-5.5453e-01],\n        [-3.5993e-02],\n        [-7.8484e-01],\n        [ 9.4230e-01],\n        [-1.5909e+00],\n        [ 2.4834e-01],\n        [ 7.8737e-01],\n        [ 1.9944e+00],\n        [ 2.3606e-01],\n        [-1.3733e+00],\n        [-5.6662e-01],\n        [ 2.8409e-01],\n        [ 4.3349e-01],\n        [ 1.0861e+00],\n        [ 1.4998e+00],\n        [-7.9654e-01],\n        [ 1.2368e+00],\n        [-1.7584e-01],\n        [ 1.3590e+00],\n        [ 6.7323e-01],\n        [-3.1550e-01],\n        [ 6.3166e-01],\n        [-2.2269e-01],\n        [-3.0161e-01],\n        [ 9.0165e-01],\n        [ 1.6162e-01],\n        [-6.5313e-01],\n        [-1.3757e+00],\n        [ 1.3895e+00],\n        [ 1.4784e+00],\n        [ 1.8611e+00],\n        [ 1.8163e+00],\n        [-1.3481e+00],\n        [ 1.2713e+00],\n        [ 1.7416e+00],\n        [ 8.8947e-01],\n        [ 1.7014e+00],\n        [-2.1302e-01],\n        [ 4.9347e-01],\n        [-3.4837e-01],\n        [ 3.7235e-01],\n        [ 8.5653e-01],\n        [ 1.1822e+00],\n        [ 5.8022e-01],\n        [-8.3280e-01],\n        [ 7.7091e-01],\n        [ 1.3637e+00],\n        [-1.8816e+00],\n        [-6.2132e-01],\n        [-7.0546e-01],\n        [-1.7573e+00],\n        [-7.2419e-01],\n        [-8.8916e-01],\n        [ 1.7777e-01],\n        [-6.0797e-01],\n        [ 1.9614e-01],\n        [ 4.0542e-01],\n        [ 1.2344e+00],\n        [ 6.4072e-01],\n        [ 1.8638e+00],\n        [-5.5889e-01],\n        [-1.2515e+00],\n        [ 1.5227e-01],\n        [ 3.5354e-01],\n        [-1.0129e-01],\n        [-6.0051e-01],\n        [-7.9471e-01],\n        [-1.0399e+00],\n        [-2.2721e-01],\n        [ 1.8497e+00],\n        [ 4.4342e-01],\n        [ 8.4254e-01],\n        [-4.0300e-02],\n        [ 8.9687e-01],\n        [-1.4848e+00],\n        [ 1.2939e+00],\n        [-3.5091e-01],\n        [-1.8730e+00],\n        [-9.9829e-01],\n        [ 4.6062e-01],\n        [-1.8233e-01],\n        [ 9.3146e-02],\n        [-1.4196e+00],\n        [ 1.3822e+00],\n        [ 5.5167e-01],\n        [ 1.5907e+00],\n        [-5.4050e-01],\n        [ 7.6756e-01],\n        [-1.1666e+00],\n        [-2.8357e-01],\n        [-7.9236e-01],\n        [ 1.0472e+00],\n        [-3.9464e-01],\n        [-1.8050e-01],\n        [ 4.1990e-01],\n        [ 3.3275e-02],\n        [ 4.2333e-01],\n        [-1.0694e+00],\n        [-2.0452e-01],\n        [ 1.2149e+00],\n        [ 3.6569e-01],\n        [-8.2208e-01],\n        [-7.5006e-01],\n        [ 1.6029e-01],\n        [-9.9089e-01],\n        [-3.9823e-01],\n        [-9.2357e-01],\n        [-4.2209e-01],\n        [-1.3492e+00],\n        [-4.1951e-01],\n        [-5.4818e-01],\n        [-6.6525e-01],\n        [ 2.1403e-01],\n        [-7.4875e-01],\n        [-1.1776e+00],\n        [-3.3408e-01],\n        [ 8.3474e-02],\n        [ 7.4749e-01],\n        [ 2.1841e-01],\n        [-1.4145e+00],\n        [-1.3397e+00],\n        [-3.4214e-01],\n        [-1.1206e+00],\n        [ 1.8160e+00],\n        [-2.5017e-01],\n        [-2.9256e+00],\n        [-2.5123e-01],\n        [ 1.4274e+00],\n        [-2.7855e-01],\n        [-4.4579e-01],\n        [ 4.1873e-01],\n        [ 8.1247e-01],\n        [ 3.9992e-01],\n        [-4.9436e-01],\n        [ 1.6619e+00],\n        [ 1.3414e+00],\n        [-1.5402e-01],\n        [-2.4163e-01],\n        [-4.2466e-01],\n        [-7.1655e-01],\n        [ 1.3788e+00],\n        [ 1.3961e+00],\n        [-3.0984e-01],\n        [-5.8995e-02],\n        [ 4.9365e-01],\n        [-5.4764e-01],\n        [-5.0312e-02],\n        [-5.8171e-01],\n        [ 1.0813e+00],\n        [ 7.2256e-01],\n        [-1.5558e-01],\n        [-1.2211e+00],\n        [-4.0563e-01],\n        [ 9.7649e-01],\n        [-5.8036e-02],\n        [-1.5721e+00],\n        [ 3.5815e-01],\n        [-1.6031e+00],\n        [-1.0835e-01],\n        [-1.3647e+00],\n        [-2.1285e-01],\n        [-7.4641e-01],\n        [-4.4064e-03],\n        [ 1.7650e+00],\n        [-3.0270e-01],\n        [ 2.6331e-03],\n        [-7.7000e-01],\n        [ 7.0202e-01],\n        [ 2.5090e-01],\n        [ 4.5753e-02],\n        [-1.3614e+00],\n        [-2.6562e-01],\n        [ 1.8472e+00],\n        [ 1.8635e-01],\n        [ 3.2335e-01],\n        [ 9.5063e-01],\n        [ 3.7302e-01],\n        [-2.6187e-02],\n        [ 3.9018e-01],\n        [ 1.5887e+00],\n        [-6.8340e-01],\n        [-5.3513e-01],\n        [ 3.3216e-01],\n        [ 5.9175e-01],\n        [-1.3184e+00],\n        [-5.7699e-01],\n        [-8.6456e-01],\n        [ 1.3303e+00],\n        [-1.1033e+00],\n        [-3.1080e-01],\n        [ 1.0309e+00],\n        [-4.2826e-01],\n        [-2.0086e+00],\n        [ 1.1339e+00],\n        [-6.0803e-01],\n        [ 7.9164e-01],\n        [-3.3348e-01],\n        [-1.3966e+00],\n        [ 7.8682e-01],\n        [-2.1326e+00],\n        [ 4.2636e-01],\n        [-1.3296e+00],\n        [-1.5557e+00],\n        [-7.0380e-01],\n        [-2.1846e-01],\n        [-4.4110e-01],\n        [ 1.5906e+00],\n        [ 7.8912e-01],\n        [-2.6529e-01],\n        [ 7.8265e-01],\n        [ 6.3995e-01],\n        [-7.8425e-01],\n        [-2.0899e+00],\n        [-7.7960e-01],\n        [-1.1850e+00],\n        [-2.5783e-01],\n        [ 6.7974e-01],\n        [ 7.3943e-01],\n        [-6.3753e-01],\n        [ 3.7486e-02],\n        [ 1.0534e+00],\n        [-3.1985e-01],\n        [-7.1676e-01],\n        [-9.8747e-01],\n        [-2.1228e-01],\n        [ 4.8974e-01],\n        [-4.4281e-02],\n        [-1.7583e+00],\n        [ 7.5846e-02],\n        [ 8.5644e-01],\n        [-5.8700e-01],\n        [-5.8113e-01],\n        [-1.8116e-01],\n        [-1.8407e+00],\n        [ 4.1049e-01],\n        [ 5.6208e-01],\n        [-1.7767e+00],\n        [ 1.7877e-01],\n        [ 1.7237e-01],\n        [-1.8775e+00],\n        [-2.9682e-02],\n        [ 9.1833e-01],\n        [-1.6944e+00],\n        [ 1.0649e+00],\n        [-1.0856e-03],\n        [-9.1305e-01],\n        [-1.2855e+00],\n        [ 8.7505e-01],\n        [ 1.9489e-01],\n        [ 2.3826e-01],\n        [-1.1142e+00],\n        [-9.7234e-01],\n        [-1.0684e+00],\n        [ 1.2776e+00],\n        [-6.7830e-01],\n        [-9.6275e-01],\n        [-1.4585e+00],\n        [ 7.7294e-01],\n        [ 1.1026e+00],\n        [ 3.6157e-01],\n        [-6.1483e-01],\n        [ 1.1181e-02],\n        [-8.6990e-01],\n        [ 1.8623e-01],\n        [ 8.7933e-02],\n        [ 4.3776e-01],\n        [-2.2667e+00],\n        [ 9.8237e-01],\n        [ 1.1668e-01],\n        [ 7.0345e-01],\n        [-9.8109e-01],\n        [ 2.0376e+00],\n        [ 1.6202e+00],\n        [-3.9297e-01],\n        [-1.1959e+00],\n        [-1.4531e+00],\n        [-9.5117e-01],\n        [-2.2555e+00],\n        [-5.1784e-01],\n        [ 4.2706e-01],\n        [ 3.6256e-01],\n        [ 1.1767e+00],\n        [ 4.9921e-01],\n        [-1.1566e+00],\n        [-1.7263e+00],\n        [-8.1533e-01],\n        [ 9.1126e-02],\n        [-3.5049e-01],\n        [-1.5658e+00],\n        [ 2.5824e-01],\n        [-1.4030e+00],\n        [ 2.6233e-01],\n        [ 1.3073e+00],\n        [-2.4925e-01],\n        [ 5.8428e-01],\n        [ 3.7884e-01],\n        [-1.8171e-01],\n        [ 6.2478e-03],\n        [ 6.2773e-01],\n        [ 4.9192e-01],\n        [-1.8149e+00],\n        [ 1.0308e+00],\n        [ 1.9162e+00],\n        [ 1.8747e-01],\n        [-1.2513e+00],\n        [ 6.8465e-01],\n        [ 8.8771e-01],\n        [ 9.0957e-01],\n        [ 2.0031e-01],\n        [-6.1993e-01],\n        [-1.3086e+00],\n        [-4.8521e-01],\n        [-1.9204e+00],\n        [ 9.3258e-01],\n        [ 4.8006e-01],\n        [-7.9638e-01],\n        [-7.7955e-01],\n        [-1.5000e-01],\n        [-1.9695e+00],\n        [-5.1360e-01],\n        [ 1.4225e+00],\n        [ 7.0124e-01],\n        [ 1.2687e+00],\n        [ 6.8489e-01],\n        [-1.6364e+00],\n        [-7.6402e-01],\n        [-7.7078e-01],\n        [-7.7461e-01],\n        [-3.8139e-01],\n        [ 1.0141e+00],\n        [ 4.2592e-01],\n        [ 6.5395e-01],\n        [ 5.0628e-01],\n        [ 3.2691e-01],\n        [-1.3393e+00],\n        [-8.9015e-01],\n        [-1.0410e+00],\n        [-7.7061e-01],\n        [ 1.2146e-01],\n        [ 1.6463e-01],\n        [ 1.3071e-01],\n        [ 7.7253e-01],\n        [ 8.5326e-01],\n        [-1.8468e-01],\n        [-1.2648e-01],\n        [-2.0327e-01],\n        [ 7.8099e-01],\n        [ 6.1483e-01],\n        [-1.0795e-01],\n        [ 8.3236e-01],\n        [ 7.5738e-01],\n        [ 4.6491e-01],\n        [ 1.6483e-01],\n        [ 8.4848e-01],\n        [-4.8054e-01],\n        [-1.6596e+00],\n        [ 3.5731e-01],\n        [ 1.1745e+00],\n        [ 5.7689e-01],\n        [-5.6461e-01],\n        [ 1.3099e+00],\n        [ 5.3370e-02],\n        [ 1.1721e+00],\n        [-1.8128e+00],\n        [ 1.0853e-01],\n        [ 1.0236e-01],\n        [ 9.4632e-03],\n        [ 1.3724e+00],\n        [-1.2790e+00],\n        [-9.0884e-01],\n        [-8.4636e-01],\n        [ 1.4528e-01],\n        [-4.1944e-01],\n        [ 2.4769e-01],\n        [-1.6094e+00],\n        [-1.2648e-01],\n        [-1.2259e-01],\n        [ 7.2213e-01],\n        [-7.1771e-01],\n        [ 1.0274e+00],\n        [-1.5277e-01],\n        [-1.6344e+00],\n        [ 6.3305e-01],\n        [-2.7414e-01],\n        [-1.5427e+00],\n        [-1.0703e+00],\n        [ 5.0872e-02],\n        [-5.9421e-03],\n        [ 6.2861e-01],\n        [ 1.4375e+00],\n        [-6.7291e-01],\n        [ 1.8894e+00],\n        [ 8.0162e-01],\n        [ 1.0319e-01],\n        [-1.1401e-01],\n        [-4.7836e-01],\n        [-5.2865e-01],\n        [ 1.2230e-01],\n        [-1.0960e+00],\n        [-1.5089e+00],\n        [-1.9721e+00],\n        [-9.0400e-01],\n        [ 2.0240e+00],\n        [-1.9412e-01],\n        [ 1.7009e+00],\n        [ 9.9762e-01],\n        [-1.4186e-01],\n        [ 6.3997e-01],\n        [ 1.5422e+00],\n        [-3.9314e-01],\n        [-9.2585e-01],\n        [-1.5193e-01],\n        [ 3.1342e+00],\n        [ 1.4840e+00],\n        [ 6.3592e-01],\n        [-6.8044e-01],\n        [-2.1930e-01],\n        [ 6.1528e-01],\n        [-3.0605e-01],\n        [ 1.5504e-01],\n        [-1.0831e+00],\n        [-6.3819e-01],\n        [-3.9669e-01],\n        [ 8.2594e-01],\n        [ 1.4149e-01],\n        [-1.7021e-01],\n        [-7.6125e-01],\n        [-1.1476e+00],\n        [-7.1652e-01],\n        [-9.7739e-01],\n        [ 1.3315e-01],\n        [-1.3965e+00],\n        [ 1.4104e+00],\n        [ 5.7562e-02],\n        [ 8.9854e-01],\n        [-4.5942e-01],\n        [ 5.8216e-01],\n        [ 3.5380e-01],\n        [ 8.4370e-01],\n        [-2.3866e+00],\n        [-5.6744e-01],\n        [ 2.9241e-01],\n        [-2.4155e-01],\n        [-2.9549e-02],\n        [-1.0317e+00],\n        [-1.5117e-02],\n        [ 9.7375e-01],\n        [-1.2172e+00],\n        [-1.1319e+00],\n        [ 5.2755e-01],\n        [-9.5895e-01],\n        [-4.4648e-01],\n        [-7.8707e-01],\n        [-1.1119e+00],\n        [ 5.2472e-01],\n        [ 1.9025e+00],\n        [-9.4171e-01],\n        [-1.8314e+00],\n        [ 1.6499e+00],\n        [-9.0767e-03],\n        [-7.8078e-01],\n        [ 8.2568e-01],\n        [-8.7435e-01],\n        [-1.5326e+00],\n        [ 2.8692e-01],\n        [-7.6613e-01]], requires_grad=True)"
     },
     "execution_count": 409,
     "metadata": {},
     "output_type": "execute_result"
    }
   ],
   "source": [
    "def init_params(size, std=1.0): return (torch.randn(size) * std).requires_grad_()\n",
    "weights = init_params((28 * 28, 1))\n",
    "weights"
   ],
   "metadata": {
    "collapsed": false,
    "ExecuteTime": {
     "end_time": "2024-01-16T09:31:02.957484Z",
     "start_time": "2024-01-16T09:31:02.880945Z"
    }
   },
   "id": "a22e698851087180",
   "execution_count": 409
  },
  {
   "cell_type": "code",
   "outputs": [
    {
     "data": {
      "text/plain": "tensor([0.5714], requires_grad=True)"
     },
     "execution_count": 410,
     "metadata": {},
     "output_type": "execute_result"
    }
   ],
   "source": [
    "bias = init_params(1)\n",
    "bias"
   ],
   "metadata": {
    "collapsed": false,
    "ExecuteTime": {
     "end_time": "2024-01-16T09:31:02.959400Z",
     "start_time": "2024-01-16T09:31:02.888726Z"
    }
   },
   "id": "64051db1409a29ce",
   "execution_count": 410
  },
  {
   "cell_type": "markdown",
   "source": [
    "신경망에서는 `y = w * x + b` 방정식의 w를 가중치(weights), b를 편향이라고 함. 그리고 가중치와 편향을 모두 통틀어서 `parameter`라고 지칭함."
   ],
   "metadata": {
    "collapsed": false
   },
   "id": "62f50bd9903d0d59"
  },
  {
   "cell_type": "code",
   "outputs": [
    {
     "data": {
      "text/plain": "tensor([-2.3577], grad_fn=<AddBackward0>)"
     },
     "execution_count": 411,
     "metadata": {},
     "output_type": "execute_result"
    }
   ],
   "source": [
    "(train_x[0] * weights.T).sum() + bias"
   ],
   "metadata": {
    "collapsed": false,
    "ExecuteTime": {
     "end_time": "2024-01-16T09:31:02.961254Z",
     "start_time": "2024-01-16T09:31:02.895002Z"
    }
   },
   "id": "94f7c6162597ac06",
   "execution_count": 411
  },
  {
   "cell_type": "code",
   "outputs": [],
   "source": [
    "def linear1(xb): return xb @ weights + bias"
   ],
   "metadata": {
    "collapsed": false,
    "ExecuteTime": {
     "end_time": "2024-01-16T09:31:03.046837Z",
     "start_time": "2024-01-16T09:31:02.898137Z"
    }
   },
   "id": "b3c40c2223e36a7b",
   "execution_count": 412
  },
  {
   "cell_type": "code",
   "outputs": [
    {
     "data": {
      "text/plain": "tensor([[ -2.3577],\n        [-11.2726],\n        [  4.7567],\n        ...,\n        [  6.9671],\n        [  3.6508],\n        [ -5.6937]], grad_fn=<AddBackward0>)"
     },
     "execution_count": 413,
     "metadata": {},
     "output_type": "execute_result"
    }
   ],
   "source": [
    "preds = linear1(train_x)\n",
    "preds"
   ],
   "metadata": {
    "collapsed": false,
    "ExecuteTime": {
     "end_time": "2024-01-16T09:31:03.048859Z",
     "start_time": "2024-01-16T09:31:02.900603Z"
    }
   },
   "id": "cd082f19630e65e",
   "execution_count": 413
  },
  {
   "cell_type": "markdown",
   "source": [
    "정확도를 검사하기 위해서 예측이 3인지 7인지 판단하려면 출력값이 0.5보다 큰지를 검사하면 된다."
   ],
   "metadata": {
    "collapsed": false
   },
   "id": "424d4879840834c"
  },
  {
   "cell_type": "code",
   "outputs": [
    {
     "data": {
      "text/plain": "tensor([[False],\n        [False],\n        [ True],\n        ...,\n        [False],\n        [False],\n        [ True]])"
     },
     "execution_count": 414,
     "metadata": {},
     "output_type": "execute_result"
    }
   ],
   "source": [
    "corrects = (preds > 0.5).float() == train_y\n",
    "corrects"
   ],
   "metadata": {
    "collapsed": false,
    "ExecuteTime": {
     "end_time": "2024-01-16T09:31:03.064959Z",
     "start_time": "2024-01-16T09:31:02.905872Z"
    }
   },
   "id": "82dd42c68b955009",
   "execution_count": 414
  },
  {
   "cell_type": "markdown",
   "source": [
    "그리고 가중치 하나를 약간 바꿨을 때 정확도에 일어나는 변화를 실험해보자."
   ],
   "metadata": {
    "collapsed": false
   },
   "id": "dac30934bb99d836"
  },
  {
   "cell_type": "code",
   "outputs": [],
   "source": [
    "# weights[0] *= 1.0001"
   ],
   "metadata": {
    "collapsed": false,
    "ExecuteTime": {
     "end_time": "2024-01-16T09:31:03.067056Z",
     "start_time": "2024-01-16T09:31:02.909159Z"
    }
   },
   "id": "290ab431e061705c",
   "execution_count": 415
  },
  {
   "cell_type": "code",
   "outputs": [
    {
     "data": {
      "text/plain": "0.4565989077091217"
     },
     "execution_count": 416,
     "metadata": {},
     "output_type": "execute_result"
    }
   ],
   "source": [
    "preds = linear1(train_x)\n",
    "((preds > 0.5).float() == train_y).float().mean().item()"
   ],
   "metadata": {
    "collapsed": false,
    "ExecuteTime": {
     "end_time": "2024-01-16T09:31:03.076279Z",
     "start_time": "2024-01-16T09:31:02.911810Z"
    }
   },
   "id": "12fd24947e307272",
   "execution_count": 416
  },
  {
   "cell_type": "markdown",
   "source": [
    "(경사하강법 작동방식은 따로 참조)\n",
    "\n",
    "SGD를 쓴다면 그라디언트를 계속해서 계산 할 수 밖에 없고 결국 0이 최적이니 더이상 계산이 일어나지 않는다.\n",
    "그렇기 때문에 그 정확도 대신 약간 더 나은 예측을 도출한 가중치에 따라 약간 더 나은 손실을 계산하는 손실 함수가 필요함.\n",
    "\n",
    "손실 함수는 이미지 자체가 아니라 모델 예측을 입력받는다. 따라서 이미지가 3인지에 대한 예측으로 0부터 1까지의 사잇값을 가지는 prds라는 한 인자를 정의함.\n",
    "이 인자는 이미지로 색인된 벡터임.\n",
    "\n",
    "손실 함수의 목적은 예측값과 참값 (target or label) 사이의 달므을 측정하는 것. 예측 인자는 앞서 언급했으므로, 이번에는 0 또는 1의 값을 가지는 `trgts`라는 인자를 정의함. 이 또한 이미지 별로 색인된 벡터임.\n",
    "\n",
    "예를 들어 실제 정답이 3, 7, 3인 이미지 세장을 떠올려 보자. 모델은 높은 신뢰도 (0.9)로 첫번째 이미지가 3이고, 약간의 신뢰도(0.4)로 두번째 이미지가 7이라 예측했지만, 낮은 신뢰도(0.2)로 세번째 이미지가 7이라 틀리게 예측했다고 가정해 보겠습니다. 이때 손실 함수는 다음 6개의 값을 입력 받는다."
   ],
   "metadata": {
    "collapsed": false
   },
   "id": "553ec73ad9bb333f"
  },
  {
   "cell_type": "code",
   "outputs": [],
   "source": [
    "targets = tensor([1., 0., 1.])\n",
    "predicts = tensor([0.9, 0.4, 0.2])"
   ],
   "metadata": {
    "collapsed": false,
    "ExecuteTime": {
     "end_time": "2024-01-16T09:31:03.078370Z",
     "start_time": "2024-01-16T09:31:02.916248Z"
    }
   },
   "id": "b52b3b437dd993ac",
   "execution_count": 417
  },
  {
   "cell_type": "code",
   "outputs": [],
   "source": [
    "# 그리고 predictions와 targets 사이의 거리를 측정하는 손실 함수를 만든다.\n",
    "\n",
    "def mnist_loss(predictions, targets):\n",
    "    '''\n",
    "    Exactly same with below python comprehension\n",
    "    `[b[i] if a[i] else c[i] for i in range(len(a))]`\n",
    "    \n",
    "    This function returns the probability if the target is 1, otherwise returns 1 - probability (and normally would be 0).\n",
    "    :param predictions: \n",
    "    :param targets: \n",
    "    :return: float and tensor\n",
    "    '''\n",
    "    return torch.where(targets == 1, 1 - predictions, predictions).mean()"
   ],
   "metadata": {
    "collapsed": false,
    "ExecuteTime": {
     "end_time": "2024-01-16T09:31:03.087070Z",
     "start_time": "2024-01-16T09:31:02.919146Z"
    }
   },
   "id": "5c8f68f83ef253f7",
   "execution_count": 418
  },
  {
   "cell_type": "code",
   "outputs": [
    {
     "data": {
      "text/plain": "tensor(0.4333)"
     },
     "execution_count": 419,
     "metadata": {},
     "output_type": "execute_result"
    }
   ],
   "source": [
    "mnist_loss(predicts, targets)"
   ],
   "metadata": {
    "collapsed": false,
    "ExecuteTime": {
     "end_time": "2024-01-16T09:31:03.089430Z",
     "start_time": "2024-01-16T09:31:02.921101Z"
    }
   },
   "id": "2215d3f83c31f2d8",
   "execution_count": 419
  },
  {
   "cell_type": "code",
   "outputs": [
    {
     "data": {
      "text/plain": "tensor(0.)"
     },
     "execution_count": 420,
     "metadata": {},
     "output_type": "execute_result"
    }
   ],
   "source": [
    "# 손실율을 계산하는 함수이니 결과값이 줄어들 수록 당연히 좋은것이다.\n",
    "\n",
    "mnist_loss(torch.tensor([1., 0., 1.]), targets)"
   ],
   "metadata": {
    "collapsed": false,
    "ExecuteTime": {
     "end_time": "2024-01-16T09:31:03.091447Z",
     "start_time": "2024-01-16T09:31:02.924218Z"
    }
   },
   "id": "b04809e325f48073",
   "execution_count": 420
  },
  {
   "cell_type": "markdown",
   "source": [
    "하지만 이 함수는 결과 값이 0과 1사이에 반드시 포함된지는 않을 가능성이 있다. 그렇기 때문에 반드시 손실률을 0과 1사이로 제한하는 함수를 만들어야 한다.\n",
    "sigmoid를 이용해 보자."
   ],
   "metadata": {
    "collapsed": false
   },
   "id": "46cb5b95c8b13d7"
  },
  {
   "cell_type": "code",
   "outputs": [],
   "source": [
    "def sigmoid(x): return 1 / (1 + torch.exp(-x))"
   ],
   "metadata": {
    "collapsed": false,
    "ExecuteTime": {
     "end_time": "2024-01-16T09:31:03.093826Z",
     "start_time": "2024-01-16T09:31:02.926665Z"
    }
   },
   "id": "8e261d922d7c029d",
   "execution_count": 421
  },
  {
   "cell_type": "code",
   "outputs": [
    {
     "data": {
      "text/plain": "<Figure size 600x400 with 1 Axes>",
      "image/png": "[encoded data removed]"
     },
     "metadata": {},
     "output_type": "display_data"
    }
   ],
   "source": [
    "plot_function(torch.sigmoid, title='Sigmoid', min=-4, max=4)"
   ],
   "metadata": {
    "collapsed": false,
    "ExecuteTime": {
     "end_time": "2024-01-16T09:31:03.136604Z",
     "start_time": "2024-01-16T09:31:02.928600Z"
    }
   },
   "id": "2e394df3474b59cb",
   "execution_count": 422
  },
  {
   "cell_type": "code",
   "outputs": [],
   "source": [
    "def mnist_loss(predictions, targets):\n",
    "    '''\n",
    "    이제 예측이 0과 1 사잇값이 아니더라도 손실 함수가 잘 작동한다고 확신할 수 있다. 단 하나의 전제 조건은 높은 예측값이 곧 높은 신뢰도로 연결된다는 사실이다.\n",
    "    :param predictions: \n",
    "    :param targets: \n",
    "    :return: \n",
    "    '''\n",
    "    predictions = predictions.sigmoid()\n",
    "    return torch.where(targets == 1, 1 - predictions, predictions).mean()"
   ],
   "metadata": {
    "collapsed": false,
    "ExecuteTime": {
     "end_time": "2024-01-16T09:31:03.138732Z",
     "start_time": "2024-01-16T09:31:02.999646Z"
    }
   },
   "id": "62920c6001e8d7ea",
   "execution_count": 423
  },
  {
   "cell_type": "markdown",
   "source": [
    "# 손실이 왜 필요한가\n",
    "\n",
    "평가지표는 사람의 이해를 돕고, 손실은 자동화된 학습을 이끌어간다는 점이 주된 차이이다. 따라서 손실은 유의미한 미분이 있는 함수여야만 한다. 넓고 평평하거나 급작스러운 변화구간이 있어선 안되며, 적당히 매끄러운 형태를 띄어야만 한다. 앞서 구상했던 작은 신뢰도 변화에도 반응하는 손실 함수가 이런 특징을 수용한다. 손실 함수의 요구 사항은 사람이 정한 달성 목표를 정확히 반영하지는 못하지만, 달성 목표와 그레디언트로 최적화 될 수 있는 함수 사이의 절충안으로 볼 수 있다. 손실 함수는 데이터셋의 각 요소에 대해 계산되고, 한 에포크가 끝나는 시점에는 모든 손실값의 평균을 구할 수 있다.\n",
    "\n",
    "반면 평가지표는 사람이 실제로 관심을 가지는 숫자이다. 매 에포크의 끝에서 모델이 얼마나 학습을 잘했는지를 알려주는 값이다. \n",
    "\n",
    "## 손실보다는 평가지표로 모델의 성능을 판단해야 한다는 사실을 기억하자."
   ],
   "metadata": {
    "collapsed": false
   },
   "id": "f13acc1729326da0"
  },
  {
   "cell_type": "code",
   "outputs": [
    {
     "data": {
      "text/plain": "[tensor([ 2,  3, 10, 11,  7]),\n tensor([ 5,  0, 13,  4,  9]),\n tensor([ 8,  6,  1, 12, 14])]"
     },
     "execution_count": 424,
     "metadata": {},
     "output_type": "execute_result"
    }
   ],
   "source": [
    "# 최적화 단계 (mini batch)\n",
    "\n",
    "coll = range(15)\n",
    "dl = DataLoader(coll, batch_size=5, shuffle=True)\n",
    "list(dl)"
   ],
   "metadata": {
    "collapsed": false,
    "ExecuteTime": {
     "end_time": "2024-01-16T09:31:03.141133Z",
     "start_time": "2024-01-16T09:31:03.005168Z"
    }
   },
   "id": "74bdcf27ec5e1ddb",
   "execution_count": 424
  },
  {
   "cell_type": "code",
   "outputs": [
    {
     "data": {
      "text/plain": "(#26) [(0, 'a'),(1, 'b'),(2, 'c'),(3, 'd'),(4, 'e'),(5, 'f'),(6, 'g'),(7, 'h'),(8, 'i'),(9, 'j')...]"
     },
     "execution_count": 425,
     "metadata": {},
     "output_type": "execute_result"
    }
   ],
   "source": [
    "ds = L(enumerate(string.ascii_lowercase))\n",
    "ds"
   ],
   "metadata": {
    "collapsed": false,
    "ExecuteTime": {
     "end_time": "2024-01-16T09:31:03.143354Z",
     "start_time": "2024-01-16T09:31:03.013333Z"
    }
   },
   "id": "cf1cba41fde90102",
   "execution_count": 425
  },
  {
   "cell_type": "code",
   "outputs": [
    {
     "data": {
      "text/plain": "[(tensor([17, 22, 19,  4, 13, 18]), ('r', 'w', 't', 'e', 'n', 's')),\n (tensor([ 6,  7, 24, 23, 16,  5]), ('g', 'h', 'y', 'x', 'q', 'f')),\n (tensor([21, 20, 12, 14,  8, 15]), ('v', 'u', 'm', 'o', 'i', 'p')),\n (tensor([10,  1, 25,  2,  3,  0]), ('k', 'b', 'z', 'c', 'd', 'a')),\n (tensor([ 9, 11]), ('j', 'l'))]"
     },
     "execution_count": 426,
     "metadata": {},
     "output_type": "execute_result"
    }
   ],
   "source": [
    "dl = DataLoader(ds, batch_size=6, shuffle=True)\n",
    "list(dl)"
   ],
   "metadata": {
    "collapsed": false,
    "ExecuteTime": {
     "end_time": "2024-01-16T09:31:03.252830Z",
     "start_time": "2024-01-16T09:31:03.017214Z"
    }
   },
   "id": "fc63aff8a2321b11",
   "execution_count": 426
  },
  {
   "cell_type": "code",
   "outputs": [],
   "source": [
    "# for x, y in dl:\n",
    "#     pred = model(x)\n",
    "#     loss = mse_loss(pred, y)\n",
    "#     loss.backward()\n",
    "#     parameters -= parameters.grad * lr"
   ],
   "metadata": {
    "collapsed": false,
    "ExecuteTime": {
     "end_time": "2024-01-16T09:31:03.255143Z",
     "start_time": "2024-01-16T09:31:03.022186Z"
    }
   },
   "id": "422c9f1397d11634",
   "execution_count": 427
  },
  {
   "cell_type": "code",
   "outputs": [],
   "source": [
    "weights = init_params((28 * 28, 1))\n",
    "bias = init_params(1)"
   ],
   "metadata": {
    "collapsed": false,
    "ExecuteTime": {
     "end_time": "2024-01-16T09:31:03.257096Z",
     "start_time": "2024-01-16T09:31:03.024951Z"
    }
   },
   "id": "e5c8a79237aebfbe",
   "execution_count": 428
  },
  {
   "cell_type": "code",
   "outputs": [
    {
     "data": {
      "text/plain": "(torch.Size([256, 784]), torch.Size([256, 1]))"
     },
     "execution_count": 429,
     "metadata": {},
     "output_type": "execute_result"
    }
   ],
   "source": [
    "dl = DataLoader(dset, batch_size=256)\n",
    "xb, yb = first(dl)\n",
    "xb.shape, yb.shape"
   ],
   "metadata": {
    "collapsed": false,
    "ExecuteTime": {
     "end_time": "2024-01-16T09:31:03.271728Z",
     "start_time": "2024-01-16T09:31:03.028170Z"
    }
   },
   "id": "9f4ad433691c2254",
   "execution_count": 429
  },
  {
   "cell_type": "code",
   "outputs": [],
   "source": [
    "valid_dl = DataLoader(valid_dset, batch_size=256)"
   ],
   "metadata": {
    "collapsed": false,
    "ExecuteTime": {
     "end_time": "2024-01-16T09:31:03.273900Z",
     "start_time": "2024-01-16T09:31:03.032623Z"
    }
   },
   "id": "8059d6464c6f66",
   "execution_count": 430
  },
  {
   "cell_type": "code",
   "outputs": [
    {
     "data": {
      "text/plain": "torch.Size([4, 784])"
     },
     "execution_count": 431,
     "metadata": {},
     "output_type": "execute_result"
    }
   ],
   "source": [
    "batch = train_x[:4]\n",
    "batch.shape"
   ],
   "metadata": {
    "collapsed": false,
    "ExecuteTime": {
     "end_time": "2024-01-16T09:31:03.275936Z",
     "start_time": "2024-01-16T09:31:03.035341Z"
    }
   },
   "id": "6b0e0aa427b1293f",
   "execution_count": 431
  },
  {
   "cell_type": "code",
   "outputs": [
    {
     "data": {
      "text/plain": "tensor([[24.9731],\n        [14.1014],\n        [11.4445],\n        [26.4495]], grad_fn=<AddBackward0>)"
     },
     "execution_count": 432,
     "metadata": {},
     "output_type": "execute_result"
    }
   ],
   "source": [
    "preds = linear1(batch)\n",
    "preds"
   ],
   "metadata": {
    "collapsed": false,
    "ExecuteTime": {
     "end_time": "2024-01-16T09:31:03.283690Z",
     "start_time": "2024-01-16T09:31:03.039006Z"
    }
   },
   "id": "474191ab41d1994e",
   "execution_count": 432
  },
  {
   "cell_type": "code",
   "outputs": [
    {
     "data": {
      "text/plain": "tensor(2.8610e-06, grad_fn=<MeanBackward0>)"
     },
     "execution_count": 433,
     "metadata": {},
     "output_type": "execute_result"
    }
   ],
   "source": [
    "loss = mnist_loss(preds, train_y[:4])\n",
    "loss"
   ],
   "metadata": {
    "collapsed": false,
    "ExecuteTime": {
     "end_time": "2024-01-16T09:31:03.287973Z",
     "start_time": "2024-01-16T09:31:03.044734Z"
    }
   },
   "id": "e4a07c590e5d6e62",
   "execution_count": 433
  },
  {
   "cell_type": "code",
   "outputs": [
    {
     "data": {
      "text/plain": "(torch.Size([784, 1]), tensor(-4.1018e-07), tensor([-2.8610e-06]))"
     },
     "execution_count": 434,
     "metadata": {},
     "output_type": "execute_result"
    }
   ],
   "source": [
    "loss.backward()\n",
    "weights.grad.shape, weights.grad.mean(), bias.grad"
   ],
   "metadata": {
    "collapsed": false,
    "ExecuteTime": {
     "end_time": "2024-01-16T09:31:03.297189Z",
     "start_time": "2024-01-16T09:31:03.049548Z"
    }
   },
   "id": "b536e952b4f25139",
   "execution_count": 434
  },
  {
   "cell_type": "code",
   "outputs": [],
   "source": [
    "def calc_grad(xb, yb, model):\n",
    "    preds = model(xb)\n",
    "    loss = mnist_loss(preds, yb)\n",
    "    loss.backward()"
   ],
   "metadata": {
    "collapsed": false,
    "ExecuteTime": {
     "end_time": "2024-01-16T09:31:03.300531Z",
     "start_time": "2024-01-16T09:31:03.055132Z"
    }
   },
   "id": "f99b567859776948",
   "execution_count": 435
  },
  {
   "cell_type": "code",
   "outputs": [
    {
     "data": {
      "text/plain": "(tensor(-8.2037e-07), tensor([-5.7220e-06]))"
     },
     "execution_count": 436,
     "metadata": {},
     "output_type": "execute_result"
    }
   ],
   "source": [
    "calc_grad(batch, train_y[:4], linear1)\n",
    "weights.grad.mean(), bias.grad"
   ],
   "metadata": {
    "collapsed": false,
    "ExecuteTime": {
     "end_time": "2024-01-16T09:31:03.302575Z",
     "start_time": "2024-01-16T09:31:03.058371Z"
    }
   },
   "id": "50bd93704cf9b2aa",
   "execution_count": 436
  },
  {
   "cell_type": "code",
   "outputs": [
    {
     "data": {
      "text/plain": "(tensor(-1.2306e-06), tensor([-8.5830e-06]))"
     },
     "execution_count": 437,
     "metadata": {},
     "output_type": "execute_result"
    }
   ],
   "source": [
    "# 같은 코드를 두번 실행하면 그라디언트가 누적된다. 그래서 그라디언트를 0으로 초기화 해야한다.\n",
    "\n",
    "calc_grad(batch, train_y[:4], linear1)\n",
    "weights.grad.mean(), bias.grad"
   ],
   "metadata": {
    "collapsed": false,
    "ExecuteTime": {
     "end_time": "2024-01-16T09:31:03.321022Z",
     "start_time": "2024-01-16T09:31:03.063575Z"
    }
   },
   "id": "4f30cc1d4ecbc9a3",
   "execution_count": 437
  },
  {
   "cell_type": "code",
   "outputs": [
    {
     "data": {
      "text/plain": "tensor([0.])"
     },
     "execution_count": 438,
     "metadata": {},
     "output_type": "execute_result"
    }
   ],
   "source": [
    "weights.grad.zero_()\n",
    "bias.grad.zero_()"
   ],
   "metadata": {
    "collapsed": false,
    "ExecuteTime": {
     "end_time": "2024-01-16T09:31:03.323586Z",
     "start_time": "2024-01-16T09:31:03.068938Z"
    }
   },
   "id": "e3041727bc33f3d3",
   "execution_count": 438
  },
  {
   "cell_type": "code",
   "outputs": [],
   "source": [
    "def train_epoch(model, lr, params):\n",
    "    for xb, yb in dl:\n",
    "        calc_grad(xb, yb, model)\n",
    "        for p in params:\n",
    "            p.data -= p.grad * lr\n",
    "            p.grad.zero_()"
   ],
   "metadata": {
    "collapsed": false,
    "ExecuteTime": {
     "end_time": "2024-01-16T09:31:03.325728Z",
     "start_time": "2024-01-16T09:31:03.072697Z"
    }
   },
   "id": "66e9ec2381cc22f1",
   "execution_count": 439
  },
  {
   "cell_type": "code",
   "outputs": [
    {
     "data": {
      "text/plain": "tensor([[True],\n        [True],\n        [True],\n        [True]])"
     },
     "execution_count": 440,
     "metadata": {},
     "output_type": "execute_result"
    }
   ],
   "source": [
    "(preds > 0.5).float() == train_y[:4]"
   ],
   "metadata": {
    "collapsed": false,
    "ExecuteTime": {
     "end_time": "2024-01-16T09:31:03.337216Z",
     "start_time": "2024-01-16T09:31:03.075745Z"
    }
   },
   "id": "26f5eb3e236d6224",
   "execution_count": 440
  },
  {
   "cell_type": "code",
   "outputs": [],
   "source": [
    "def batch_accuracy(xb, yb):\n",
    "    preds = xb.sigmoid()\n",
    "    correct = (preds > 0.5) == yb\n",
    "    return correct.float().mean()"
   ],
   "metadata": {
    "collapsed": false,
    "ExecuteTime": {
     "end_time": "2024-01-16T09:31:03.339739Z",
     "start_time": "2024-01-16T09:31:03.082895Z"
    }
   },
   "id": "f4f5a4833d9b6389",
   "execution_count": 441
  },
  {
   "cell_type": "code",
   "outputs": [
    {
     "data": {
      "text/plain": "tensor(1.)"
     },
     "execution_count": 442,
     "metadata": {},
     "output_type": "execute_result"
    }
   ],
   "source": [
    "batch_accuracy(linear1(batch), train_y[:4])"
   ],
   "metadata": {
    "collapsed": false,
    "ExecuteTime": {
     "end_time": "2024-01-16T09:31:03.354718Z",
     "start_time": "2024-01-16T09:31:03.088451Z"
    }
   },
   "id": "30dfeb201cde00b8",
   "execution_count": 442
  },
  {
   "cell_type": "code",
   "outputs": [
    {
     "data": {
      "text/plain": "0.5266"
     },
     "execution_count": 443,
     "metadata": {},
     "output_type": "execute_result"
    }
   ],
   "source": [
    "def validate_epoch(model):\n",
    "    accs = [batch_accuracy(model(xb), yb) for xb, yb in valid_dl]\n",
    "    return round(torch.stack(accs).mean().item(), 4)\n",
    "\n",
    "validate_epoch(linear1)"
   ],
   "metadata": {
    "collapsed": false,
    "ExecuteTime": {
     "end_time": "2024-01-16T09:31:03.362590Z",
     "start_time": "2024-01-16T09:31:03.093953Z"
    }
   },
   "id": "fb86ba3529160525",
   "execution_count": 443
  },
  {
   "cell_type": "code",
   "outputs": [
    {
     "data": {
      "text/plain": "0.7572"
     },
     "execution_count": 444,
     "metadata": {},
     "output_type": "execute_result"
    }
   ],
   "source": [
    "lr = 1.\n",
    "params = weights, bias\n",
    "train_epoch(linear1, lr, params)\n",
    "validate_epoch(linear1)"
   ],
   "metadata": {
    "collapsed": false,
    "ExecuteTime": {
     "end_time": "2024-01-16T09:31:03.364812Z",
     "start_time": "2024-01-16T09:31:03.104777Z"
    }
   },
   "id": "77cff2aa331d234c",
   "execution_count": 444
  },
  {
   "cell_type": "code",
   "outputs": [
    {
     "name": "stdout",
     "output_type": "stream",
     "text": [
      "0.8735 0.9282 0.9496 0.9604 0.9648 0.9662 0.9687 0.9687 0.9706 0.9716 0.9726 0.9731 0.9736 0.9741 0.9741 0.9741 0.9741 0.9745 0.9745 0.9745 "
     ]
    }
   ],
   "source": [
    "for i in range(20):\n",
    "    train_epoch(linear1, lr, params)\n",
    "    print(validate_epoch(linear1), end=' ')"
   ],
   "metadata": {
    "collapsed": false,
    "ExecuteTime": {
     "end_time": "2024-01-16T09:31:03.613302Z",
     "start_time": "2024-01-16T09:31:03.136248Z"
    }
   },
   "id": "2472f70b6e24b91a",
   "execution_count": 445
  },
  {
   "cell_type": "markdown",
   "source": [
    "## 옵티마이저"
   ],
   "metadata": {
    "collapsed": false
   },
   "id": "743eb53698661f34"
  },
  {
   "cell_type": "code",
   "outputs": [],
   "source": [
    "linear_model = nn.Linear(28 * 28, 1)"
   ],
   "metadata": {
    "collapsed": false,
    "ExecuteTime": {
     "end_time": "2024-01-16T09:31:03.615410Z",
     "start_time": "2024-01-16T09:31:03.480758Z"
    }
   },
   "id": "4b21eb6178c69c19",
   "execution_count": 446
  },
  {
   "cell_type": "code",
   "outputs": [
    {
     "data": {
      "text/plain": "(torch.Size([1, 784]), torch.Size([1]))"
     },
     "execution_count": 447,
     "metadata": {},
     "output_type": "execute_result"
    }
   ],
   "source": [
    "w, b = linear_model.parameters()\n",
    "w.shape, b.shape"
   ],
   "metadata": {
    "collapsed": false,
    "ExecuteTime": {
     "end_time": "2024-01-16T09:31:03.617852Z",
     "start_time": "2024-01-16T09:31:03.483350Z"
    }
   },
   "id": "3bf0da205faebca4",
   "execution_count": 447
  },
  {
   "cell_type": "code",
   "outputs": [],
   "source": [
    "class BasicOptim:\n",
    "    def __init__(self, params, lr): self.params, self.lr = list(params), lr\n",
    "\n",
    "    def step(self, *args, **kwargs):\n",
    "        for p in self.params:\n",
    "            p.data -= p.grad.data * self.lr\n",
    "\n",
    "    def zero_grad(self, *args, **kwargs):\n",
    "        for p in self.params:\n",
    "            p.grad = None"
   ],
   "metadata": {
    "collapsed": false,
    "ExecuteTime": {
     "end_time": "2024-01-16T09:31:03.619976Z",
     "start_time": "2024-01-16T09:31:03.486478Z"
    }
   },
   "id": "4be0376f2cea285",
   "execution_count": 448
  },
  {
   "cell_type": "code",
   "outputs": [],
   "source": [
    "opt = BasicOptim(linear_model.parameters(), lr)"
   ],
   "metadata": {
    "collapsed": false,
    "ExecuteTime": {
     "end_time": "2024-01-16T09:31:03.625214Z",
     "start_time": "2024-01-16T09:31:03.488715Z"
    }
   },
   "id": "dcb434abbe311170",
   "execution_count": 449
  },
  {
   "cell_type": "code",
   "outputs": [],
   "source": [
    "def train_epoch(model):\n",
    "    for xb, yb in dl:\n",
    "        calc_grad(xb, yb, model)\n",
    "        opt.step()\n",
    "        opt.zero_grad()"
   ],
   "metadata": {
    "collapsed": false,
    "ExecuteTime": {
     "end_time": "2024-01-16T09:31:03.627593Z",
     "start_time": "2024-01-16T09:31:03.491268Z"
    }
   },
   "id": "1d8b87a2332b5d2",
   "execution_count": 450
  },
  {
   "cell_type": "code",
   "outputs": [
    {
     "data": {
      "text/plain": "0.4663"
     },
     "execution_count": 451,
     "metadata": {},
     "output_type": "execute_result"
    }
   ],
   "source": [
    "validate_epoch(linear_model)"
   ],
   "metadata": {
    "collapsed": false,
    "ExecuteTime": {
     "end_time": "2024-01-16T09:31:03.629951Z",
     "start_time": "2024-01-16T09:31:03.493943Z"
    }
   },
   "id": "5fa329a89c38cb0f",
   "execution_count": 451
  },
  {
   "cell_type": "code",
   "outputs": [],
   "source": [
    "def train_model(model, epochs):\n",
    "    for i in range(epochs):\n",
    "        train_epoch(model)\n",
    "        print(validate_epoch(model), end=' ')"
   ],
   "metadata": {
    "collapsed": false,
    "ExecuteTime": {
     "end_time": "2024-01-16T09:31:03.632042Z",
     "start_time": "2024-01-16T09:31:03.499328Z"
    }
   },
   "id": "a68c7175f3acfab8",
   "execution_count": 452
  },
  {
   "cell_type": "code",
   "outputs": [
    {
     "name": "stdout",
     "output_type": "stream",
     "text": [
      "0.4932 0.873 0.8232 0.9106 0.9321 0.9468 0.9546 0.9624 0.9658 0.9668 0.9692 0.9721 0.9731 0.9751 0.9756 0.9761 0.9775 0.978 0.978 0.9785 "
     ]
    }
   ],
   "source": [
    "train_model(linear_model, 20)"
   ],
   "metadata": {
    "collapsed": false,
    "ExecuteTime": {
     "end_time": "2024-01-16T09:31:03.825987Z",
     "start_time": "2024-01-16T09:31:03.501726Z"
    }
   },
   "id": "5515eb2ea0ec9646",
   "execution_count": 453
  },
  {
   "cell_type": "code",
   "outputs": [
    {
     "name": "stdout",
     "output_type": "stream",
     "text": [
      "0.4932 0.8169 0.8418 0.9116 0.935 0.9477 0.9565 0.9624 0.9663 0.9678 0.9692 0.9712 0.9726 0.9746 0.9761 0.9765 0.9775 0.9775 0.978 0.978 "
     ]
    }
   ],
   "source": [
    "linear_model = nn.Linear(28 * 28, 1)\n",
    "opt = SGD(linear_model.parameters(), lr)\n",
    "train_model(linear_model, 20)"
   ],
   "metadata": {
    "collapsed": false,
    "ExecuteTime": {
     "end_time": "2024-01-16T09:31:04.138874Z",
     "start_time": "2024-01-16T09:31:03.825075Z"
    }
   },
   "id": "2df4abd905319eea",
   "execution_count": 454
  },
  {
   "cell_type": "code",
   "outputs": [],
   "source": [
    "dls = DataLoaders(dl, valid_dl)"
   ],
   "metadata": {
    "collapsed": false,
    "ExecuteTime": {
     "end_time": "2024-01-16T09:31:04.140855Z",
     "start_time": "2024-01-16T09:31:04.137245Z"
    }
   },
   "id": "eaafb1357387d4d0",
   "execution_count": 455
  },
  {
   "cell_type": "code",
   "outputs": [],
   "source": [
    "learn = Learner(dls, nn.Linear(28 * 28, 1), opt_func=SGD, loss_func=mnist_loss, metrics=batch_accuracy)"
   ],
   "metadata": {
    "collapsed": false,
    "ExecuteTime": {
     "end_time": "2024-01-16T09:31:04.150834Z",
     "start_time": "2024-01-16T09:31:04.139917Z"
    }
   },
   "id": "e9bc13f30066d6b5",
   "execution_count": 456
  },
  {
   "cell_type": "code",
   "outputs": [
    {
     "data": {
      "text/plain": "<IPython.core.display.HTML object>",
      "text/html": "\n<style>\n    /* Turns off some styling */\n    progress {\n        /* gets rid of default border in Firefox and Opera. */\n        border: none;\n        /* Needs to be in here for Safari polyfill so background images work as expected. */\n        background-size: auto;\n    }\n    progress:not([value]), progress:not([value])::-webkit-progress-bar {\n        background: repeating-linear-gradient(45deg, #7e7e7e, #7e7e7e 10px, #5c5c5c 10px, #5c5c5c 20px);\n    }\n    .progress-bar-interrupted, .progress-bar-interrupted::-webkit-progress-bar {\n        background: #F44336;\n    }\n</style>\n"
     },
     "metadata": {},
     "output_type": "display_data"
    },
    {
     "data": {
      "text/plain": "<IPython.core.display.HTML object>",
      "text/html": "\n    <div>\n      <progress value='0' class='' max='10' style='width:300px; height:20px; vertical-align: middle;'></progress>\n      \n    </div>\n    \n"
     },
     "metadata": {},
     "output_type": "display_data"
    }
   ],
   "source": [
    "learn.fit(10, lr=lr)"
   ],
   "metadata": {
    "collapsed": false,
    "ExecuteTime": {
     "end_time": "2024-01-16T09:31:04.531241Z",
     "start_time": "2024-01-16T09:31:04.141761Z"
    }
   },
   "id": "716da19da2d91511",
   "execution_count": 457
  },
  {
   "cell_type": "markdown",
   "source": [
    "## 비선형성 추가\n",
    "\n",
    "지금까지 함수의 파라미터를 최적화하는 일반적인 과정과 (약간은 지루한) 단순 선형 분류 모델을 구현한 함수를 시도해봤음. 선형 분류 모델이 한 수 있는 일에는 한계가 있습니다. 좀 더 복잡한 일을 다루려면 분류 모델을 좀 더 복잡하게 바꿔줘야 함. 두 선형 분류 모델 (계층) 사이에 비선형(ax+b와 다름)을 추가하면 됨. 그리고 이 형태가 바로 신경망이기도 함."
   ],
   "metadata": {
    "collapsed": false
   },
   "id": "7579f8026e10fe1d"
  },
  {
   "cell_type": "code",
   "outputs": [],
   "source": [
    "def simple_net(xb):\n",
    "    res = xb @ w1 + b1\n",
    "    res = res.max(tensor(0.0)) # LeRU\n",
    "    res = res @ w2 + b2\n",
    "    return res"
   ],
   "metadata": {
    "collapsed": false,
    "ExecuteTime": {
     "end_time": "2024-01-16T09:31:04.536562Z",
     "start_time": "2024-01-16T09:31:04.531621Z"
    }
   },
   "id": "22e589bb782789f3",
   "execution_count": 458
  },
  {
   "cell_type": "code",
   "outputs": [],
   "source": [
    "w1 = init_params((28 * 28, 30))\n",
    "b1 = init_params(30)\n",
    "w2 = init_params((30, 1))\n",
    "b2 = init_params(1)"
   ],
   "metadata": {
    "collapsed": false,
    "ExecuteTime": {
     "end_time": "2024-01-16T09:31:04.538617Z",
     "start_time": "2024-01-16T09:31:04.534069Z"
    }
   },
   "id": "97a8d40ec28a7374",
   "execution_count": 459
  },
  {
   "cell_type": "code",
   "outputs": [
    {
     "data": {
      "text/plain": "<Figure size 600x400 with 1 Axes>",
      "image/png": "[encoded data removed]"
     },
     "metadata": {},
     "output_type": "display_data"
    }
   ],
   "source": [
    "plot_function(relu)"
   ],
   "metadata": {
    "collapsed": false,
    "ExecuteTime": {
     "end_time": "2024-01-16T09:31:04.604295Z",
     "start_time": "2024-01-16T09:31:04.537582Z"
    }
   },
   "id": "9a8c494844b0d2a3",
   "execution_count": 460
  },
  {
   "cell_type": "markdown",
   "source": [
    "기본적인 개념은 선형 계층을 더 많이 사용하여 모델이 계싼을 더 많이 수행하도록 만드는 것이다. \n",
    "즉, 더 복잡한 함수를 모델링 하는것이다. 그러나 한 선형 계층 다음에 또 다른 선형 계층을 배치하는 일에는 큰 의미가 없다.\n",
    "곱셈과 덧셈을 여러 번 수행하면 사실상 한 선형 계층이 수행하는 한 번의 곱셈 및 덧셈과 다를 바가 없기 때문이다.\n",
    "이는 순차적으로 배치된 여러 선형 계층은 다른 종류의 파라미터로 구성된 하나의 선형 계층으로 대체할 수 있다는 말이다.\n",
    "\n",
    "하지만 선형 계층들 사이에 max와 같은 비선형 함수를 넣으면 상황이 달라진다. 각 선형 계층이 서로 분리되어 각각 자신만의 유용한 일을 할 수 있게 된다. \n",
    "max 함수가 특히 흥미로운 이유는 간단한 if 조건만으로도 작동을 하기 때문이다.\n",
    "\n",
    "수학적으로 두 선형 함수의 조합은 또 다른 선형 함수이다. \n",
    "따라서 원하는 만큼 선형 함수를 차례대로 쌓아 올릴 수 있고 중간에 비선형 함수가 추가되지 않는다면, 이는 단순히 선형 함수 하나와 같다고 볼 수 있다.\n",
    "\n",
    "## 일반근사정리\n",
    "w1, w2를 충분히 큰 행렬로 구성하고 행렬의 올바른 값을 찾을 수만 있다면, 이 단순한 함수는 모든 계산 가능한 문제를 높은 정확도로 풀어낸다는 점을 수학적으로 증명할 수 있다.\n",
    "\n",
    "다음 코드는 여러 계층을 표현한다. 첫번째와 세번째는 선형 계층, 두번째는 비선형성 또는 활성화 함수이다. "
   ],
   "metadata": {
    "collapsed": false
   },
   "id": "f3aa14cdbad5096e"
  },
  {
   "cell_type": "code",
   "outputs": [],
   "source": [
    "simple_net = nn.Sequential(\n",
    "    nn.Linear(28 * 28, 30),\n",
    "    nn.ReLU(),\n",
    "    nn.Linear(30, 1)\n",
    ")"
   ],
   "metadata": {
    "collapsed": false,
    "ExecuteTime": {
     "end_time": "2024-01-16T09:31:04.606875Z",
     "start_time": "2024-01-16T09:31:04.597020Z"
    }
   },
   "id": "16777daa5340d7bb",
   "execution_count": 461
  },
  {
   "cell_type": "code",
   "outputs": [
    {
     "data": {
      "text/plain": "<IPython.core.display.HTML object>",
      "text/html": "\n<style>\n    /* Turns off some styling */\n    progress {\n        /* gets rid of default border in Firefox and Opera. */\n        border: none;\n        /* Needs to be in here for Safari polyfill so background images work as expected. */\n        background-size: auto;\n    }\n    progress:not([value]), progress:not([value])::-webkit-progress-bar {\n        background: repeating-linear-gradient(45deg, #7e7e7e, #7e7e7e 10px, #5c5c5c 10px, #5c5c5c 20px);\n    }\n    .progress-bar-interrupted, .progress-bar-interrupted::-webkit-progress-bar {\n        background: #F44336;\n    }\n</style>\n"
     },
     "metadata": {},
     "output_type": "display_data"
    },
    {
     "data": {
      "text/plain": "<IPython.core.display.HTML object>",
      "text/html": "\n    <div>\n      <progress value='0' class='' max='40' style='width:300px; height:20px; vertical-align: middle;'></progress>\n      \n    </div>\n    \n"
     },
     "metadata": {},
     "output_type": "display_data"
    }
   ],
   "source": [
    "learn = Learner(dls, simple_net, opt_func=SGD, loss_func=mnist_loss, metrics=batch_accuracy)\n",
    "learn.fit(40, 0.1)"
   ],
   "metadata": {
    "collapsed": false,
    "ExecuteTime": {
     "end_time": "2024-01-16T09:31:06.319504Z",
     "start_time": "2024-01-16T09:31:04.601353Z"
    }
   },
   "id": "5ad91c484bf4c1f6",
   "execution_count": 462
  },
  {
   "cell_type": "code",
   "outputs": [
    {
     "data": {
      "text/plain": "<Figure size 640x480 with 1 Axes>",
      "image/png": "[encoded data removed]"
     },
     "metadata": {},
     "output_type": "display_data"
    }
   ],
   "source": [
    "plt.plot(L(learn.recorder.values).itemgot(2));"
   ],
   "metadata": {
    "collapsed": false,
    "ExecuteTime": {
     "end_time": "2024-01-16T09:31:06.375527Z",
     "start_time": "2024-01-16T09:31:06.320173Z"
    }
   },
   "id": "2bbd9f416c7abcf7",
   "execution_count": 463
  },
  {
   "cell_type": "code",
   "outputs": [
    {
     "data": {
      "text/plain": "0.982826292514801"
     },
     "execution_count": 464,
     "metadata": {},
     "output_type": "execute_result"
    }
   ],
   "source": [
    "learn.recorder.values[-1][2]"
   ],
   "metadata": {
    "collapsed": false,
    "ExecuteTime": {
     "end_time": "2024-01-16T09:31:06.380157Z",
     "start_time": "2024-01-16T09:31:06.375348Z"
    }
   },
   "id": "4f86baf0aa226e57",
   "execution_count": 464
  },
  {
   "cell_type": "markdown",
   "source": [
    "여기서 마법이라고 할만한 결과\n",
    "* 올바른 파나미터 집합이 주어지면 모든 문제를 원하는 정확도로 풀어낼 수 있는 함수(신경망)\n",
    "* 모든 함수에 대한 최적의 파라미터 집합을 찾아내는 방법 (SGD)\n",
    "\n",
    "이 두 가지가 딥러닝이 환상적인 일을 해낼 수 있는 이유이다. 이 간단한 두 기법의 결합이 모든 문제를 해결할 수 있다는 믿음은 딥러닝을 배우는 학생들이 취해야 할 큰 도약이다.\n",
    "사실이라고 보기엔 너무 좋아 보인다. 더 복잡하고 어려운 무언가가 있어야 할것 같지만 일단 시도해보라고 말하고 싶다. MNIST 데이터셋에 대한 결과를 직접 확인 했다.\n",
    "gradient 게싼을 제외한 모두를 직접 밑바닥부터 만들었으니 내부적으로 딱히 마법과도 같은 일이 일어나지 않는다는 사실을 알 수 있었다."
   ],
   "metadata": {
    "collapsed": false
   },
   "id": "60eff81d94ccb5ac"
  },
  {
   "cell_type": "code",
   "outputs": [
    {
     "data": {
      "text/plain": "<IPython.core.display.HTML object>",
      "text/html": "\n<style>\n    /* Turns off some styling */\n    progress {\n        /* gets rid of default border in Firefox and Opera. */\n        border: none;\n        /* Needs to be in here for Safari polyfill so background images work as expected. */\n        background-size: auto;\n    }\n    progress:not([value]), progress:not([value])::-webkit-progress-bar {\n        background: repeating-linear-gradient(45deg, #7e7e7e, #7e7e7e 10px, #5c5c5c 10px, #5c5c5c 20px);\n    }\n    .progress-bar-interrupted, .progress-bar-interrupted::-webkit-progress-bar {\n        background: #F44336;\n    }\n</style>\n"
     },
     "metadata": {},
     "output_type": "display_data"
    },
    {
     "data": {
      "text/plain": "<IPython.core.display.HTML object>",
      "text/html": "\n    <div>\n      <progress value='0' class='' max='1' style='width:300px; height:20px; vertical-align: middle;'></progress>\n      \n    </div>\n    \n"
     },
     "metadata": {},
     "output_type": "display_data"
    }
   ],
   "source": [
    "dls = ImageDataLoaders.from_folder(path)\n",
    "learn = vision_learner(dls, resnet18, pretrained=False, loss_func=cross_entropy, metrics=accuracy)\n",
    "learn.fit_one_cycle(1, 0.1)"
   ],
   "metadata": {
    "collapsed": false,
    "ExecuteTime": {
     "end_time": "2024-01-16T09:31:33.855450Z",
     "start_time": "2024-01-16T09:31:11.955836Z"
    }
   },
   "id": "e582077a34f129d9",
   "execution_count": 466
  },
  {
   "cell_type": "code",
   "outputs": [],
   "source": [],
   "metadata": {
    "collapsed": false,
    "ExecuteTime": {
     "end_time": "2024-01-16T09:31:06.884957Z",
     "start_time": "2024-01-16T09:31:06.880396Z"
    }
   },
   "id": "1236b4ab4004444",
   "execution_count": 465
  }
 ],
 "metadata": {
  "kernelspec": {
   "display_name": "Python 3",
   "language": "python",
   "name": "python3"
  },
  "language_info": {
   "codemirror_mode": {
    "name": "ipython",
    "version": 2
   },
   "file_extension": ".py",
   "mimetype": "text/x-python",
   "name": "python",
   "nbconvert_exporter": "python",
   "pygments_lexer": "ipython2",
   "version": "2.7.6"
  }
 },
 "nbformat": 4,
 "nbformat_minor": 5
}
