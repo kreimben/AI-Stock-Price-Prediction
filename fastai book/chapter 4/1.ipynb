{
 "cells": [
  {
   "cell_type": "code",
   "execution_count": 86,
   "id": "initial_id",
   "metadata": {
    "collapsed": true,
    "ExecuteTime": {
     "end_time": "2024-01-11T09:34:53.387505Z",
     "start_time": "2024-01-11T09:34:53.322775Z"
    }
   },
   "outputs": [],
   "source": [
    "import numpy as np\n",
    "import pandas as pd\n",
    "import torch\n",
    "from PIL import Image\n",
    "from fastai.data.external import untar_data, URLs\n",
    "from fastai.torch_core import tensor, show_image"
   ]
  },
  {
   "cell_type": "code",
   "outputs": [],
   "source": [
    "path = untar_data(URLs.MNIST_SAMPLE)"
   ],
   "metadata": {
    "collapsed": false,
    "ExecuteTime": {
     "end_time": "2024-01-11T09:34:53.395104Z",
     "start_time": "2024-01-11T09:34:53.389719Z"
    }
   },
   "id": "de080aecf3ae586f",
   "execution_count": 87
  },
  {
   "cell_type": "code",
   "outputs": [
    {
     "data": {
      "text/plain": "(#3) [Path('/Users/kreimben/.fastai/data/mnist_sample/valid'),Path('/Users/kreimben/.fastai/data/mnist_sample/labels.csv'),Path('/Users/kreimben/.fastai/data/mnist_sample/train')]"
     },
     "execution_count": 88,
     "metadata": {},
     "output_type": "execute_result"
    }
   ],
   "source": [
    "path.ls()"
   ],
   "metadata": {
    "collapsed": false,
    "ExecuteTime": {
     "end_time": "2024-01-11T09:34:53.396840Z",
     "start_time": "2024-01-11T09:34:53.391666Z"
    }
   },
   "id": "5abffb32f1f03305",
   "execution_count": 88
  },
  {
   "cell_type": "code",
   "outputs": [
    {
     "data": {
      "text/plain": "(#2) [Path('/Users/kreimben/.fastai/data/mnist_sample/train/7'),Path('/Users/kreimben/.fastai/data/mnist_sample/train/3')]"
     },
     "execution_count": 89,
     "metadata": {},
     "output_type": "execute_result"
    }
   ],
   "source": [
    "(path / 'train').ls()"
   ],
   "metadata": {
    "collapsed": false,
    "ExecuteTime": {
     "end_time": "2024-01-11T09:34:53.411838Z",
     "start_time": "2024-01-11T09:34:53.396040Z"
    }
   },
   "id": "e0a4d32d6ec82212",
   "execution_count": 89
  },
  {
   "cell_type": "markdown",
   "source": [
    "간략하게 3과 7만 사용한다."
   ],
   "metadata": {
    "collapsed": false
   },
   "id": "35755e482cf45f21"
  },
  {
   "cell_type": "code",
   "outputs": [
    {
     "data": {
      "text/plain": "(#6131) [Path('/Users/kreimben/.fastai/data/mnist_sample/train/3/10.png'),Path('/Users/kreimben/.fastai/data/mnist_sample/train/3/10000.png'),Path('/Users/kreimben/.fastai/data/mnist_sample/train/3/10011.png'),Path('/Users/kreimben/.fastai/data/mnist_sample/train/3/10031.png'),Path('/Users/kreimben/.fastai/data/mnist_sample/train/3/10034.png'),Path('/Users/kreimben/.fastai/data/mnist_sample/train/3/10042.png'),Path('/Users/kreimben/.fastai/data/mnist_sample/train/3/10052.png'),Path('/Users/kreimben/.fastai/data/mnist_sample/train/3/1007.png'),Path('/Users/kreimben/.fastai/data/mnist_sample/train/3/10074.png'),Path('/Users/kreimben/.fastai/data/mnist_sample/train/3/10091.png')...]"
     },
     "execution_count": 90,
     "metadata": {},
     "output_type": "execute_result"
    }
   ],
   "source": [
    "three = (path / 'train' / '3').ls().sorted()\n",
    "seven = (path / 'train' / '7').ls().sorted()\n",
    "\n",
    "three"
   ],
   "metadata": {
    "collapsed": false,
    "ExecuteTime": {
     "end_time": "2024-01-11T09:34:53.469575Z",
     "start_time": "2024-01-11T09:34:53.399431Z"
    }
   },
   "id": "dc3d0e0b60652f0c",
   "execution_count": 90
  },
  {
   "cell_type": "code",
   "outputs": [
    {
     "data": {
      "text/plain": "<PIL.PngImagePlugin.PngImageFile image mode=L size=28x28>",
      "image/png": "[encoded data removed]",
      "image/jpeg": "[encoded data removed]"
     },
     "execution_count": 91,
     "metadata": {},
     "output_type": "execute_result"
    }
   ],
   "source": [
    "im3_path = three[1]\n",
    "im3 = Image.open(im3_path)\n",
    "im3"
   ],
   "metadata": {
    "collapsed": false,
    "ExecuteTime": {
     "end_time": "2024-01-11T09:34:53.473999Z",
     "start_time": "2024-01-11T09:34:53.467662Z"
    }
   },
   "id": "dbab3f54efc345e",
   "execution_count": 91
  },
  {
   "cell_type": "code",
   "outputs": [
    {
     "data": {
      "text/plain": "array([[  0,   0,   0,   0,   0,   0],\n       [  0,   0,   0,   0,   0,  29],\n       [  0,   0,   0,  48, 166, 224],\n       [  0,  93, 244, 249, 253, 187],\n       [  0, 107, 253, 253, 230,  48],\n       [  0,   3,  20,  20,  15,   0]], dtype=uint8)"
     },
     "execution_count": 92,
     "metadata": {},
     "output_type": "execute_result"
    }
   ],
   "source": [
    "np.array(im3)[4:10, 4:10]"
   ],
   "metadata": {
    "collapsed": false,
    "ExecuteTime": {
     "end_time": "2024-01-11T09:34:53.477364Z",
     "start_time": "2024-01-11T09:34:53.473403Z"
    }
   },
   "id": "f8a6015f1723b3e5",
   "execution_count": 92
  },
  {
   "cell_type": "code",
   "outputs": [
    {
     "data": {
      "text/plain": "tensor([[  0,   0,   0,   0,   0,   0],\n        [  0,   0,   0,   0,   0,  29],\n        [  0,   0,   0,  48, 166, 224],\n        [  0,  93, 244, 249, 253, 187],\n        [  0, 107, 253, 253, 230,  48],\n        [  0,   3,  20,  20,  15,   0]], dtype=torch.uint8)"
     },
     "execution_count": 93,
     "metadata": {},
     "output_type": "execute_result"
    }
   ],
   "source": [
    "tensor(im3)[4:10, 4:10]"
   ],
   "metadata": {
    "collapsed": false,
    "ExecuteTime": {
     "end_time": "2024-01-11T09:34:53.480724Z",
     "start_time": "2024-01-11T09:34:53.476287Z"
    }
   },
   "id": "a61e1187e8c164a2",
   "execution_count": 93
  },
  {
   "cell_type": "code",
   "outputs": [
    {
     "data": {
      "text/plain": "    0    1    2    3    4    5    6    7    8    9    10   11   12   13   14  \\\n0    0    0    0    0    0    0    0    0    0    0    0    0    0    0    0   \n1    0    0    0    0    0   29  150  195  254  255  254  176  193  150   96   \n2    0    0    0   48  166  224  253  253  234  196  253  253  253  253  233   \n3    0   93  244  249  253  187   46   10    8    4   10  194  253  253  233   \n4    0  107  253  253  230   48    0    0    0    0    0  192  253  253  156   \n5    0    3   20   20   15    0    0    0    0    0   43  224  253  245   74   \n6    0    0    0    0    0    0    0    0    0    0  249  253  245  126    0   \n7    0    0    0    0    0    0    0   14  101  223  253  248  124    0    0   \n8    0    0    0    0    0   11  166  239  253  253  253  187   30    0    0   \n9    0    0    0    0    0   16  248  250  253  253  253  253  232  213  111   \n10   0    0    0    0    0    0    0   43   98   98  208  253  253  253  253   \n\n     15  16  17  \n0     0   0   0  \n1     0   0   0  \n2     0   0   0  \n3     0   0   0  \n4     0   0   0  \n5     0   0   0  \n6     0   0   0  \n7     0   0   0  \n8     0   0   0  \n9     2   0   0  \n10  187  22   0  ",
      "text/html": "<div>\n<style scoped>\n    .dataframe tbody tr th:only-of-type {\n        vertical-align: middle;\n    }\n\n    .dataframe tbody tr th {\n        vertical-align: top;\n    }\n\n    .dataframe thead th {\n        text-align: right;\n    }\n</style>\n<table border=\"1\" class=\"dataframe\">\n  <thead>\n    <tr style=\"text-align: right;\">\n      <th></th>\n      <th>0</th>\n      <th>1</th>\n      <th>2</th>\n      <th>3</th>\n      <th>4</th>\n      <th>5</th>\n      <th>6</th>\n      <th>7</th>\n      <th>8</th>\n      <th>9</th>\n      <th>10</th>\n      <th>11</th>\n      <th>12</th>\n      <th>13</th>\n      <th>14</th>\n      <th>15</th>\n      <th>16</th>\n      <th>17</th>\n    </tr>\n  </thead>\n  <tbody>\n    <tr>\n      <th>0</th>\n      <td>0</td>\n      <td>0</td>\n      <td>0</td>\n      <td>0</td>\n      <td>0</td>\n      <td>0</td>\n      <td>0</td>\n      <td>0</td>\n      <td>0</td>\n      <td>0</td>\n      <td>0</td>\n      <td>0</td>\n      <td>0</td>\n      <td>0</td>\n      <td>0</td>\n      <td>0</td>\n      <td>0</td>\n      <td>0</td>\n    </tr>\n    <tr>\n      <th>1</th>\n      <td>0</td>\n      <td>0</td>\n      <td>0</td>\n      <td>0</td>\n      <td>0</td>\n      <td>29</td>\n      <td>150</td>\n      <td>195</td>\n      <td>254</td>\n      <td>255</td>\n      <td>254</td>\n      <td>176</td>\n      <td>193</td>\n      <td>150</td>\n      <td>96</td>\n      <td>0</td>\n      <td>0</td>\n      <td>0</td>\n    </tr>\n    <tr>\n      <th>2</th>\n      <td>0</td>\n      <td>0</td>\n      <td>0</td>\n      <td>48</td>\n      <td>166</td>\n      <td>224</td>\n      <td>253</td>\n      <td>253</td>\n      <td>234</td>\n      <td>196</td>\n      <td>253</td>\n      <td>253</td>\n      <td>253</td>\n      <td>253</td>\n      <td>233</td>\n      <td>0</td>\n      <td>0</td>\n      <td>0</td>\n    </tr>\n    <tr>\n      <th>3</th>\n      <td>0</td>\n      <td>93</td>\n      <td>244</td>\n      <td>249</td>\n      <td>253</td>\n      <td>187</td>\n      <td>46</td>\n      <td>10</td>\n      <td>8</td>\n      <td>4</td>\n      <td>10</td>\n      <td>194</td>\n      <td>253</td>\n      <td>253</td>\n      <td>233</td>\n      <td>0</td>\n      <td>0</td>\n      <td>0</td>\n    </tr>\n    <tr>\n      <th>4</th>\n      <td>0</td>\n      <td>107</td>\n      <td>253</td>\n      <td>253</td>\n      <td>230</td>\n      <td>48</td>\n      <td>0</td>\n      <td>0</td>\n      <td>0</td>\n      <td>0</td>\n      <td>0</td>\n      <td>192</td>\n      <td>253</td>\n      <td>253</td>\n      <td>156</td>\n      <td>0</td>\n      <td>0</td>\n      <td>0</td>\n    </tr>\n    <tr>\n      <th>5</th>\n      <td>0</td>\n      <td>3</td>\n      <td>20</td>\n      <td>20</td>\n      <td>15</td>\n      <td>0</td>\n      <td>0</td>\n      <td>0</td>\n      <td>0</td>\n      <td>0</td>\n      <td>43</td>\n      <td>224</td>\n      <td>253</td>\n      <td>245</td>\n      <td>74</td>\n      <td>0</td>\n      <td>0</td>\n      <td>0</td>\n    </tr>\n    <tr>\n      <th>6</th>\n      <td>0</td>\n      <td>0</td>\n      <td>0</td>\n      <td>0</td>\n      <td>0</td>\n      <td>0</td>\n      <td>0</td>\n      <td>0</td>\n      <td>0</td>\n      <td>0</td>\n      <td>249</td>\n      <td>253</td>\n      <td>245</td>\n      <td>126</td>\n      <td>0</td>\n      <td>0</td>\n      <td>0</td>\n      <td>0</td>\n    </tr>\n    <tr>\n      <th>7</th>\n      <td>0</td>\n      <td>0</td>\n      <td>0</td>\n      <td>0</td>\n      <td>0</td>\n      <td>0</td>\n      <td>0</td>\n      <td>14</td>\n      <td>101</td>\n      <td>223</td>\n      <td>253</td>\n      <td>248</td>\n      <td>124</td>\n      <td>0</td>\n      <td>0</td>\n      <td>0</td>\n      <td>0</td>\n      <td>0</td>\n    </tr>\n    <tr>\n      <th>8</th>\n      <td>0</td>\n      <td>0</td>\n      <td>0</td>\n      <td>0</td>\n      <td>0</td>\n      <td>11</td>\n      <td>166</td>\n      <td>239</td>\n      <td>253</td>\n      <td>253</td>\n      <td>253</td>\n      <td>187</td>\n      <td>30</td>\n      <td>0</td>\n      <td>0</td>\n      <td>0</td>\n      <td>0</td>\n      <td>0</td>\n    </tr>\n    <tr>\n      <th>9</th>\n      <td>0</td>\n      <td>0</td>\n      <td>0</td>\n      <td>0</td>\n      <td>0</td>\n      <td>16</td>\n      <td>248</td>\n      <td>250</td>\n      <td>253</td>\n      <td>253</td>\n      <td>253</td>\n      <td>253</td>\n      <td>232</td>\n      <td>213</td>\n      <td>111</td>\n      <td>2</td>\n      <td>0</td>\n      <td>0</td>\n    </tr>\n    <tr>\n      <th>10</th>\n      <td>0</td>\n      <td>0</td>\n      <td>0</td>\n      <td>0</td>\n      <td>0</td>\n      <td>0</td>\n      <td>0</td>\n      <td>43</td>\n      <td>98</td>\n      <td>98</td>\n      <td>208</td>\n      <td>253</td>\n      <td>253</td>\n      <td>253</td>\n      <td>253</td>\n      <td>187</td>\n      <td>22</td>\n      <td>0</td>\n    </tr>\n  </tbody>\n</table>\n</div>"
     },
     "execution_count": 94,
     "metadata": {},
     "output_type": "execute_result"
    }
   ],
   "source": [
    "im3_t = tensor(im3)\n",
    "df = pd.DataFrame(im3_t[4:15, 4:22])\n",
    "df.style.set_properties(**{'font-size': '6pt'}).background_gradient('Greys')\n",
    "df"
   ],
   "metadata": {
    "collapsed": false,
    "ExecuteTime": {
     "end_time": "2024-01-11T09:34:53.485817Z",
     "start_time": "2024-01-11T09:34:53.479123Z"
    }
   },
   "id": "f4f218941dce8ace",
   "execution_count": 94
  },
  {
   "cell_type": "markdown",
   "source": [
    "## 픽셀 유사성으로 3과 7 구분하기\n",
    "\n",
    "두 숫자 그룹에 대한 평균 픽셀값을 구하는것이다."
   ],
   "metadata": {
    "collapsed": false
   },
   "id": "91073741cdcdd25e"
  },
  {
   "cell_type": "code",
   "outputs": [
    {
     "data": {
      "text/plain": "(6131, 6265)"
     },
     "execution_count": 95,
     "metadata": {},
     "output_type": "execute_result"
    }
   ],
   "source": [
    "seven_tensors = [tensor(Image.open(o)) for o in seven]\n",
    "three_tensors = [tensor(Image.open(o)) for o in three]\n",
    "len(three_tensors), len(seven_tensors)"
   ],
   "metadata": {
    "collapsed": false,
    "ExecuteTime": {
     "end_time": "2024-01-11T09:34:55.987887Z",
     "start_time": "2024-01-11T09:34:53.484910Z"
    }
   },
   "id": "d9bb0594a4726afd",
   "execution_count": 95
  },
  {
   "cell_type": "code",
   "outputs": [
    {
     "data": {
      "text/plain": "<Figure size 100x100 with 1 Axes>",
      "image/png": "[encoded data removed]"
     },
     "metadata": {},
     "output_type": "display_data"
    }
   ],
   "source": [
    "show_image(three_tensors[123]);"
   ],
   "metadata": {
    "collapsed": false,
    "ExecuteTime": {
     "end_time": "2024-01-11T09:34:56.011009Z",
     "start_time": "2024-01-11T09:34:55.994656Z"
    }
   },
   "id": "d0eeabb766812e8e",
   "execution_count": 96
  },
  {
   "cell_type": "markdown",
   "source": [
    "모든 이미지를 대상으로 각 픽셀 위치의 전체 평균을 계산하여 각 픽셀의 강도를 구하는 것이 목표였다. 그러려면 리스트 내의 모든 이미지를 3차원 텐서 하나로 결합해야한다. 일반적으로 3차원 텐서는 rank-3 텐서라고 함. 이렇게 컬렉션에 담긴 개별 텐서들을 쌓아 올려 단일 텐서를 만드는 일은 꽤 흔한 작업 패턴이다. 그래서 파이토치는 이 작업을 수행하는 stack이라는 함수를 제공한다.\n",
    "\n",
    "평균 계산 등 파이토치가 제공하는 일부 연산은 정수 대신 부동소수형 데이터만을 지원하여, 작업에 따라 형 변환을 해야한다."
   ],
   "metadata": {
    "collapsed": false
   },
   "id": "f22d8c140e21efde"
  },
  {
   "cell_type": "code",
   "outputs": [
    {
     "data": {
      "text/plain": "torch.Size([6265, 28, 28])"
     },
     "execution_count": 97,
     "metadata": {},
     "output_type": "execute_result"
    }
   ],
   "source": [
    "stacked_sevens = torch.stack(seven_tensors).float() / 255\n",
    "stacked_threes = torch.stack(three_tensors).float() / 255\n",
    "stacked_sevens.shape"
   ],
   "metadata": {
    "collapsed": false,
    "ExecuteTime": {
     "end_time": "2024-01-11T09:34:56.045779Z",
     "start_time": "2024-01-11T09:34:56.009869Z"
    }
   },
   "id": "86e0736559a93e01",
   "execution_count": 97
  },
  {
   "cell_type": "code",
   "outputs": [],
   "source": [
    "mean3 = stacked_threes.mean(0)\n",
    "mean7 = stacked_sevens.mean(0)"
   ],
   "metadata": {
    "collapsed": false,
    "ExecuteTime": {
     "end_time": "2024-01-11T09:34:56.046808Z",
     "start_time": "2024-01-11T09:34:56.031636Z"
    }
   },
   "id": "df8296d9b2f73f87",
   "execution_count": 98
  },
  {
   "cell_type": "code",
   "outputs": [
    {
     "data": {
      "text/plain": "<Figure size 100x100 with 1 Axes>",
      "image/png": "[encoded data removed]"
     },
     "metadata": {},
     "output_type": "display_data"
    }
   ],
   "source": [
    "show_image(mean3);"
   ],
   "metadata": {
    "collapsed": false,
    "ExecuteTime": {
     "end_time": "2024-01-11T09:34:56.075345Z",
     "start_time": "2024-01-11T09:34:56.040615Z"
    }
   },
   "id": "781c2f5398c28b23",
   "execution_count": 99
  },
  {
   "cell_type": "code",
   "outputs": [
    {
     "data": {
      "text/plain": "<Axes: >"
     },
     "execution_count": 100,
     "metadata": {},
     "output_type": "execute_result"
    },
    {
     "data": {
      "text/plain": "<Figure size 100x100 with 1 Axes>",
      "image/png": "[encoded data removed]"
     },
     "metadata": {},
     "output_type": "display_data"
    }
   ],
   "source": [
    "show_image(mean7)"
   ],
   "metadata": {
    "collapsed": false,
    "ExecuteTime": {
     "end_time": "2024-01-11T09:34:56.083573Z",
     "start_time": "2024-01-11T09:34:56.052658Z"
    }
   },
   "id": "706c2086cdc9d542",
   "execution_count": 100
  },
  {
   "cell_type": "code",
   "outputs": [
    {
     "data": {
      "text/plain": "3"
     },
     "execution_count": 101,
     "metadata": {},
     "output_type": "execute_result"
    }
   ],
   "source": [
    "stacked_threes.ndim"
   ],
   "metadata": {
    "collapsed": false,
    "ExecuteTime": {
     "end_time": "2024-01-11T09:34:56.084307Z",
     "start_time": "2024-01-11T09:34:56.071129Z"
    }
   },
   "id": "97e7c065d834e468",
   "execution_count": 101
  },
  {
   "cell_type": "markdown",
   "source": [
    "축이 3개라는 소리. 차원과 구별할 줄 알아야 함."
   ],
   "metadata": {
    "collapsed": false
   },
   "id": "cd7db9d01849fe1c"
  },
  {
   "cell_type": "code",
   "outputs": [
    {
     "data": {
      "text/plain": "<Axes: >"
     },
     "execution_count": 102,
     "metadata": {},
     "output_type": "execute_result"
    },
    {
     "data": {
      "text/plain": "<Figure size 100x100 with 1 Axes>",
      "image/png": "[encoded data removed]"
     },
     "metadata": {},
     "output_type": "display_data"
    }
   ],
   "source": [
    "from random import randint\n",
    "\n",
    "N = len(stacked_threes)\n",
    "\n",
    "a_3 = stacked_threes[1]\n",
    "show_image(a_3)"
   ],
   "metadata": {
    "collapsed": false,
    "ExecuteTime": {
     "end_time": "2024-01-11T09:34:56.094154Z",
     "start_time": "2024-01-11T09:34:56.076267Z"
    }
   },
   "id": "50cdac77da1091c7",
   "execution_count": 102
  },
  {
   "cell_type": "markdown",
   "source": [
    "이상적인 숫자 3과의 거리를 어떻게 구할까?\n",
    "1. 차이의 적댓값에 대한 평균을 구하는 (음수를 양수화) 방법. L1 노름 또는 평균절대차 (Mean Absolute Difference, MAD)라고 함.\n",
    "1. 차이의 제곱(모든 수를 양수화 한다)에 대한 평균의 제굽근(제곱을 다시 원상태로 돌린다)을 구하는 방법. L2 노름 또는 평균제곱근오차 (Root Mean Squared Error, RMSE)라고 함."
   ],
   "metadata": {
    "collapsed": false
   },
   "id": "49d942833846f579"
  },
  {
   "cell_type": "code",
   "outputs": [
    {
     "data": {
      "text/plain": "(tensor(0.1114), tensor(0.1586))"
     },
     "execution_count": 103,
     "metadata": {},
     "output_type": "execute_result"
    }
   ],
   "source": [
    "# L1\n",
    "dist_3_abs = (a_3 - mean3).abs().mean()\n",
    "dist_7_abs = (a_3 - mean7).abs().mean()\n",
    "dist_3_abs, dist_7_abs"
   ],
   "metadata": {
    "collapsed": false,
    "ExecuteTime": {
     "end_time": "2024-01-11T09:34:56.129418Z",
     "start_time": "2024-01-11T09:34:56.090072Z"
    }
   },
   "id": "bc7bb20e8683384d",
   "execution_count": 103
  },
  {
   "cell_type": "code",
   "outputs": [
    {
     "data": {
      "text/plain": "(tensor(0.2021), tensor(0.3021))"
     },
     "execution_count": 104,
     "metadata": {},
     "output_type": "execute_result"
    }
   ],
   "source": [
    "# L2\n",
    "dist_3_sqr = ((a_3 - mean3)**2).mean().sqrt()\n",
    "dist_7_sqr = ((a_3 - mean7)**2).mean().sqrt()\n",
    "dist_3_sqr, dist_7_sqr"
   ],
   "metadata": {
    "collapsed": false,
    "ExecuteTime": {
     "end_time": "2024-01-11T09:34:56.132465Z",
     "start_time": "2024-01-11T09:34:56.094191Z"
    }
   },
   "id": "d1c67f67508a18eb",
   "execution_count": 104
  },
  {
   "cell_type": "markdown",
   "source": [
    "각 방법 모두에서 선택한 숫자 3 이미지는 '이상적인' 숫자 7보다 이상적인 숫자 3과의 거리가 더 짧습니다. 즉 간단히 만든 기준선 모델이 예측을 올바르게 수행했다고 볼 수 있다.\n",
    "이것을 손실함수로 다시 측정해 보자."
   ],
   "metadata": {
    "collapsed": false
   },
   "id": "91b255104b840eb4"
  },
  {
   "cell_type": "code",
   "outputs": [
    {
     "data": {
      "text/plain": "(tensor(0.1586), tensor(0.3021))"
     },
     "execution_count": 105,
     "metadata": {},
     "output_type": "execute_result"
    }
   ],
   "source": [
    "from torch.nn.functional import l1_loss, mse_loss\n",
    "\n",
    "l1_loss(a_3.float(), mean7), mse_loss(a_3, mean7).sqrt()"
   ],
   "metadata": {
    "collapsed": false,
    "ExecuteTime": {
     "end_time": "2024-01-11T09:34:56.133289Z",
     "start_time": "2024-01-11T09:34:56.098631Z"
    }
   },
   "id": "56562c552952947",
   "execution_count": 105
  },
  {
   "cell_type": "markdown",
   "source": [
    "결국 궁극적인 목표는 `is_3`라는 함수를 만들어 어떠한 이미지가 오더라도 3인지 7인지 구별할 수 있는 모델을 세우는것이다. 그렇게 하기 위해서는 두 이미지 사이의 거리를 계산해야 하므로, 거리의 개념부터 정의 해야함."
   ],
   "metadata": {
    "collapsed": false
   },
   "id": "e480ceabbb59b42"
  },
  {
   "cell_type": "code",
   "outputs": [],
   "source": [
    "valid_3_tens = torch.stack(\n",
    "    [tensor(Image.open(o)) for o in (path / 'valid' / '3').ls()]\n",
    ")\n",
    "valid_7_tens = torch.stack(\n",
    "    [tensor(Image.open(o)) for o in (path / 'valid' / '7').ls()]\n",
    ")"
   ],
   "metadata": {
    "collapsed": false,
    "ExecuteTime": {
     "end_time": "2024-01-11T09:34:56.472253Z",
     "start_time": "2024-01-11T09:34:56.105573Z"
    }
   },
   "id": "3c1f958a47903c2d",
   "execution_count": 106
  },
  {
   "cell_type": "code",
   "outputs": [],
   "source": [
    "valid_3_tens = valid_3_tens.float() / 255\n",
    "valid_7_tens = valid_7_tens.float() / 255"
   ],
   "metadata": {
    "collapsed": false,
    "ExecuteTime": {
     "end_time": "2024-01-11T09:34:56.479109Z",
     "start_time": "2024-01-11T09:34:56.472855Z"
    }
   },
   "id": "93b62a0325f545f0",
   "execution_count": 107
  },
  {
   "cell_type": "code",
   "outputs": [
    {
     "data": {
      "text/plain": "(torch.Size([1010, 28, 28]), torch.Size([1028, 28, 28]))"
     },
     "execution_count": 108,
     "metadata": {},
     "output_type": "execute_result"
    }
   ],
   "source": [
    "valid_3_tens.shape, valid_7_tens.shape"
   ],
   "metadata": {
    "collapsed": false,
    "ExecuteTime": {
     "end_time": "2024-01-11T09:34:56.480268Z",
     "start_time": "2024-01-11T09:34:56.477032Z"
    }
   },
   "id": "de38f693c75c6b03",
   "execution_count": 108
  },
  {
   "cell_type": "code",
   "outputs": [
    {
     "data": {
      "text/plain": "(tensor(0.1114), tensor(0.1586))"
     },
     "execution_count": 109,
     "metadata": {},
     "output_type": "execute_result"
    }
   ],
   "source": [
    "def mnist_distance(a, b): return (a - b).abs().mean((-1, -2))\n",
    "mnist_distance(a_3, mean3), mnist_distance(a_3, mean7)"
   ],
   "metadata": {
    "collapsed": false,
    "ExecuteTime": {
     "end_time": "2024-01-11T09:34:56.483721Z",
     "start_time": "2024-01-11T09:34:56.480308Z"
    }
   },
   "id": "62dff7d04379b0f1",
   "execution_count": 109
  },
  {
   "cell_type": "markdown",
   "source": [
    "그런데 전체 이미지에 대한 평가지표를 계산하려면, 검증용 데이터셋 내 **모든** 이미지와 이상적인 숫자 3 이미지의 거리를 계산해야 한다."
   ],
   "metadata": {
    "collapsed": false
   },
   "id": "da5f63f2bda1f7b9"
  },
  {
   "cell_type": "code",
   "outputs": [
    {
     "data": {
      "text/plain": "(tensor([0.1634, 0.1145, 0.1363,  ..., 0.1105, 0.1111, 0.1640]),\n torch.Size([1010]))"
     },
     "execution_count": 110,
     "metadata": {},
     "output_type": "execute_result"
    }
   ],
   "source": [
    "valid_3_dist = mnist_distance(valid_3_tens, mean3)\n",
    "valid_3_dist, valid_3_dist.shape"
   ],
   "metadata": {
    "collapsed": false,
    "ExecuteTime": {
     "end_time": "2024-01-11T09:34:56.489648Z",
     "start_time": "2024-01-11T09:34:56.483437Z"
    }
   },
   "id": "972dc4ba7dd1f0e6",
   "execution_count": 110
  },
  {
   "cell_type": "code",
   "outputs": [],
   "source": [
    "def is_3(x):\n",
    "    return mnist_distance(x, mean3) < mnist_distance(x, mean7)"
   ],
   "metadata": {
    "collapsed": false,
    "ExecuteTime": {
     "end_time": "2024-01-11T09:34:56.490312Z",
     "start_time": "2024-01-11T09:34:56.486502Z"
    }
   },
   "id": "cbaa87c103aae603",
   "execution_count": 111
  },
  {
   "cell_type": "code",
   "outputs": [
    {
     "data": {
      "text/plain": "(tensor(True), tensor(1.))"
     },
     "execution_count": 112,
     "metadata": {},
     "output_type": "execute_result"
    }
   ],
   "source": [
    "is_3(a_3), is_3(a_3).float()"
   ],
   "metadata": {
    "collapsed": false,
    "ExecuteTime": {
     "end_time": "2024-01-11T09:34:56.493299Z",
     "start_time": "2024-01-11T09:34:56.488459Z"
    }
   },
   "id": "e0bb6f6d06356c42",
   "execution_count": 112
  },
  {
   "cell_type": "code",
   "outputs": [
    {
     "ename": "RuntimeError",
     "evalue": "The size of tensor a (1010) must match the size of tensor b (28) at non-singleton dimension 1",
     "output_type": "error",
     "traceback": [
      "\u001B[0;31m---------------------------------------------------------------------------\u001B[0m",
      "\u001B[0;31mRuntimeError\u001B[0m                              Traceback (most recent call last)",
      "Cell \u001B[0;32mIn[113], line 1\u001B[0m\n\u001B[0;32m----> 1\u001B[0m \u001B[43mis_3\u001B[49m\u001B[43m(\u001B[49m\u001B[43mvalid_3_dist\u001B[49m\u001B[43m)\u001B[49m\n",
      "Cell \u001B[0;32mIn[111], line 2\u001B[0m, in \u001B[0;36mis_3\u001B[0;34m(x)\u001B[0m\n\u001B[1;32m      1\u001B[0m \u001B[38;5;28;01mdef\u001B[39;00m \u001B[38;5;21mis_3\u001B[39m(x):\n\u001B[0;32m----> 2\u001B[0m     \u001B[38;5;28;01mreturn\u001B[39;00m \u001B[43mmnist_distance\u001B[49m\u001B[43m(\u001B[49m\u001B[43mx\u001B[49m\u001B[43m,\u001B[49m\u001B[43m \u001B[49m\u001B[43mmean3\u001B[49m\u001B[43m)\u001B[49m \u001B[38;5;241m<\u001B[39m mnist_distance(x, mean7)\n",
      "Cell \u001B[0;32mIn[109], line 1\u001B[0m, in \u001B[0;36mmnist_distance\u001B[0;34m(a, b)\u001B[0m\n\u001B[0;32m----> 1\u001B[0m \u001B[38;5;28;01mdef\u001B[39;00m \u001B[38;5;21mmnist_distance\u001B[39m(a, b): \u001B[38;5;28;01mreturn\u001B[39;00m (\u001B[43ma\u001B[49m\u001B[43m \u001B[49m\u001B[38;5;241;43m-\u001B[39;49m\u001B[43m \u001B[49m\u001B[43mb\u001B[49m)\u001B[38;5;241m.\u001B[39mabs()\u001B[38;5;241m.\u001B[39mmean((\u001B[38;5;241m-\u001B[39m\u001B[38;5;241m1\u001B[39m, \u001B[38;5;241m-\u001B[39m\u001B[38;5;241m2\u001B[39m))\n",
      "\u001B[0;31mRuntimeError\u001B[0m: The size of tensor a (1010) must match the size of tensor b (28) at non-singleton dimension 1"
     ]
    }
   ],
   "source": [
    "is_3(valid_3_dist)"
   ],
   "metadata": {
    "collapsed": false,
    "ExecuteTime": {
     "end_time": "2024-01-11T09:34:56.531084Z",
     "start_time": "2024-01-11T09:34:56.490971Z"
    }
   },
   "id": "4df1c9c87424d6e0",
   "execution_count": 113
  },
  {
   "cell_type": "code",
   "outputs": [
    {
     "data": {
      "text/plain": "(tensor(0.9168), tensor(0.9854), tensor(0.9511))"
     },
     "execution_count": 114,
     "metadata": {},
     "output_type": "execute_result"
    }
   ],
   "source": [
    "accuracy_3s = is_3(valid_3_tens).float().mean()\n",
    "accuracy_7s = (1 - is_3(valid_7_tens).float()).mean()\n",
    "\n",
    "accuracy_3s, accuracy_7s, (accuracy_3s + accuracy_7s) / 2"
   ],
   "metadata": {
    "collapsed": false,
    "ExecuteTime": {
     "end_time": "2024-01-11T09:42:59.703710Z",
     "start_time": "2024-01-11T09:42:59.680115Z"
    }
   },
   "id": "aa9d2ac08fb204a3",
   "execution_count": 114
  },
  {
   "cell_type": "markdown",
   "source": [
    "이렇게 하면 꽤나 신뢰성 높은 함수를 얻을 수 있다.\n",
    "\n",
    "하지만, 더 나은 결과를 얻으려면 실제로 무언가를 학습하는 시스템을 시도해야 함. 즉 시스템이 스스로 자동 수정해나가도록 하는 방법이 필요하다.\n",
    "이를 SGD로 해결해 보자.\n",
    "\n",
    "특정 이미지와 '이상적인 이미지' 사이의 유사도를 찾는 대신, 개별 픽셀마다 가중치를 설정하고 숫자를 표현하는 검은색 픽셀의 가중치를 높이는 방법을 생각해보자. 가령 숫자 7 이미지 우측 하단에 위치한 픽셀은 활성화 될 가능성이 매우 낮지만, 숫자 3 이미지라면 해당 부분이 높은 확률로 활성화됨. 따라서 이미지 우측 하단 픽셀들의 가중치는 숫자 7에서는 낮게, 숫자 3에서는 높게 매겨짐. 이 과정은 이미지 픽셀(x)과 각 픽셀에 대한 가중치(w)를 입력받는 함수로 표현할 수 있다. 가령 숫자 3이 될 확률은 아래와 같다."
   ],
   "metadata": {
    "collapsed": false
   },
   "id": "3c09165254cab370"
  },
  {
   "cell_type": "code",
   "outputs": [],
   "source": [
    "def pr_three(pixels, weight): return (pixels * weight).sum()"
   ],
   "metadata": {
    "collapsed": false,
    "ExecuteTime": {
     "end_time": "2024-01-11T09:43:00.933908Z",
     "start_time": "2024-01-11T09:43:00.918247Z"
    }
   },
   "id": "b43e6161f6e7f2e4",
   "execution_count": 115
  },
  {
   "cell_type": "markdown",
   "source": [
    "# MNIST loss function"
   ],
   "metadata": {
    "collapsed": false
   },
   "id": "b2c1fc652daf9a01"
  },
  {
   "cell_type": "code",
   "outputs": [],
   "source": [
    "train_x = torch.cat([stacked_threes, stacked_sevens]).view(-1, 28 * 28)"
   ],
   "metadata": {
    "collapsed": false,
    "ExecuteTime": {
     "end_time": "2024-01-11T09:43:01.449310Z",
     "start_time": "2024-01-11T09:43:01.400242Z"
    }
   },
   "id": "e99a4acafbd46885",
   "execution_count": 116
  },
  {
   "cell_type": "code",
   "outputs": [
    {
     "data": {
      "text/plain": "(torch.Size([12396, 784]), torch.Size([12396, 1]))"
     },
     "execution_count": 117,
     "metadata": {},
     "output_type": "execute_result"
    }
   ],
   "source": [
    "train_y = tensor([1] * len(three_tensors) + [0] * len(seven_tensors)).unsqueeze(1)\n",
    "train_x.shape, train_y.shape"
   ],
   "metadata": {
    "collapsed": false,
    "ExecuteTime": {
     "end_time": "2024-01-11T09:43:01.530694Z",
     "start_time": "2024-01-11T09:43:01.527109Z"
    }
   },
   "id": "af35973a3918ec6c",
   "execution_count": 117
  },
  {
   "cell_type": "code",
   "outputs": [
    {
     "data": {
      "text/plain": "(torch.Size([784]), torch.Size([1]))"
     },
     "execution_count": 118,
     "metadata": {},
     "output_type": "execute_result"
    }
   ],
   "source": [
    "dset = list(zip(train_x, train_y))\n",
    "x, y = dset[0]\n",
    "x.shape, y.shape"
   ],
   "metadata": {
    "collapsed": false,
    "ExecuteTime": {
     "end_time": "2024-01-11T09:43:01.854277Z",
     "start_time": "2024-01-11T09:43:01.817965Z"
    }
   },
   "id": "5dc8f5fb0af19cb0",
   "execution_count": 118
  },
  {
   "cell_type": "code",
   "outputs": [],
   "source": [
    "valid_x = torch.cat([valid_3_tens, valid_7_tens]).view(-1, 28 * 28)\n",
    "valid_y = tensor([1] * len(valid_3_tens) + [0] * len(valid_7_tens)).unsqueeze(1)\n",
    "valid_dset = list(zip(valid_x, valid_y))"
   ],
   "metadata": {
    "collapsed": false,
    "ExecuteTime": {
     "end_time": "2024-01-11T09:43:02.246355Z",
     "start_time": "2024-01-11T09:43:01.943773Z"
    }
   },
   "id": "8cae47656897b702",
   "execution_count": 119
  },
  {
   "cell_type": "code",
   "outputs": [
    {
     "data": {
      "text/plain": "tensor([[-4.3672e-01],\n        [-1.3954e+00],\n        [-2.4402e-01],\n        [-1.6689e+00],\n        [-9.9752e-02],\n        [ 4.7949e-01],\n        [ 1.6585e-01],\n        [ 5.8903e-01],\n        [-1.7875e+00],\n        [ 2.2938e-01],\n        [ 5.6840e-01],\n        [ 2.0857e-01],\n        [ 1.5713e+00],\n        [-2.7383e+00],\n        [ 2.7532e-01],\n        [ 3.8944e-01],\n        [ 5.5017e-01],\n        [ 3.4960e-01],\n        [ 4.6756e-03],\n        [ 3.2043e-01],\n        [-1.1804e+00],\n        [-1.8108e+00],\n        [ 2.0541e-01],\n        [ 1.0484e-01],\n        [ 7.4928e-02],\n        [-1.3372e+00],\n        [ 5.7609e-01],\n        [ 1.2817e+00],\n        [-2.4305e-01],\n        [ 7.5510e-01],\n        [ 8.3385e-01],\n        [ 8.2529e-01],\n        [-5.8977e-02],\n        [ 9.3717e-01],\n        [-1.2302e+00],\n        [ 4.6602e-01],\n        [-1.0961e-01],\n        [-6.5659e-02],\n        [-3.2670e-01],\n        [-2.7277e-01],\n        [-1.1058e+00],\n        [-5.5809e-03],\n        [ 8.0306e-02],\n        [-4.5293e-01],\n        [-1.1532e-01],\n        [-3.4918e-01],\n        [ 3.0674e-01],\n        [ 9.3692e-01],\n        [-1.4662e+00],\n        [-1.4983e-01],\n        [-4.3642e-01],\n        [-5.1054e-01],\n        [-7.8736e-01],\n        [ 1.2593e+00],\n        [ 1.9148e+00],\n        [-8.5636e-01],\n        [-4.4686e-01],\n        [ 2.0790e-01],\n        [-8.8622e-01],\n        [ 3.3672e-01],\n        [-1.2097e+00],\n        [ 6.9786e-01],\n        [ 2.3023e-01],\n        [ 1.0023e+00],\n        [-1.3741e+00],\n        [-4.0423e-01],\n        [ 7.9339e-01],\n        [-7.7015e-01],\n        [ 1.1793e+00],\n        [ 9.6494e-01],\n        [ 8.9793e-01],\n        [ 5.8497e-01],\n        [ 4.2644e-02],\n        [-7.2455e-01],\n        [-1.3928e+00],\n        [ 9.6315e-02],\n        [ 1.1354e+00],\n        [ 4.6878e-01],\n        [ 4.6120e-01],\n        [ 8.6256e-01],\n        [ 8.4914e-01],\n        [-4.1058e-01],\n        [-1.0453e-01],\n        [ 6.5324e-03],\n        [ 6.4105e-01],\n        [ 1.4524e+00],\n        [-7.1888e-01],\n        [-4.0366e-01],\n        [-4.1600e-01],\n        [-1.2154e+00],\n        [ 1.1004e-01],\n        [-6.0380e-01],\n        [-3.9600e-01],\n        [-6.8603e-01],\n        [-1.3664e+00],\n        [-5.8434e-02],\n        [ 1.7402e+00],\n        [-7.7860e-01],\n        [ 1.3246e+00],\n        [-9.5541e-01],\n        [-7.2094e-02],\n        [ 5.5313e-01],\n        [ 1.3939e-01],\n        [-9.5361e-01],\n        [ 1.4077e+00],\n        [ 1.4693e-01],\n        [ 9.1924e-01],\n        [-6.6039e-01],\n        [-1.1038e+00],\n        [-2.8387e-01],\n        [ 1.4363e+00],\n        [-6.8692e-02],\n        [-1.4903e-01],\n        [-1.4528e+00],\n        [ 8.4257e-01],\n        [-1.2055e+00],\n        [ 1.2629e-01],\n        [ 5.0453e-01],\n        [-2.3165e-01],\n        [-1.3564e+00],\n        [-1.4779e+00],\n        [ 2.1980e-01],\n        [-2.4692e-01],\n        [ 2.0579e-01],\n        [-1.8990e-01],\n        [-7.4266e-01],\n        [-1.2820e-01],\n        [ 2.4854e-01],\n        [ 1.3488e-01],\n        [-1.6084e+00],\n        [ 1.8343e+00],\n        [ 2.4452e-01],\n        [-8.0136e-01],\n        [ 1.1425e+00],\n        [-1.0992e-01],\n        [ 8.1706e-01],\n        [-7.9494e-01],\n        [ 1.1118e+00],\n        [-5.8088e-01],\n        [-3.2535e-02],\n        [-2.1217e+00],\n        [-5.2074e-02],\n        [ 7.4650e-01],\n        [-1.6087e+00],\n        [-2.0092e-01],\n        [ 9.9531e-01],\n        [ 4.7790e-01],\n        [ 1.5842e+00],\n        [-5.3408e-01],\n        [ 7.4931e-01],\n        [ 3.6550e-01],\n        [ 1.2652e-02],\n        [-8.7898e-01],\n        [-2.7305e+00],\n        [-8.3030e-02],\n        [-1.4464e+00],\n        [-9.3957e-01],\n        [-2.2328e-01],\n        [ 2.4901e-01],\n        [ 1.6885e-02],\n        [ 5.6349e-01],\n        [ 3.4804e-01],\n        [ 1.2498e+00],\n        [-5.9056e-03],\n        [ 1.0083e+00],\n        [ 5.8259e-01],\n        [ 8.8128e-01],\n        [ 6.2117e-02],\n        [-6.7430e-01],\n        [-1.3538e+00],\n        [-2.5451e-02],\n        [ 2.4902e-01],\n        [ 2.5614e-01],\n        [-7.1706e-01],\n        [ 3.7441e-01],\n        [-8.0979e-02],\n        [-1.2279e+00],\n        [-7.1352e-01],\n        [ 1.0273e+00],\n        [ 1.3691e-01],\n        [ 9.0866e-01],\n        [-1.0328e+00],\n        [-1.3171e-01],\n        [-1.0986e+00],\n        [ 1.9166e-02],\n        [-3.6036e-01],\n        [ 1.3115e+00],\n        [-1.0755e+00],\n        [ 9.8439e-01],\n        [-6.7767e-01],\n        [ 4.6352e-01],\n        [ 7.1018e-01],\n        [ 2.0486e-01],\n        [-3.4417e-01],\n        [ 2.7239e-01],\n        [ 1.0624e+00],\n        [-1.6908e-01],\n        [ 1.5286e+00],\n        [ 5.9293e-01],\n        [ 1.0480e+00],\n        [-7.1120e-01],\n        [-6.5759e-01],\n        [-1.2543e+00],\n        [-2.7103e+00],\n        [-9.9235e-02],\n        [ 7.8368e-01],\n        [ 1.2444e-01],\n        [ 1.1024e+00],\n        [ 1.4146e+00],\n        [ 4.4755e-01],\n        [-1.6667e+00],\n        [ 2.2432e+00],\n        [ 1.2976e+00],\n        [ 5.2106e-01],\n        [-2.5211e-01],\n        [ 6.9688e-01],\n        [ 6.1832e-01],\n        [ 1.4439e+00],\n        [-2.6771e+00],\n        [ 2.5533e-01],\n        [-6.1028e-01],\n        [-1.0110e+00],\n        [ 4.6400e-01],\n        [ 9.1005e-01],\n        [-6.5406e-01],\n        [ 1.2560e+00],\n        [-1.8352e+00],\n        [ 1.7344e+00],\n        [ 1.3805e-01],\n        [ 7.9991e-01],\n        [-5.3461e-01],\n        [ 2.1531e-01],\n        [ 2.7532e-01],\n        [ 6.2006e-01],\n        [-7.8804e-02],\n        [-2.9723e-01],\n        [ 2.1956e-01],\n        [-3.6963e-01],\n        [-6.3943e-01],\n        [ 3.2292e-01],\n        [ 1.1587e+00],\n        [-8.3856e-01],\n        [-6.7726e-01],\n        [-1.1508e+00],\n        [ 1.5876e-01],\n        [ 2.2688e+00],\n        [-1.1193e+00],\n        [-1.5470e+00],\n        [-3.5929e-01],\n        [ 1.4661e+00],\n        [ 1.5624e-01],\n        [-9.6867e-01],\n        [-2.9325e-01],\n        [-5.1254e-01],\n        [-1.2103e+00],\n        [ 8.3905e-01],\n        [-1.1872e+00],\n        [ 1.0409e+00],\n        [-1.4128e+00],\n        [ 6.3443e-01],\n        [ 7.0396e-01],\n        [-4.8822e-01],\n        [ 3.9731e-01],\n        [ 5.1118e-01],\n        [ 1.7231e+00],\n        [-8.7915e-01],\n        [-2.3985e-01],\n        [-8.2006e-01],\n        [ 1.5246e+00],\n        [-3.3713e-01],\n        [-5.2333e-01],\n        [ 9.8894e-01],\n        [-5.8196e-01],\n        [ 9.2518e-02],\n        [ 2.9365e-01],\n        [-6.8239e-01],\n        [ 8.0253e-01],\n        [-5.9410e-01],\n        [-7.3406e-01],\n        [ 1.0721e-01],\n        [ 1.2911e+00],\n        [-1.4585e+00],\n        [-6.0675e-01],\n        [ 3.1475e-01],\n        [-1.2529e-01],\n        [ 8.1607e-01],\n        [-9.4669e-01],\n        [ 8.4742e-01],\n        [-4.1955e-01],\n        [-7.4134e-02],\n        [-3.5081e-02],\n        [ 4.7565e-02],\n        [-8.0396e-01],\n        [-9.2441e-01],\n        [ 2.7744e-01],\n        [-1.9237e-01],\n        [ 9.1571e-01],\n        [ 1.3802e+00],\n        [ 1.3444e+00],\n        [ 6.6703e-01],\n        [-2.1422e-01],\n        [ 1.2683e+00],\n        [-5.7250e-01],\n        [-1.1385e+00],\n        [-5.8422e-01],\n        [ 1.0630e+00],\n        [-5.2823e-01],\n        [-1.5832e+00],\n        [ 1.7563e+00],\n        [-1.8931e+00],\n        [-6.3206e-02],\n        [ 1.0175e-01],\n        [ 2.9558e-01],\n        [ 1.0226e+00],\n        [-1.0532e-01],\n        [-5.3488e-01],\n        [-7.7240e-01],\n        [-1.0255e+00],\n        [ 5.8331e-01],\n        [-1.4748e+00],\n        [-5.6280e-01],\n        [ 1.2472e+00],\n        [ 7.4655e-02],\n        [-5.6329e-01],\n        [ 1.0372e-01],\n        [ 1.1405e+00],\n        [ 2.3962e+00],\n        [-1.2603e+00],\n        [ 6.9414e-01],\n        [ 1.1622e+00],\n        [ 8.8009e-01],\n        [-1.6461e+00],\n        [-6.9099e-01],\n        [ 1.0426e-01],\n        [-3.6349e+00],\n        [ 1.0650e+00],\n        [ 3.1397e-01],\n        [ 4.2253e-01],\n        [-7.5695e-01],\n        [-8.5481e-01],\n        [ 1.1288e+00],\n        [ 5.8521e-01],\n        [ 1.4090e+00],\n        [-1.3377e+00],\n        [-1.1926e+00],\n        [ 1.1846e+00],\n        [-5.8835e-01],\n        [-1.1949e+00],\n        [-7.6566e-01],\n        [ 1.8981e-01],\n        [ 1.3683e+00],\n        [-1.2205e-01],\n        [ 2.4167e+00],\n        [-5.6568e-01],\n        [-9.7080e-01],\n        [ 3.2404e-02],\n        [-3.8940e-01],\n        [-1.6313e+00],\n        [-5.5994e-02],\n        [-1.2302e+00],\n        [ 1.6112e-01],\n        [-5.2801e-01],\n        [-6.2835e-01],\n        [ 1.0239e+00],\n        [ 7.9787e-01],\n        [-4.8487e-01],\n        [ 1.6383e+00],\n        [ 1.6281e+00],\n        [ 4.0283e-02],\n        [-5.6532e-01],\n        [-5.3334e-01],\n        [-1.7794e-01],\n        [-1.0721e+00],\n        [-4.4198e-01],\n        [ 2.6513e-01],\n        [-3.5912e-02],\n        [-5.1820e-01],\n        [-1.4243e-01],\n        [ 1.8003e+00],\n        [ 8.0450e-01],\n        [-5.9432e-01],\n        [ 1.2893e-01],\n        [ 1.6822e+00],\n        [ 5.4120e-01],\n        [-1.7212e+00],\n        [ 7.6102e-01],\n        [-5.8291e-01],\n        [ 1.1229e+00],\n        [-2.8432e-01],\n        [ 1.5622e+00],\n        [ 1.3876e+00],\n        [-1.0057e-02],\n        [-4.7471e-01],\n        [ 6.3855e-01],\n        [-4.2705e-01],\n        [-5.4850e-01],\n        [ 1.4267e+00],\n        [-1.7120e+00],\n        [-5.6658e-02],\n        [-6.4140e-01],\n        [-1.9861e-02],\n        [ 2.1398e-01],\n        [-1.0477e-01],\n        [ 1.6698e+00],\n        [ 8.9923e-01],\n        [ 2.9685e-02],\n        [ 9.2356e-01],\n        [ 2.6737e-01],\n        [-3.3319e-01],\n        [ 7.3225e-02],\n        [ 1.8395e-01],\n        [-2.8114e-01],\n        [-6.0431e-02],\n        [-1.7758e+00],\n        [-2.4973e-01],\n        [-1.7383e-02],\n        [-1.1081e-01],\n        [ 7.8071e-01],\n        [-1.4876e-02],\n        [ 2.0430e+00],\n        [-4.4003e-01],\n        [ 1.4333e+00],\n        [-9.9053e-01],\n        [ 7.2145e-01],\n        [-5.7385e-01],\n        [-2.8344e+00],\n        [-1.4795e+00],\n        [-1.3254e-01],\n        [ 1.4822e+00],\n        [-1.0469e+00],\n        [ 1.1241e+00],\n        [ 6.8593e-01],\n        [-1.3181e+00],\n        [-1.7536e+00],\n        [-1.7090e+00],\n        [-1.5540e+00],\n        [ 3.7778e-01],\n        [ 5.5961e-01],\n        [-2.7818e-01],\n        [ 3.2418e-01],\n        [ 1.0048e+00],\n        [-3.1231e-01],\n        [ 3.6312e-01],\n        [ 1.6773e+00],\n        [-2.1766e+00],\n        [-7.2660e-01],\n        [-5.7623e-02],\n        [ 1.3682e+00],\n        [ 1.0007e+00],\n        [ 3.7617e-01],\n        [ 7.1679e-02],\n        [ 2.3399e-01],\n        [-8.6589e-02],\n        [-1.7230e+00],\n        [ 7.7631e-02],\n        [-3.6677e-01],\n        [-6.9172e-01],\n        [-9.1193e-01],\n        [-2.6141e-01],\n        [-1.1600e-01],\n        [ 6.3789e-01],\n        [ 8.7352e-01],\n        [ 1.2838e+00],\n        [ 1.4193e+00],\n        [ 8.3207e-01],\n        [-1.0806e+00],\n        [-1.5421e-01],\n        [ 1.5384e+00],\n        [-5.4040e-01],\n        [-1.6136e+00],\n        [-2.4523e-02],\n        [-8.2275e-01],\n        [ 1.5569e+00],\n        [ 5.4763e-01],\n        [ 2.7186e-01],\n        [-5.2230e-01],\n        [ 1.5406e-01],\n        [-5.0057e-01],\n        [-3.3213e-01],\n        [ 4.6523e-01],\n        [ 6.5548e-01],\n        [ 9.6913e-01],\n        [-2.0277e-01],\n        [-7.3825e-01],\n        [-8.2769e-01],\n        [ 6.5929e-01],\n        [-4.4977e-01],\n        [ 9.9469e-01],\n        [-3.2915e-01],\n        [ 8.6493e-01],\n        [ 3.7647e-02],\n        [-1.2960e+00],\n        [ 1.0074e+00],\n        [ 4.3654e-01],\n        [-7.7148e-01],\n        [ 1.7227e+00],\n        [ 6.6328e-01],\n        [ 1.9719e+00],\n        [ 1.3966e+00],\n        [ 5.8458e-01],\n        [ 3.7758e-01],\n        [ 1.2197e+00],\n        [ 1.1693e+00],\n        [-2.7422e-01],\n        [-2.1247e-01],\n        [-2.0221e-01],\n        [-2.3403e-01],\n        [-1.6145e+00],\n        [ 1.3657e-01],\n        [-1.4340e+00],\n        [ 1.0813e+00],\n        [-4.7812e-01],\n        [-4.6496e-01],\n        [ 8.6393e-01],\n        [ 2.4811e-01],\n        [ 1.6216e+00],\n        [ 8.4273e-01],\n        [ 6.5120e-01],\n        [ 8.0659e-01],\n        [ 1.4624e+00],\n        [ 1.6754e+00],\n        [ 5.7803e-01],\n        [ 6.4362e-01],\n        [-2.1551e+00],\n        [-4.3094e-01],\n        [ 2.5933e+00],\n        [ 2.6310e+00],\n        [-1.3172e+00],\n        [ 9.3777e-01],\n        [ 4.7450e-02],\n        [-5.2169e-01],\n        [ 1.2150e+00],\n        [ 4.1608e-01],\n        [ 7.0704e-01],\n        [ 1.5212e+00],\n        [-4.3009e-02],\n        [ 5.4872e-01],\n        [-1.1974e+00],\n        [-1.3001e-01],\n        [ 4.3313e-01],\n        [ 1.0438e+00],\n        [ 1.0461e+00],\n        [ 1.0902e+00],\n        [ 3.1023e-01],\n        [-1.0047e+00],\n        [-1.0075e+00],\n        [ 7.5979e-01],\n        [ 9.7550e-01],\n        [ 1.8377e+00],\n        [-5.2334e-01],\n        [ 7.0643e-01],\n        [ 5.1876e-01],\n        [-1.8400e-01],\n        [-5.9109e-01],\n        [ 1.3146e-04],\n        [ 1.3152e-02],\n        [ 1.3672e+00],\n        [ 4.5660e-01],\n        [ 3.6023e-01],\n        [ 5.0085e-01],\n        [-9.5252e-01],\n        [ 4.6239e-01],\n        [ 1.3617e-01],\n        [-1.3230e-01],\n        [ 2.0629e-01],\n        [ 8.5207e-01],\n        [-9.4267e-01],\n        [-1.3806e+00],\n        [-2.3271e+00],\n        [ 2.0198e-01],\n        [-5.7211e-01],\n        [-2.0710e-01],\n        [ 3.2211e-01],\n        [-2.2195e-02],\n        [-1.5192e+00],\n        [ 9.5328e-01],\n        [ 1.4990e+00],\n        [-1.0730e+00],\n        [ 6.4274e-01],\n        [-2.5013e+00],\n        [ 1.9635e+00],\n        [ 6.2380e-01],\n        [ 3.8156e-01],\n        [ 1.0156e-01],\n        [ 4.9562e-01],\n        [-2.1886e-01],\n        [-1.3918e+00],\n        [-3.6856e-01],\n        [-8.1415e-01],\n        [-6.1500e-01],\n        [ 6.6074e-01],\n        [-4.9058e-01],\n        [-3.3217e-01],\n        [-1.6124e+00],\n        [ 3.3617e-01],\n        [-1.5289e-01],\n        [-3.7231e-02],\n        [ 8.2421e-01],\n        [-6.2050e-01],\n        [ 1.4069e-01],\n        [-2.9751e-01],\n        [ 1.2428e-01],\n        [-1.1882e+00],\n        [ 3.7279e-01],\n        [-2.0510e-01],\n        [ 4.7730e-01],\n        [ 1.1629e-01],\n        [ 1.0366e+00],\n        [ 1.2562e-01],\n        [ 5.1360e-01],\n        [ 6.1569e-01],\n        [-9.8842e-01],\n        [ 3.6444e-01],\n        [ 3.4071e-01],\n        [-2.2779e+00],\n        [ 1.0694e+00],\n        [-1.7869e+00],\n        [ 3.4029e-01],\n        [-8.5211e-01],\n        [ 4.9353e-02],\n        [-2.6406e+00],\n        [ 1.3712e-01],\n        [ 6.2347e-02],\n        [ 7.8676e-01],\n        [-4.1336e-01],\n        [ 1.0420e+00],\n        [ 3.9232e-01],\n        [-5.5394e-01],\n        [-3.4978e-01],\n        [-1.2767e-01],\n        [ 4.0138e-01],\n        [-5.2758e-02],\n        [ 1.1997e+00],\n        [ 1.2262e+00],\n        [-1.0637e-01],\n        [ 2.2962e+00],\n        [ 1.3288e+00],\n        [-1.5219e+00],\n        [-3.3123e-01],\n        [ 1.0073e+00],\n        [-1.7421e-01],\n        [-1.0123e+00],\n        [-9.2805e-01],\n        [-6.1376e-01],\n        [ 2.5076e-01],\n        [-1.5857e-01],\n        [-5.8195e-01],\n        [ 1.2979e+00],\n        [-2.9063e-01],\n        [ 1.1093e+00],\n        [ 1.0370e+00],\n        [-6.6009e-01],\n        [-2.6477e-01],\n        [-1.2839e-01],\n        [-1.8517e+00],\n        [ 8.8400e-01],\n        [ 1.0218e+00],\n        [ 3.6003e-01],\n        [ 5.7192e-01],\n        [ 9.5244e-01],\n        [-9.8406e-01],\n        [-2.5792e-01],\n        [-1.1808e-01],\n        [ 6.8724e-01],\n        [ 2.0384e+00],\n        [ 1.4246e+00],\n        [-1.0843e-01],\n        [-1.8358e+00],\n        [ 4.2569e-01],\n        [ 2.0612e+00],\n        [ 1.1274e+00],\n        [ 1.9088e-01],\n        [-5.6222e-01],\n        [ 9.3448e-01],\n        [-4.7727e-01],\n        [ 6.7391e-01],\n        [ 2.3704e-01],\n        [-2.2467e-01],\n        [ 1.5114e+00],\n        [-1.2076e+00],\n        [-9.6978e-01],\n        [-3.2479e-02],\n        [-2.5935e-01],\n        [ 8.5460e-01],\n        [ 1.1445e+00],\n        [ 1.6658e+00],\n        [-2.4417e-01],\n        [-1.3779e+00],\n        [ 5.7823e-01],\n        [-4.0648e-01],\n        [-1.2208e+00],\n        [-1.5320e+00],\n        [-1.6412e-01],\n        [ 3.0330e+00],\n        [-9.5999e-01],\n        [ 2.6063e-01],\n        [ 7.3303e-01],\n        [ 1.9286e+00],\n        [-1.2422e+00],\n        [-3.2163e-01],\n        [-7.6912e-01],\n        [-2.0733e-01],\n        [-4.5573e-01],\n        [-1.0785e-01],\n        [-9.7029e-02],\n        [ 2.8965e-01],\n        [-4.1867e-01],\n        [ 6.4192e-01],\n        [ 4.4218e-01],\n        [-9.8824e-02],\n        [ 1.3562e+00],\n        [ 6.2604e-01],\n        [ 1.0190e+00],\n        [ 8.0519e-01],\n        [ 2.7641e-01],\n        [-9.3530e-01],\n        [-2.2805e-01],\n        [-1.7491e-01],\n        [-6.4773e-01],\n        [ 4.0727e-01],\n        [ 4.6801e-02],\n        [ 3.1234e+00],\n        [-2.1610e+00],\n        [ 6.2208e-01],\n        [-4.3762e-01],\n        [-6.8803e-01],\n        [ 9.7624e-01],\n        [-1.0695e+00],\n        [-1.2839e+00],\n        [ 1.5460e+00],\n        [-2.2090e-01],\n        [ 1.0839e+00],\n        [ 2.5578e-02],\n        [-2.5165e+00],\n        [ 4.5737e-01],\n        [-5.4196e-02],\n        [ 5.9874e-01],\n        [-1.0749e+00],\n        [-1.2665e+00],\n        [-7.1888e-01],\n        [-1.1630e+00],\n        [-1.0662e+00],\n        [ 9.3803e-01],\n        [-1.8108e+00],\n        [-1.3234e-01],\n        [-2.2278e-01],\n        [-3.2514e-01],\n        [-4.1052e-01],\n        [-4.6355e-01],\n        [ 5.7329e-01],\n        [ 1.8947e+00],\n        [ 1.3013e+00],\n        [ 1.2562e-01],\n        [-5.6058e-01],\n        [-3.6063e-01],\n        [ 5.2577e-01],\n        [ 2.8184e-01],\n        [-6.7008e-01],\n        [-1.2465e+00],\n        [-4.4372e-01],\n        [ 1.5134e+00],\n        [ 1.2105e+00],\n        [ 2.8356e+00],\n        [-2.9778e-01],\n        [ 1.3065e+00],\n        [-1.0461e+00],\n        [-7.7463e-01],\n        [-3.4023e-01],\n        [ 9.6792e-01],\n        [-1.5279e+00],\n        [ 1.9739e-01],\n        [ 3.7845e-01],\n        [-4.2263e-01],\n        [-2.7638e-01],\n        [ 4.9670e-01],\n        [-9.6591e-01],\n        [ 4.0733e-01],\n        [-6.5201e-01],\n        [-1.2983e+00],\n        [ 1.1294e+00],\n        [-2.0524e+00],\n        [-4.6138e-01],\n        [ 2.7024e-01],\n        [ 7.1215e-01]], requires_grad=True)"
     },
     "execution_count": 120,
     "metadata": {},
     "output_type": "execute_result"
    }
   ],
   "source": [
    "def init_params(size, std=1.0): return (torch.randn(size) * std).requires_grad_()\n",
    "weights = init_params((28 * 28, 1))\n",
    "weights"
   ],
   "metadata": {
    "collapsed": false,
    "ExecuteTime": {
     "end_time": "2024-01-11T09:43:02.251530Z",
     "start_time": "2024-01-11T09:43:02.239785Z"
    }
   },
   "id": "a22e698851087180",
   "execution_count": 120
  },
  {
   "cell_type": "code",
   "outputs": [
    {
     "data": {
      "text/plain": "tensor([0.6474], requires_grad=True)"
     },
     "execution_count": 121,
     "metadata": {},
     "output_type": "execute_result"
    }
   ],
   "source": [
    "bias = init_params(1)\n",
    "bias"
   ],
   "metadata": {
    "collapsed": false,
    "ExecuteTime": {
     "end_time": "2024-01-11T09:43:02.262209Z",
     "start_time": "2024-01-11T09:43:02.250097Z"
    }
   },
   "id": "64051db1409a29ce",
   "execution_count": 121
  },
  {
   "cell_type": "markdown",
   "source": [
    "신경망에서는 `y = w * x + b` 방정식의 w를 가중치(weights), b를 편향이라고 함. 그리고 가중치와 편향을 모두 통틀어서 `parameter`라고 지칭함."
   ],
   "metadata": {
    "collapsed": false
   },
   "id": "62f50bd9903d0d59"
  },
  {
   "cell_type": "code",
   "outputs": [
    {
     "data": {
      "text/plain": "tensor([13.2236], grad_fn=<AddBackward0>)"
     },
     "execution_count": 122,
     "metadata": {},
     "output_type": "execute_result"
    }
   ],
   "source": [
    "(train_x[0] * weights.T).sum() + bias"
   ],
   "metadata": {
    "collapsed": false,
    "ExecuteTime": {
     "end_time": "2024-01-11T09:43:02.658741Z",
     "start_time": "2024-01-11T09:43:02.651779Z"
    }
   },
   "id": "94f7c6162597ac06",
   "execution_count": 122
  },
  {
   "cell_type": "code",
   "outputs": [],
   "source": [
    "def linear1(xb): return xb @ weights + bias"
   ],
   "metadata": {
    "collapsed": false,
    "ExecuteTime": {
     "end_time": "2024-01-11T09:43:02.899131Z",
     "start_time": "2024-01-11T09:43:02.895296Z"
    }
   },
   "id": "b3c40c2223e36a7b",
   "execution_count": 123
  },
  {
   "cell_type": "code",
   "outputs": [
    {
     "data": {
      "text/plain": "tensor([[13.2236],\n        [ 8.4694],\n        [20.1844],\n        ...,\n        [11.5587],\n        [18.1363],\n        [ 5.1674]], grad_fn=<AddBackward0>)"
     },
     "execution_count": 124,
     "metadata": {},
     "output_type": "execute_result"
    }
   ],
   "source": [
    "preds = linear1(train_x)\n",
    "preds"
   ],
   "metadata": {
    "collapsed": false,
    "ExecuteTime": {
     "end_time": "2024-01-11T09:43:03.081252Z",
     "start_time": "2024-01-11T09:43:03.074833Z"
    }
   },
   "id": "cd082f19630e65e",
   "execution_count": 124
  },
  {
   "cell_type": "markdown",
   "source": [
    "정확도를 검사하기 위해서 예측이 3인지 7인지 판단하려면 출력값이 0.5보다 큰지를 검사하면 된다."
   ],
   "metadata": {
    "collapsed": false
   },
   "id": "424d4879840834c"
  },
  {
   "cell_type": "code",
   "outputs": [
    {
     "data": {
      "text/plain": "tensor([[ True],\n        [ True],\n        [ True],\n        ...,\n        [False],\n        [False],\n        [False]])"
     },
     "execution_count": 125,
     "metadata": {},
     "output_type": "execute_result"
    }
   ],
   "source": [
    "corrects = (preds > 0.5).float() == train_y\n",
    "corrects"
   ],
   "metadata": {
    "collapsed": false,
    "ExecuteTime": {
     "end_time": "2024-01-11T09:43:03.696398Z",
     "start_time": "2024-01-11T09:43:03.692001Z"
    }
   },
   "id": "82dd42c68b955009",
   "execution_count": 125
  },
  {
   "cell_type": "markdown",
   "source": [
    "그리고 가중치 하나를 약간 바꿨을 때 정확도에 일어나는 변화를 실험해보자."
   ],
   "metadata": {
    "collapsed": false
   },
   "id": "dac30934bb99d836"
  },
  {
   "cell_type": "code",
   "outputs": [
    {
     "ename": "RuntimeError",
     "evalue": "a view of a leaf Variable that requires grad is being used in an in-place operation.",
     "output_type": "error",
     "traceback": [
      "\u001B[0;31m---------------------------------------------------------------------------\u001B[0m",
      "\u001B[0;31mRuntimeError\u001B[0m                              Traceback (most recent call last)",
      "Cell \u001B[0;32mIn[126], line 1\u001B[0m\n\u001B[0;32m----> 1\u001B[0m \u001B[43mweights\u001B[49m\u001B[43m[\u001B[49m\u001B[38;5;241;43m0\u001B[39;49m\u001B[43m]\u001B[49m\u001B[43m \u001B[49m\u001B[38;5;241;43m*\u001B[39;49m\u001B[38;5;241;43m=\u001B[39;49m\u001B[43m \u001B[49m\u001B[38;5;241;43m1.0001\u001B[39;49m\n",
      "\u001B[0;31mRuntimeError\u001B[0m: a view of a leaf Variable that requires grad is being used in an in-place operation."
     ]
    }
   ],
   "source": [
    "weights[0] *= 1.0001"
   ],
   "metadata": {
    "collapsed": false,
    "ExecuteTime": {
     "end_time": "2024-01-11T09:43:04.633369Z",
     "start_time": "2024-01-11T09:43:04.615513Z"
    }
   },
   "id": "290ab431e061705c",
   "execution_count": 126
  },
  {
   "cell_type": "code",
   "outputs": [
    {
     "data": {
      "text/plain": "0.48935139179229736"
     },
     "execution_count": 127,
     "metadata": {},
     "output_type": "execute_result"
    }
   ],
   "source": [
    "preds = linear1(train_x)\n",
    "((preds > 0.5).float() == train_y).float().mean().item()"
   ],
   "metadata": {
    "collapsed": false,
    "ExecuteTime": {
     "end_time": "2024-01-11T09:43:15.230061Z",
     "start_time": "2024-01-11T09:43:15.220588Z"
    }
   },
   "id": "12fd24947e307272",
   "execution_count": 127
  },
  {
   "cell_type": "code",
   "outputs": [],
   "source": [],
   "metadata": {
    "collapsed": false
   },
   "id": "5978299b6855e67f"
  }
 ],
 "metadata": {
  "kernelspec": {
   "display_name": "Python 3",
   "language": "python",
   "name": "python3"
  },
  "language_info": {
   "codemirror_mode": {
    "name": "ipython",
    "version": 2
   },
   "file_extension": ".py",
   "mimetype": "text/x-python",
   "name": "python",
   "nbconvert_exporter": "python",
   "pygments_lexer": "ipython2",
   "version": "2.7.6"
  }
 },
 "nbformat": 4,
 "nbformat_minor": 5
}
