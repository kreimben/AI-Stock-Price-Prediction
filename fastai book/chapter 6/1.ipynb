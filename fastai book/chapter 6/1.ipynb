{
 "cells": [
  {
   "cell_type": "markdown",
   "source": [
    "# 그 밖의 영상 처리 문제\n",
    "\n",
    "다중 레이블 분류는 이미지 내에 포함된 하나 이상의 물체 범주를 식별하는 문제이다. 물체가 여러 종류 존재할 수도 있지만, 찾고 싶은 종류의 물체가 전혀 없는 상황도 모두 포함된다."
   ],
   "metadata": {
    "collapsed": false
   },
   "id": "a9b323d7c5ee6639"
  },
  {
   "cell_type": "code",
   "outputs": [],
   "source": [
    "\n",
    "from fastai.vision.all import *"
   ],
   "metadata": {
    "collapsed": false,
    "ExecuteTime": {
     "end_time": "2024-02-01T08:24:04.814384Z",
     "start_time": "2024-02-01T08:23:58.284415Z"
    }
   },
   "id": "33b0548aaf447e4c",
   "execution_count": 1
  },
  {
   "cell_type": "code",
   "outputs": [],
   "source": [
    "path = untar_data(URLs.PASCAL_2007)"
   ],
   "metadata": {
    "collapsed": false,
    "ExecuteTime": {
     "end_time": "2024-02-01T08:24:04.820338Z",
     "start_time": "2024-02-01T08:24:04.812769Z"
    }
   },
   "id": "90f474cfd9e43382",
   "execution_count": 2
  },
  {
   "cell_type": "code",
   "outputs": [
    {
     "data": {
      "text/plain": "        fname        labels  is_valid\n0  000005.jpg         chair      True\n1  000007.jpg           car      True\n2  000009.jpg  horse person      True\n3  000012.jpg           car     False\n4  000016.jpg       bicycle      True",
      "text/html": "<div>\n<style scoped>\n    .dataframe tbody tr th:only-of-type {\n        vertical-align: middle;\n    }\n\n    .dataframe tbody tr th {\n        vertical-align: top;\n    }\n\n    .dataframe thead th {\n        text-align: right;\n    }\n</style>\n<table border=\"1\" class=\"dataframe\">\n  <thead>\n    <tr style=\"text-align: right;\">\n      <th></th>\n      <th>fname</th>\n      <th>labels</th>\n      <th>is_valid</th>\n    </tr>\n  </thead>\n  <tbody>\n    <tr>\n      <th>0</th>\n      <td>000005.jpg</td>\n      <td>chair</td>\n      <td>True</td>\n    </tr>\n    <tr>\n      <th>1</th>\n      <td>000007.jpg</td>\n      <td>car</td>\n      <td>True</td>\n    </tr>\n    <tr>\n      <th>2</th>\n      <td>000009.jpg</td>\n      <td>horse person</td>\n      <td>True</td>\n    </tr>\n    <tr>\n      <th>3</th>\n      <td>000012.jpg</td>\n      <td>car</td>\n      <td>False</td>\n    </tr>\n    <tr>\n      <th>4</th>\n      <td>000016.jpg</td>\n      <td>bicycle</td>\n      <td>True</td>\n    </tr>\n  </tbody>\n</table>\n</div>"
     },
     "execution_count": 3,
     "metadata": {},
     "output_type": "execute_result"
    }
   ],
   "source": [
    "df = pd.read_csv(path / 'train.csv')\n",
    "df.head()"
   ],
   "metadata": {
    "collapsed": false,
    "ExecuteTime": {
     "end_time": "2024-02-01T08:24:04.911451Z",
     "start_time": "2024-02-01T08:24:04.827733Z"
    }
   },
   "id": "304904936189bdc6",
   "execution_count": 3
  },
  {
   "cell_type": "markdown",
   "source": [
    "## class 설명\n",
    "* `Dataset` : 단일 데이터를 표현하는 독립변수 및 종속변수 튜플을 반환한다.\n",
    "* `DataLoader` : 미니배치 스트림을 제공하는 반복자로, 각 미니배치는 여러 독립변수와 여러 종속변수에 대한 튜플로 구성된다.\n",
    "* `Datasets` : 학습용 및 검증용 `Dataset`을 포함하는 반복자이다.\n",
    "* `DataLoaders` : 학습용 및 검증용 `DataLoader`를 포함하는 객체이다. "
   ],
   "metadata": {
    "collapsed": false
   },
   "id": "7b99d4f539e51b16"
  },
  {
   "cell_type": "code",
   "outputs": [],
   "source": [
    "def get_x(r): return r['fname']\n",
    "\n",
    "\n",
    "def get_y(r): return r['labels']"
   ],
   "metadata": {
    "collapsed": false,
    "ExecuteTime": {
     "end_time": "2024-02-01T08:24:05.077062Z",
     "start_time": "2024-02-01T08:24:04.976138Z"
    }
   },
   "id": "7cd6f127f5802563",
   "execution_count": 7
  },
  {
   "cell_type": "code",
   "outputs": [],
   "source": [
    "def splitter(df):\n",
    "    train = df.index[~df['is_valid']].tolist()\n",
    "    valid = df.index[df['is_valid']].tolist()\n",
    "    return train, valid"
   ],
   "metadata": {
    "collapsed": false
   },
   "id": "85f429963ddf37f"
  },
  {
   "cell_type": "code",
   "outputs": [
    {
     "ename": "NameError",
     "evalue": "name 'DataBlock' is not defined",
     "output_type": "error",
     "traceback": [
      "\u001B[0;31m---------------------------------------------------------------------------\u001B[0m",
      "\u001B[0;31mNameError\u001B[0m                                 Traceback (most recent call last)",
      "Cell \u001B[0;32mIn[2], line 1\u001B[0m\n\u001B[0;32m----> 1\u001B[0m dblock \u001B[38;5;241m=\u001B[39m \u001B[43mDataBlock\u001B[49m(\n\u001B[1;32m      2\u001B[0m     blocks\u001B[38;5;241m=\u001B[39m(ImageBlock, MultiCategoryBlock),\n\u001B[1;32m      3\u001B[0m     splitter\u001B[38;5;241m=\u001B[39msplitter,\n\u001B[1;32m      4\u001B[0m     get_x\u001B[38;5;241m=\u001B[39mget_x,\n\u001B[1;32m      5\u001B[0m     get_y\u001B[38;5;241m=\u001B[39mget_y,\n\u001B[1;32m      6\u001B[0m     item_tfms\u001B[38;5;241m=\u001B[39mRandomResizedCrop(\u001B[38;5;241m128\u001B[39m, min_scale\u001B[38;5;241m=\u001B[39m\u001B[38;5;241m0.35\u001B[39m)\n\u001B[1;32m      7\u001B[0m )\n\u001B[1;32m      8\u001B[0m dls \u001B[38;5;241m=\u001B[39m dblock\u001B[38;5;241m.\u001B[39mdataloaders(df)\n",
      "\u001B[0;31mNameError\u001B[0m: name 'DataBlock' is not defined"
     ]
    }
   ],
   "source": [
    "dblock = DataBlock(\n",
    "    blocks=(ImageBlock, MultiCategoryBlock),\n",
    "    splitter=splitter,\n",
    "    get_x=get_x,\n",
    "    get_y=get_y,\n",
    "    item_tfms=RandomResizedCrop(128, min_scale=0.35)\n",
    ")\n",
    "dls = dblock.dataloaders(df)"
   ],
   "metadata": {
    "collapsed": false,
    "ExecuteTime": {
     "end_time": "2024-02-01T09:33:20.709501Z",
     "start_time": "2024-02-01T09:27:54.204170Z"
    }
   },
   "id": "31fb036b3e88d71f",
   "execution_count": 2
  },
  {
   "cell_type": "code",
   "outputs": [],
   "source": [
    "dsets = dblock.datasets(df)"
   ],
   "metadata": {
    "collapsed": false,
    "ExecuteTime": {
     "end_time": "2024-02-01T08:24:05.036478Z",
     "start_time": "2024-02-01T08:24:04.925002Z"
    }
   },
   "id": "d8e9f0333ea835cd",
   "execution_count": 5
  },
  {
   "cell_type": "code",
   "outputs": [
    {
     "data": {
      "text/plain": "('001933.jpg', 'bird')"
     },
     "execution_count": 6,
     "metadata": {},
     "output_type": "execute_result"
    }
   ],
   "source": [
    "dsets.train[0]"
   ],
   "metadata": {
    "collapsed": false,
    "ExecuteTime": {
     "end_time": "2024-02-01T08:24:05.076300Z",
     "start_time": "2024-02-01T08:24:04.966862Z"
    }
   },
   "id": "1528952e45b7c5f4",
   "execution_count": 6
  },
  {
   "cell_type": "code",
   "outputs": [
    {
     "ename": "TypeError",
     "evalue": "where(): argument 'condition' (position 1) must be Tensor, not bool",
     "output_type": "error",
     "traceback": [
      "\u001B[0;31m---------------------------------------------------------------------------\u001B[0m",
      "\u001B[0;31mTypeError\u001B[0m                                 Traceback (most recent call last)",
      "Cell \u001B[0;32mIn[10], line 1\u001B[0m\n\u001B[0;32m----> 1\u001B[0m idxs \u001B[38;5;241m=\u001B[39m \u001B[43mtorch\u001B[49m\u001B[38;5;241;43m.\u001B[39;49m\u001B[43mwhere\u001B[49m\u001B[43m(\u001B[49m\u001B[43mdsets\u001B[49m\u001B[38;5;241;43m.\u001B[39;49m\u001B[43mtrain\u001B[49m\u001B[43m[\u001B[49m\u001B[38;5;241;43m0\u001B[39;49m\u001B[43m]\u001B[49m\u001B[43m[\u001B[49m\u001B[38;5;241;43m1\u001B[39;49m\u001B[43m]\u001B[49m\u001B[43m \u001B[49m\u001B[38;5;241;43m==\u001B[39;49m\u001B[43m \u001B[49m\u001B[38;5;241;43m1.\u001B[39;49m\u001B[43m)\u001B[49m[\u001B[38;5;241m0\u001B[39m]\n\u001B[1;32m      2\u001B[0m dsets\u001B[38;5;241m.\u001B[39mtrain\u001B[38;5;241m.\u001B[39mvocab[idxs]\n",
      "\u001B[0;31mTypeError\u001B[0m: where(): argument 'condition' (position 1) must be Tensor, not bool"
     ]
    }
   ],
   "source": [
    "idxs = torch.where(dsets.train[0][1] == 1.)[0]\n",
    "dsets.train.vocab[idxs]"
   ],
   "metadata": {
    "collapsed": false,
    "ExecuteTime": {
     "end_time": "2024-02-01T08:24:09.709056Z",
     "start_time": "2024-02-01T08:24:09.674614Z"
    }
   },
   "id": "b22d084d132a2f4d",
   "execution_count": 10
  }
 ],
 "metadata": {
  "kernelspec": {
   "display_name": "Python 3",
   "language": "python",
   "name": "python3"
  },
  "language_info": {
   "codemirror_mode": {
    "name": "ipython",
    "version": 2
   },
   "file_extension": ".py",
   "mimetype": "text/x-python",
   "name": "python",
   "nbconvert_exporter": "python",
   "pygments_lexer": "ipython2",
   "version": "2.7.6"
  }
 },
 "nbformat": 4,
 "nbformat_minor": 5
}
