{
 "cells": [
  {
   "cell_type": "markdown",
   "source": [
    "# 그 밖의 영상 처리 문제\n",
    "\n",
    "다중 레이블 분류는 이미지 내에 포함된 하나 이상의 물체 범주를 식별하는 문제이다. 물체가 여러 종류 존재할 수도 있지만, 찾고 싶은 종류의 물체가 전혀 없는 상황도 모두 포함된다."
   ],
   "metadata": {
    "collapsed": false
   },
   "id": "a9b323d7c5ee6639"
  },
  {
   "cell_type": "code",
   "outputs": [],
   "source": [
    "from fastai.vision.all import *"
   ],
   "metadata": {
    "collapsed": false,
    "ExecuteTime": {
     "end_time": "2024-02-02T06:18:54.504418Z",
     "start_time": "2024-02-02T06:18:46.825180Z"
    }
   },
   "id": "33b0548aaf447e4c",
   "execution_count": 1
  },
  {
   "cell_type": "code",
   "outputs": [],
   "source": [
    "path = untar_data(URLs.PASCAL_2007)"
   ],
   "metadata": {
    "collapsed": false,
    "ExecuteTime": {
     "end_time": "2024-02-02T06:18:54.515225Z",
     "start_time": "2024-02-02T06:18:54.489884Z"
    }
   },
   "id": "90f474cfd9e43382",
   "execution_count": 2
  },
  {
   "cell_type": "code",
   "outputs": [
    {
     "data": {
      "text/plain": "        fname        labels  is_valid\n0  000005.jpg         chair      True\n1  000007.jpg           car      True\n2  000009.jpg  horse person      True\n3  000012.jpg           car     False\n4  000016.jpg       bicycle      True",
      "text/html": "<div>\n<style scoped>\n    .dataframe tbody tr th:only-of-type {\n        vertical-align: middle;\n    }\n\n    .dataframe tbody tr th {\n        vertical-align: top;\n    }\n\n    .dataframe thead th {\n        text-align: right;\n    }\n</style>\n<table border=\"1\" class=\"dataframe\">\n  <thead>\n    <tr style=\"text-align: right;\">\n      <th></th>\n      <th>fname</th>\n      <th>labels</th>\n      <th>is_valid</th>\n    </tr>\n  </thead>\n  <tbody>\n    <tr>\n      <th>0</th>\n      <td>000005.jpg</td>\n      <td>chair</td>\n      <td>True</td>\n    </tr>\n    <tr>\n      <th>1</th>\n      <td>000007.jpg</td>\n      <td>car</td>\n      <td>True</td>\n    </tr>\n    <tr>\n      <th>2</th>\n      <td>000009.jpg</td>\n      <td>horse person</td>\n      <td>True</td>\n    </tr>\n    <tr>\n      <th>3</th>\n      <td>000012.jpg</td>\n      <td>car</td>\n      <td>False</td>\n    </tr>\n    <tr>\n      <th>4</th>\n      <td>000016.jpg</td>\n      <td>bicycle</td>\n      <td>True</td>\n    </tr>\n  </tbody>\n</table>\n</div>"
     },
     "execution_count": 3,
     "metadata": {},
     "output_type": "execute_result"
    }
   ],
   "source": [
    "df = pd.read_csv(path / 'train.csv')\n",
    "df.head()"
   ],
   "metadata": {
    "collapsed": false,
    "ExecuteTime": {
     "end_time": "2024-02-02T06:19:26.344099Z",
     "start_time": "2024-02-02T06:19:26.210063Z"
    }
   },
   "id": "304904936189bdc6",
   "execution_count": 3
  },
  {
   "cell_type": "markdown",
   "source": [
    "## class 설명\n",
    "* `Dataset` : 단일 데이터를 표현하는 독립변수 및 종속변수 튜플을 반환한다.\n",
    "* `DataLoader` : 미니배치 스트림을 제공하는 반복자로, 각 미니배치는 여러 독립변수와 여러 종속변수에 대한 튜플로 구성된다.\n",
    "* `Datasets` : 학습용 및 검증용 `Dataset`을 포함하는 반복자이다.\n",
    "* `DataLoaders` : 학습용 및 검증용 `DataLoader`를 포함하는 객체이다. "
   ],
   "metadata": {
    "collapsed": false
   },
   "id": "7b99d4f539e51b16"
  },
  {
   "cell_type": "code",
   "outputs": [],
   "source": [
    "def get_x(r): return r['fname']\n",
    "\n",
    "\n",
    "def get_y(r): return r['labels']"
   ],
   "metadata": {
    "collapsed": false,
    "ExecuteTime": {
     "end_time": "2024-02-02T06:19:28.480647Z",
     "start_time": "2024-02-02T06:19:28.422637Z"
    }
   },
   "id": "7cd6f127f5802563",
   "execution_count": 4
  },
  {
   "cell_type": "code",
   "outputs": [],
   "source": [
    "def splitter(df):\n",
    "    train = df.index[~df['is_valid']].tolist()\n",
    "    valid = df.index[df['is_valid']].tolist()\n",
    "    return train, valid"
   ],
   "metadata": {
    "collapsed": false,
    "ExecuteTime": {
     "end_time": "2024-02-02T06:19:29.196516Z",
     "start_time": "2024-02-02T06:19:29.179048Z"
    }
   },
   "id": "85f429963ddf37f",
   "execution_count": 5
  },
  {
   "cell_type": "code",
   "outputs": [],
   "source": [
    "dblock = DataBlock(\n",
    "    # blocks=(ImageBlock, MultiCategoryBlock),\n",
    "    splitter=splitter,\n",
    "    get_x=get_x,\n",
    "    get_y=get_y,\n",
    "    item_tfms=RandomResizedCrop(128, min_scale=0.35)\n",
    ")"
   ],
   "metadata": {
    "collapsed": false
   },
   "id": "e7d3cd8d67316ce5",
   "execution_count": null
  },
  {
   "cell_type": "code",
   "outputs": [
    {
     "name": "stdout",
     "output_type": "stream",
     "text": [
      "Could not do one pass in your dataloader, there is something wrong in it. Please see the stack trace below:\n"
     ]
    },
    {
     "ename": "AttributeError",
     "evalue": "'str' object has no attribute 'size'",
     "output_type": "error",
     "traceback": [
      "\u001B[0;31m---------------------------------------------------------------------------\u001B[0m",
      "\u001B[0;31mAttributeError\u001B[0m                            Traceback (most recent call last)",
      "Cell \u001B[0;32mIn[7], line 8\u001B[0m\n\u001B[1;32m      1\u001B[0m dblock \u001B[38;5;241m=\u001B[39m DataBlock(\n\u001B[1;32m      2\u001B[0m     \u001B[38;5;66;03m# blocks=(ImageBlock, MultiCategoryBlock),\u001B[39;00m\n\u001B[1;32m      3\u001B[0m     splitter\u001B[38;5;241m=\u001B[39msplitter,\n\u001B[0;32m   (...)\u001B[0m\n\u001B[1;32m      6\u001B[0m     item_tfms\u001B[38;5;241m=\u001B[39mRandomResizedCrop(\u001B[38;5;241m128\u001B[39m, min_scale\u001B[38;5;241m=\u001B[39m\u001B[38;5;241m0.35\u001B[39m)\n\u001B[1;32m      7\u001B[0m )\n\u001B[0;32m----> 8\u001B[0m dls \u001B[38;5;241m=\u001B[39m \u001B[43mdblock\u001B[49m\u001B[38;5;241;43m.\u001B[39;49m\u001B[43mdataloaders\u001B[49m\u001B[43m(\u001B[49m\u001B[43mdf\u001B[49m\u001B[43m)\u001B[49m\n",
      "File \u001B[0;32m~/Repository/ML_Notes/venv/lib/python3.11/site-packages/fastai/data/block.py:157\u001B[0m, in \u001B[0;36mDataBlock.dataloaders\u001B[0;34m(self, source, path, verbose, **kwargs)\u001B[0m\n\u001B[1;32m    155\u001B[0m dsets \u001B[38;5;241m=\u001B[39m \u001B[38;5;28mself\u001B[39m\u001B[38;5;241m.\u001B[39mdatasets(source, verbose\u001B[38;5;241m=\u001B[39mverbose)\n\u001B[1;32m    156\u001B[0m kwargs \u001B[38;5;241m=\u001B[39m {\u001B[38;5;241m*\u001B[39m\u001B[38;5;241m*\u001B[39m\u001B[38;5;28mself\u001B[39m\u001B[38;5;241m.\u001B[39mdls_kwargs, \u001B[38;5;241m*\u001B[39m\u001B[38;5;241m*\u001B[39mkwargs, \u001B[38;5;124m'\u001B[39m\u001B[38;5;124mverbose\u001B[39m\u001B[38;5;124m'\u001B[39m: verbose}\n\u001B[0;32m--> 157\u001B[0m \u001B[38;5;28;01mreturn\u001B[39;00m \u001B[43mdsets\u001B[49m\u001B[38;5;241;43m.\u001B[39;49m\u001B[43mdataloaders\u001B[49m\u001B[43m(\u001B[49m\u001B[43mpath\u001B[49m\u001B[38;5;241;43m=\u001B[39;49m\u001B[43mpath\u001B[49m\u001B[43m,\u001B[49m\u001B[43m \u001B[49m\u001B[43mafter_item\u001B[49m\u001B[38;5;241;43m=\u001B[39;49m\u001B[38;5;28;43mself\u001B[39;49m\u001B[38;5;241;43m.\u001B[39;49m\u001B[43mitem_tfms\u001B[49m\u001B[43m,\u001B[49m\u001B[43m \u001B[49m\u001B[43mafter_batch\u001B[49m\u001B[38;5;241;43m=\u001B[39;49m\u001B[38;5;28;43mself\u001B[39;49m\u001B[38;5;241;43m.\u001B[39;49m\u001B[43mbatch_tfms\u001B[49m\u001B[43m,\u001B[49m\u001B[43m \u001B[49m\u001B[38;5;241;43m*\u001B[39;49m\u001B[38;5;241;43m*\u001B[39;49m\u001B[43mkwargs\u001B[49m\u001B[43m)\u001B[49m\n",
      "File \u001B[0;32m~/Repository/ML_Notes/venv/lib/python3.11/site-packages/fastai/data/core.py:337\u001B[0m, in \u001B[0;36mFilteredBase.dataloaders\u001B[0;34m(self, bs, shuffle_train, shuffle, val_shuffle, n, path, dl_type, dl_kwargs, device, drop_last, val_bs, **kwargs)\u001B[0m\n\u001B[1;32m    335\u001B[0m dl \u001B[38;5;241m=\u001B[39m dl_type(\u001B[38;5;28mself\u001B[39m\u001B[38;5;241m.\u001B[39msubset(\u001B[38;5;241m0\u001B[39m), \u001B[38;5;241m*\u001B[39m\u001B[38;5;241m*\u001B[39mmerge(kwargs,def_kwargs, dl_kwargs[\u001B[38;5;241m0\u001B[39m]))\n\u001B[1;32m    336\u001B[0m def_kwargs \u001B[38;5;241m=\u001B[39m {\u001B[38;5;124m'\u001B[39m\u001B[38;5;124mbs\u001B[39m\u001B[38;5;124m'\u001B[39m:bs \u001B[38;5;28;01mif\u001B[39;00m val_bs \u001B[38;5;129;01mis\u001B[39;00m \u001B[38;5;28;01mNone\u001B[39;00m \u001B[38;5;28;01melse\u001B[39;00m val_bs,\u001B[38;5;124m'\u001B[39m\u001B[38;5;124mshuffle\u001B[39m\u001B[38;5;124m'\u001B[39m:val_shuffle,\u001B[38;5;124m'\u001B[39m\u001B[38;5;124mn\u001B[39m\u001B[38;5;124m'\u001B[39m:\u001B[38;5;28;01mNone\u001B[39;00m,\u001B[38;5;124m'\u001B[39m\u001B[38;5;124mdrop_last\u001B[39m\u001B[38;5;124m'\u001B[39m:\u001B[38;5;28;01mFalse\u001B[39;00m}\n\u001B[0;32m--> 337\u001B[0m dls \u001B[38;5;241m=\u001B[39m [dl] \u001B[38;5;241m+\u001B[39m \u001B[43m[\u001B[49m\u001B[43mdl\u001B[49m\u001B[38;5;241;43m.\u001B[39;49m\u001B[43mnew\u001B[49m\u001B[43m(\u001B[49m\u001B[38;5;28;43mself\u001B[39;49m\u001B[38;5;241;43m.\u001B[39;49m\u001B[43msubset\u001B[49m\u001B[43m(\u001B[49m\u001B[43mi\u001B[49m\u001B[43m)\u001B[49m\u001B[43m,\u001B[49m\u001B[43m \u001B[49m\u001B[38;5;241;43m*\u001B[39;49m\u001B[38;5;241;43m*\u001B[39;49m\u001B[43mmerge\u001B[49m\u001B[43m(\u001B[49m\u001B[43mkwargs\u001B[49m\u001B[43m,\u001B[49m\u001B[43mdef_kwargs\u001B[49m\u001B[43m,\u001B[49m\u001B[43mval_kwargs\u001B[49m\u001B[43m,\u001B[49m\u001B[43mdl_kwargs\u001B[49m\u001B[43m[\u001B[49m\u001B[43mi\u001B[49m\u001B[43m]\u001B[49m\u001B[43m)\u001B[49m\u001B[43m)\u001B[49m\n\u001B[1;32m    338\u001B[0m \u001B[43m              \u001B[49m\u001B[38;5;28;43;01mfor\u001B[39;49;00m\u001B[43m \u001B[49m\u001B[43mi\u001B[49m\u001B[43m \u001B[49m\u001B[38;5;129;43;01min\u001B[39;49;00m\u001B[43m \u001B[49m\u001B[38;5;28;43mrange\u001B[39;49m\u001B[43m(\u001B[49m\u001B[38;5;241;43m1\u001B[39;49m\u001B[43m,\u001B[49m\u001B[43m \u001B[49m\u001B[38;5;28;43mself\u001B[39;49m\u001B[38;5;241;43m.\u001B[39;49m\u001B[43mn_subsets\u001B[49m\u001B[43m)\u001B[49m\u001B[43m]\u001B[49m\n\u001B[1;32m    339\u001B[0m \u001B[38;5;28;01mreturn\u001B[39;00m \u001B[38;5;28mself\u001B[39m\u001B[38;5;241m.\u001B[39m_dbunch_type(\u001B[38;5;241m*\u001B[39mdls, path\u001B[38;5;241m=\u001B[39mpath, device\u001B[38;5;241m=\u001B[39mdevice)\n",
      "File \u001B[0;32m~/Repository/ML_Notes/venv/lib/python3.11/site-packages/fastai/data/core.py:337\u001B[0m, in \u001B[0;36m<listcomp>\u001B[0;34m(.0)\u001B[0m\n\u001B[1;32m    335\u001B[0m dl \u001B[38;5;241m=\u001B[39m dl_type(\u001B[38;5;28mself\u001B[39m\u001B[38;5;241m.\u001B[39msubset(\u001B[38;5;241m0\u001B[39m), \u001B[38;5;241m*\u001B[39m\u001B[38;5;241m*\u001B[39mmerge(kwargs,def_kwargs, dl_kwargs[\u001B[38;5;241m0\u001B[39m]))\n\u001B[1;32m    336\u001B[0m def_kwargs \u001B[38;5;241m=\u001B[39m {\u001B[38;5;124m'\u001B[39m\u001B[38;5;124mbs\u001B[39m\u001B[38;5;124m'\u001B[39m:bs \u001B[38;5;28;01mif\u001B[39;00m val_bs \u001B[38;5;129;01mis\u001B[39;00m \u001B[38;5;28;01mNone\u001B[39;00m \u001B[38;5;28;01melse\u001B[39;00m val_bs,\u001B[38;5;124m'\u001B[39m\u001B[38;5;124mshuffle\u001B[39m\u001B[38;5;124m'\u001B[39m:val_shuffle,\u001B[38;5;124m'\u001B[39m\u001B[38;5;124mn\u001B[39m\u001B[38;5;124m'\u001B[39m:\u001B[38;5;28;01mNone\u001B[39;00m,\u001B[38;5;124m'\u001B[39m\u001B[38;5;124mdrop_last\u001B[39m\u001B[38;5;124m'\u001B[39m:\u001B[38;5;28;01mFalse\u001B[39;00m}\n\u001B[0;32m--> 337\u001B[0m dls \u001B[38;5;241m=\u001B[39m [dl] \u001B[38;5;241m+\u001B[39m [\u001B[43mdl\u001B[49m\u001B[38;5;241;43m.\u001B[39;49m\u001B[43mnew\u001B[49m\u001B[43m(\u001B[49m\u001B[38;5;28;43mself\u001B[39;49m\u001B[38;5;241;43m.\u001B[39;49m\u001B[43msubset\u001B[49m\u001B[43m(\u001B[49m\u001B[43mi\u001B[49m\u001B[43m)\u001B[49m\u001B[43m,\u001B[49m\u001B[43m \u001B[49m\u001B[38;5;241;43m*\u001B[39;49m\u001B[38;5;241;43m*\u001B[39;49m\u001B[43mmerge\u001B[49m\u001B[43m(\u001B[49m\u001B[43mkwargs\u001B[49m\u001B[43m,\u001B[49m\u001B[43mdef_kwargs\u001B[49m\u001B[43m,\u001B[49m\u001B[43mval_kwargs\u001B[49m\u001B[43m,\u001B[49m\u001B[43mdl_kwargs\u001B[49m\u001B[43m[\u001B[49m\u001B[43mi\u001B[49m\u001B[43m]\u001B[49m\u001B[43m)\u001B[49m\u001B[43m)\u001B[49m\n\u001B[1;32m    338\u001B[0m               \u001B[38;5;28;01mfor\u001B[39;00m i \u001B[38;5;129;01min\u001B[39;00m \u001B[38;5;28mrange\u001B[39m(\u001B[38;5;241m1\u001B[39m, \u001B[38;5;28mself\u001B[39m\u001B[38;5;241m.\u001B[39mn_subsets)]\n\u001B[1;32m    339\u001B[0m \u001B[38;5;28;01mreturn\u001B[39;00m \u001B[38;5;28mself\u001B[39m\u001B[38;5;241m.\u001B[39m_dbunch_type(\u001B[38;5;241m*\u001B[39mdls, path\u001B[38;5;241m=\u001B[39mpath, device\u001B[38;5;241m=\u001B[39mdevice)\n",
      "File \u001B[0;32m~/Repository/ML_Notes/venv/lib/python3.11/site-packages/fastai/data/core.py:97\u001B[0m, in \u001B[0;36mTfmdDL.new\u001B[0;34m(self, dataset, cls, **kwargs)\u001B[0m\n\u001B[1;32m     95\u001B[0m \u001B[38;5;28;01mif\u001B[39;00m \u001B[38;5;129;01mnot\u001B[39;00m \u001B[38;5;28mhasattr\u001B[39m(\u001B[38;5;28mself\u001B[39m, \u001B[38;5;124m'\u001B[39m\u001B[38;5;124m_n_inp\u001B[39m\u001B[38;5;124m'\u001B[39m) \u001B[38;5;129;01mor\u001B[39;00m \u001B[38;5;129;01mnot\u001B[39;00m \u001B[38;5;28mhasattr\u001B[39m(\u001B[38;5;28mself\u001B[39m, \u001B[38;5;124m'\u001B[39m\u001B[38;5;124m_types\u001B[39m\u001B[38;5;124m'\u001B[39m):\n\u001B[1;32m     96\u001B[0m     \u001B[38;5;28;01mtry\u001B[39;00m:\n\u001B[0;32m---> 97\u001B[0m         \u001B[38;5;28;43mself\u001B[39;49m\u001B[38;5;241;43m.\u001B[39;49m\u001B[43m_one_pass\u001B[49m\u001B[43m(\u001B[49m\u001B[43m)\u001B[49m\n\u001B[1;32m     98\u001B[0m         res\u001B[38;5;241m.\u001B[39m_n_inp,res\u001B[38;5;241m.\u001B[39m_types \u001B[38;5;241m=\u001B[39m \u001B[38;5;28mself\u001B[39m\u001B[38;5;241m.\u001B[39m_n_inp,\u001B[38;5;28mself\u001B[39m\u001B[38;5;241m.\u001B[39m_types\n\u001B[1;32m     99\u001B[0m     \u001B[38;5;28;01mexcept\u001B[39;00m \u001B[38;5;167;01mException\u001B[39;00m \u001B[38;5;28;01mas\u001B[39;00m e: \n",
      "File \u001B[0;32m~/Repository/ML_Notes/venv/lib/python3.11/site-packages/fastai/data/core.py:78\u001B[0m, in \u001B[0;36mTfmdDL._one_pass\u001B[0;34m(self)\u001B[0m\n\u001B[1;32m     77\u001B[0m \u001B[38;5;28;01mdef\u001B[39;00m \u001B[38;5;21m_one_pass\u001B[39m(\u001B[38;5;28mself\u001B[39m):\n\u001B[0;32m---> 78\u001B[0m     b \u001B[38;5;241m=\u001B[39m \u001B[38;5;28mself\u001B[39m\u001B[38;5;241m.\u001B[39mdo_batch([\u001B[38;5;28;43mself\u001B[39;49m\u001B[38;5;241;43m.\u001B[39;49m\u001B[43mdo_item\u001B[49m\u001B[43m(\u001B[49m\u001B[38;5;28;43;01mNone\u001B[39;49;00m\u001B[43m)\u001B[49m])\n\u001B[1;32m     79\u001B[0m     \u001B[38;5;28;01mif\u001B[39;00m \u001B[38;5;28mself\u001B[39m\u001B[38;5;241m.\u001B[39mdevice \u001B[38;5;129;01mis\u001B[39;00m \u001B[38;5;129;01mnot\u001B[39;00m \u001B[38;5;28;01mNone\u001B[39;00m: b \u001B[38;5;241m=\u001B[39m to_device(b, \u001B[38;5;28mself\u001B[39m\u001B[38;5;241m.\u001B[39mdevice)\n\u001B[1;32m     80\u001B[0m     its \u001B[38;5;241m=\u001B[39m \u001B[38;5;28mself\u001B[39m\u001B[38;5;241m.\u001B[39mafter_batch(b)\n",
      "File \u001B[0;32m~/Repository/ML_Notes/venv/lib/python3.11/site-packages/fastai/data/load.py:153\u001B[0m, in \u001B[0;36mDataLoader.do_item\u001B[0;34m(self, s)\u001B[0m\n\u001B[1;32m    152\u001B[0m \u001B[38;5;28;01mdef\u001B[39;00m \u001B[38;5;21mdo_item\u001B[39m(\u001B[38;5;28mself\u001B[39m, s):\n\u001B[0;32m--> 153\u001B[0m     \u001B[38;5;28;01mtry\u001B[39;00m: \u001B[38;5;28;01mreturn\u001B[39;00m \u001B[38;5;28;43mself\u001B[39;49m\u001B[38;5;241;43m.\u001B[39;49m\u001B[43mafter_item\u001B[49m\u001B[43m(\u001B[49m\u001B[38;5;28;43mself\u001B[39;49m\u001B[38;5;241;43m.\u001B[39;49m\u001B[43mcreate_item\u001B[49m\u001B[43m(\u001B[49m\u001B[43ms\u001B[49m\u001B[43m)\u001B[49m\u001B[43m)\u001B[49m\n\u001B[1;32m    154\u001B[0m     \u001B[38;5;28;01mexcept\u001B[39;00m SkipItemException: \u001B[38;5;28;01mreturn\u001B[39;00m \u001B[38;5;28;01mNone\u001B[39;00m\n",
      "File \u001B[0;32m~/Repository/ML_Notes/venv/lib/python3.11/site-packages/fastcore/transform.py:208\u001B[0m, in \u001B[0;36mPipeline.__call__\u001B[0;34m(self, o)\u001B[0m\n\u001B[0;32m--> 208\u001B[0m \u001B[38;5;28;01mdef\u001B[39;00m \u001B[38;5;21m__call__\u001B[39m(\u001B[38;5;28mself\u001B[39m, o): \u001B[38;5;28;01mreturn\u001B[39;00m \u001B[43mcompose_tfms\u001B[49m\u001B[43m(\u001B[49m\u001B[43mo\u001B[49m\u001B[43m,\u001B[49m\u001B[43m \u001B[49m\u001B[43mtfms\u001B[49m\u001B[38;5;241;43m=\u001B[39;49m\u001B[38;5;28;43mself\u001B[39;49m\u001B[38;5;241;43m.\u001B[39;49m\u001B[43mfs\u001B[49m\u001B[43m,\u001B[49m\u001B[43m \u001B[49m\u001B[43msplit_idx\u001B[49m\u001B[38;5;241;43m=\u001B[39;49m\u001B[38;5;28;43mself\u001B[39;49m\u001B[38;5;241;43m.\u001B[39;49m\u001B[43msplit_idx\u001B[49m\u001B[43m)\u001B[49m\n",
      "File \u001B[0;32m~/Repository/ML_Notes/venv/lib/python3.11/site-packages/fastcore/transform.py:158\u001B[0m, in \u001B[0;36mcompose_tfms\u001B[0;34m(x, tfms, is_enc, reverse, **kwargs)\u001B[0m\n\u001B[1;32m    156\u001B[0m \u001B[38;5;28;01mfor\u001B[39;00m f \u001B[38;5;129;01min\u001B[39;00m tfms:\n\u001B[1;32m    157\u001B[0m     \u001B[38;5;28;01mif\u001B[39;00m \u001B[38;5;129;01mnot\u001B[39;00m is_enc: f \u001B[38;5;241m=\u001B[39m f\u001B[38;5;241m.\u001B[39mdecode\n\u001B[0;32m--> 158\u001B[0m     x \u001B[38;5;241m=\u001B[39m \u001B[43mf\u001B[49m\u001B[43m(\u001B[49m\u001B[43mx\u001B[49m\u001B[43m,\u001B[49m\u001B[43m \u001B[49m\u001B[38;5;241;43m*\u001B[39;49m\u001B[38;5;241;43m*\u001B[39;49m\u001B[43mkwargs\u001B[49m\u001B[43m)\u001B[49m\n\u001B[1;32m    159\u001B[0m \u001B[38;5;28;01mreturn\u001B[39;00m x\n",
      "File \u001B[0;32m~/Repository/ML_Notes/venv/lib/python3.11/site-packages/fastai/vision/augment.py:48\u001B[0m, in \u001B[0;36mRandTransform.__call__\u001B[0;34m(self, b, split_idx, **kwargs)\u001B[0m\n\u001B[1;32m     43\u001B[0m \u001B[38;5;28;01mdef\u001B[39;00m \u001B[38;5;21m__call__\u001B[39m(\u001B[38;5;28mself\u001B[39m, \n\u001B[1;32m     44\u001B[0m     b, \n\u001B[1;32m     45\u001B[0m     split_idx:\u001B[38;5;28mint\u001B[39m\u001B[38;5;241m=\u001B[39m\u001B[38;5;28;01mNone\u001B[39;00m, \u001B[38;5;66;03m# Index of the train/valid dataset\u001B[39;00m\n\u001B[1;32m     46\u001B[0m     \u001B[38;5;241m*\u001B[39m\u001B[38;5;241m*\u001B[39mkwargs\n\u001B[1;32m     47\u001B[0m ):\n\u001B[0;32m---> 48\u001B[0m     \u001B[38;5;28;43mself\u001B[39;49m\u001B[38;5;241;43m.\u001B[39;49m\u001B[43mbefore_call\u001B[49m\u001B[43m(\u001B[49m\u001B[43mb\u001B[49m\u001B[43m,\u001B[49m\u001B[43m \u001B[49m\u001B[43msplit_idx\u001B[49m\u001B[38;5;241;43m=\u001B[39;49m\u001B[43msplit_idx\u001B[49m\u001B[43m)\u001B[49m\n\u001B[1;32m     49\u001B[0m     \u001B[38;5;28;01mreturn\u001B[39;00m \u001B[38;5;28msuper\u001B[39m()\u001B[38;5;241m.\u001B[39m\u001B[38;5;21m__call__\u001B[39m(b, split_idx\u001B[38;5;241m=\u001B[39msplit_idx, \u001B[38;5;241m*\u001B[39m\u001B[38;5;241m*\u001B[39mkwargs) \u001B[38;5;28;01mif\u001B[39;00m \u001B[38;5;28mself\u001B[39m\u001B[38;5;241m.\u001B[39mdo \u001B[38;5;28;01melse\u001B[39;00m b\n",
      "File \u001B[0;32m~/Repository/ML_Notes/venv/lib/python3.11/site-packages/fastai/vision/augment.py:301\u001B[0m, in \u001B[0;36mRandomResizedCrop.before_call\u001B[0;34m(self, b, split_idx)\u001B[0m\n\u001B[1;32m    297\u001B[0m \u001B[38;5;28;01mdef\u001B[39;00m \u001B[38;5;21mbefore_call\u001B[39m(\u001B[38;5;28mself\u001B[39m, \n\u001B[1;32m    298\u001B[0m     b, \n\u001B[1;32m    299\u001B[0m     split_idx \u001B[38;5;66;03m# Index of the train/valid dataset\u001B[39;00m\n\u001B[1;32m    300\u001B[0m ):\n\u001B[0;32m--> 301\u001B[0m     w,h \u001B[38;5;241m=\u001B[39m \u001B[38;5;28mself\u001B[39m\u001B[38;5;241m.\u001B[39morig_sz \u001B[38;5;241m=\u001B[39m \u001B[43m_get_sz\u001B[49m\u001B[43m(\u001B[49m\u001B[43mb\u001B[49m\u001B[43m)\u001B[49m\n\u001B[1;32m    302\u001B[0m     \u001B[38;5;28;01mif\u001B[39;00m split_idx:\n\u001B[1;32m    303\u001B[0m         xtra \u001B[38;5;241m=\u001B[39m math\u001B[38;5;241m.\u001B[39mceil(\u001B[38;5;28mmax\u001B[39m(\u001B[38;5;241m*\u001B[39m\u001B[38;5;28mself\u001B[39m\u001B[38;5;241m.\u001B[39msize[:\u001B[38;5;241m2\u001B[39m])\u001B[38;5;241m*\u001B[39m\u001B[38;5;28mself\u001B[39m\u001B[38;5;241m.\u001B[39mval_xtra\u001B[38;5;241m/\u001B[39m\u001B[38;5;241m8\u001B[39m)\u001B[38;5;241m*\u001B[39m\u001B[38;5;241m8\u001B[39m\n",
      "File \u001B[0;32m~/Repository/ML_Notes/venv/lib/python3.11/site-packages/fastai/vision/augment.py:173\u001B[0m, in \u001B[0;36m_get_sz\u001B[0;34m(x)\u001B[0m\n\u001B[1;32m    171\u001B[0m \u001B[38;5;28;01mdef\u001B[39;00m \u001B[38;5;21m_get_sz\u001B[39m(x):\n\u001B[1;32m    172\u001B[0m     \u001B[38;5;28;01mif\u001B[39;00m \u001B[38;5;28misinstance\u001B[39m(x, \u001B[38;5;28mtuple\u001B[39m): x \u001B[38;5;241m=\u001B[39m x[\u001B[38;5;241m0\u001B[39m]\n\u001B[0;32m--> 173\u001B[0m     \u001B[38;5;28;01mif\u001B[39;00m \u001B[38;5;129;01mnot\u001B[39;00m \u001B[38;5;28misinstance\u001B[39m(x, Tensor): \u001B[38;5;28;01mreturn\u001B[39;00m fastuple(\u001B[43mx\u001B[49m\u001B[38;5;241;43m.\u001B[39;49m\u001B[43msize\u001B[49m)\n\u001B[1;32m    174\u001B[0m     \u001B[38;5;28;01mreturn\u001B[39;00m fastuple(\u001B[38;5;28mgetattr\u001B[39m(x, \u001B[38;5;124m'\u001B[39m\u001B[38;5;124mimg_size\u001B[39m\u001B[38;5;124m'\u001B[39m, \u001B[38;5;28mgetattr\u001B[39m(x, \u001B[38;5;124m'\u001B[39m\u001B[38;5;124msz\u001B[39m\u001B[38;5;124m'\u001B[39m, (x\u001B[38;5;241m.\u001B[39mshape[\u001B[38;5;241m-\u001B[39m\u001B[38;5;241m1\u001B[39m], x\u001B[38;5;241m.\u001B[39mshape[\u001B[38;5;241m-\u001B[39m\u001B[38;5;241m2\u001B[39m]))))\n",
      "\u001B[0;31mAttributeError\u001B[0m: 'str' object has no attribute 'size'"
     ]
    }
   ],
   "source": [
    "dls = dblock.dataloaders(df)"
   ],
   "metadata": {
    "collapsed": false,
    "ExecuteTime": {
     "end_time": "2024-02-02T06:29:23.044522Z",
     "start_time": "2024-02-02T06:20:24.946248Z"
    }
   },
   "id": "31fb036b3e88d71f",
   "execution_count": 7
  },
  {
   "cell_type": "code",
   "outputs": [],
   "source": [
    "dsets = dblock.datasets(df)"
   ],
   "metadata": {
    "collapsed": false
   },
   "id": "d8e9f0333ea835cd",
   "execution_count": null
  },
  {
   "cell_type": "code",
   "outputs": [],
   "source": [
    "dsets.train[0]"
   ],
   "metadata": {
    "collapsed": false
   },
   "id": "1528952e45b7c5f4",
   "execution_count": null
  },
  {
   "cell_type": "code",
   "outputs": [],
   "source": [
    "idxs = torch.where(dsets.train[0][1] == 1.)[0]\n",
    "dsets.train.vocab[idxs]"
   ],
   "metadata": {
    "collapsed": false
   },
   "id": "b22d084d132a2f4d",
   "execution_count": null
  }
 ],
 "metadata": {
  "kernelspec": {
   "display_name": "Python 3",
   "language": "python",
   "name": "python3"
  },
  "language_info": {
   "codemirror_mode": {
    "name": "ipython",
    "version": 2
   },
   "file_extension": ".py",
   "mimetype": "text/x-python",
   "name": "python",
   "nbconvert_exporter": "python",
   "pygments_lexer": "ipython2",
   "version": "2.7.6"
  }
 },
 "nbformat": 4,
 "nbformat_minor": 5
}
