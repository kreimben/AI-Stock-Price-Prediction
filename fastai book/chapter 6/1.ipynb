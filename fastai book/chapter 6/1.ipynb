{
 "cells": [
  {
   "cell_type": "markdown",
   "source": [
    "# 그 밖의 영상 처리 문제\n",
    "\n",
    "다중 레이블 분류는 이미지 내에 포함된 하나 이상의 물체 범주를 식별하는 문제이다. 물체가 여러 종류 존재할 수도 있지만, 찾고 싶은 종류의 물체가 전혀 없는 상황도 모두 포함된다."
   ],
   "metadata": {
    "collapsed": false
   },
   "id": "a9b323d7c5ee6639"
  },
  {
   "cell_type": "code",
   "outputs": [],
   "source": [
    "\n",
    "from fastai.vision.all import *"
   ],
   "metadata": {
    "collapsed": false,
    "ExecuteTime": {
     "end_time": "2024-02-01T09:55:01.453658700Z",
     "start_time": "2024-02-01T09:54:52.873815500Z"
    }
   },
   "id": "33b0548aaf447e4c",
   "execution_count": 1
  },
  {
   "cell_type": "code",
   "outputs": [
    {
     "data": {
      "text/plain": "<IPython.core.display.HTML object>",
      "text/html": "\n<style>\n    /* Turns off some styling */\n    progress {\n        /* gets rid of default border in Firefox and Opera. */\n        border: none;\n        /* Needs to be in here for Safari polyfill so background images work as expected. */\n        background-size: auto;\n    }\n    progress:not([value]), progress:not([value])::-webkit-progress-bar {\n        background: repeating-linear-gradient(45deg, #7e7e7e, #7e7e7e 10px, #5c5c5c 10px, #5c5c5c 20px);\n    }\n    .progress-bar-interrupted, .progress-bar-interrupted::-webkit-progress-bar {\n        background: #F44336;\n    }\n</style>\n"
     },
     "metadata": {},
     "output_type": "display_data"
    },
    {
     "data": {
      "text/plain": "<IPython.core.display.HTML object>",
      "text/html": "\n    <div>\n      <progress value='1637801984' class='' max='1637796771' style='width:300px; height:20px; vertical-align: middle;'></progress>\n      100.00% [1637801984/1637796771 04:09&lt;00:00]\n    </div>\n    "
     },
     "metadata": {},
     "output_type": "display_data"
    }
   ],
   "source": [
    "path = untar_data(URLs.PASCAL_2007)"
   ],
   "metadata": {
    "collapsed": false,
    "ExecuteTime": {
     "end_time": "2024-02-01T09:59:27.335471200Z",
     "start_time": "2024-02-01T09:55:01.452658600Z"
    }
   },
   "id": "90f474cfd9e43382",
   "execution_count": 2
  },
  {
   "cell_type": "code",
   "outputs": [
    {
     "data": {
      "text/plain": "        fname        labels  is_valid\n0  000005.jpg         chair      True\n1  000007.jpg           car      True\n2  000009.jpg  horse person      True\n3  000012.jpg           car     False\n4  000016.jpg       bicycle      True",
      "text/html": "<div>\n<style scoped>\n    .dataframe tbody tr th:only-of-type {\n        vertical-align: middle;\n    }\n\n    .dataframe tbody tr th {\n        vertical-align: top;\n    }\n\n    .dataframe thead th {\n        text-align: right;\n    }\n</style>\n<table border=\"1\" class=\"dataframe\">\n  <thead>\n    <tr style=\"text-align: right;\">\n      <th></th>\n      <th>fname</th>\n      <th>labels</th>\n      <th>is_valid</th>\n    </tr>\n  </thead>\n  <tbody>\n    <tr>\n      <th>0</th>\n      <td>000005.jpg</td>\n      <td>chair</td>\n      <td>True</td>\n    </tr>\n    <tr>\n      <th>1</th>\n      <td>000007.jpg</td>\n      <td>car</td>\n      <td>True</td>\n    </tr>\n    <tr>\n      <th>2</th>\n      <td>000009.jpg</td>\n      <td>horse person</td>\n      <td>True</td>\n    </tr>\n    <tr>\n      <th>3</th>\n      <td>000012.jpg</td>\n      <td>car</td>\n      <td>False</td>\n    </tr>\n    <tr>\n      <th>4</th>\n      <td>000016.jpg</td>\n      <td>bicycle</td>\n      <td>True</td>\n    </tr>\n  </tbody>\n</table>\n</div>"
     },
     "execution_count": 3,
     "metadata": {},
     "output_type": "execute_result"
    }
   ],
   "source": [
    "df = pd.read_csv(path / 'train.csv')\n",
    "df.head()"
   ],
   "metadata": {
    "collapsed": false,
    "ExecuteTime": {
     "end_time": "2024-02-01T09:59:27.390988200Z",
     "start_time": "2024-02-01T09:59:27.304464500Z"
    }
   },
   "id": "304904936189bdc6",
   "execution_count": 3
  },
  {
   "cell_type": "markdown",
   "source": [
    "## class 설명\n",
    "* `Dataset` : 단일 데이터를 표현하는 독립변수 및 종속변수 튜플을 반환한다.\n",
    "* `DataLoader` : 미니배치 스트림을 제공하는 반복자로, 각 미니배치는 여러 독립변수와 여러 종속변수에 대한 튜플로 구성된다.\n",
    "* `Datasets` : 학습용 및 검증용 `Dataset`을 포함하는 반복자이다.\n",
    "* `DataLoaders` : 학습용 및 검증용 `DataLoader`를 포함하는 객체이다. "
   ],
   "metadata": {
    "collapsed": false
   },
   "id": "7b99d4f539e51b16"
  },
  {
   "cell_type": "code",
   "outputs": [],
   "source": [
    "def get_x(r): return r['fname']\n",
    "\n",
    "\n",
    "def get_y(r): return r['labels']"
   ],
   "metadata": {
    "collapsed": false,
    "ExecuteTime": {
     "end_time": "2024-02-01T09:59:27.391988500Z",
     "start_time": "2024-02-01T09:59:27.354475Z"
    }
   },
   "id": "7cd6f127f5802563",
   "execution_count": 4
  },
  {
   "cell_type": "code",
   "outputs": [],
   "source": [
    "def splitter(df):\n",
    "    train = df.index[~df['is_valid']].tolist()\n",
    "    valid = df.index[df['is_valid']].tolist()\n",
    "    return train, valid"
   ],
   "metadata": {
    "collapsed": false,
    "ExecuteTime": {
     "end_time": "2024-02-01T09:59:27.415994100Z",
     "start_time": "2024-02-01T09:59:27.371479500Z"
    }
   },
   "id": "85f429963ddf37f",
   "execution_count": 5
  },
  {
   "cell_type": "code",
   "outputs": [
    {
     "ename": "FileNotFoundError",
     "evalue": "[Errno 2] No such file or directory: '000012.jpg'",
     "output_type": "error",
     "traceback": [
      "\u001B[1;31m---------------------------------------------------------------------------\u001B[0m",
      "\u001B[1;31mFileNotFoundError\u001B[0m                         Traceback (most recent call last)",
      "Cell \u001B[1;32mIn[6], line 8\u001B[0m\n\u001B[0;32m      1\u001B[0m dblock \u001B[38;5;241m=\u001B[39m DataBlock(\n\u001B[0;32m      2\u001B[0m     blocks\u001B[38;5;241m=\u001B[39m(ImageBlock, MultiCategoryBlock),\n\u001B[0;32m      3\u001B[0m     splitter\u001B[38;5;241m=\u001B[39msplitter,\n\u001B[1;32m   (...)\u001B[0m\n\u001B[0;32m      6\u001B[0m     item_tfms\u001B[38;5;241m=\u001B[39mRandomResizedCrop(\u001B[38;5;241m128\u001B[39m, min_scale\u001B[38;5;241m=\u001B[39m\u001B[38;5;241m0.35\u001B[39m)\n\u001B[0;32m      7\u001B[0m )\n\u001B[1;32m----> 8\u001B[0m dls \u001B[38;5;241m=\u001B[39m \u001B[43mdblock\u001B[49m\u001B[38;5;241;43m.\u001B[39;49m\u001B[43mdataloaders\u001B[49m\u001B[43m(\u001B[49m\u001B[43mdf\u001B[49m\u001B[43m)\u001B[49m\n",
      "File \u001B[1;32m~\\PycharmProjects\\ML_Notes\\venv\\lib\\site-packages\\fastai\\data\\block.py:155\u001B[0m, in \u001B[0;36mDataBlock.dataloaders\u001B[1;34m(self, source, path, verbose, **kwargs)\u001B[0m\n\u001B[0;32m    149\u001B[0m \u001B[38;5;28;01mdef\u001B[39;00m \u001B[38;5;21mdataloaders\u001B[39m(\u001B[38;5;28mself\u001B[39m, \n\u001B[0;32m    150\u001B[0m     source, \u001B[38;5;66;03m# The data source\u001B[39;00m\n\u001B[0;32m    151\u001B[0m     path:\u001B[38;5;28mstr\u001B[39m\u001B[38;5;241m=\u001B[39m\u001B[38;5;124m'\u001B[39m\u001B[38;5;124m.\u001B[39m\u001B[38;5;124m'\u001B[39m, \u001B[38;5;66;03m# Data source and default `Learner` path \u001B[39;00m\n\u001B[0;32m    152\u001B[0m     verbose:\u001B[38;5;28mbool\u001B[39m\u001B[38;5;241m=\u001B[39m\u001B[38;5;28;01mFalse\u001B[39;00m, \u001B[38;5;66;03m# Show verbose messages\u001B[39;00m\n\u001B[0;32m    153\u001B[0m     \u001B[38;5;241m*\u001B[39m\u001B[38;5;241m*\u001B[39mkwargs\n\u001B[0;32m    154\u001B[0m ) \u001B[38;5;241m-\u001B[39m\u001B[38;5;241m>\u001B[39m DataLoaders:\n\u001B[1;32m--> 155\u001B[0m     dsets \u001B[38;5;241m=\u001B[39m \u001B[38;5;28;43mself\u001B[39;49m\u001B[38;5;241;43m.\u001B[39;49m\u001B[43mdatasets\u001B[49m\u001B[43m(\u001B[49m\u001B[43msource\u001B[49m\u001B[43m,\u001B[49m\u001B[43m \u001B[49m\u001B[43mverbose\u001B[49m\u001B[38;5;241;43m=\u001B[39;49m\u001B[43mverbose\u001B[49m\u001B[43m)\u001B[49m\n\u001B[0;32m    156\u001B[0m     kwargs \u001B[38;5;241m=\u001B[39m {\u001B[38;5;241m*\u001B[39m\u001B[38;5;241m*\u001B[39m\u001B[38;5;28mself\u001B[39m\u001B[38;5;241m.\u001B[39mdls_kwargs, \u001B[38;5;241m*\u001B[39m\u001B[38;5;241m*\u001B[39mkwargs, \u001B[38;5;124m'\u001B[39m\u001B[38;5;124mverbose\u001B[39m\u001B[38;5;124m'\u001B[39m: verbose}\n\u001B[0;32m    157\u001B[0m     \u001B[38;5;28;01mreturn\u001B[39;00m dsets\u001B[38;5;241m.\u001B[39mdataloaders(path\u001B[38;5;241m=\u001B[39mpath, after_item\u001B[38;5;241m=\u001B[39m\u001B[38;5;28mself\u001B[39m\u001B[38;5;241m.\u001B[39mitem_tfms, after_batch\u001B[38;5;241m=\u001B[39m\u001B[38;5;28mself\u001B[39m\u001B[38;5;241m.\u001B[39mbatch_tfms, \u001B[38;5;241m*\u001B[39m\u001B[38;5;241m*\u001B[39mkwargs)\n",
      "File \u001B[1;32m~\\PycharmProjects\\ML_Notes\\venv\\lib\\site-packages\\fastai\\data\\block.py:147\u001B[0m, in \u001B[0;36mDataBlock.datasets\u001B[1;34m(self, source, verbose)\u001B[0m\n\u001B[0;32m    145\u001B[0m splits \u001B[38;5;241m=\u001B[39m (\u001B[38;5;28mself\u001B[39m\u001B[38;5;241m.\u001B[39msplitter \u001B[38;5;129;01mor\u001B[39;00m RandomSplitter())(items)\n\u001B[0;32m    146\u001B[0m pv(\u001B[38;5;124mf\u001B[39m\u001B[38;5;124m\"\u001B[39m\u001B[38;5;132;01m{\u001B[39;00m\u001B[38;5;28mlen\u001B[39m(splits)\u001B[38;5;132;01m}\u001B[39;00m\u001B[38;5;124m datasets of sizes \u001B[39m\u001B[38;5;132;01m{\u001B[39;00m\u001B[38;5;124m'\u001B[39m\u001B[38;5;124m,\u001B[39m\u001B[38;5;124m'\u001B[39m\u001B[38;5;241m.\u001B[39mjoin([\u001B[38;5;28mstr\u001B[39m(\u001B[38;5;28mlen\u001B[39m(s))\u001B[38;5;250m \u001B[39m\u001B[38;5;28;01mfor\u001B[39;00m\u001B[38;5;250m \u001B[39ms\u001B[38;5;250m \u001B[39m\u001B[38;5;129;01min\u001B[39;00m\u001B[38;5;250m \u001B[39msplits])\u001B[38;5;132;01m}\u001B[39;00m\u001B[38;5;124m\"\u001B[39m, verbose)\n\u001B[1;32m--> 147\u001B[0m \u001B[38;5;28;01mreturn\u001B[39;00m \u001B[43mDatasets\u001B[49m\u001B[43m(\u001B[49m\u001B[43mitems\u001B[49m\u001B[43m,\u001B[49m\u001B[43m \u001B[49m\u001B[43mtfms\u001B[49m\u001B[38;5;241;43m=\u001B[39;49m\u001B[38;5;28;43mself\u001B[39;49m\u001B[38;5;241;43m.\u001B[39;49m\u001B[43m_combine_type_tfms\u001B[49m\u001B[43m(\u001B[49m\u001B[43m)\u001B[49m\u001B[43m,\u001B[49m\u001B[43m \u001B[49m\u001B[43msplits\u001B[49m\u001B[38;5;241;43m=\u001B[39;49m\u001B[43msplits\u001B[49m\u001B[43m,\u001B[49m\u001B[43m \u001B[49m\u001B[43mdl_type\u001B[49m\u001B[38;5;241;43m=\u001B[39;49m\u001B[38;5;28;43mself\u001B[39;49m\u001B[38;5;241;43m.\u001B[39;49m\u001B[43mdl_type\u001B[49m\u001B[43m,\u001B[49m\u001B[43m \u001B[49m\u001B[43mn_inp\u001B[49m\u001B[38;5;241;43m=\u001B[39;49m\u001B[38;5;28;43mself\u001B[39;49m\u001B[38;5;241;43m.\u001B[39;49m\u001B[43mn_inp\u001B[49m\u001B[43m,\u001B[49m\u001B[43m \u001B[49m\u001B[43mverbose\u001B[49m\u001B[38;5;241;43m=\u001B[39;49m\u001B[43mverbose\u001B[49m\u001B[43m)\u001B[49m\n",
      "File \u001B[1;32m~\\PycharmProjects\\ML_Notes\\venv\\lib\\site-packages\\fastai\\data\\core.py:454\u001B[0m, in \u001B[0;36mDatasets.__init__\u001B[1;34m(self, items, tfms, tls, n_inp, dl_type, **kwargs)\u001B[0m\n\u001B[0;32m    445\u001B[0m \u001B[38;5;28;01mdef\u001B[39;00m \u001B[38;5;21m__init__\u001B[39m(\u001B[38;5;28mself\u001B[39m, \n\u001B[0;32m    446\u001B[0m     items:\u001B[38;5;28mlist\u001B[39m\u001B[38;5;241m=\u001B[39m\u001B[38;5;28;01mNone\u001B[39;00m, \u001B[38;5;66;03m# List of items to create `Datasets`\u001B[39;00m\n\u001B[0;32m    447\u001B[0m     tfms:MutableSequence\u001B[38;5;241m|\u001B[39mPipeline\u001B[38;5;241m=\u001B[39m\u001B[38;5;28;01mNone\u001B[39;00m, \u001B[38;5;66;03m# List of `Transform`(s) or `Pipeline` to apply\u001B[39;00m\n\u001B[1;32m   (...)\u001B[0m\n\u001B[0;32m    451\u001B[0m     \u001B[38;5;241m*\u001B[39m\u001B[38;5;241m*\u001B[39mkwargs\n\u001B[0;32m    452\u001B[0m ):\n\u001B[0;32m    453\u001B[0m     \u001B[38;5;28msuper\u001B[39m()\u001B[38;5;241m.\u001B[39m\u001B[38;5;21m__init__\u001B[39m(dl_type\u001B[38;5;241m=\u001B[39mdl_type)\n\u001B[1;32m--> 454\u001B[0m     \u001B[38;5;28mself\u001B[39m\u001B[38;5;241m.\u001B[39mtls \u001B[38;5;241m=\u001B[39m L(tls \u001B[38;5;28;01mif\u001B[39;00m tls \u001B[38;5;28;01melse\u001B[39;00m [TfmdLists(items, t, \u001B[38;5;241m*\u001B[39m\u001B[38;5;241m*\u001B[39mkwargs) \u001B[38;5;28;01mfor\u001B[39;00m t \u001B[38;5;129;01min\u001B[39;00m L(ifnone(tfms,[\u001B[38;5;28;01mNone\u001B[39;00m]))])\n\u001B[0;32m    455\u001B[0m     \u001B[38;5;28mself\u001B[39m\u001B[38;5;241m.\u001B[39mn_inp \u001B[38;5;241m=\u001B[39m ifnone(n_inp, \u001B[38;5;28mmax\u001B[39m(\u001B[38;5;241m1\u001B[39m, \u001B[38;5;28mlen\u001B[39m(\u001B[38;5;28mself\u001B[39m\u001B[38;5;241m.\u001B[39mtls)\u001B[38;5;241m-\u001B[39m\u001B[38;5;241m1\u001B[39m))\n",
      "File \u001B[1;32m~\\PycharmProjects\\ML_Notes\\venv\\lib\\site-packages\\fastai\\data\\core.py:454\u001B[0m, in \u001B[0;36m<listcomp>\u001B[1;34m(.0)\u001B[0m\n\u001B[0;32m    445\u001B[0m \u001B[38;5;28;01mdef\u001B[39;00m \u001B[38;5;21m__init__\u001B[39m(\u001B[38;5;28mself\u001B[39m, \n\u001B[0;32m    446\u001B[0m     items:\u001B[38;5;28mlist\u001B[39m\u001B[38;5;241m=\u001B[39m\u001B[38;5;28;01mNone\u001B[39;00m, \u001B[38;5;66;03m# List of items to create `Datasets`\u001B[39;00m\n\u001B[0;32m    447\u001B[0m     tfms:MutableSequence\u001B[38;5;241m|\u001B[39mPipeline\u001B[38;5;241m=\u001B[39m\u001B[38;5;28;01mNone\u001B[39;00m, \u001B[38;5;66;03m# List of `Transform`(s) or `Pipeline` to apply\u001B[39;00m\n\u001B[1;32m   (...)\u001B[0m\n\u001B[0;32m    451\u001B[0m     \u001B[38;5;241m*\u001B[39m\u001B[38;5;241m*\u001B[39mkwargs\n\u001B[0;32m    452\u001B[0m ):\n\u001B[0;32m    453\u001B[0m     \u001B[38;5;28msuper\u001B[39m()\u001B[38;5;241m.\u001B[39m\u001B[38;5;21m__init__\u001B[39m(dl_type\u001B[38;5;241m=\u001B[39mdl_type)\n\u001B[1;32m--> 454\u001B[0m     \u001B[38;5;28mself\u001B[39m\u001B[38;5;241m.\u001B[39mtls \u001B[38;5;241m=\u001B[39m L(tls \u001B[38;5;28;01mif\u001B[39;00m tls \u001B[38;5;28;01melse\u001B[39;00m [TfmdLists(items, t, \u001B[38;5;241m*\u001B[39m\u001B[38;5;241m*\u001B[39mkwargs) \u001B[38;5;28;01mfor\u001B[39;00m t \u001B[38;5;129;01min\u001B[39;00m L(ifnone(tfms,[\u001B[38;5;28;01mNone\u001B[39;00m]))])\n\u001B[0;32m    455\u001B[0m     \u001B[38;5;28mself\u001B[39m\u001B[38;5;241m.\u001B[39mn_inp \u001B[38;5;241m=\u001B[39m ifnone(n_inp, \u001B[38;5;28mmax\u001B[39m(\u001B[38;5;241m1\u001B[39m, \u001B[38;5;28mlen\u001B[39m(\u001B[38;5;28mself\u001B[39m\u001B[38;5;241m.\u001B[39mtls)\u001B[38;5;241m-\u001B[39m\u001B[38;5;241m1\u001B[39m))\n",
      "File \u001B[1;32m~\\PycharmProjects\\ML_Notes\\venv\\lib\\site-packages\\fastcore\\foundation.py:98\u001B[0m, in \u001B[0;36m_L_Meta.__call__\u001B[1;34m(cls, x, *args, **kwargs)\u001B[0m\n\u001B[0;32m     96\u001B[0m \u001B[38;5;28;01mdef\u001B[39;00m \u001B[38;5;21m__call__\u001B[39m(\u001B[38;5;28mcls\u001B[39m, x\u001B[38;5;241m=\u001B[39m\u001B[38;5;28;01mNone\u001B[39;00m, \u001B[38;5;241m*\u001B[39margs, \u001B[38;5;241m*\u001B[39m\u001B[38;5;241m*\u001B[39mkwargs):\n\u001B[0;32m     97\u001B[0m     \u001B[38;5;28;01mif\u001B[39;00m \u001B[38;5;129;01mnot\u001B[39;00m args \u001B[38;5;129;01mand\u001B[39;00m \u001B[38;5;129;01mnot\u001B[39;00m kwargs \u001B[38;5;129;01mand\u001B[39;00m x \u001B[38;5;129;01mis\u001B[39;00m \u001B[38;5;129;01mnot\u001B[39;00m \u001B[38;5;28;01mNone\u001B[39;00m \u001B[38;5;129;01mand\u001B[39;00m \u001B[38;5;28misinstance\u001B[39m(x,\u001B[38;5;28mcls\u001B[39m): \u001B[38;5;28;01mreturn\u001B[39;00m x\n\u001B[1;32m---> 98\u001B[0m     \u001B[38;5;28;01mreturn\u001B[39;00m \u001B[38;5;28msuper\u001B[39m()\u001B[38;5;241m.\u001B[39m\u001B[38;5;21m__call__\u001B[39m(x, \u001B[38;5;241m*\u001B[39margs, \u001B[38;5;241m*\u001B[39m\u001B[38;5;241m*\u001B[39mkwargs)\n",
      "File \u001B[1;32m~\\PycharmProjects\\ML_Notes\\venv\\lib\\site-packages\\fastai\\data\\core.py:368\u001B[0m, in \u001B[0;36mTfmdLists.__init__\u001B[1;34m(self, items, tfms, use_list, do_setup, split_idx, train_setup, splits, types, verbose, dl_type)\u001B[0m\n\u001B[0;32m    366\u001B[0m \u001B[38;5;28;01mif\u001B[39;00m do_setup:\n\u001B[0;32m    367\u001B[0m     pv(\u001B[38;5;124mf\u001B[39m\u001B[38;5;124m\"\u001B[39m\u001B[38;5;124mSetting up \u001B[39m\u001B[38;5;132;01m{\u001B[39;00m\u001B[38;5;28mself\u001B[39m\u001B[38;5;241m.\u001B[39mtfms\u001B[38;5;132;01m}\u001B[39;00m\u001B[38;5;124m\"\u001B[39m, verbose)\n\u001B[1;32m--> 368\u001B[0m     \u001B[38;5;28;43mself\u001B[39;49m\u001B[38;5;241;43m.\u001B[39;49m\u001B[43msetup\u001B[49m\u001B[43m(\u001B[49m\u001B[43mtrain_setup\u001B[49m\u001B[38;5;241;43m=\u001B[39;49m\u001B[43mtrain_setup\u001B[49m\u001B[43m)\u001B[49m\n",
      "File \u001B[1;32m~\\PycharmProjects\\ML_Notes\\venv\\lib\\site-packages\\fastai\\data\\core.py:395\u001B[0m, in \u001B[0;36mTfmdLists.setup\u001B[1;34m(self, train_setup)\u001B[0m\n\u001B[0;32m    393\u001B[0m     \u001B[38;5;28;01mfor\u001B[39;00m f \u001B[38;5;129;01min\u001B[39;00m \u001B[38;5;28mself\u001B[39m\u001B[38;5;241m.\u001B[39mtfms\u001B[38;5;241m.\u001B[39mfs:\n\u001B[0;32m    394\u001B[0m         \u001B[38;5;28mself\u001B[39m\u001B[38;5;241m.\u001B[39mtypes\u001B[38;5;241m.\u001B[39mappend(\u001B[38;5;28mgetattr\u001B[39m(f, \u001B[38;5;124m'\u001B[39m\u001B[38;5;124minput_types\u001B[39m\u001B[38;5;124m'\u001B[39m, \u001B[38;5;28mtype\u001B[39m(x)))\n\u001B[1;32m--> 395\u001B[0m         x \u001B[38;5;241m=\u001B[39m \u001B[43mf\u001B[49m\u001B[43m(\u001B[49m\u001B[43mx\u001B[49m\u001B[43m)\u001B[49m\n\u001B[0;32m    396\u001B[0m     \u001B[38;5;28mself\u001B[39m\u001B[38;5;241m.\u001B[39mtypes\u001B[38;5;241m.\u001B[39mappend(\u001B[38;5;28mtype\u001B[39m(x))\n\u001B[0;32m    397\u001B[0m types \u001B[38;5;241m=\u001B[39m L(t \u001B[38;5;28;01mif\u001B[39;00m is_listy(t) \u001B[38;5;28;01melse\u001B[39;00m [t] \u001B[38;5;28;01mfor\u001B[39;00m t \u001B[38;5;129;01min\u001B[39;00m \u001B[38;5;28mself\u001B[39m\u001B[38;5;241m.\u001B[39mtypes)\u001B[38;5;241m.\u001B[39mconcat()\u001B[38;5;241m.\u001B[39munique()\n",
      "File \u001B[1;32m~\\PycharmProjects\\ML_Notes\\venv\\lib\\site-packages\\fastcore\\transform.py:81\u001B[0m, in \u001B[0;36mTransform.__call__\u001B[1;34m(self, x, **kwargs)\u001B[0m\n\u001B[0;32m     79\u001B[0m \u001B[38;5;129m@property\u001B[39m\n\u001B[0;32m     80\u001B[0m \u001B[38;5;28;01mdef\u001B[39;00m \u001B[38;5;21mname\u001B[39m(\u001B[38;5;28mself\u001B[39m): \u001B[38;5;28;01mreturn\u001B[39;00m \u001B[38;5;28mgetattr\u001B[39m(\u001B[38;5;28mself\u001B[39m, \u001B[38;5;124m'\u001B[39m\u001B[38;5;124m_name\u001B[39m\u001B[38;5;124m'\u001B[39m, _get_name(\u001B[38;5;28mself\u001B[39m))\n\u001B[1;32m---> 81\u001B[0m \u001B[38;5;28;01mdef\u001B[39;00m \u001B[38;5;21m__call__\u001B[39m(\u001B[38;5;28mself\u001B[39m, x, \u001B[38;5;241m*\u001B[39m\u001B[38;5;241m*\u001B[39mkwargs): \u001B[38;5;28;01mreturn\u001B[39;00m \u001B[38;5;28mself\u001B[39m\u001B[38;5;241m.\u001B[39m_call(\u001B[38;5;124m'\u001B[39m\u001B[38;5;124mencodes\u001B[39m\u001B[38;5;124m'\u001B[39m, x, \u001B[38;5;241m*\u001B[39m\u001B[38;5;241m*\u001B[39mkwargs)\n\u001B[0;32m     82\u001B[0m \u001B[38;5;28;01mdef\u001B[39;00m \u001B[38;5;21mdecode\u001B[39m  (\u001B[38;5;28mself\u001B[39m, x, \u001B[38;5;241m*\u001B[39m\u001B[38;5;241m*\u001B[39mkwargs): \u001B[38;5;28;01mreturn\u001B[39;00m \u001B[38;5;28mself\u001B[39m\u001B[38;5;241m.\u001B[39m_call(\u001B[38;5;124m'\u001B[39m\u001B[38;5;124mdecodes\u001B[39m\u001B[38;5;124m'\u001B[39m, x, \u001B[38;5;241m*\u001B[39m\u001B[38;5;241m*\u001B[39mkwargs)\n\u001B[0;32m     83\u001B[0m \u001B[38;5;28;01mdef\u001B[39;00m \u001B[38;5;21m__repr__\u001B[39m(\u001B[38;5;28mself\u001B[39m): \u001B[38;5;28;01mreturn\u001B[39;00m \u001B[38;5;124mf\u001B[39m\u001B[38;5;124m'\u001B[39m\u001B[38;5;132;01m{\u001B[39;00m\u001B[38;5;28mself\u001B[39m\u001B[38;5;241m.\u001B[39mname\u001B[38;5;132;01m}\u001B[39;00m\u001B[38;5;124m:\u001B[39m\u001B[38;5;130;01m\\n\u001B[39;00m\u001B[38;5;124mencodes: \u001B[39m\u001B[38;5;132;01m{\u001B[39;00m\u001B[38;5;28mself\u001B[39m\u001B[38;5;241m.\u001B[39mencodes\u001B[38;5;132;01m}\u001B[39;00m\u001B[38;5;124mdecodes: \u001B[39m\u001B[38;5;132;01m{\u001B[39;00m\u001B[38;5;28mself\u001B[39m\u001B[38;5;241m.\u001B[39mdecodes\u001B[38;5;132;01m}\u001B[39;00m\u001B[38;5;124m'\u001B[39m\n",
      "File \u001B[1;32m~\\PycharmProjects\\ML_Notes\\venv\\lib\\site-packages\\fastcore\\transform.py:91\u001B[0m, in \u001B[0;36mTransform._call\u001B[1;34m(self, fn, x, split_idx, **kwargs)\u001B[0m\n\u001B[0;32m     89\u001B[0m \u001B[38;5;28;01mdef\u001B[39;00m \u001B[38;5;21m_call\u001B[39m(\u001B[38;5;28mself\u001B[39m, fn, x, split_idx\u001B[38;5;241m=\u001B[39m\u001B[38;5;28;01mNone\u001B[39;00m, \u001B[38;5;241m*\u001B[39m\u001B[38;5;241m*\u001B[39mkwargs):\n\u001B[0;32m     90\u001B[0m     \u001B[38;5;28;01mif\u001B[39;00m split_idx\u001B[38;5;241m!=\u001B[39m\u001B[38;5;28mself\u001B[39m\u001B[38;5;241m.\u001B[39msplit_idx \u001B[38;5;129;01mand\u001B[39;00m \u001B[38;5;28mself\u001B[39m\u001B[38;5;241m.\u001B[39msplit_idx \u001B[38;5;129;01mis\u001B[39;00m \u001B[38;5;129;01mnot\u001B[39;00m \u001B[38;5;28;01mNone\u001B[39;00m: \u001B[38;5;28;01mreturn\u001B[39;00m x\n\u001B[1;32m---> 91\u001B[0m     \u001B[38;5;28;01mreturn\u001B[39;00m \u001B[38;5;28mself\u001B[39m\u001B[38;5;241m.\u001B[39m_do_call(\u001B[38;5;28mgetattr\u001B[39m(\u001B[38;5;28mself\u001B[39m, fn), x, \u001B[38;5;241m*\u001B[39m\u001B[38;5;241m*\u001B[39mkwargs)\n",
      "File \u001B[1;32m~\\PycharmProjects\\ML_Notes\\venv\\lib\\site-packages\\fastcore\\transform.py:97\u001B[0m, in \u001B[0;36mTransform._do_call\u001B[1;34m(self, f, x, **kwargs)\u001B[0m\n\u001B[0;32m     95\u001B[0m     \u001B[38;5;28;01mif\u001B[39;00m f \u001B[38;5;129;01mis\u001B[39;00m \u001B[38;5;28;01mNone\u001B[39;00m: \u001B[38;5;28;01mreturn\u001B[39;00m x\n\u001B[0;32m     96\u001B[0m     ret \u001B[38;5;241m=\u001B[39m f\u001B[38;5;241m.\u001B[39mreturns(x) \u001B[38;5;28;01mif\u001B[39;00m \u001B[38;5;28mhasattr\u001B[39m(f,\u001B[38;5;124m'\u001B[39m\u001B[38;5;124mreturns\u001B[39m\u001B[38;5;124m'\u001B[39m) \u001B[38;5;28;01melse\u001B[39;00m \u001B[38;5;28;01mNone\u001B[39;00m\n\u001B[1;32m---> 97\u001B[0m     \u001B[38;5;28;01mreturn\u001B[39;00m retain_type(f(x, \u001B[38;5;241m*\u001B[39m\u001B[38;5;241m*\u001B[39mkwargs), x, ret)\n\u001B[0;32m     98\u001B[0m res \u001B[38;5;241m=\u001B[39m \u001B[38;5;28mtuple\u001B[39m(\u001B[38;5;28mself\u001B[39m\u001B[38;5;241m.\u001B[39m_do_call(f, x_, \u001B[38;5;241m*\u001B[39m\u001B[38;5;241m*\u001B[39mkwargs) \u001B[38;5;28;01mfor\u001B[39;00m x_ \u001B[38;5;129;01min\u001B[39;00m x)\n\u001B[0;32m     99\u001B[0m \u001B[38;5;28;01mreturn\u001B[39;00m retain_type(res, x)\n",
      "File \u001B[1;32m~\\PycharmProjects\\ML_Notes\\venv\\lib\\site-packages\\fastcore\\dispatch.py:120\u001B[0m, in \u001B[0;36mTypeDispatch.__call__\u001B[1;34m(self, *args, **kwargs)\u001B[0m\n\u001B[0;32m    118\u001B[0m \u001B[38;5;28;01melif\u001B[39;00m \u001B[38;5;28mself\u001B[39m\u001B[38;5;241m.\u001B[39minst \u001B[38;5;129;01mis\u001B[39;00m \u001B[38;5;129;01mnot\u001B[39;00m \u001B[38;5;28;01mNone\u001B[39;00m: f \u001B[38;5;241m=\u001B[39m MethodType(f, \u001B[38;5;28mself\u001B[39m\u001B[38;5;241m.\u001B[39minst)\n\u001B[0;32m    119\u001B[0m \u001B[38;5;28;01melif\u001B[39;00m \u001B[38;5;28mself\u001B[39m\u001B[38;5;241m.\u001B[39mowner \u001B[38;5;129;01mis\u001B[39;00m \u001B[38;5;129;01mnot\u001B[39;00m \u001B[38;5;28;01mNone\u001B[39;00m: f \u001B[38;5;241m=\u001B[39m MethodType(f, \u001B[38;5;28mself\u001B[39m\u001B[38;5;241m.\u001B[39mowner)\n\u001B[1;32m--> 120\u001B[0m \u001B[38;5;28;01mreturn\u001B[39;00m f(\u001B[38;5;241m*\u001B[39margs, \u001B[38;5;241m*\u001B[39m\u001B[38;5;241m*\u001B[39mkwargs)\n",
      "File \u001B[1;32m~\\PycharmProjects\\ML_Notes\\venv\\lib\\site-packages\\fastai\\vision\\core.py:125\u001B[0m, in \u001B[0;36mPILBase.create\u001B[1;34m(cls, fn, **kwargs)\u001B[0m\n\u001B[0;32m    123\u001B[0m \u001B[38;5;28;01mif\u001B[39;00m \u001B[38;5;28misinstance\u001B[39m(fn,\u001B[38;5;28mbytes\u001B[39m): fn \u001B[38;5;241m=\u001B[39m io\u001B[38;5;241m.\u001B[39mBytesIO(fn)\n\u001B[0;32m    124\u001B[0m \u001B[38;5;28;01mif\u001B[39;00m \u001B[38;5;28misinstance\u001B[39m(fn,Image\u001B[38;5;241m.\u001B[39mImage): \u001B[38;5;28;01mreturn\u001B[39;00m \u001B[38;5;28mcls\u001B[39m(fn)\n\u001B[1;32m--> 125\u001B[0m \u001B[38;5;28;01mreturn\u001B[39;00m \u001B[38;5;28mcls\u001B[39m(load_image(fn, \u001B[38;5;241m*\u001B[39m\u001B[38;5;241m*\u001B[39mmerge(\u001B[38;5;28mcls\u001B[39m\u001B[38;5;241m.\u001B[39m_open_args, kwargs)))\n",
      "File \u001B[1;32m~\\PycharmProjects\\ML_Notes\\venv\\lib\\site-packages\\fastai\\vision\\core.py:98\u001B[0m, in \u001B[0;36mload_image\u001B[1;34m(fn, mode)\u001B[0m\n\u001B[0;32m     96\u001B[0m \u001B[38;5;28;01mdef\u001B[39;00m \u001B[38;5;21mload_image\u001B[39m(fn, mode\u001B[38;5;241m=\u001B[39m\u001B[38;5;28;01mNone\u001B[39;00m):\n\u001B[0;32m     97\u001B[0m     \u001B[38;5;124m\"\u001B[39m\u001B[38;5;124mOpen and load a `PIL.Image` and convert to `mode`\u001B[39m\u001B[38;5;124m\"\u001B[39m\n\u001B[1;32m---> 98\u001B[0m     im \u001B[38;5;241m=\u001B[39m \u001B[43mImage\u001B[49m\u001B[38;5;241;43m.\u001B[39;49m\u001B[43mopen\u001B[49m\u001B[43m(\u001B[49m\u001B[43mfn\u001B[49m\u001B[43m)\u001B[49m\n\u001B[0;32m     99\u001B[0m     im\u001B[38;5;241m.\u001B[39mload()\n\u001B[0;32m    100\u001B[0m     im \u001B[38;5;241m=\u001B[39m im\u001B[38;5;241m.\u001B[39m_new(im\u001B[38;5;241m.\u001B[39mim)\n",
      "File \u001B[1;32m~\\PycharmProjects\\ML_Notes\\venv\\lib\\site-packages\\PIL\\Image.py:3247\u001B[0m, in \u001B[0;36mopen\u001B[1;34m(fp, mode, formats)\u001B[0m\n\u001B[0;32m   3244\u001B[0m     filename \u001B[38;5;241m=\u001B[39m fp\n\u001B[0;32m   3246\u001B[0m \u001B[38;5;28;01mif\u001B[39;00m filename:\n\u001B[1;32m-> 3247\u001B[0m     fp \u001B[38;5;241m=\u001B[39m \u001B[43mbuiltins\u001B[49m\u001B[38;5;241;43m.\u001B[39;49m\u001B[43mopen\u001B[49m\u001B[43m(\u001B[49m\u001B[43mfilename\u001B[49m\u001B[43m,\u001B[49m\u001B[43m \u001B[49m\u001B[38;5;124;43m\"\u001B[39;49m\u001B[38;5;124;43mrb\u001B[39;49m\u001B[38;5;124;43m\"\u001B[39;49m\u001B[43m)\u001B[49m\n\u001B[0;32m   3248\u001B[0m     exclusive_fp \u001B[38;5;241m=\u001B[39m \u001B[38;5;28;01mTrue\u001B[39;00m\n\u001B[0;32m   3250\u001B[0m \u001B[38;5;28;01mtry\u001B[39;00m:\n",
      "\u001B[1;31mFileNotFoundError\u001B[0m: [Errno 2] No such file or directory: '000012.jpg'"
     ]
    }
   ],
   "source": [
    "dblock = DataBlock(\n",
    "    blocks=(ImageBlock, MultiCategoryBlock),\n",
    "    splitter=splitter,\n",
    "    get_x=get_x,\n",
    "    get_y=get_y,\n",
    "    item_tfms=RandomResizedCrop(128, min_scale=0.35)\n",
    ")\n",
    "dls = dblock.dataloaders(df)"
   ],
   "metadata": {
    "collapsed": false,
    "ExecuteTime": {
     "end_time": "2024-02-01T09:59:28.412943800Z",
     "start_time": "2024-02-01T09:59:27.388988Z"
    }
   },
   "id": "31fb036b3e88d71f",
   "execution_count": 6
  },
  {
   "cell_type": "code",
   "outputs": [],
   "source": [
    "dsets = dblock.datasets(df)"
   ],
   "metadata": {
    "collapsed": false,
    "ExecuteTime": {
     "start_time": "2024-02-01T09:59:28.385938300Z"
    }
   },
   "id": "d8e9f0333ea835cd",
   "execution_count": null
  },
  {
   "cell_type": "code",
   "outputs": [],
   "source": [
    "dsets.train[0]"
   ],
   "metadata": {
    "collapsed": false,
    "ExecuteTime": {
     "start_time": "2024-02-01T09:59:28.386938400Z"
    }
   },
   "id": "1528952e45b7c5f4",
   "execution_count": null
  },
  {
   "cell_type": "code",
   "outputs": [],
   "source": [
    "idxs = torch.where(dsets.train[0][1] == 1.)[0]\n",
    "dsets.train.vocab[idxs]"
   ],
   "metadata": {
    "collapsed": false,
    "ExecuteTime": {
     "start_time": "2024-02-01T09:59:28.387938700Z"
    }
   },
   "id": "b22d084d132a2f4d",
   "execution_count": null
  },
  {
   "cell_type": "code",
   "outputs": [],
   "source": [
    "dls.show_batch(nrows=1, ncols = 3)"
   ],
   "metadata": {
    "collapsed": false,
    "ExecuteTime": {
     "start_time": "2024-02-01T09:59:28.388938800Z"
    }
   },
   "id": "b7040fe84d34a62"
  },
  {
   "cell_type": "code",
   "outputs": [],
   "source": [
    "learn = visual_learner(dls, resnet18)"
   ],
   "metadata": {
    "collapsed": false,
    "ExecuteTime": {
     "start_time": "2024-02-01T09:59:28.390939300Z"
    }
   },
   "id": "3ddda4838c7f36d9"
  },
  {
   "cell_type": "code",
   "outputs": [],
   "source": [
    "x, y = dls.train.one_batch()\n",
    "activs = learn.model(x)\n",
    "activs.shape"
   ],
   "metadata": {
    "collapsed": false,
    "ExecuteTime": {
     "start_time": "2024-02-01T09:59:28.391939300Z"
    }
   },
   "id": "96a91a4d588b0af6"
  },
  {
   "cell_type": "code",
   "outputs": [],
   "source": [
    "activs[0]"
   ],
   "metadata": {
    "collapsed": false,
    "ExecuteTime": {
     "start_time": "2024-02-01T09:59:28.393939900Z"
    }
   },
   "id": "a940b75e19e1d578"
  },
  {
   "cell_type": "code",
   "outputs": [],
   "source": [
    "def binary_cross_entropy(inputs, targets):\n",
    "    inputs = inputs.sigmoid()\n",
    "    return -torch.where(targets == 1, 1 - inputs, inputs).log().mean()"
   ],
   "metadata": {
    "collapsed": false,
    "ExecuteTime": {
     "start_time": "2024-02-01T09:59:28.394940200Z"
    }
   },
   "id": "5c58cccf742abf8"
  },
  {
   "cell_type": "code",
   "outputs": [],
   "source": [
    "loss_func = nn.BCEWighLogitsLoss()\n",
    "loss = loss_func(activs, y)\n",
    "loss"
   ],
   "metadata": {
    "collapsed": false,
    "ExecuteTime": {
     "start_time": "2024-02-01T09:59:28.395940500Z"
    }
   },
   "id": "49763ec4c0705e19"
  },
  {
   "cell_type": "code",
   "outputs": [],
   "source": [
    "def accuracy(inp, targ, axis=-1):\n",
    "    pred = inp.argmax(axis=axis)\n",
    "    return (pred == targ).float().mean()"
   ],
   "metadata": {
    "collapsed": false,
    "ExecuteTime": {
     "start_time": "2024-02-01T09:59:28.396940800Z"
    }
   },
   "id": "69b223e2a008f200"
  },
  {
   "cell_type": "code",
   "outputs": [],
   "source": [
    "def accuracy_multi(inp, targ, thresh=0.5, sigmoid=True):\n",
    "    if sigmoid: inp = inp.sigmoid()\n",
    "    return ((inp>thresh)==targ.bool()).float().mean()"
   ],
   "metadata": {
    "collapsed": false,
    "ExecuteTime": {
     "start_time": "2024-02-01T09:59:28.398941300Z"
    }
   },
   "id": "49da0205807290e8"
  },
  {
   "cell_type": "code",
   "outputs": [],
   "source": [],
   "metadata": {
    "collapsed": false
   },
   "id": "9ada73e4e5cf7c01"
  }
 ],
 "metadata": {
  "kernelspec": {
   "display_name": "Python 3",
   "language": "python",
   "name": "python3"
  },
  "language_info": {
   "codemirror_mode": {
    "name": "ipython",
    "version": 2
   },
   "file_extension": ".py",
   "mimetype": "text/x-python",
   "name": "python",
   "nbconvert_exporter": "python",
   "pygments_lexer": "ipython2",
   "version": "2.7.6"
  }
 },
 "nbformat": 4,
 "nbformat_minor": 5
}
