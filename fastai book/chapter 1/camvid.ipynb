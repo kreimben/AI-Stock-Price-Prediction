{
 "cells": [
  {
   "cell_type": "markdown",
   "source": [
    "# CamVid Example"
   ],
   "metadata": {
    "collapsed": false
   },
   "id": "b053a4f4ce653de"
  },
  {
   "cell_type": "code",
   "execution_count": null,
   "id": "initial_id",
   "metadata": {
    "collapsed": true
   },
   "outputs": [],
   "source": [
    "from fastai.vision.all import *\n",
    "\n",
    "path = untar_data(URLs.CAMVID_TINY)\n",
    "dls = SegmentationDataLoaders.from_label_func(\n",
    "    path, bs=8, fnames=get_image_files(path / \"images\"),\n",
    "    label_func=lambda o: path / 'labels' / f'{o.stem}_P{o.suffix}',\n",
    "    codes=np.loadtxt(path / 'codes.txt', dtype=str)\n",
    ")\n",
    "\n",
    "learn = unet_learner(dls, resnet34)\n",
    "learn.fine_tune(8)"
   ]
  },
  {
   "cell_type": "code",
   "execution_count": null,
   "outputs": [],
   "source": [
    "learn.show_results(max_n=6, figsize=(7, 8))"
   ],
   "metadata": {
    "collapsed": false
   },
   "id": "d8dbf335cb443f4"
  }
 ],
 "metadata": {
  "kernelspec": {
   "display_name": "Python 3",
   "language": "python",
   "name": "python3"
  },
  "language_info": {
   "codemirror_mode": {
    "name": "ipython",
    "version": 2
   },
   "file_extension": ".py",
   "mimetype": "text/x-python",
   "name": "python",
   "nbconvert_exporter": "python",
   "pygments_lexer": "ipython2",
   "version": "2.7.6"
  }
 },
 "nbformat": 4,
 "nbformat_minor": 5
}
