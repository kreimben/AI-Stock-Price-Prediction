{
 "cells": [
  {
   "cell_type": "code",
   "execution_count": 1,
   "id": "initial_id",
   "metadata": {
    "collapsed": true,
    "ExecuteTime": {
     "end_time": "2023-12-21T09:16:29.599557Z",
     "start_time": "2023-12-21T09:16:29.588126Z"
    }
   },
   "outputs": [],
   "source": [
    "#NB: Kaggle requires phone verification to use the internet or a GPU. If you haven't done that yet, the cell below will fail\n",
    "#    This code is only here to check that your internet is enabled. It doesn't do anything else.\n",
    "#    Here's a help thread on getting your phone number verified: https://www.kaggle.com/product-feedback/135367\n",
    "\n",
    "import socket,warnings\n",
    "try:\n",
    "    socket.setdefaulttimeout(1)\n",
    "    socket.socket(socket.AF_INET, socket.SOCK_STREAM).connect(('1.1.1.1', 53))\n",
    "except socket.error as ex: raise Exception(\"STOP: No internet. Click '>|' in top right and set 'Internet' switch to on\")"
   ]
  },
  {
   "cell_type": "markdown",
   "source": [],
   "metadata": {
    "collapsed": false
   },
   "id": "b62f0a8eab73dd2c"
  },
  {
   "cell_type": "code",
   "execution_count": null,
   "outputs": [],
   "source": [
    "# It's a good idea to ensure you're running the latest version of any libraries you need.\n",
    "# `!pip install -Uqq <libraries>` upgrades to the latest version of <libraries>\n",
    "# NB: You can safely ignore any warnings or errors pip spits out about running as root or incompatibilities\n",
    "import os\n",
    "iskaggle = os.environ.get('KAGGLE_KERNEL_RUN_TYPE', '')\n",
    "\n",
    "if iskaggle:\n",
    "    !pip install -Uqq fastai duckduckgo_search"
   ],
   "metadata": {
    "collapsed": false
   },
   "id": "65e85237008aab1c"
  },
  {
   "cell_type": "markdown",
   "source": [
    "But today, we can do exactly that, in just a few minutes, using entirely free resources!\n",
    "\n",
    "The basic steps we'll take are:\n",
    "\n",
    "Use DuckDuckGo to search for images of \"bird photos\"\n",
    "Use DuckDuckGo to search for images of \"forest photos\"\n",
    "Fine-tune a pretrained neural network to recognise these two groups\n",
    "Try running this model on a picture of a bird and see if it works."
   ],
   "metadata": {
    "collapsed": false
   },
   "id": "8d5b97635b41fad2"
  },
  {
   "cell_type": "markdown",
   "source": [
    "## Step 1: Download images of birds and non-birds"
   ],
   "metadata": {
    "collapsed": false
   },
   "id": "97394663fa3bd2c7"
  },
  {
   "cell_type": "code",
   "execution_count": null,
   "outputs": [],
   "source": [
    "from duckduckgo_search import ddg_images\n",
    "from fastcore.all import *\n",
    "\n",
    "def search_images(term, max_images=30):\n",
    "    print(f\"Searching for '{term}'\")\n",
    "    return L(ddg_images(term, max_results=max_images)).itemgot('image')"
   ],
   "metadata": {
    "collapsed": false
   },
   "id": "589cd06f9222f343"
  },
  {
   "cell_type": "markdown",
   "source": [
    "Let's start by searching for a bird photo and seeing what kind of result we get. We'll start by getting URLs from a search:\n"
   ],
   "metadata": {
    "collapsed": false
   },
   "id": "23e452fddd66a75c"
  }
 ],
 "metadata": {
  "kernelspec": {
   "display_name": "Python 3",
   "language": "python",
   "name": "python3"
  },
  "language_info": {
   "codemirror_mode": {
    "name": "ipython",
    "version": 2
   },
   "file_extension": ".py",
   "mimetype": "text/x-python",
   "name": "python",
   "nbconvert_exporter": "python",
   "pygments_lexer": "ipython2",
   "version": "2.7.6"
  }
 },
 "nbformat": 4,
 "nbformat_minor": 5
}
