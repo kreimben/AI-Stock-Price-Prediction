{
 "cells": [
  {
   "cell_type": "markdown",
   "source": [
    "# Titanic Tutorial\n",
    "### Solving Date: Jan 5th, 2024 ~ Jan 7th, 2024\n",
    "#### Written by: [Jehwan Kim](https://github.com/kreimben)\n",
    "#### Followed Materials:\n",
    "* https://www.kaggle.com/competitions/titanic/data\n",
    "* https://www.kaggle.com/code/prashant111/a-reference-guide-to-feature-engineering-methods\n",
    "* https://www.kaggle.com/learn/feature-engineering\n",
    "* https://velog.io/@baeyuna97/Feature-engineering%EC%9D%B4%EB%9E%80\n",
    "* https://www.kaggle.com/code/aimack/how-to-handle-skewed-distribution"
   ],
   "metadata": {
    "collapsed": false
   },
   "id": "a1d9f32090930847"
  },
  {
   "cell_type": "markdown",
   "source": [
    "# Load datasets"
   ],
   "metadata": {
    "collapsed": false
   },
   "id": "1762840b2683ceaf"
  },
  {
   "cell_type": "code",
   "outputs": [],
   "source": [
    "import numpy as np\n",
    "import pandas as pd\n",
    "import seaborn as sns\n",
    "import missingno as msno\n",
    "import matplotlib.pyplot as plt\n",
    "from sklearn.model_selection import train_test_split\n",
    "from sklearn.linear_model import LogisticRegression\n",
    "from scipy import stats\n",
    "from sklearn.neighbors import KNeighborsClassifier\n",
    "from sklearn.svm import SVC\n",
    "\n",
    "%matplotlib inline"
   ],
   "metadata": {
    "collapsed": false,
    "ExecuteTime": {
     "end_time": "2024-01-07T14:13:28.155733Z",
     "start_time": "2024-01-07T14:13:27.810041Z"
    }
   },
   "id": "90cf16f041e09357",
   "execution_count": 1
  },
  {
   "cell_type": "code",
   "outputs": [],
   "source": [
    "df = pd.read_csv('train.csv')\n",
    "test = pd.read_csv('test.csv')"
   ],
   "metadata": {
    "collapsed": false,
    "ExecuteTime": {
     "end_time": "2024-01-07T14:13:28.191873Z",
     "start_time": "2024-01-07T14:13:28.155599Z"
    }
   },
   "id": "cf2f96706b7d1fdd",
   "execution_count": 2
  },
  {
   "cell_type": "code",
   "outputs": [
    {
     "data": {
      "text/plain": "   PassengerId  Survived  Pclass  \\\n0            1         0       3   \n1            2         1       1   \n\n                                                Name     Sex   Age  SibSp  \\\n0                            Braund, Mr. Owen Harris    male  22.0      1   \n1  Cumings, Mrs. John Bradley (Florence Briggs Th...  female  38.0      1   \n\n   Parch     Ticket     Fare Cabin Embarked  \n0      0  A/5 21171   7.2500   NaN        S  \n1      0   PC 17599  71.2833   C85        C  ",
      "text/html": "<div>\n<style scoped>\n    .dataframe tbody tr th:only-of-type {\n        vertical-align: middle;\n    }\n\n    .dataframe tbody tr th {\n        vertical-align: top;\n    }\n\n    .dataframe thead th {\n        text-align: right;\n    }\n</style>\n<table border=\"1\" class=\"dataframe\">\n  <thead>\n    <tr style=\"text-align: right;\">\n      <th></th>\n      <th>PassengerId</th>\n      <th>Survived</th>\n      <th>Pclass</th>\n      <th>Name</th>\n      <th>Sex</th>\n      <th>Age</th>\n      <th>SibSp</th>\n      <th>Parch</th>\n      <th>Ticket</th>\n      <th>Fare</th>\n      <th>Cabin</th>\n      <th>Embarked</th>\n    </tr>\n  </thead>\n  <tbody>\n    <tr>\n      <th>0</th>\n      <td>1</td>\n      <td>0</td>\n      <td>3</td>\n      <td>Braund, Mr. Owen Harris</td>\n      <td>male</td>\n      <td>22.0</td>\n      <td>1</td>\n      <td>0</td>\n      <td>A/5 21171</td>\n      <td>7.2500</td>\n      <td>NaN</td>\n      <td>S</td>\n    </tr>\n    <tr>\n      <th>1</th>\n      <td>2</td>\n      <td>1</td>\n      <td>1</td>\n      <td>Cumings, Mrs. John Bradley (Florence Briggs Th...</td>\n      <td>female</td>\n      <td>38.0</td>\n      <td>1</td>\n      <td>0</td>\n      <td>PC 17599</td>\n      <td>71.2833</td>\n      <td>C85</td>\n      <td>C</td>\n    </tr>\n  </tbody>\n</table>\n</div>"
     },
     "execution_count": 3,
     "metadata": {},
     "output_type": "execute_result"
    }
   ],
   "source": [
    "df.head(2)"
   ],
   "metadata": {
    "collapsed": false,
    "ExecuteTime": {
     "end_time": "2024-01-07T14:13:28.244808Z",
     "start_time": "2024-01-07T14:13:28.189833Z"
    }
   },
   "id": "6b9d6ed512de5208",
   "execution_count": 3
  },
  {
   "cell_type": "code",
   "outputs": [
    {
     "data": {
      "text/plain": "       PassengerId    Survived      Pclass         Age       SibSp  \\\ncount   891.000000  891.000000  891.000000  714.000000  891.000000   \nmean    446.000000    0.383838    2.308642   29.699118    0.523008   \nstd     257.353842    0.486592    0.836071   14.526497    1.102743   \nmin       1.000000    0.000000    1.000000    0.420000    0.000000   \n25%     223.500000    0.000000    2.000000   20.125000    0.000000   \n50%     446.000000    0.000000    3.000000   28.000000    0.000000   \n75%     668.500000    1.000000    3.000000   38.000000    1.000000   \nmax     891.000000    1.000000    3.000000   80.000000    8.000000   \n\n            Parch        Fare  \ncount  891.000000  891.000000  \nmean     0.381594   32.204208  \nstd      0.806057   49.693429  \nmin      0.000000    0.000000  \n25%      0.000000    7.910400  \n50%      0.000000   14.454200  \n75%      0.000000   31.000000  \nmax      6.000000  512.329200  ",
      "text/html": "<div>\n<style scoped>\n    .dataframe tbody tr th:only-of-type {\n        vertical-align: middle;\n    }\n\n    .dataframe tbody tr th {\n        vertical-align: top;\n    }\n\n    .dataframe thead th {\n        text-align: right;\n    }\n</style>\n<table border=\"1\" class=\"dataframe\">\n  <thead>\n    <tr style=\"text-align: right;\">\n      <th></th>\n      <th>PassengerId</th>\n      <th>Survived</th>\n      <th>Pclass</th>\n      <th>Age</th>\n      <th>SibSp</th>\n      <th>Parch</th>\n      <th>Fare</th>\n    </tr>\n  </thead>\n  <tbody>\n    <tr>\n      <th>count</th>\n      <td>891.000000</td>\n      <td>891.000000</td>\n      <td>891.000000</td>\n      <td>714.000000</td>\n      <td>891.000000</td>\n      <td>891.000000</td>\n      <td>891.000000</td>\n    </tr>\n    <tr>\n      <th>mean</th>\n      <td>446.000000</td>\n      <td>0.383838</td>\n      <td>2.308642</td>\n      <td>29.699118</td>\n      <td>0.523008</td>\n      <td>0.381594</td>\n      <td>32.204208</td>\n    </tr>\n    <tr>\n      <th>std</th>\n      <td>257.353842</td>\n      <td>0.486592</td>\n      <td>0.836071</td>\n      <td>14.526497</td>\n      <td>1.102743</td>\n      <td>0.806057</td>\n      <td>49.693429</td>\n    </tr>\n    <tr>\n      <th>min</th>\n      <td>1.000000</td>\n      <td>0.000000</td>\n      <td>1.000000</td>\n      <td>0.420000</td>\n      <td>0.000000</td>\n      <td>0.000000</td>\n      <td>0.000000</td>\n    </tr>\n    <tr>\n      <th>25%</th>\n      <td>223.500000</td>\n      <td>0.000000</td>\n      <td>2.000000</td>\n      <td>20.125000</td>\n      <td>0.000000</td>\n      <td>0.000000</td>\n      <td>7.910400</td>\n    </tr>\n    <tr>\n      <th>50%</th>\n      <td>446.000000</td>\n      <td>0.000000</td>\n      <td>3.000000</td>\n      <td>28.000000</td>\n      <td>0.000000</td>\n      <td>0.000000</td>\n      <td>14.454200</td>\n    </tr>\n    <tr>\n      <th>75%</th>\n      <td>668.500000</td>\n      <td>1.000000</td>\n      <td>3.000000</td>\n      <td>38.000000</td>\n      <td>1.000000</td>\n      <td>0.000000</td>\n      <td>31.000000</td>\n    </tr>\n    <tr>\n      <th>max</th>\n      <td>891.000000</td>\n      <td>1.000000</td>\n      <td>3.000000</td>\n      <td>80.000000</td>\n      <td>8.000000</td>\n      <td>6.000000</td>\n      <td>512.329200</td>\n    </tr>\n  </tbody>\n</table>\n</div>"
     },
     "execution_count": 4,
     "metadata": {},
     "output_type": "execute_result"
    }
   ],
   "source": [
    "df.describe()"
   ],
   "metadata": {
    "collapsed": false,
    "ExecuteTime": {
     "end_time": "2024-01-07T14:13:28.266359Z",
     "start_time": "2024-01-07T14:13:28.243562Z"
    }
   },
   "id": "1e5e84d6031d32a",
   "execution_count": 4
  },
  {
   "cell_type": "markdown",
   "source": [
    "There are not seem to be there which is not numeric."
   ],
   "metadata": {
    "collapsed": false
   },
   "id": "4a5e8cf3ee966fdb"
  },
  {
   "cell_type": "code",
   "outputs": [
    {
     "name": "stdout",
     "output_type": "stream",
     "text": [
      "<class 'pandas.core.frame.DataFrame'>\n",
      "RangeIndex: 891 entries, 0 to 890\n",
      "Data columns (total 12 columns):\n",
      " #   Column       Non-Null Count  Dtype  \n",
      "---  ------       --------------  -----  \n",
      " 0   PassengerId  891 non-null    int64  \n",
      " 1   Survived     891 non-null    int64  \n",
      " 2   Pclass       891 non-null    int64  \n",
      " 3   Name         891 non-null    object \n",
      " 4   Sex          891 non-null    object \n",
      " 5   Age          714 non-null    float64\n",
      " 6   SibSp        891 non-null    int64  \n",
      " 7   Parch        891 non-null    int64  \n",
      " 8   Ticket       891 non-null    object \n",
      " 9   Fare         891 non-null    float64\n",
      " 10  Cabin        204 non-null    object \n",
      " 11  Embarked     889 non-null    object \n",
      "dtypes: float64(2), int64(5), object(5)\n",
      "memory usage: 83.7+ KB\n"
     ]
    }
   ],
   "source": [
    "df.info()"
   ],
   "metadata": {
    "collapsed": false,
    "ExecuteTime": {
     "end_time": "2024-01-07T14:13:28.310439Z",
     "start_time": "2024-01-07T14:13:28.263678Z"
    }
   },
   "id": "1fc4cc2e6d1c3767",
   "execution_count": 5
  },
  {
   "cell_type": "markdown",
   "source": [
    "`Cabin`과 `Age`에 빈값들이 많다. 채우거나 버리거나 둘중에 하나를 해야할 것 같다.\n",
    "특이하게 `Embarked`에는 빈값이 2개밖에 없다. 그냥 최빈값을 넣어도 영향을 주지 않을것 같다."
   ],
   "metadata": {
    "collapsed": false
   },
   "id": "bd8b349371d92c86"
  },
  {
   "cell_type": "code",
   "outputs": [],
   "source": [
    "# before continue, just convert `sex` value (string to binary)\n",
    "df['Sex'] = df.Sex.apply(lambda x: 0 if x == 'male' else 1)\n",
    "test['Sex'] = test.Sex.apply(lambda x: 0 if x == 'male' else 1)"
   ],
   "metadata": {
    "collapsed": false,
    "ExecuteTime": {
     "end_time": "2024-01-07T14:13:28.390937Z",
     "start_time": "2024-01-07T14:13:28.282989Z"
    }
   },
   "id": "6018519d7b0a99a0",
   "execution_count": 6
  },
  {
   "cell_type": "code",
   "outputs": [
    {
     "data": {
      "text/plain": "                                           Name  Sex\n0                              Kelly, Mr. James    0\n1              Wilkes, Mrs. James (Ellen Needs)    1\n2                     Myles, Mr. Thomas Francis    0\n3                              Wirz, Mr. Albert    0\n4  Hirvonen, Mrs. Alexander (Helga E Lindqvist)    1",
      "text/html": "<div>\n<style scoped>\n    .dataframe tbody tr th:only-of-type {\n        vertical-align: middle;\n    }\n\n    .dataframe tbody tr th {\n        vertical-align: top;\n    }\n\n    .dataframe thead th {\n        text-align: right;\n    }\n</style>\n<table border=\"1\" class=\"dataframe\">\n  <thead>\n    <tr style=\"text-align: right;\">\n      <th></th>\n      <th>Name</th>\n      <th>Sex</th>\n    </tr>\n  </thead>\n  <tbody>\n    <tr>\n      <th>0</th>\n      <td>Kelly, Mr. James</td>\n      <td>0</td>\n    </tr>\n    <tr>\n      <th>1</th>\n      <td>Wilkes, Mrs. James (Ellen Needs)</td>\n      <td>1</td>\n    </tr>\n    <tr>\n      <th>2</th>\n      <td>Myles, Mr. Thomas Francis</td>\n      <td>0</td>\n    </tr>\n    <tr>\n      <th>3</th>\n      <td>Wirz, Mr. Albert</td>\n      <td>0</td>\n    </tr>\n    <tr>\n      <th>4</th>\n      <td>Hirvonen, Mrs. Alexander (Helga E Lindqvist)</td>\n      <td>1</td>\n    </tr>\n  </tbody>\n</table>\n</div>"
     },
     "execution_count": 7,
     "metadata": {},
     "output_type": "execute_result"
    }
   ],
   "source": [
    "df[['Name', 'Sex']].head() # check\n",
    "test[['Name', 'Sex']].head()"
   ],
   "metadata": {
    "collapsed": false,
    "ExecuteTime": {
     "end_time": "2024-01-07T14:13:28.456754Z",
     "start_time": "2024-01-07T14:13:28.344073Z"
    }
   },
   "id": "8ec6b88bf0ccade1",
   "execution_count": 7
  },
  {
   "cell_type": "markdown",
   "source": [
    "## Comparing features against target"
   ],
   "metadata": {
    "collapsed": false
   },
   "id": "9d977a16d49c3db3"
  },
  {
   "cell_type": "markdown",
   "source": [
    "What I have to submit to kaggle is just predicting whether a passenger survived or not."
   ],
   "metadata": {
    "collapsed": false
   },
   "id": "27431635e768ce3c"
  },
  {
   "cell_type": "code",
   "outputs": [
    {
     "data": {
      "text/plain": "Survived\n0    549\n1    342\nName: count, dtype: int64"
     },
     "execution_count": 8,
     "metadata": {},
     "output_type": "execute_result"
    }
   ],
   "source": [
    "df['Survived'].value_counts()"
   ],
   "metadata": {
    "collapsed": false,
    "ExecuteTime": {
     "end_time": "2024-01-07T14:13:28.504685Z",
     "start_time": "2024-01-07T14:13:28.441200Z"
    }
   },
   "id": "51bf07eae60ce571",
   "execution_count": 8
  },
  {
   "cell_type": "code",
   "outputs": [
    {
     "data": {
      "text/plain": "Survived\n0    0.616162\n1    0.383838\nName: proportion, dtype: float64"
     },
     "execution_count": 9,
     "metadata": {},
     "output_type": "execute_result"
    }
   ],
   "source": [
    "df['Survived'].value_counts(normalize=True)  # normalize=True: 비율로 보여줌"
   ],
   "metadata": {
    "collapsed": false,
    "ExecuteTime": {
     "end_time": "2024-01-07T14:13:28.551145Z",
     "start_time": "2024-01-07T14:13:28.493506Z"
    }
   },
   "id": "23211b256472cff2",
   "execution_count": 9
  },
  {
   "cell_type": "code",
   "outputs": [
    {
     "data": {
      "text/plain": "<Axes: xlabel='Survived'>"
     },
     "execution_count": 10,
     "metadata": {},
     "output_type": "execute_result"
    },
    {
     "data": {
      "text/plain": "<Figure size 640x480 with 1 Axes>",
      "image/png": "[encoded data removed]"
     },
     "metadata": {},
     "output_type": "display_data"
    }
   ],
   "source": [
    "df['Survived'].value_counts().plot.bar()  # 단순 생존자 수"
   ],
   "metadata": {
    "collapsed": false,
    "ExecuteTime": {
     "end_time": "2024-01-07T14:13:28.778824Z",
     "start_time": "2024-01-07T14:13:28.552268Z"
    }
   },
   "id": "b9691d23787dbfc6",
   "execution_count": 10
  },
  {
   "cell_type": "code",
   "outputs": [
    {
     "data": {
      "text/plain": "<Axes: xlabel='Survived'>"
     },
     "execution_count": 11,
     "metadata": {},
     "output_type": "execute_result"
    },
    {
     "data": {
      "text/plain": "<Figure size 640x480 with 1 Axes>",
      "image/png": "[encoded data removed]"
     },
     "metadata": {},
     "output_type": "display_data"
    }
   ],
   "source": [
    "df['Survived'].value_counts(normalize=True).plot.bar()  # 단순 생존자 비율"
   ],
   "metadata": {
    "collapsed": false,
    "ExecuteTime": {
     "end_time": "2024-01-07T14:13:28.876806Z",
     "start_time": "2024-01-07T14:13:28.711107Z"
    }
   },
   "id": "c88d0b80706b4885",
   "execution_count": 11
  },
  {
   "cell_type": "code",
   "outputs": [
    {
     "data": {
      "text/plain": "     Survived\nSex          \n0    0.188908\n1    0.742038",
      "text/html": "<div>\n<style scoped>\n    .dataframe tbody tr th:only-of-type {\n        vertical-align: middle;\n    }\n\n    .dataframe tbody tr th {\n        vertical-align: top;\n    }\n\n    .dataframe thead th {\n        text-align: right;\n    }\n</style>\n<table border=\"1\" class=\"dataframe\">\n  <thead>\n    <tr style=\"text-align: right;\">\n      <th></th>\n      <th>Survived</th>\n    </tr>\n    <tr>\n      <th>Sex</th>\n      <th></th>\n    </tr>\n  </thead>\n  <tbody>\n    <tr>\n      <th>0</th>\n      <td>0.188908</td>\n    </tr>\n    <tr>\n      <th>1</th>\n      <td>0.742038</td>\n    </tr>\n  </tbody>\n</table>\n</div>"
     },
     "execution_count": 12,
     "metadata": {},
     "output_type": "execute_result"
    },
    {
     "data": {
      "text/plain": "<Figure size 640x480 with 1 Axes>",
      "image/png": "[encoded data removed]"
     },
     "metadata": {},
     "output_type": "display_data"
    }
   ],
   "source": [
    "df[['Sex', 'Survived']].groupby('Sex').mean().plot.bar()  # 성별 생존자 비율\n",
    "df[['Sex', 'Survived']].groupby('Sex').mean()"
   ],
   "metadata": {
    "collapsed": false,
    "ExecuteTime": {
     "end_time": "2024-01-07T14:13:28.904435Z",
     "start_time": "2024-01-07T14:13:28.798344Z"
    }
   },
   "id": "d2fb1ad5b49d5fb1",
   "execution_count": 12
  },
  {
   "cell_type": "code",
   "outputs": [
    {
     "data": {
      "text/plain": "        Survived\nPclass          \n1       0.629630\n2       0.472826\n3       0.242363",
      "text/html": "<div>\n<style scoped>\n    .dataframe tbody tr th:only-of-type {\n        vertical-align: middle;\n    }\n\n    .dataframe tbody tr th {\n        vertical-align: top;\n    }\n\n    .dataframe thead th {\n        text-align: right;\n    }\n</style>\n<table border=\"1\" class=\"dataframe\">\n  <thead>\n    <tr style=\"text-align: right;\">\n      <th></th>\n      <th>Survived</th>\n    </tr>\n    <tr>\n      <th>Pclass</th>\n      <th></th>\n    </tr>\n  </thead>\n  <tbody>\n    <tr>\n      <th>1</th>\n      <td>0.629630</td>\n    </tr>\n    <tr>\n      <th>2</th>\n      <td>0.472826</td>\n    </tr>\n    <tr>\n      <th>3</th>\n      <td>0.242363</td>\n    </tr>\n  </tbody>\n</table>\n</div>"
     },
     "execution_count": 13,
     "metadata": {},
     "output_type": "execute_result"
    },
    {
     "data": {
      "text/plain": "<Figure size 640x480 with 1 Axes>",
      "image/png": "[encoded data removed]"
     },
     "metadata": {},
     "output_type": "display_data"
    }
   ],
   "source": [
    "df[['Pclass', 'Survived']].groupby('Pclass').mean().plot.bar()  # 좌석 등급별 생존자 비율\n",
    "df[['Pclass', 'Survived']].groupby('Pclass').mean()"
   ],
   "metadata": {
    "collapsed": false,
    "ExecuteTime": {
     "end_time": "2024-01-07T14:13:28.994377Z",
     "start_time": "2024-01-07T14:13:28.885186Z"
    }
   },
   "id": "46a98f6a0441230a",
   "execution_count": 13
  },
  {
   "cell_type": "code",
   "outputs": [
    {
     "data": {
      "text/plain": "            Survived\nSex Pclass          \n0   1       0.368852\n    2       0.157407\n    3       0.135447\n1   1       0.968085\n    2       0.921053\n    3       0.500000",
      "text/html": "<div>\n<style scoped>\n    .dataframe tbody tr th:only-of-type {\n        vertical-align: middle;\n    }\n\n    .dataframe tbody tr th {\n        vertical-align: top;\n    }\n\n    .dataframe thead th {\n        text-align: right;\n    }\n</style>\n<table border=\"1\" class=\"dataframe\">\n  <thead>\n    <tr style=\"text-align: right;\">\n      <th></th>\n      <th></th>\n      <th>Survived</th>\n    </tr>\n    <tr>\n      <th>Sex</th>\n      <th>Pclass</th>\n      <th></th>\n    </tr>\n  </thead>\n  <tbody>\n    <tr>\n      <th rowspan=\"3\" valign=\"top\">0</th>\n      <th>1</th>\n      <td>0.368852</td>\n    </tr>\n    <tr>\n      <th>2</th>\n      <td>0.157407</td>\n    </tr>\n    <tr>\n      <th>3</th>\n      <td>0.135447</td>\n    </tr>\n    <tr>\n      <th rowspan=\"3\" valign=\"top\">1</th>\n      <th>1</th>\n      <td>0.968085</td>\n    </tr>\n    <tr>\n      <th>2</th>\n      <td>0.921053</td>\n    </tr>\n    <tr>\n      <th>3</th>\n      <td>0.500000</td>\n    </tr>\n  </tbody>\n</table>\n</div>"
     },
     "execution_count": 14,
     "metadata": {},
     "output_type": "execute_result"
    },
    {
     "data": {
      "text/plain": "<Figure size 640x480 with 1 Axes>",
      "image/png": "[encoded data removed]"
     },
     "metadata": {},
     "output_type": "display_data"
    }
   ],
   "source": [
    "df[['Sex', 'Pclass', 'Survived']].groupby(['Sex', 'Pclass']).mean().plot.bar()  # 성별, 좌석 등급별 생존자 비율\n",
    "df[['Sex', 'Pclass', 'Survived']].groupby(['Sex', 'Pclass']).mean()"
   ],
   "metadata": {
    "collapsed": false,
    "ExecuteTime": {
     "end_time": "2024-01-07T14:13:29.163018Z",
     "start_time": "2024-01-07T14:13:28.942361Z"
    }
   },
   "id": "60163e6b1bff7fbc",
   "execution_count": 14
  },
  {
   "cell_type": "code",
   "outputs": [
    {
     "data": {
      "text/plain": "count    714.000000\nmean      29.699118\nstd       14.526497\nmin        0.420000\n25%       20.125000\n50%       28.000000\n75%       38.000000\nmax       80.000000\nName: Age, dtype: float64"
     },
     "execution_count": 15,
     "metadata": {},
     "output_type": "execute_result"
    },
    {
     "data": {
      "text/plain": "<Figure size 640x480 with 1 Axes>",
      "image/png": "[encoded data removed]"
     },
     "metadata": {},
     "output_type": "display_data"
    }
   ],
   "source": [
    "# 나이대 별 분포 표\n",
    "# df['Age'].plot.hist(bins=30, grid=True)\n",
    "# sns.kdeplot(df.Age)\n",
    "sns.boxplot(y=df.Age)\n",
    "# sns.violinplot(y=df.Age)\n",
    "# sns.stripplot(y=df.Age)\n",
    "df['Age'].describe()  # outlier가 많은것이 확인된다."
   ],
   "metadata": {
    "collapsed": false,
    "ExecuteTime": {
     "end_time": "2024-01-07T14:13:29.218696Z",
     "start_time": "2024-01-07T14:13:29.020925Z"
    }
   },
   "id": "bb2eb4d3af85694d",
   "execution_count": 15
  },
  {
   "cell_type": "code",
   "outputs": [
    {
     "data": {
      "text/plain": "<Axes: xlabel='Age', ylabel='Density'>"
     },
     "execution_count": 16,
     "metadata": {},
     "output_type": "execute_result"
    },
    {
     "data": {
      "text/plain": "<Figure size 640x480 with 1 Axes>",
      "image/png": "[encoded data removed]"
     },
     "metadata": {},
     "output_type": "display_data"
    }
   ],
   "source": [
    "sns.kdeplot(df.Age[df.Survived == 1], label='Survived')"
   ],
   "metadata": {
    "collapsed": false,
    "ExecuteTime": {
     "end_time": "2024-01-07T14:13:29.475707Z",
     "start_time": "2024-01-07T14:13:29.096804Z"
    }
   },
   "id": "1b08f41d0c57cdfe",
   "execution_count": 16
  },
  {
   "cell_type": "code",
   "outputs": [
    {
     "data": {
      "text/plain": "<Axes: xlabel='Age', ylabel='Density'>"
     },
     "execution_count": 17,
     "metadata": {},
     "output_type": "execute_result"
    },
    {
     "data": {
      "text/plain": "<Figure size 640x480 with 1 Axes>",
      "image/png": "[encoded data removed]"
     },
     "metadata": {},
     "output_type": "display_data"
    }
   ],
   "source": [
    "sns.kdeplot(df.Age[df.Survived == 0], label='Not Survived')"
   ],
   "metadata": {
    "collapsed": false,
    "ExecuteTime": {
     "end_time": "2024-01-07T14:13:29.690165Z",
     "start_time": "2024-01-07T14:13:29.315539Z"
    }
   },
   "id": "7a7d7b1bf854fc5e",
   "execution_count": 17
  },
  {
   "cell_type": "code",
   "outputs": [
    {
     "data": {
      "text/plain": "<Axes: xlabel='Pclass', ylabel='Age'>"
     },
     "execution_count": 18,
     "metadata": {},
     "output_type": "execute_result"
    },
    {
     "data": {
      "text/plain": "<Figure size 640x480 with 1 Axes>",
      "image/png": "[encoded data removed]"
     },
     "metadata": {},
     "output_type": "display_data"
    }
   ],
   "source": [
    "# pclass와 age로 보는 생존자 비율\n",
    "sns.violinplot(x=df.Pclass, y=df.Age, hue=df.Survived, split=True)"
   ],
   "metadata": {
    "collapsed": false,
    "ExecuteTime": {
     "end_time": "2024-01-07T14:13:29.867847Z",
     "start_time": "2024-01-07T14:13:29.523031Z"
    }
   },
   "id": "704569d7bd0c0d1b",
   "execution_count": 18
  },
  {
   "cell_type": "code",
   "outputs": [
    {
     "data": {
      "text/plain": "<Axes: xlabel='Sex', ylabel='Age'>"
     },
     "execution_count": 19,
     "metadata": {},
     "output_type": "execute_result"
    },
    {
     "data": {
      "text/plain": "<Figure size 640x480 with 1 Axes>",
      "image/png": "[encoded data removed]"
     },
     "metadata": {},
     "output_type": "display_data"
    }
   ],
   "source": [
    "# sex와 age로 보는 생존자 비율\n",
    "sns.violinplot(x=df.Sex, y=df.Age, hue=df.Survived, split=True)"
   ],
   "metadata": {
    "collapsed": false,
    "ExecuteTime": {
     "end_time": "2024-01-07T14:13:30.049009Z",
     "start_time": "2024-01-07T14:13:29.774948Z"
    }
   },
   "id": "5b0ea8befbaddfc1",
   "execution_count": 19
  },
  {
   "cell_type": "markdown",
   "source": [
    "## Filling missing data"
   ],
   "metadata": {
    "collapsed": false
   },
   "id": "9784a274ec3541ec"
  },
  {
   "cell_type": "markdown",
   "source": [
    "How to fill missing data?\n",
    "1. MCAR (Missing Completely At Random) => 랜덤하게 아무런 값이나 다 넣는다. 다른 연관관계가 없어진다.\n",
    "2. MAR (Missing At Random) => 다른 feature들과 연관관계가 있는 경우, 그 연관관계를 이용해 채운다.\n",
    "3. MNAR (Missing Not At Random) => 빈값이지만, 다른 시스템이나 어떠한것을 이용해 채운다면 사실 랜덤이 아니다."
   ],
   "metadata": {
    "collapsed": false
   },
   "id": "ae9e6e789931e95c"
  },
  {
   "cell_type": "markdown",
   "source": [
    "1. Deleting Rows with missing values => 빈값이 너무 많은 경우 부적합.\n",
    "1. Impute missing values for continuous variable\n",
    "1. Impute missing values for categorical variable\n",
    "1. Using Algorithms that support missing values\n",
    "1. Prediction of missing values\n",
    "1. Imputation using Deep Learning Library => Use automated feature engineering libary. => 그냥 라이브러리 가져다 써서 결과 만드는 백엔드 엔지니어랑 무엇이 다른가?"
   ],
   "metadata": {
    "collapsed": false
   },
   "id": "54faa4462c58e034"
  },
  {
   "cell_type": "markdown",
   "source": [
    "### 1. 우선 *완전한 랜덤값*을 넣어보자 (`Age`, `Cabin`, `Embarked`)."
   ],
   "metadata": {
    "collapsed": false
   },
   "id": "bc57abb48743cdfe"
  },
  {
   "cell_type": "code",
   "outputs": [],
   "source": [
    "# df['Age'] = df[ df.Age.isna() ].transform(lambda x: x.fillna(np.random.randint(0, 80, size=len(x)))) # 이미 있는 값의 최솟값과 최댓값에 의존하여 0세부터 80세까지 랜덤 값을 넣어준다.\n",
    "df.fillna(value={'Age': pd.Series(np.random.randint(0, 80, size=len(df)))}, inplace=True)\n",
    "test.fillna(value={'Age': pd.Series(np.random.randint(0, 80, size=len(test)))}, inplace=True)"
   ],
   "metadata": {
    "collapsed": false,
    "ExecuteTime": {
     "end_time": "2024-01-07T14:13:30.085439Z",
     "start_time": "2024-01-07T14:13:30.010678Z"
    }
   },
   "id": "95bdf09d9dfb5749",
   "execution_count": 20
  },
  {
   "cell_type": "code",
   "outputs": [
    {
     "data": {
      "text/plain": "0"
     },
     "execution_count": 21,
     "metadata": {},
     "output_type": "execute_result"
    }
   ],
   "source": [
    "df.Age.isna().sum() # 빈값이 없어졌다."
   ],
   "metadata": {
    "collapsed": false,
    "ExecuteTime": {
     "end_time": "2024-01-07T14:13:30.113324Z",
     "start_time": "2024-01-07T14:13:30.015362Z"
    }
   },
   "id": "d21984dfb69a81ab",
   "execution_count": 21
  },
  {
   "cell_type": "code",
   "outputs": [
    {
     "data": {
      "text/plain": "<Axes: xlabel='Age', ylabel='Density'>"
     },
     "execution_count": 22,
     "metadata": {},
     "output_type": "execute_result"
    },
    {
     "data": {
      "text/plain": "<Figure size 640x480 with 1 Axes>",
      "image/png": "[encoded data removed]"
     },
     "metadata": {},
     "output_type": "display_data"
    }
   ],
   "source": [
    "sns.kdeplot(df.Age) # 랜덤하게 넣었기 때문에, 이전보다 더 랜덤하게 분포되었다."
   ],
   "metadata": {
    "collapsed": false,
    "ExecuteTime": {
     "end_time": "2024-01-07T14:13:30.419584Z",
     "start_time": "2024-01-07T14:13:30.051475Z"
    }
   },
   "id": "a77432da7c535d1e",
   "execution_count": 22
  },
  {
   "cell_type": "code",
   "outputs": [
    {
     "data": {
      "text/plain": "<Axes: xlabel='Age', ylabel='Density'>"
     },
     "execution_count": 23,
     "metadata": {},
     "output_type": "execute_result"
    },
    {
     "data": {
      "text/plain": "<Figure size 640x480 with 1 Axes>",
      "image/png": "[encoded data removed]"
     },
     "metadata": {},
     "output_type": "display_data"
    }
   ],
   "source": [
    "df_sqrt = np.sqrt(df.Age)\n",
    "test_sqrt = np.sqrt(test.Age)\n",
    "sns.kdeplot(df_sqrt)"
   ],
   "metadata": {
    "collapsed": false,
    "ExecuteTime": {
     "end_time": "2024-01-07T14:13:30.624677Z",
     "start_time": "2024-01-07T14:13:30.347053Z"
    }
   },
   "id": "802ee52f79f50549",
   "execution_count": 23
  },
  {
   "cell_type": "code",
   "outputs": [
    {
     "data": {
      "text/plain": "-0.4962162554746954"
     },
     "execution_count": 24,
     "metadata": {},
     "output_type": "execute_result"
    },
    {
     "data": {
      "text/plain": "<Figure size 640x480 with 1 Axes>",
      "image/png": "[encoded data removed]"
     },
     "metadata": {},
     "output_type": "display_data"
    }
   ],
   "source": [
    "# normalisation using normal distribution\n",
    "df_norm = (df_sqrt - df_sqrt.mean()) / df_sqrt.std()\n",
    "test_norm = (test_sqrt - test_sqrt.mean()) / test_sqrt.std()\n",
    "sns.boxplot(df_norm)\n",
    "df_norm.skew()"
   ],
   "metadata": {
    "collapsed": false,
    "ExecuteTime": {
     "end_time": "2024-01-07T14:13:30.704849Z",
     "start_time": "2024-01-07T14:13:30.501110Z"
    }
   },
   "id": "b92d9e7359bb9d6",
   "execution_count": 24
  },
  {
   "cell_type": "code",
   "outputs": [
    {
     "data": {
      "text/plain": "-0.49621625547469517"
     },
     "execution_count": 25,
     "metadata": {},
     "output_type": "execute_result"
    },
    {
     "data": {
      "text/plain": "<Figure size 640x480 with 1 Axes>",
      "image/png": "[encoded data removed]"
     },
     "metadata": {},
     "output_type": "display_data"
    }
   ],
   "source": [
    "# normalisation using Min-Max\n",
    "df_minmax = (df_sqrt - df_sqrt.min()) / (df_sqrt.max() - df_sqrt.min())\n",
    "test_minmax = (test_sqrt - test_sqrt.min()) / (test_sqrt.max() - test_sqrt.min())\n",
    "sns.boxplot(df_minmax)\n",
    "df_minmax.skew()"
   ],
   "metadata": {
    "collapsed": false,
    "ExecuteTime": {
     "end_time": "2024-01-07T14:13:30.914443Z",
     "start_time": "2024-01-07T14:13:30.641681Z"
    }
   },
   "id": "8e035dfd724ed3ae",
   "execution_count": 25
  },
  {
   "cell_type": "markdown",
   "source": [
    "~~나름 비대칭이 줄어들었다. 하지만 이게 더 좋은 결과를 가져올지는 모르겠다.~~\n",
    "skewness가 꽤 높다. `Age` 역시 1-100 사이의 값으로 만들어 준 뒤 box-cox를 취해보자. "
   ],
   "metadata": {
    "collapsed": false
   },
   "id": "fe783d621aaf0a47"
  },
  {
   "cell_type": "code",
   "outputs": [
    {
     "data": {
      "text/plain": "0"
     },
     "execution_count": 26,
     "metadata": {},
     "output_type": "execute_result"
    },
    {
     "data": {
      "text/plain": "<Figure size 640x480 with 1 Axes>",
      "image/png": "[encoded data removed]"
     },
     "metadata": {},
     "output_type": "display_data"
    }
   ],
   "source": [
    "df_age = (df.Age - df.Age.min()) * 99/(df.Age.max() - df.Age.min()) + 1\n",
    "test_age = (test.Age - test.Age.min()) * 99/(test.Age.max() - test.Age.min()) + 1\n",
    "sns.kdeplot(df_age)\n",
    "df_age.isna().sum()"
   ],
   "metadata": {
    "collapsed": false,
    "ExecuteTime": {
     "end_time": "2024-01-07T14:13:31.145222Z",
     "start_time": "2024-01-07T14:13:30.720606Z"
    }
   },
   "id": "29810898bb414975",
   "execution_count": 26
  },
  {
   "cell_type": "code",
   "outputs": [
    {
     "data": {
      "text/plain": "-0.05197061307357757"
     },
     "execution_count": 27,
     "metadata": {},
     "output_type": "execute_result"
    },
    {
     "data": {
      "text/plain": "<Figure size 640x480 with 1 Axes>",
      "image/png": "[encoded data removed]"
     },
     "metadata": {},
     "output_type": "display_data"
    }
   ],
   "source": [
    "df_age_boxcox, _ = stats.boxcox(df_age)\n",
    "test_age_boxcox, _ = stats.boxcox(test_age)\n",
    "sns.kdeplot(df_age_boxcox)\n",
    "pd.Series(df_age_boxcox).skew() # -0.057096658080305084\n",
    "# 역시나 box-cox를 취하니 skewness가 많이 줄어들었다."
   ],
   "metadata": {
    "collapsed": false,
    "ExecuteTime": {
     "end_time": "2024-01-07T14:13:31.314583Z",
     "start_time": "2024-01-07T14:13:31.038344Z"
    }
   },
   "id": "8ed5e68c72957e1b",
   "execution_count": 27
  },
  {
   "cell_type": "markdown",
   "source": [
    "# 이걸 다시 표준화 시켜준다."
   ],
   "metadata": {
    "collapsed": false
   },
   "id": "72c446ebf4e0ad26"
  },
  {
   "cell_type": "code",
   "outputs": [
    {
     "data": {
      "text/plain": "-0.05197061307357754"
     },
     "execution_count": 28,
     "metadata": {},
     "output_type": "execute_result"
    },
    {
     "data": {
      "text/plain": "<Figure size 640x480 with 1 Axes>",
      "image/png": "[encoded data removed]"
     },
     "metadata": {},
     "output_type": "display_data"
    }
   ],
   "source": [
    "df_age_boxcox_norm = (df_age_boxcox - df_age_boxcox.mean()) / df_age_boxcox.std()\n",
    "test_age_boxcox_norm = (test_age_boxcox - test_age_boxcox.mean()) / test_age_boxcox.std()\n",
    "sns.kdeplot(df_age_boxcox_norm)\n",
    "pd.Series(df_age_boxcox_norm).skew() # -0.04735906397879103"
   ],
   "metadata": {
    "collapsed": false,
    "ExecuteTime": {
     "end_time": "2024-01-07T14:13:31.472641Z",
     "start_time": "2024-01-07T14:13:31.217593Z"
    }
   },
   "id": "fbb0245e6fdad62e",
   "execution_count": 28
  },
  {
   "cell_type": "code",
   "outputs": [
    {
     "data": {
      "text/plain": "0     -0.505202\n1      0.432943\n2     -0.254766\n3      0.268395\n4      0.268395\n         ...   \n886   -0.194098\n887   -0.702477\n888   -0.505202\n889   -0.254766\n890    0.099322\nName: Age, Length: 891, dtype: float64"
     },
     "execution_count": 29,
     "metadata": {},
     "output_type": "execute_result"
    }
   ],
   "source": [
    "df['Age'] = pd.Series(df_age_boxcox_norm)\n",
    "test['Age'] = pd.Series(test_age_boxcox_norm)\n",
    "df.Age"
   ],
   "metadata": {
    "collapsed": false,
    "ExecuteTime": {
     "end_time": "2024-01-07T14:13:31.491418Z",
     "start_time": "2024-01-07T14:13:31.391815Z"
    }
   },
   "id": "d1e74426e5efed0",
   "execution_count": 29
  },
  {
   "cell_type": "code",
   "outputs": [
    {
     "data": {
      "text/plain": "687"
     },
     "execution_count": 30,
     "metadata": {},
     "output_type": "execute_result"
    }
   ],
   "source": [
    "# 그 다음 `Cabin`을 채워보자.\n",
    "df.Cabin.isna().sum() # 빈값이 687개나 있다. 완전히 `Cabin`을 없앨 수도 있지만 결과는 나중에 확인해보자."
   ],
   "metadata": {
    "collapsed": false,
    "ExecuteTime": {
     "end_time": "2024-01-07T14:13:31.545195Z",
     "start_time": "2024-01-07T14:13:31.453227Z"
    }
   },
   "id": "47e6d1bb91db2a6d",
   "execution_count": 30
  },
  {
   "cell_type": "code",
   "outputs": [
    {
     "name": "stdout",
     "output_type": "stream",
     "text": [
      "<class 'pandas.core.series.Series'>\n",
      "RangeIndex: 891 entries, 0 to 890\n",
      "Series name: Cabin\n",
      "Non-Null Count  Dtype \n",
      "--------------  ----- \n",
      "204 non-null    object\n",
      "dtypes: object(1)\n",
      "memory usage: 7.1+ KB\n"
     ]
    }
   ],
   "source": [
    "df.Cabin.info() # 값들을 확인해보면 object, 즉 String 값들로 채워져 있고,"
   ],
   "metadata": {
    "collapsed": false,
    "ExecuteTime": {
     "end_time": "2024-01-07T14:13:31.595687Z",
     "start_time": "2024-01-07T14:13:31.546472Z"
    }
   },
   "id": "5ae34a6c262dc0f4",
   "execution_count": 31
  },
  {
   "cell_type": "code",
   "outputs": [
    {
     "data": {
      "text/plain": "Cabin\nB96 B98        4\nG6             4\nC23 C25 C27    4\nC22 C26        3\nF33            3\n              ..\nE34            1\nC7             1\nC54            1\nE36            1\nC148           1\nName: count, Length: 147, dtype: int64"
     },
     "execution_count": 32,
     "metadata": {},
     "output_type": "execute_result"
    }
   ],
   "source": [
    "df.Cabin.value_counts() # 그나마 있는 값들 중에서도 거의 대부분 중복이 없다는 것을 확인 할 수 있다."
   ],
   "metadata": {
    "collapsed": false,
    "ExecuteTime": {
     "end_time": "2024-01-07T14:13:31.625060Z",
     "start_time": "2024-01-07T14:13:31.582726Z"
    }
   },
   "id": "4a060260b9654222",
   "execution_count": 32
  },
  {
   "cell_type": "markdown",
   "source": [
    "그래서 이번에는 빈값을 `X`로 채워보자. (이것도 랜덤하게 채우는 것과 비슷하다.)"
   ],
   "metadata": {
    "collapsed": false
   },
   "id": "9a0c173045501093"
  },
  {
   "cell_type": "code",
   "outputs": [],
   "source": [
    "df.fillna(value={'Cabin': 'X'}, inplace=True)\n",
    "test.fillna(value={'Cabin': 'X'}, inplace=True)"
   ],
   "metadata": {
    "collapsed": false,
    "ExecuteTime": {
     "end_time": "2024-01-07T14:13:31.656771Z",
     "start_time": "2024-01-07T14:13:31.626102Z"
    }
   },
   "id": "f51789119a517bad",
   "execution_count": 33
  },
  {
   "cell_type": "code",
   "outputs": [
    {
     "data": {
      "text/plain": "0"
     },
     "execution_count": 34,
     "metadata": {},
     "output_type": "execute_result"
    }
   ],
   "source": [
    "df.Cabin.isna().sum() # 빈값이 없어졌다."
   ],
   "metadata": {
    "collapsed": false,
    "ExecuteTime": {
     "end_time": "2024-01-07T14:13:31.690544Z",
     "start_time": "2024-01-07T14:13:31.654110Z"
    }
   },
   "id": "a6d738200dbac209",
   "execution_count": 34
  },
  {
   "cell_type": "code",
   "outputs": [
    {
     "data": {
      "text/plain": "Cabin\nX              687\nC23 C25 C27      4\nG6               4\nB96 B98          4\nC22 C26          3\n              ... \nE34              1\nC7               1\nC54              1\nE36              1\nC148             1\nName: count, Length: 148, dtype: int64"
     },
     "execution_count": 35,
     "metadata": {},
     "output_type": "execute_result"
    }
   ],
   "source": [
    "df.Cabin.value_counts() # `X`가 687개로 채워졌다."
   ],
   "metadata": {
    "collapsed": false,
    "ExecuteTime": {
     "end_time": "2024-01-07T14:13:31.719766Z",
     "start_time": "2024-01-07T14:13:31.691719Z"
    }
   },
   "id": "48830969b148b889",
   "execution_count": 35
  },
  {
   "cell_type": "markdown",
   "source": [
    "추가적인 정형화를 위하여 `Cabin`의 첫번째 글자만 가져오자."
   ],
   "metadata": {
    "collapsed": false
   },
   "id": "4fc6e53491e6915f"
  },
  {
   "cell_type": "code",
   "outputs": [],
   "source": [
    "df.Cabin = df.Cabin.apply(lambda x: x[0]) # 첫번째 글자만 가져온다.\n",
    "test.Cabin = test.Cabin.apply(lambda x: x[0])"
   ],
   "metadata": {
    "collapsed": false,
    "ExecuteTime": {
     "end_time": "2024-01-07T14:13:31.748441Z",
     "start_time": "2024-01-07T14:13:31.709049Z"
    }
   },
   "id": "4b2b69328e4ebaee",
   "execution_count": 36
  },
  {
   "cell_type": "code",
   "outputs": [
    {
     "data": {
      "text/plain": "Cabin\nX    687\nC     59\nB     47\nD     33\nE     32\nA     15\nF     13\nG      4\nT      1\nName: count, dtype: int64"
     },
     "execution_count": 37,
     "metadata": {},
     "output_type": "execute_result"
    }
   ],
   "source": [
    "df.Cabin.value_counts() # `X`가 687개로 채워졌다."
   ],
   "metadata": {
    "collapsed": false,
    "ExecuteTime": {
     "end_time": "2024-01-07T14:13:31.768698Z",
     "start_time": "2024-01-07T14:13:31.735365Z"
    }
   },
   "id": "7a918b836e2f2c87",
   "execution_count": 37
  },
  {
   "cell_type": "code",
   "outputs": [],
   "source": [
    "df.Cabin = df.Cabin.apply(lambda x: 0 if x == 'X' else 1) # `X`는 0으로, 나머지는 1로 바꾼다.\n",
    "test.Cabin = test.Cabin.apply(lambda x: 0 if x == 'X' else 1)"
   ],
   "metadata": {
    "collapsed": false,
    "ExecuteTime": {
     "end_time": "2024-01-07T14:13:31.813828Z",
     "start_time": "2024-01-07T14:13:31.769739Z"
    }
   },
   "id": "d5fb74077b331cc1",
   "execution_count": 38
  },
  {
   "cell_type": "code",
   "outputs": [
    {
     "data": {
      "text/plain": "Cabin\n0    687\n1    204\nName: count, dtype: int64"
     },
     "execution_count": 39,
     "metadata": {},
     "output_type": "execute_result"
    }
   ],
   "source": [
    "df.Cabin.value_counts() # `X`가 687개로 채워졌다."
   ],
   "metadata": {
    "collapsed": false,
    "ExecuteTime": {
     "end_time": "2024-01-07T14:13:31.835485Z",
     "start_time": "2024-01-07T14:13:31.811875Z"
    }
   },
   "id": "ca359330645c759f",
   "execution_count": 39
  },
  {
   "cell_type": "markdown",
   "source": [
    "# 그 다음 `Embarked`를 채워보자."
   ],
   "metadata": {
    "collapsed": false
   },
   "id": "10021ff46ed2567e"
  },
  {
   "cell_type": "code",
   "outputs": [
    {
     "data": {
      "text/plain": "2"
     },
     "execution_count": 40,
     "metadata": {},
     "output_type": "execute_result"
    }
   ],
   "source": [
    "df.Embarked.isna().sum() # 빈값이 2개 있다."
   ],
   "metadata": {
    "collapsed": false,
    "ExecuteTime": {
     "end_time": "2024-01-07T14:13:31.867491Z",
     "start_time": "2024-01-07T14:13:31.836257Z"
    }
   },
   "id": "e7111108de48ff25",
   "execution_count": 40
  },
  {
   "cell_type": "code",
   "outputs": [
    {
     "data": {
      "text/plain": "Embarked\nS    644\nC    168\nQ     77\nName: count, dtype: int64"
     },
     "execution_count": 41,
     "metadata": {},
     "output_type": "execute_result"
    }
   ],
   "source": [
    "df.Embarked.value_counts() # 최빈값은 `S`이다."
   ],
   "metadata": {
    "collapsed": false,
    "ExecuteTime": {
     "end_time": "2024-01-07T14:13:31.883580Z",
     "start_time": "2024-01-07T14:13:31.856244Z"
    }
   },
   "id": "ab5d8a13d818a7a9",
   "execution_count": 41
  },
  {
   "cell_type": "code",
   "outputs": [],
   "source": [
    "df.fillna(value={'Embarked': 'S'}, inplace=True) # 나머지 2개도 그냥 최빈값인 `S`로 채워준다.\n",
    "test.fillna(value={'Embarked': 'S'}, inplace=True)"
   ],
   "metadata": {
    "collapsed": false,
    "ExecuteTime": {
     "end_time": "2024-01-07T14:13:31.932420Z",
     "start_time": "2024-01-07T14:13:31.884664Z"
    }
   },
   "id": "a01835e2c4ad1618",
   "execution_count": 42
  },
  {
   "cell_type": "code",
   "outputs": [
    {
     "data": {
      "text/plain": "0"
     },
     "execution_count": 43,
     "metadata": {},
     "output_type": "execute_result"
    }
   ],
   "source": [
    "df.Embarked.isna().sum() # 빈값이 없어졌다."
   ],
   "metadata": {
    "collapsed": false,
    "ExecuteTime": {
     "end_time": "2024-01-07T14:13:31.958257Z",
     "start_time": "2024-01-07T14:13:31.930155Z"
    }
   },
   "id": "f639f67d2fcc5a9e",
   "execution_count": 43
  },
  {
   "cell_type": "code",
   "outputs": [
    {
     "data": {
      "text/plain": "Embarked\nS    646\nC    168\nQ     77\nName: count, dtype: int64"
     },
     "execution_count": 44,
     "metadata": {},
     "output_type": "execute_result"
    }
   ],
   "source": [
    "df.Embarked.value_counts() # `S`가 646개로 채워졌다."
   ],
   "metadata": {
    "collapsed": false,
    "ExecuteTime": {
     "end_time": "2024-01-07T14:13:32.002744Z",
     "start_time": "2024-01-07T14:13:31.959321Z"
    }
   },
   "id": "c7a81189dca416cf",
   "execution_count": 44
  },
  {
   "cell_type": "code",
   "outputs": [],
   "source": [
    "df.Embarked = df.Embarked.apply(lambda x: 0 if x == 'S' else 1) # `S`는 0으로, 나머지는 1로 바꾼다.\n",
    "test.Embarked = test.Embarked.apply(lambda x: 0 if x == 'S' else 1)\n",
    "test.Embarked = df.Embarked"
   ],
   "metadata": {
    "collapsed": false,
    "ExecuteTime": {
     "end_time": "2024-01-07T14:13:32.018927Z",
     "start_time": "2024-01-07T14:13:31.989009Z"
    }
   },
   "id": "7b91423c8d0214d7",
   "execution_count": 45
  },
  {
   "cell_type": "code",
   "outputs": [
    {
     "data": {
      "text/plain": "Embarked\n0    646\n1    245\nName: count, dtype: int64"
     },
     "execution_count": 46,
     "metadata": {},
     "output_type": "execute_result"
    }
   ],
   "source": [
    "df.Embarked.value_counts() # `S`가 646개로 채워졌다."
   ],
   "metadata": {
    "collapsed": false,
    "ExecuteTime": {
     "end_time": "2024-01-07T14:13:32.059124Z",
     "start_time": "2024-01-07T14:13:32.019963Z"
    }
   },
   "id": "e836e7c115e4ba79",
   "execution_count": 46
  },
  {
   "cell_type": "code",
   "outputs": [
    {
     "name": "stdout",
     "output_type": "stream",
     "text": [
      "<class 'pandas.core.frame.DataFrame'>\n",
      "RangeIndex: 891 entries, 0 to 890\n",
      "Data columns (total 12 columns):\n",
      " #   Column       Non-Null Count  Dtype  \n",
      "---  ------       --------------  -----  \n",
      " 0   PassengerId  891 non-null    int64  \n",
      " 1   Survived     891 non-null    int64  \n",
      " 2   Pclass       891 non-null    int64  \n",
      " 3   Name         891 non-null    object \n",
      " 4   Sex          891 non-null    int64  \n",
      " 5   Age          891 non-null    float64\n",
      " 6   SibSp        891 non-null    int64  \n",
      " 7   Parch        891 non-null    int64  \n",
      " 8   Ticket       891 non-null    object \n",
      " 9   Fare         891 non-null    float64\n",
      " 10  Cabin        891 non-null    int64  \n",
      " 11  Embarked     891 non-null    int64  \n",
      "dtypes: float64(2), int64(8), object(2)\n",
      "memory usage: 83.7+ KB\n",
      "<class 'pandas.core.frame.DataFrame'>\n",
      "RangeIndex: 418 entries, 0 to 417\n",
      "Data columns (total 11 columns):\n",
      " #   Column       Non-Null Count  Dtype  \n",
      "---  ------       --------------  -----  \n",
      " 0   PassengerId  418 non-null    int64  \n",
      " 1   Pclass       418 non-null    int64  \n",
      " 2   Name         418 non-null    object \n",
      " 3   Sex          418 non-null    int64  \n",
      " 4   Age          418 non-null    float64\n",
      " 5   SibSp        418 non-null    int64  \n",
      " 6   Parch        418 non-null    int64  \n",
      " 7   Ticket       418 non-null    object \n",
      " 8   Fare         417 non-null    float64\n",
      " 9   Cabin        418 non-null    int64  \n",
      " 10  Embarked     418 non-null    int64  \n",
      "dtypes: float64(2), int64(7), object(2)\n",
      "memory usage: 36.1+ KB\n"
     ]
    }
   ],
   "source": [
    "df.info() # 사용할 feature들의 모든 값들이 숫자로 바뀌었다.\n",
    "test.info()"
   ],
   "metadata": {
    "collapsed": false,
    "ExecuteTime": {
     "end_time": "2024-01-07T14:13:32.082790Z",
     "start_time": "2024-01-07T14:13:32.047977Z"
    }
   },
   "id": "f03702eaeba2730e",
   "execution_count": 47
  },
  {
   "cell_type": "code",
   "outputs": [],
   "source": [
    "# test.Fare에 하나 빈값이 있는데 그냥 평균값으로 채워주자.\n",
    "test.fillna(value={'Fare': test.Fare.mean()}, inplace=True)"
   ],
   "metadata": {
    "collapsed": false,
    "ExecuteTime": {
     "end_time": "2024-01-07T14:13:32.120691Z",
     "start_time": "2024-01-07T14:13:32.075634Z"
    }
   },
   "id": "7cfa20e52cd3387",
   "execution_count": 48
  },
  {
   "cell_type": "markdown",
   "source": [
    "이제 필요 없는 features들을 제거해보자."
   ],
   "metadata": {
    "collapsed": false
   },
   "id": "2afd0e400eb2c1c4"
  },
  {
   "cell_type": "code",
   "outputs": [],
   "source": [
    "df.drop(['PassengerId', 'Name', 'Ticket', 'Parch', 'SibSp'], axis=1, inplace=True)\n",
    "test.drop(['PassengerId','Name', 'Ticket', 'Parch', 'SibSp'], axis=1, inplace=True)"
   ],
   "metadata": {
    "collapsed": false,
    "ExecuteTime": {
     "end_time": "2024-01-07T14:13:32.153434Z",
     "start_time": "2024-01-07T14:13:32.121962Z"
    }
   },
   "id": "89d14bda35f86460",
   "execution_count": 49
  },
  {
   "cell_type": "code",
   "outputs": [
    {
     "data": {
      "text/plain": "   Survived  Pclass  Sex       Age     Fare  Cabin  Embarked\n0         0       3    0 -0.505202   7.2500      0         0\n1         1       1    1  0.432943  71.2833      1         1",
      "text/html": "<div>\n<style scoped>\n    .dataframe tbody tr th:only-of-type {\n        vertical-align: middle;\n    }\n\n    .dataframe tbody tr th {\n        vertical-align: top;\n    }\n\n    .dataframe thead th {\n        text-align: right;\n    }\n</style>\n<table border=\"1\" class=\"dataframe\">\n  <thead>\n    <tr style=\"text-align: right;\">\n      <th></th>\n      <th>Survived</th>\n      <th>Pclass</th>\n      <th>Sex</th>\n      <th>Age</th>\n      <th>Fare</th>\n      <th>Cabin</th>\n      <th>Embarked</th>\n    </tr>\n  </thead>\n  <tbody>\n    <tr>\n      <th>0</th>\n      <td>0</td>\n      <td>3</td>\n      <td>0</td>\n      <td>-0.505202</td>\n      <td>7.2500</td>\n      <td>0</td>\n      <td>0</td>\n    </tr>\n    <tr>\n      <th>1</th>\n      <td>1</td>\n      <td>1</td>\n      <td>1</td>\n      <td>0.432943</td>\n      <td>71.2833</td>\n      <td>1</td>\n      <td>1</td>\n    </tr>\n  </tbody>\n</table>\n</div>"
     },
     "execution_count": 50,
     "metadata": {},
     "output_type": "execute_result"
    }
   ],
   "source": [
    "df.head(2)"
   ],
   "metadata": {
    "collapsed": false,
    "ExecuteTime": {
     "end_time": "2024-01-07T14:13:32.181869Z",
     "start_time": "2024-01-07T14:13:32.153904Z"
    }
   },
   "id": "af1ee4061f7478f7",
   "execution_count": 50
  },
  {
   "cell_type": "code",
   "outputs": [
    {
     "data": {
      "text/plain": "   Pclass  Sex       Age    Fare  Cabin  Embarked\n0       3    0  0.210817  7.8292      0         0\n1       3    1  0.857138  7.0000      0         1",
      "text/html": "<div>\n<style scoped>\n    .dataframe tbody tr th:only-of-type {\n        vertical-align: middle;\n    }\n\n    .dataframe tbody tr th {\n        vertical-align: top;\n    }\n\n    .dataframe thead th {\n        text-align: right;\n    }\n</style>\n<table border=\"1\" class=\"dataframe\">\n  <thead>\n    <tr style=\"text-align: right;\">\n      <th></th>\n      <th>Pclass</th>\n      <th>Sex</th>\n      <th>Age</th>\n      <th>Fare</th>\n      <th>Cabin</th>\n      <th>Embarked</th>\n    </tr>\n  </thead>\n  <tbody>\n    <tr>\n      <th>0</th>\n      <td>3</td>\n      <td>0</td>\n      <td>0.210817</td>\n      <td>7.8292</td>\n      <td>0</td>\n      <td>0</td>\n    </tr>\n    <tr>\n      <th>1</th>\n      <td>3</td>\n      <td>1</td>\n      <td>0.857138</td>\n      <td>7.0000</td>\n      <td>0</td>\n      <td>1</td>\n    </tr>\n  </tbody>\n</table>\n</div>"
     },
     "execution_count": 51,
     "metadata": {},
     "output_type": "execute_result"
    }
   ],
   "source": [
    "test.head(2)"
   ],
   "metadata": {
    "collapsed": false,
    "ExecuteTime": {
     "end_time": "2024-01-07T14:13:32.215884Z",
     "start_time": "2024-01-07T14:13:32.181184Z"
    }
   },
   "id": "5bc5dd64469f9dcd",
   "execution_count": 51
  },
  {
   "cell_type": "code",
   "outputs": [
    {
     "name": "stdout",
     "output_type": "stream",
     "text": [
      "<class 'pandas.core.frame.DataFrame'>\n",
      "RangeIndex: 891 entries, 0 to 890\n",
      "Data columns (total 7 columns):\n",
      " #   Column    Non-Null Count  Dtype  \n",
      "---  ------    --------------  -----  \n",
      " 0   Survived  891 non-null    int64  \n",
      " 1   Pclass    891 non-null    int64  \n",
      " 2   Sex       891 non-null    int64  \n",
      " 3   Age       891 non-null    float64\n",
      " 4   Fare      891 non-null    float64\n",
      " 5   Cabin     891 non-null    int64  \n",
      " 6   Embarked  891 non-null    int64  \n",
      "dtypes: float64(2), int64(5)\n",
      "memory usage: 48.9 KB\n"
     ]
    }
   ],
   "source": [
    "df.info() # 사용할 feature들의 모든 값들이 숫자로 바뀌었다."
   ],
   "metadata": {
    "collapsed": false,
    "ExecuteTime": {
     "end_time": "2024-01-07T14:13:32.249436Z",
     "start_time": "2024-01-07T14:13:32.214677Z"
    }
   },
   "id": "bb1642286676768c",
   "execution_count": 52
  },
  {
   "cell_type": "markdown",
   "source": [
    "이제 카테고리화 돼있는 값들을 one-hot encoding 해보자.\n",
    "(이는 컴퓨터가 더 잘 학습 할 수 있게 만들어준다고 한다...)"
   ],
   "metadata": {
    "collapsed": false
   },
   "id": "1233f5f8c8f0de05"
  },
  {
   "cell_type": "code",
   "outputs": [],
   "source": [
    "df = pd.get_dummies(df, columns=['Pclass', 'Embarked', 'Cabin'])\n",
    "test = pd.get_dummies(test, columns=['Pclass', 'Embarked', 'Cabin'])"
   ],
   "metadata": {
    "collapsed": false,
    "ExecuteTime": {
     "end_time": "2024-01-07T14:13:32.354615Z",
     "start_time": "2024-01-07T14:13:32.247399Z"
    }
   },
   "id": "7c1122d3c8885fdd",
   "execution_count": 53
  },
  {
   "cell_type": "code",
   "outputs": [
    {
     "data": {
      "text/plain": "     Sex       Age      Fare  Pclass_1  Pclass_2  Pclass_3  Embarked_0  \\\n0      0  0.210817    7.8292     False     False      True        True   \n1      1  0.857138    7.0000     False     False      True       False   \n2      0  1.558696    9.6875     False      True     False        True   \n3      0 -0.215929    8.6625     False     False      True        True   \n4      1 -0.523214   12.2875     False     False      True        True   \n..   ...       ...       ...       ...       ...       ...         ...   \n413    0  0.292183    8.0500     False     False      True        True   \n414    1  0.451517  108.9000      True     False     False        True   \n415    0  0.425261    7.2500     False     False      True        True   \n416    0 -1.646057    8.0500     False     False      True        True   \n417    0  1.423537   22.3583     False     False      True        True   \n\n     Embarked_1  Cabin_0  Cabin_1  \n0         False     True    False  \n1          True     True    False  \n2         False     True    False  \n3         False     True    False  \n4         False     True    False  \n..          ...      ...      ...  \n413       False     True    False  \n414       False    False     True  \n415       False     True    False  \n416       False     True    False  \n417       False     True    False  \n\n[418 rows x 10 columns]",
      "text/html": "<div>\n<style scoped>\n    .dataframe tbody tr th:only-of-type {\n        vertical-align: middle;\n    }\n\n    .dataframe tbody tr th {\n        vertical-align: top;\n    }\n\n    .dataframe thead th {\n        text-align: right;\n    }\n</style>\n<table border=\"1\" class=\"dataframe\">\n  <thead>\n    <tr style=\"text-align: right;\">\n      <th></th>\n      <th>Sex</th>\n      <th>Age</th>\n      <th>Fare</th>\n      <th>Pclass_1</th>\n      <th>Pclass_2</th>\n      <th>Pclass_3</th>\n      <th>Embarked_0</th>\n      <th>Embarked_1</th>\n      <th>Cabin_0</th>\n      <th>Cabin_1</th>\n    </tr>\n  </thead>\n  <tbody>\n    <tr>\n      <th>0</th>\n      <td>0</td>\n      <td>0.210817</td>\n      <td>7.8292</td>\n      <td>False</td>\n      <td>False</td>\n      <td>True</td>\n      <td>True</td>\n      <td>False</td>\n      <td>True</td>\n      <td>False</td>\n    </tr>\n    <tr>\n      <th>1</th>\n      <td>1</td>\n      <td>0.857138</td>\n      <td>7.0000</td>\n      <td>False</td>\n      <td>False</td>\n      <td>True</td>\n      <td>False</td>\n      <td>True</td>\n      <td>True</td>\n      <td>False</td>\n    </tr>\n    <tr>\n      <th>2</th>\n      <td>0</td>\n      <td>1.558696</td>\n      <td>9.6875</td>\n      <td>False</td>\n      <td>True</td>\n      <td>False</td>\n      <td>True</td>\n      <td>False</td>\n      <td>True</td>\n      <td>False</td>\n    </tr>\n    <tr>\n      <th>3</th>\n      <td>0</td>\n      <td>-0.215929</td>\n      <td>8.6625</td>\n      <td>False</td>\n      <td>False</td>\n      <td>True</td>\n      <td>True</td>\n      <td>False</td>\n      <td>True</td>\n      <td>False</td>\n    </tr>\n    <tr>\n      <th>4</th>\n      <td>1</td>\n      <td>-0.523214</td>\n      <td>12.2875</td>\n      <td>False</td>\n      <td>False</td>\n      <td>True</td>\n      <td>True</td>\n      <td>False</td>\n      <td>True</td>\n      <td>False</td>\n    </tr>\n    <tr>\n      <th>...</th>\n      <td>...</td>\n      <td>...</td>\n      <td>...</td>\n      <td>...</td>\n      <td>...</td>\n      <td>...</td>\n      <td>...</td>\n      <td>...</td>\n      <td>...</td>\n      <td>...</td>\n    </tr>\n    <tr>\n      <th>413</th>\n      <td>0</td>\n      <td>0.292183</td>\n      <td>8.0500</td>\n      <td>False</td>\n      <td>False</td>\n      <td>True</td>\n      <td>True</td>\n      <td>False</td>\n      <td>True</td>\n      <td>False</td>\n    </tr>\n    <tr>\n      <th>414</th>\n      <td>1</td>\n      <td>0.451517</td>\n      <td>108.9000</td>\n      <td>True</td>\n      <td>False</td>\n      <td>False</td>\n      <td>True</td>\n      <td>False</td>\n      <td>False</td>\n      <td>True</td>\n    </tr>\n    <tr>\n      <th>415</th>\n      <td>0</td>\n      <td>0.425261</td>\n      <td>7.2500</td>\n      <td>False</td>\n      <td>False</td>\n      <td>True</td>\n      <td>True</td>\n      <td>False</td>\n      <td>True</td>\n      <td>False</td>\n    </tr>\n    <tr>\n      <th>416</th>\n      <td>0</td>\n      <td>-1.646057</td>\n      <td>8.0500</td>\n      <td>False</td>\n      <td>False</td>\n      <td>True</td>\n      <td>True</td>\n      <td>False</td>\n      <td>True</td>\n      <td>False</td>\n    </tr>\n    <tr>\n      <th>417</th>\n      <td>0</td>\n      <td>1.423537</td>\n      <td>22.3583</td>\n      <td>False</td>\n      <td>False</td>\n      <td>True</td>\n      <td>True</td>\n      <td>False</td>\n      <td>True</td>\n      <td>False</td>\n    </tr>\n  </tbody>\n</table>\n<p>418 rows × 10 columns</p>\n</div>"
     },
     "execution_count": 54,
     "metadata": {},
     "output_type": "execute_result"
    }
   ],
   "source": [
    "df\n",
    "test"
   ],
   "metadata": {
    "collapsed": false,
    "ExecuteTime": {
     "end_time": "2024-01-07T14:13:32.391837Z",
     "start_time": "2024-01-07T14:13:32.343581Z"
    }
   },
   "id": "730effc579970fde",
   "execution_count": 54
  },
  {
   "cell_type": "code",
   "outputs": [
    {
     "data": {
      "text/plain": "count    891.000000\nmean       7.222984\nstd        9.602516\nmin        1.000000\n25%        2.528567\n50%        3.793059\n75%        6.990289\nmax      100.000000\nName: Fare, dtype: float64"
     },
     "execution_count": 55,
     "metadata": {},
     "output_type": "execute_result"
    },
    {
     "data": {
      "text/plain": "<Figure size 640x480 with 1 Axes>",
      "image/png": "[encoded data removed]"
     },
     "metadata": {},
     "output_type": "display_data"
    }
   ],
   "source": [
    "# 남은 Fare를 Min-Max를 이용한 1-10까지 값을 메기게 해보자. \n",
    "# (표준편차를 이용해 값을 만들면 음수가 생기면 skewness가 생기고 그로 인해 sqrt나 log를 취해 줄 수가 없기 때문에; 그러면 NaN이 생긴다...)\n",
    "df_fare = (df.Fare - df.Fare.min()) * 99/(df.Fare.max() - df.Fare.min()) + 1\n",
    "test_fare = (test.Fare - test.Fare.min()) * 99/(test.Fare.max() - test.Fare.min()) + 1\n",
    "# df_fare = (df.Fare - df.Fare.min())/(df.Fare.max() - df.Fare.min())\n",
    "sns.kdeplot(df_fare)\n",
    "\n",
    "# df_fare = (df.Fare - df.Fare.mean())/df.Fare.std()\n",
    "# sns.distplot(df_fare)\n",
    "df_fare.describe()"
   ],
   "metadata": {
    "collapsed": false,
    "ExecuteTime": {
     "end_time": "2024-01-07T14:13:32.823982Z",
     "start_time": "2024-01-07T14:13:32.397075Z"
    }
   },
   "id": "396194a706596122",
   "execution_count": 55
  },
  {
   "cell_type": "code",
   "outputs": [],
   "source": [
    "# sns.boxplot(y=df_fare)\n",
    "# df_fare.describe()\n",
    "# df_fare.isna().sum()"
   ],
   "metadata": {
    "collapsed": false,
    "ExecuteTime": {
     "end_time": "2024-01-07T14:13:32.825767Z",
     "start_time": "2024-01-07T14:13:32.659924Z"
    }
   },
   "id": "150a06f594188058",
   "execution_count": 56
  },
  {
   "cell_type": "markdown",
   "source": [
    "뭔가 outlier도 많고, 한쪽으로 치우쳐져 있다. 그래서 sqrt를 취해 skewness를 줄여봤다."
   ],
   "metadata": {
    "collapsed": false
   },
   "id": "18e7709db0b3a8b3"
  },
  {
   "cell_type": "code",
   "outputs": [
    {
     "data": {
      "text/plain": "0.03962765832371006"
     },
     "execution_count": 57,
     "metadata": {},
     "output_type": "execute_result"
    },
    {
     "data": {
      "text/plain": "<Figure size 640x480 with 1 Axes>",
      "image/png": "[encoded data removed]"
     },
     "metadata": {},
     "output_type": "display_data"
    }
   ],
   "source": [
    "# df_fare_log = np.log1p(df.Fare)\n",
    "# \n",
    "# sns.distplot(df_fare_log)\n",
    "# df_fare_log.isna().sum()\n",
    "# df_fare_log.skew() # 0.3949280095189306 / 0 이면 완벽하게 대칭이다.\n",
    "\n",
    "from scipy import stats\n",
    "\n",
    "df_fare_boxcox, _ = stats.boxcox(df_fare)\n",
    "\n",
    "sns.kdeplot(df_fare_boxcox)\n",
    "pd.Series(df_fare_boxcox).skew() # 0.03962765832371006\n",
    "# 일반적으로 표준편차를 이용해 만들거나, min-max를 이용하는 것 보다 box-cox를 이용하니 훨씬 더 낮은 skewness를 보여준다.\n",
    "# box-cox를 이용하면 음수가 생기면 안되기 때문에, min-max를 이용해 1-100까지의 값으로 만들어주었다."
   ],
   "metadata": {
    "collapsed": false,
    "ExecuteTime": {
     "end_time": "2024-01-07T14:13:33.086975Z",
     "start_time": "2024-01-07T14:13:32.706062Z"
    }
   },
   "id": "9d04a21fc405e90f",
   "execution_count": 57
  },
  {
   "cell_type": "code",
   "outputs": [
    {
     "data": {
      "text/plain": "<Axes: ylabel='Density'>"
     },
     "execution_count": 58,
     "metadata": {},
     "output_type": "execute_result"
    },
    {
     "data": {
      "text/plain": "<Figure size 640x480 with 1 Axes>",
      "image/png": "[encoded data removed]"
     },
     "metadata": {},
     "output_type": "display_data"
    }
   ],
   "source": [
    "test_fare_boxcox, _ = stats.boxcox(test_fare)\n",
    "sns.kdeplot(test_fare_boxcox)"
   ],
   "metadata": {
    "collapsed": false,
    "ExecuteTime": {
     "end_time": "2024-01-07T14:13:33.298868Z",
     "start_time": "2024-01-07T14:13:32.985748Z"
    }
   },
   "id": "ef6730fecc13c684",
   "execution_count": 58
  },
  {
   "cell_type": "markdown",
   "source": [
    "완벽하지는 않지만 outlier도 줄어들고, skewness도 줄어들었다. (but still right skewed)"
   ],
   "metadata": {
    "collapsed": false
   },
   "id": "a99b4e0f0a1631bc"
  },
  {
   "cell_type": "code",
   "outputs": [],
   "source": [
    "df.Fare = pd.Series(df_fare_boxcox) # 다시 넣어준다.\n",
    "test.Fare = pd.Series(test_fare_boxcox)"
   ],
   "metadata": {
    "collapsed": false,
    "ExecuteTime": {
     "end_time": "2024-01-07T14:13:33.313826Z",
     "start_time": "2024-01-07T14:13:33.178508Z"
    }
   },
   "id": "b8a88bba6a61187b",
   "execution_count": 59
  },
  {
   "cell_type": "code",
   "outputs": [
    {
     "data": {
      "text/plain": "     Sex       Age      Fare  Pclass_1  Pclass_2  Pclass_3  Embarked_0  \\\n0      0  0.210817  0.688455     False     False      True        True   \n1      1  0.857138  0.652014     False     False      True       False   \n2      0  1.558696  0.757594     False      True     False        True   \n3      0 -0.215929  0.721371     False     False      True        True   \n4      1 -0.523214  0.833245     False     False      True        True   \n..   ...       ...       ...       ...       ...       ...         ...   \n413    0  0.292183  0.697513     False     False      True        True   \n414    1  0.451517  1.309183      True     False     False        True   \n415    0  0.425261  0.663427     False     False      True        True   \n416    0 -1.646057  0.697513     False     False      True        True   \n417    0  1.423537  1.007806     False     False      True        True   \n\n     Embarked_1  Cabin_0  Cabin_1  \n0         False     True    False  \n1          True     True    False  \n2         False     True    False  \n3         False     True    False  \n4         False     True    False  \n..          ...      ...      ...  \n413       False     True    False  \n414       False    False     True  \n415       False     True    False  \n416       False     True    False  \n417       False     True    False  \n\n[418 rows x 10 columns]",
      "text/html": "<div>\n<style scoped>\n    .dataframe tbody tr th:only-of-type {\n        vertical-align: middle;\n    }\n\n    .dataframe tbody tr th {\n        vertical-align: top;\n    }\n\n    .dataframe thead th {\n        text-align: right;\n    }\n</style>\n<table border=\"1\" class=\"dataframe\">\n  <thead>\n    <tr style=\"text-align: right;\">\n      <th></th>\n      <th>Sex</th>\n      <th>Age</th>\n      <th>Fare</th>\n      <th>Pclass_1</th>\n      <th>Pclass_2</th>\n      <th>Pclass_3</th>\n      <th>Embarked_0</th>\n      <th>Embarked_1</th>\n      <th>Cabin_0</th>\n      <th>Cabin_1</th>\n    </tr>\n  </thead>\n  <tbody>\n    <tr>\n      <th>0</th>\n      <td>0</td>\n      <td>0.210817</td>\n      <td>0.688455</td>\n      <td>False</td>\n      <td>False</td>\n      <td>True</td>\n      <td>True</td>\n      <td>False</td>\n      <td>True</td>\n      <td>False</td>\n    </tr>\n    <tr>\n      <th>1</th>\n      <td>1</td>\n      <td>0.857138</td>\n      <td>0.652014</td>\n      <td>False</td>\n      <td>False</td>\n      <td>True</td>\n      <td>False</td>\n      <td>True</td>\n      <td>True</td>\n      <td>False</td>\n    </tr>\n    <tr>\n      <th>2</th>\n      <td>0</td>\n      <td>1.558696</td>\n      <td>0.757594</td>\n      <td>False</td>\n      <td>True</td>\n      <td>False</td>\n      <td>True</td>\n      <td>False</td>\n      <td>True</td>\n      <td>False</td>\n    </tr>\n    <tr>\n      <th>3</th>\n      <td>0</td>\n      <td>-0.215929</td>\n      <td>0.721371</td>\n      <td>False</td>\n      <td>False</td>\n      <td>True</td>\n      <td>True</td>\n      <td>False</td>\n      <td>True</td>\n      <td>False</td>\n    </tr>\n    <tr>\n      <th>4</th>\n      <td>1</td>\n      <td>-0.523214</td>\n      <td>0.833245</td>\n      <td>False</td>\n      <td>False</td>\n      <td>True</td>\n      <td>True</td>\n      <td>False</td>\n      <td>True</td>\n      <td>False</td>\n    </tr>\n    <tr>\n      <th>...</th>\n      <td>...</td>\n      <td>...</td>\n      <td>...</td>\n      <td>...</td>\n      <td>...</td>\n      <td>...</td>\n      <td>...</td>\n      <td>...</td>\n      <td>...</td>\n      <td>...</td>\n    </tr>\n    <tr>\n      <th>413</th>\n      <td>0</td>\n      <td>0.292183</td>\n      <td>0.697513</td>\n      <td>False</td>\n      <td>False</td>\n      <td>True</td>\n      <td>True</td>\n      <td>False</td>\n      <td>True</td>\n      <td>False</td>\n    </tr>\n    <tr>\n      <th>414</th>\n      <td>1</td>\n      <td>0.451517</td>\n      <td>1.309183</td>\n      <td>True</td>\n      <td>False</td>\n      <td>False</td>\n      <td>True</td>\n      <td>False</td>\n      <td>False</td>\n      <td>True</td>\n    </tr>\n    <tr>\n      <th>415</th>\n      <td>0</td>\n      <td>0.425261</td>\n      <td>0.663427</td>\n      <td>False</td>\n      <td>False</td>\n      <td>True</td>\n      <td>True</td>\n      <td>False</td>\n      <td>True</td>\n      <td>False</td>\n    </tr>\n    <tr>\n      <th>416</th>\n      <td>0</td>\n      <td>-1.646057</td>\n      <td>0.697513</td>\n      <td>False</td>\n      <td>False</td>\n      <td>True</td>\n      <td>True</td>\n      <td>False</td>\n      <td>True</td>\n      <td>False</td>\n    </tr>\n    <tr>\n      <th>417</th>\n      <td>0</td>\n      <td>1.423537</td>\n      <td>1.007806</td>\n      <td>False</td>\n      <td>False</td>\n      <td>True</td>\n      <td>True</td>\n      <td>False</td>\n      <td>True</td>\n      <td>False</td>\n    </tr>\n  </tbody>\n</table>\n<p>418 rows × 10 columns</p>\n</div>"
     },
     "execution_count": 60,
     "metadata": {},
     "output_type": "execute_result"
    }
   ],
   "source": [
    "df\n",
    "test"
   ],
   "metadata": {
    "collapsed": false,
    "ExecuteTime": {
     "end_time": "2024-01-07T14:13:33.380085Z",
     "start_time": "2024-01-07T14:13:33.309524Z"
    }
   },
   "id": "f2e45500db15c480",
   "execution_count": 60
  },
  {
   "cell_type": "code",
   "outputs": [
    {
     "name": "stdout",
     "output_type": "stream",
     "text": [
      "<class 'pandas.core.frame.DataFrame'>\n",
      "RangeIndex: 891 entries, 0 to 890\n",
      "Data columns (total 11 columns):\n",
      " #   Column      Non-Null Count  Dtype  \n",
      "---  ------      --------------  -----  \n",
      " 0   Survived    891 non-null    int64  \n",
      " 1   Sex         891 non-null    int64  \n",
      " 2   Age         891 non-null    float64\n",
      " 3   Fare        891 non-null    float64\n",
      " 4   Pclass_1    891 non-null    bool   \n",
      " 5   Pclass_2    891 non-null    bool   \n",
      " 6   Pclass_3    891 non-null    bool   \n",
      " 7   Embarked_0  891 non-null    bool   \n",
      " 8   Embarked_1  891 non-null    bool   \n",
      " 9   Cabin_0     891 non-null    bool   \n",
      " 10  Cabin_1     891 non-null    bool   \n",
      "dtypes: bool(7), float64(2), int64(2)\n",
      "memory usage: 34.1 KB\n",
      "<class 'pandas.core.frame.DataFrame'>\n",
      "RangeIndex: 418 entries, 0 to 417\n",
      "Data columns (total 10 columns):\n",
      " #   Column      Non-Null Count  Dtype  \n",
      "---  ------      --------------  -----  \n",
      " 0   Sex         418 non-null    int64  \n",
      " 1   Age         418 non-null    float64\n",
      " 2   Fare        418 non-null    float64\n",
      " 3   Pclass_1    418 non-null    bool   \n",
      " 4   Pclass_2    418 non-null    bool   \n",
      " 5   Pclass_3    418 non-null    bool   \n",
      " 6   Embarked_0  418 non-null    bool   \n",
      " 7   Embarked_1  418 non-null    bool   \n",
      " 8   Cabin_0     418 non-null    bool   \n",
      " 9   Cabin_1     418 non-null    bool   \n",
      "dtypes: bool(7), float64(2), int64(1)\n",
      "memory usage: 12.8 KB\n"
     ]
    }
   ],
   "source": [
    "df.info() # 모든 값들이 숫자로 바뀌었다.\n",
    "test.info()"
   ],
   "metadata": {
    "collapsed": false,
    "ExecuteTime": {
     "end_time": "2024-01-07T14:13:33.445591Z",
     "start_time": "2024-01-07T14:13:33.398746Z"
    }
   },
   "id": "b54337c1e7367306",
   "execution_count": 61
  },
  {
   "cell_type": "markdown",
   "source": [
    "이제 `Survived`, `Sex`, `Age`, Fare`, 와 Pclass, Embarked, Cabin을 모두 가공하였다.\n",
    "학습 시켜보자."
   ],
   "metadata": {
    "collapsed": false
   },
   "id": "9d6dad5b40ee84e5"
  },
  {
   "cell_type": "markdown",
   "source": [
    "## Train a model"
   ],
   "metadata": {
    "collapsed": false
   },
   "id": "55c15d3a8ab18242"
  },
  {
   "cell_type": "code",
   "outputs": [],
   "source": [
    "X_train_total = df.drop('Survived', axis=1).values\n",
    "test_target = test.values"
   ],
   "metadata": {
    "collapsed": false,
    "ExecuteTime": {
     "end_time": "2024-01-07T14:13:33.463104Z",
     "start_time": "2024-01-07T14:13:33.403761Z"
    }
   },
   "id": "b4177ed13f4f77bd",
   "execution_count": 62
  },
  {
   "cell_type": "code",
   "outputs": [],
   "source": [
    "X_train, X_test, Y_train, Y_test = train_test_split(X_train_total, df.Survived.values, test_size=0.3, random_state=42) # 80%는 train, 20%는 test, random_state는 seed값"
   ],
   "metadata": {
    "collapsed": false,
    "ExecuteTime": {
     "end_time": "2024-01-07T14:30:16.419442Z",
     "start_time": "2024-01-07T14:30:16.378337Z"
    }
   },
   "id": "cd18afe67d725bc8",
   "execution_count": 91
  },
  {
   "cell_type": "code",
   "outputs": [
    {
     "data": {
      "text/plain": "((623, 10), (268, 10), (623,), (268,))"
     },
     "execution_count": 92,
     "metadata": {},
     "output_type": "execute_result"
    }
   ],
   "source": [
    "X_train.shape, X_test.shape, Y_train.shape, Y_test.shape"
   ],
   "metadata": {
    "collapsed": false,
    "ExecuteTime": {
     "end_time": "2024-01-07T14:30:17.177963Z",
     "start_time": "2024-01-07T14:30:17.141791Z"
    }
   },
   "id": "66562a44d2c392e1",
   "execution_count": 92
  },
  {
   "cell_type": "markdown",
   "source": [
    "어떤 모델을 써야 할지 몰라 인터넷을 검색해 봤다.\n",
    "\n",
    "[이 링크](https://www.kaggle.com/code/amitkumarjaiswal/beginner-s-tutorial-to-titanic-using-scikit-learn) 에서는 우리가 어떤것을 얻고 어떤 조건에 있으며 그래서 무엇을 써야 한다고 list-up을 해주긴 했는데 추가적으로 공부를 해야할 것 같다."
   ],
   "metadata": {
    "collapsed": false
   },
   "id": "f08af0b2fb607ff"
  },
  {
   "cell_type": "code",
   "outputs": [
    {
     "data": {
      "text/plain": "81.54"
     },
     "execution_count": 93,
     "metadata": {},
     "output_type": "execute_result"
    }
   ],
   "source": [
    "# Logistic Regression\n",
    "logreg = LogisticRegression()\n",
    "logreg.fit(X_train, Y_train)\n",
    "Y_pred = logreg.predict(X_test)\n",
    "acc_log = round(logreg.score(X_train, Y_train) * 100, 2)\n",
    "acc_log"
   ],
   "metadata": {
    "collapsed": false,
    "ExecuteTime": {
     "end_time": "2024-01-07T14:30:18.922439Z",
     "start_time": "2024-01-07T14:30:18.888294Z"
    }
   },
   "id": "d506b7fb0b644a50",
   "execution_count": 93
  },
  {
   "cell_type": "markdown",
   "source": [
    "`로지스틱 회귀`는 feature들의 카테고리 혹은 독립적인 변수들 사이의 관계를 추정한다.\n",
    "features 각각의 계수들을 비교해 보자"
   ],
   "metadata": {
    "collapsed": false
   },
   "id": "91a1ae4540074d8e"
  },
  {
   "cell_type": "code",
   "outputs": [
    {
     "data": {
      "text/plain": "      Feature  Correlation\n0         Sex     2.363809\n4    Pclass_2     0.625443\n9     Cabin_1     0.619332\n7  Embarked_1     0.407273\n2        Fare     0.152882\n3    Pclass_1     0.020405\n1         Age    -0.204025\n6  Embarked_0    -0.407319\n8     Cabin_0    -0.619379\n5    Pclass_3    -0.645894",
      "text/html": "<div>\n<style scoped>\n    .dataframe tbody tr th:only-of-type {\n        vertical-align: middle;\n    }\n\n    .dataframe tbody tr th {\n        vertical-align: top;\n    }\n\n    .dataframe thead th {\n        text-align: right;\n    }\n</style>\n<table border=\"1\" class=\"dataframe\">\n  <thead>\n    <tr style=\"text-align: right;\">\n      <th></th>\n      <th>Feature</th>\n      <th>Correlation</th>\n    </tr>\n  </thead>\n  <tbody>\n    <tr>\n      <th>0</th>\n      <td>Sex</td>\n      <td>2.363809</td>\n    </tr>\n    <tr>\n      <th>4</th>\n      <td>Pclass_2</td>\n      <td>0.625443</td>\n    </tr>\n    <tr>\n      <th>9</th>\n      <td>Cabin_1</td>\n      <td>0.619332</td>\n    </tr>\n    <tr>\n      <th>7</th>\n      <td>Embarked_1</td>\n      <td>0.407273</td>\n    </tr>\n    <tr>\n      <th>2</th>\n      <td>Fare</td>\n      <td>0.152882</td>\n    </tr>\n    <tr>\n      <th>3</th>\n      <td>Pclass_1</td>\n      <td>0.020405</td>\n    </tr>\n    <tr>\n      <th>1</th>\n      <td>Age</td>\n      <td>-0.204025</td>\n    </tr>\n    <tr>\n      <th>6</th>\n      <td>Embarked_0</td>\n      <td>-0.407319</td>\n    </tr>\n    <tr>\n      <th>8</th>\n      <td>Cabin_0</td>\n      <td>-0.619379</td>\n    </tr>\n    <tr>\n      <th>5</th>\n      <td>Pclass_3</td>\n      <td>-0.645894</td>\n    </tr>\n  </tbody>\n</table>\n</div>"
     },
     "execution_count": 94,
     "metadata": {},
     "output_type": "execute_result"
    }
   ],
   "source": [
    "coeff_df = pd.DataFrame(df.columns.delete(0))\n",
    "coeff_df.columns = ['Feature']\n",
    "coeff_df[\"Correlation\"] = pd.Series(logreg.coef_[0])\n",
    "\n",
    "coeff_df.sort_values(by='Correlation', ascending=False)"
   ],
   "metadata": {
    "collapsed": false,
    "ExecuteTime": {
     "end_time": "2024-01-07T14:30:20.489005Z",
     "start_time": "2024-01-07T14:30:20.472213Z"
    }
   },
   "id": "5b244608bbbf034f",
   "execution_count": 94
  },
  {
   "cell_type": "code",
   "outputs": [
    {
     "data": {
      "text/plain": "83.15"
     },
     "execution_count": 95,
     "metadata": {},
     "output_type": "execute_result"
    }
   ],
   "source": [
    "svc = SVC()\n",
    "svc.fit(X_train, Y_train)\n",
    "Y_pred = svc.predict(X_test)\n",
    "acc_svc = round(svc.score(X_train, Y_train) * 100, 2)\n",
    "acc_svc"
   ],
   "metadata": {
    "collapsed": false,
    "ExecuteTime": {
     "end_time": "2024-01-07T14:30:21.837875Z",
     "start_time": "2024-01-07T14:30:21.795343Z"
    }
   },
   "id": "2ff918d70aa795db",
   "execution_count": 95
  },
  {
   "cell_type": "code",
   "outputs": [
    {
     "data": {
      "text/plain": "88.6"
     },
     "execution_count": 96,
     "metadata": {},
     "output_type": "execute_result"
    }
   ],
   "source": [
    "knn = KNeighborsClassifier(n_neighbors = 3)\n",
    "knn.fit(X_train, Y_train)\n",
    "Y_pred = knn.predict(X_test)\n",
    "acc_knn = round(knn.score(X_train, Y_train) * 100, 2)\n",
    "acc_knn"
   ],
   "metadata": {
    "collapsed": false,
    "ExecuteTime": {
     "end_time": "2024-01-07T14:30:22.867235Z",
     "start_time": "2024-01-07T14:30:22.837013Z"
    }
   },
   "id": "37597383deff99cc",
   "execution_count": 96
  },
  {
   "cell_type": "code",
   "outputs": [
    {
     "data": {
      "text/plain": "78.01"
     },
     "execution_count": 97,
     "metadata": {},
     "output_type": "execute_result"
    }
   ],
   "source": [
    "from sklearn.naive_bayes import GaussianNB\n",
    "\n",
    "# Gaussian Naive Bayes\n",
    "gaussian = GaussianNB()\n",
    "gaussian.fit(X_train, Y_train)\n",
    "Y_pred = gaussian.predict(X_test)\n",
    "acc_gaussian = round(gaussian.score(X_train, Y_train) * 100, 2)\n",
    "acc_gaussian"
   ],
   "metadata": {
    "collapsed": false,
    "ExecuteTime": {
     "end_time": "2024-01-07T14:30:24.153389Z",
     "start_time": "2024-01-07T14:30:24.141321Z"
    }
   },
   "id": "d2aaaf2e7a3e614c",
   "execution_count": 97
  },
  {
   "cell_type": "code",
   "outputs": [
    {
     "data": {
      "text/plain": "61.32"
     },
     "execution_count": 98,
     "metadata": {},
     "output_type": "execute_result"
    }
   ],
   "source": [
    "from sklearn.linear_model import Perceptron\n",
    "\n",
    "# Perceptron\n",
    "perceptron = Perceptron()\n",
    "perceptron.fit(X_train, Y_train)\n",
    "Y_pred = perceptron.predict(X_test)\n",
    "acc_perceptron = round(perceptron.score(X_train, Y_train) * 100, 2)\n",
    "acc_perceptron"
   ],
   "metadata": {
    "collapsed": false,
    "ExecuteTime": {
     "end_time": "2024-01-07T14:30:25.014153Z",
     "start_time": "2024-01-07T14:30:24.995988Z"
    }
   },
   "id": "5a4b05da0980988c",
   "execution_count": 98
  },
  {
   "cell_type": "code",
   "outputs": [],
   "source": [
    "from sklearn.tree import DecisionTreeClassifier\n",
    "\n",
    "# Decision Tree\n",
    "decision_tree = DecisionTreeClassifier()\n",
    "decision_tree.fit(X_train, Y_train)\n",
    "Y_pred = decision_tree.predict(X_test)\n",
    "acc_decision_tree = round(decision_tree.score(X_train, Y_train) * 100, 2)\n",
    "acc_decision_tree = 0"
   ],
   "metadata": {
    "collapsed": false,
    "ExecuteTime": {
     "end_time": "2024-01-07T14:39:14.082968Z",
     "start_time": "2024-01-07T14:39:14.029314Z"
    }
   },
   "id": "5e3a5fc2accc7014",
   "execution_count": 116
  },
  {
   "cell_type": "code",
   "outputs": [],
   "source": [
    "from sklearn.ensemble import RandomForestClassifier\n",
    "\n",
    "# Random Forest\n",
    "random_forest = RandomForestClassifier(n_estimators=100)\n",
    "random_forest.fit(X_train, Y_train)\n",
    "Y_pred = random_forest.predict(X_test)\n",
    "random_forest.score(X_train, Y_train)\n",
    "acc_random_forest = round(random_forest.score(X_train, Y_train) * 100, 2)\n",
    "acc_random_forest = 0"
   ],
   "metadata": {
    "collapsed": false,
    "ExecuteTime": {
     "end_time": "2024-01-07T14:39:15.279415Z",
     "start_time": "2024-01-07T14:39:15.197917Z"
    }
   },
   "id": "8405135bd55209d4",
   "execution_count": 117
  },
  {
   "cell_type": "code",
   "outputs": [
    {
     "data": {
      "text/plain": "91.17"
     },
     "execution_count": 101,
     "metadata": {},
     "output_type": "execute_result"
    }
   ],
   "source": [
    "from sklearn.ensemble import GradientBoostingClassifier, RandomForestClassifier\n",
    "\n",
    "# Gradient Boosting\n",
    "grad_boost = GradientBoostingClassifier(n_estimators = 100)\n",
    "grad_boost.fit(X_train, Y_train)\n",
    "Y_pred = grad_boost.predict(X_test)\n",
    "grad_boost.score(X_train, Y_train)\n",
    "acc_grad_boost = round(grad_boost.score(X_train, Y_train) * 100, 2)\n",
    "acc_grad_boost"
   ],
   "metadata": {
    "collapsed": false,
    "ExecuteTime": {
     "end_time": "2024-01-07T14:30:33.872034Z",
     "start_time": "2024-01-07T14:30:33.795948Z"
    }
   },
   "id": "cea0b96b39ff8caa",
   "execution_count": 101
  },
  {
   "cell_type": "code",
   "outputs": [
    {
     "data": {
      "text/plain": "79.94"
     },
     "execution_count": 102,
     "metadata": {},
     "output_type": "execute_result"
    }
   ],
   "source": [
    "from sklearn.linear_model import RidgeClassifierCV\n",
    "\n",
    "# RidgeClassifierCV\n",
    "Ridge= RidgeClassifierCV()\n",
    "Ridge.fit(X_train, Y_train)\n",
    "Y_pred = Ridge.predict(X_test)\n",
    "acc_Ridge= round(Ridge.score(X_train, Y_train) * 100, 2)\n",
    "acc_Ridge"
   ],
   "metadata": {
    "collapsed": false,
    "ExecuteTime": {
     "end_time": "2024-01-07T14:30:34.879816Z",
     "start_time": "2024-01-07T14:30:34.849122Z"
    }
   },
   "id": "b214c336d1c4f2ea",
   "execution_count": 102
  },
  {
   "cell_type": "markdown",
   "source": [
    "**각각의 모델들은 어떤 차이가 있는지 나중에 심도 있게 따로 공부해야 할것 같다...**"
   ],
   "metadata": {
    "collapsed": false
   },
   "id": "1f6926a36d8e860b"
  },
  {
   "cell_type": "markdown",
   "source": [
    "## Evaluate Model"
   ],
   "metadata": {
    "collapsed": false
   },
   "id": "9e0c958fbbec5bfd"
  },
  {
   "cell_type": "code",
   "outputs": [
    {
     "data": {
      "text/plain": "                     Model  Score\n6               Grad boost  91.17\n1                      KNN  88.60\n0  Support Vector Machines  83.15\n2      Logistic Regression  81.54\n4              Naive Bayes  78.01\n5               Perceptron  61.32\n3            Random Forest   0.00\n7            Decision Tree   0.00",
      "text/html": "<div>\n<style scoped>\n    .dataframe tbody tr th:only-of-type {\n        vertical-align: middle;\n    }\n\n    .dataframe tbody tr th {\n        vertical-align: top;\n    }\n\n    .dataframe thead th {\n        text-align: right;\n    }\n</style>\n<table border=\"1\" class=\"dataframe\">\n  <thead>\n    <tr style=\"text-align: right;\">\n      <th></th>\n      <th>Model</th>\n      <th>Score</th>\n    </tr>\n  </thead>\n  <tbody>\n    <tr>\n      <th>6</th>\n      <td>Grad boost</td>\n      <td>91.17</td>\n    </tr>\n    <tr>\n      <th>1</th>\n      <td>KNN</td>\n      <td>88.60</td>\n    </tr>\n    <tr>\n      <th>0</th>\n      <td>Support Vector Machines</td>\n      <td>83.15</td>\n    </tr>\n    <tr>\n      <th>2</th>\n      <td>Logistic Regression</td>\n      <td>81.54</td>\n    </tr>\n    <tr>\n      <th>4</th>\n      <td>Naive Bayes</td>\n      <td>78.01</td>\n    </tr>\n    <tr>\n      <th>5</th>\n      <td>Perceptron</td>\n      <td>61.32</td>\n    </tr>\n    <tr>\n      <th>3</th>\n      <td>Random Forest</td>\n      <td>0.00</td>\n    </tr>\n    <tr>\n      <th>7</th>\n      <td>Decision Tree</td>\n      <td>0.00</td>\n    </tr>\n  </tbody>\n</table>\n</div>"
     },
     "execution_count": 106,
     "metadata": {},
     "output_type": "execute_result"
    }
   ],
   "source": [
    "models = pd.DataFrame({\n",
    "    'Model': ['Support Vector Machines', 'KNN', 'Logistic Regression', 'Random Forest', 'Naive Bayes', 'Perceptron', 'Grad boost','Decision Tree'],\n",
    "    'Score': [acc_svc, acc_knn, acc_log, acc_random_forest, acc_gaussian, acc_perceptron, acc_grad_boost, acc_decision_tree]})\n",
    "\n",
    "models.sort_values(by='Score', ascending=False)"
   ],
   "metadata": {
    "collapsed": false,
    "ExecuteTime": {
     "end_time": "2024-01-07T14:33:23.089238Z",
     "start_time": "2024-01-07T14:33:23.066196Z"
    }
   },
   "id": "46132967f416c250",
   "execution_count": 106
  },
  {
   "cell_type": "markdown",
   "source": [
    "결론을 짓자면, `Random Forest`와 `Decision Tree`가 가장 높은 점수를 보여준다."
   ],
   "metadata": {
    "collapsed": false
   },
   "id": "c3df7f089455b1fe"
  },
  {
   "cell_type": "code",
   "outputs": [],
   "source": [
    "# 여기부터 맨끝까지 전부 kaggle에서 복붙함!\n",
    "\n",
    "# Split the training set into a development and an evaluation sets\n",
    "from sklearn.model_selection import train_test_split\n",
    "X_dev, X_eval, y_dev, y_eval = train_test_split(X_train,\n",
    "                                                Y_train,\n",
    "                                                test_size=0.2,\n",
    "                                                random_state=42)"
   ],
   "metadata": {
    "collapsed": false,
    "ExecuteTime": {
     "end_time": "2024-01-07T14:33:32.166866Z",
     "start_time": "2024-01-07T14:33:32.127652Z"
    }
   },
   "id": "936ef53835597bb2",
   "execution_count": 107
  },
  {
   "cell_type": "code",
   "outputs": [
    {
     "name": "stderr",
     "output_type": "stream",
     "text": [
      "/Users/kreimben/Repository/ML_Notes/venv/lib/python3.11/site-packages/sklearn/model_selection/_validation.py:425: FitFailedWarning: \n",
      "336 fits failed out of a total of 672.\n",
      "The score on these train-test partitions for these parameters will be set to nan.\n",
      "If these failures are not expected, you can try to debug them by setting error_score='raise'.\n",
      "\n",
      "Below are more details about the failures:\n",
      "--------------------------------------------------------------------------------\n",
      "336 fits failed with the following error:\n",
      "Traceback (most recent call last):\n",
      "  File \"/Users/kreimben/Repository/ML_Notes/venv/lib/python3.11/site-packages/sklearn/model_selection/_validation.py\", line 729, in _fit_and_score\n",
      "    estimator.fit(X_train, y_train, **fit_params)\n",
      "  File \"/Users/kreimben/Repository/ML_Notes/venv/lib/python3.11/site-packages/sklearn/base.py\", line 1145, in wrapper\n",
      "    estimator._validate_params()\n",
      "  File \"/Users/kreimben/Repository/ML_Notes/venv/lib/python3.11/site-packages/sklearn/base.py\", line 638, in _validate_params\n",
      "    validate_parameter_constraints(\n",
      "  File \"/Users/kreimben/Repository/ML_Notes/venv/lib/python3.11/site-packages/sklearn/utils/_param_validation.py\", line 96, in validate_parameter_constraints\n",
      "    raise InvalidParameterError(\n",
      "sklearn.utils._param_validation.InvalidParameterError: The 'max_features' parameter of RandomForestClassifier must be an int in the range [1, inf), a float in the range (0.0, 1.0], a str among {'log2', 'sqrt'} or None. Got 'auto' instead.\n",
      "\n",
      "  warnings.warn(some_fits_failed_message, FitFailedWarning)\n",
      "/Users/kreimben/Repository/ML_Notes/venv/lib/python3.11/site-packages/sklearn/model_selection/_search.py:979: UserWarning: One or more of the test scores are non-finite: [       nan        nan        nan        nan        nan        nan\n",
      "        nan        nan        nan        nan        nan        nan\n",
      "        nan        nan        nan        nan        nan        nan\n",
      "        nan        nan        nan        nan        nan        nan\n",
      "        nan        nan        nan        nan        nan        nan\n",
      "        nan        nan        nan        nan        nan        nan\n",
      "        nan        nan        nan        nan        nan        nan\n",
      " 0.8233871  0.81735484 0.8213871  0.81737097 0.81937097 0.81937097\n",
      " 0.81737097 0.80933871 0.81335484 0.81133871 0.80933871 0.80733871\n",
      " 0.80932258 0.80732258 0.79729032 0.79325806 0.79527419 0.79527419\n",
      " 0.79727419 0.79525806 0.79525806 0.79322581 0.79524194 0.79124194\n",
      " 0.79325806 0.79122581 0.79122581 0.79122581 0.78320968 0.78720968\n",
      " 0.79120968 0.79120968 0.78719355 0.78719355 0.79322581 0.79320968\n",
      " 0.79120968 0.79320968 0.79520968 0.79322581 0.78920968 0.79120968\n",
      "        nan        nan        nan        nan        nan        nan\n",
      "        nan        nan        nan        nan        nan        nan\n",
      "        nan        nan        nan        nan        nan        nan\n",
      "        nan        nan        nan        nan        nan        nan\n",
      "        nan        nan        nan        nan        nan        nan\n",
      "        nan        nan        nan        nan        nan        nan\n",
      "        nan        nan        nan        nan        nan        nan\n",
      " 0.82140323 0.8233871  0.81737097 0.81737097 0.81737097 0.81737097\n",
      " 0.81335484 0.81133871 0.80933871 0.80933871 0.80732258 0.80933871\n",
      " 0.81133871 0.81335484 0.79527419 0.79125806 0.79127419 0.79125806\n",
      " 0.78925806 0.79525806 0.79324194 0.78722581 0.79925806 0.79927419\n",
      " 0.79327419 0.79122581 0.79524194 0.79524194 0.78720968 0.78519355\n",
      " 0.78519355 0.78519355 0.79120968 0.79120968 0.79120968 0.78917742\n",
      " 0.78919355 0.79117742 0.79319355 0.78919355 0.79120968 0.79119355]\n",
      "  warnings.warn(\n"
     ]
    }
   ],
   "source": [
    "from sklearn.model_selection import GridSearchCV\n",
    "# 1. Random Forest\n",
    "import time\n",
    "dict_clf = {}\n",
    "\n",
    "\n",
    "paramgrid = {\n",
    "    'n_estimators':      [100, 150, 200, 250, 300, 400, 500],\n",
    "    'criterion':         ['gini', 'entropy'],\n",
    "    'max_features':      ['auto', 'log2'],\n",
    "    'min_samples_leaf':  list(range(2, 8))\n",
    "}\n",
    "GS = GridSearchCV(RandomForestClassifier(random_state=77),\n",
    "                  paramgrid,\n",
    "                  cv=4)\n",
    "\n",
    "# Fit the data and record time taking to train\n",
    "t0 = time.time()\n",
    "GS.fit(X_dev, y_dev)\n",
    "t = time.time() - t0\n",
    "\n",
    "# Store best parameters, score and estimator\n",
    "best_clf = GS.best_estimator_\n",
    "best_params = GS.best_params_\n",
    "best_score = GS.best_score_\n",
    "\n",
    "name = 'RF'"
   ],
   "metadata": {
    "collapsed": false,
    "ExecuteTime": {
     "end_time": "2024-01-07T14:36:29.831257Z",
     "start_time": "2024-01-07T14:35:48.507151Z"
    }
   },
   "id": "40a0c7e4c53bea36",
   "execution_count": 112
  },
  {
   "cell_type": "code",
   "outputs": [
    {
     "data": {
      "text/plain": "0.8"
     },
     "execution_count": 113,
     "metadata": {},
     "output_type": "execute_result"
    }
   ],
   "source": [
    "from sklearn.metrics import accuracy_score\n",
    "\n",
    "best_clf.fit(X_dev, y_dev)\n",
    "acc_eval = accuracy_score(y_eval, best_clf.predict(X_eval))\n",
    "\n",
    "dict_clf[name] = {\n",
    "    'best_par': best_params,\n",
    "    'best_clf': best_clf,\n",
    "    'best_score': best_score,\n",
    "    'score_eval': acc_eval,\n",
    "    'fit_time': t,\n",
    "}\n",
    "\n",
    "acc_eval"
   ],
   "metadata": {
    "collapsed": false,
    "ExecuteTime": {
     "end_time": "2024-01-07T14:36:51.227024Z",
     "start_time": "2024-01-07T14:36:51.149566Z"
    }
   },
   "id": "89504ea71d7c28fc",
   "execution_count": 113
  },
  {
   "cell_type": "code",
   "outputs": [
    {
     "name": "stderr",
     "output_type": "stream",
     "text": [
      "/Users/kreimben/Repository/ML_Notes/venv/lib/python3.11/site-packages/sklearn/model_selection/_validation.py:425: FitFailedWarning: \n",
      "1680 fits failed out of a total of 2240.\n",
      "The score on these train-test partitions for these parameters will be set to nan.\n",
      "If these failures are not expected, you can try to debug them by setting error_score='raise'.\n",
      "\n",
      "Below are more details about the failures:\n",
      "--------------------------------------------------------------------------------\n",
      "1120 fits failed with the following error:\n",
      "Traceback (most recent call last):\n",
      "  File \"/Users/kreimben/Repository/ML_Notes/venv/lib/python3.11/site-packages/sklearn/model_selection/_validation.py\", line 729, in _fit_and_score\n",
      "    estimator.fit(X_train, y_train, **fit_params)\n",
      "  File \"/Users/kreimben/Repository/ML_Notes/venv/lib/python3.11/site-packages/sklearn/base.py\", line 1145, in wrapper\n",
      "    estimator._validate_params()\n",
      "  File \"/Users/kreimben/Repository/ML_Notes/venv/lib/python3.11/site-packages/sklearn/base.py\", line 638, in _validate_params\n",
      "    validate_parameter_constraints(\n",
      "  File \"/Users/kreimben/Repository/ML_Notes/venv/lib/python3.11/site-packages/sklearn/utils/_param_validation.py\", line 96, in validate_parameter_constraints\n",
      "    raise InvalidParameterError(\n",
      "sklearn.utils._param_validation.InvalidParameterError: The 'loss' parameter of GradientBoostingClassifier must be a str among {'exponential', 'log_loss'}. Got 'deviance' instead.\n",
      "\n",
      "--------------------------------------------------------------------------------\n",
      "560 fits failed with the following error:\n",
      "Traceback (most recent call last):\n",
      "  File \"/Users/kreimben/Repository/ML_Notes/venv/lib/python3.11/site-packages/sklearn/model_selection/_validation.py\", line 729, in _fit_and_score\n",
      "    estimator.fit(X_train, y_train, **fit_params)\n",
      "  File \"/Users/kreimben/Repository/ML_Notes/venv/lib/python3.11/site-packages/sklearn/base.py\", line 1145, in wrapper\n",
      "    estimator._validate_params()\n",
      "  File \"/Users/kreimben/Repository/ML_Notes/venv/lib/python3.11/site-packages/sklearn/base.py\", line 638, in _validate_params\n",
      "    validate_parameter_constraints(\n",
      "  File \"/Users/kreimben/Repository/ML_Notes/venv/lib/python3.11/site-packages/sklearn/utils/_param_validation.py\", line 96, in validate_parameter_constraints\n",
      "    raise InvalidParameterError(\n",
      "sklearn.utils._param_validation.InvalidParameterError: The 'max_features' parameter of GradientBoostingClassifier must be an int in the range [1, inf), a float in the range (0.0, 1.0], a str among {'log2', 'sqrt'} or None. Got 'auto' instead.\n",
      "\n",
      "  warnings.warn(some_fits_failed_message, FitFailedWarning)\n",
      "/Users/kreimben/Repository/ML_Notes/venv/lib/python3.11/site-packages/sklearn/model_selection/_search.py:979: UserWarning: One or more of the test scores are non-finite: [       nan        nan        nan        nan        nan        nan\n",
      "        nan        nan        nan        nan        nan        nan\n",
      "        nan        nan        nan        nan        nan        nan\n",
      "        nan        nan        nan        nan        nan        nan\n",
      "        nan        nan        nan        nan        nan        nan\n",
      "        nan        nan        nan        nan        nan        nan\n",
      "        nan        nan        nan        nan        nan        nan\n",
      "        nan        nan        nan        nan        nan        nan\n",
      "        nan        nan        nan        nan        nan        nan\n",
      "        nan        nan        nan        nan        nan        nan\n",
      "        nan        nan        nan        nan        nan        nan\n",
      "        nan        nan        nan        nan        nan        nan\n",
      "        nan        nan        nan        nan        nan        nan\n",
      "        nan        nan        nan        nan        nan        nan\n",
      "        nan        nan        nan        nan        nan        nan\n",
      "        nan        nan        nan        nan        nan        nan\n",
      "        nan        nan        nan        nan        nan        nan\n",
      "        nan        nan        nan 0.80330645 0.80532258 0.80935484\n",
      " 0.81940323 0.82140323 0.81740323 0.81740323 0.80130645 0.80332258\n",
      " 0.80733871 0.8153871  0.82341935 0.8173871  0.82340323 0.80130645\n",
      " 0.80732258 0.81333871 0.8213871  0.82743548 0.8193871  0.8153871\n",
      " 0.80130645 0.81132258 0.81130645 0.81737097 0.82740323 0.82540323\n",
      " 0.81940323 0.79727419 0.80130645 0.80932258 0.81133871 0.81937097\n",
      " 0.81941935 0.80940323        nan        nan        nan        nan\n",
      "        nan        nan        nan        nan        nan        nan\n",
      "        nan        nan        nan        nan        nan        nan\n",
      "        nan        nan        nan        nan        nan        nan\n",
      "        nan        nan        nan        nan        nan        nan\n",
      "        nan        nan        nan        nan        nan        nan\n",
      "        nan        nan        nan        nan        nan        nan\n",
      "        nan        nan        nan        nan        nan        nan\n",
      "        nan        nan        nan        nan        nan        nan\n",
      "        nan        nan        nan        nan        nan        nan\n",
      "        nan        nan        nan        nan        nan        nan\n",
      "        nan        nan        nan        nan        nan        nan\n",
      "        nan        nan        nan        nan        nan        nan\n",
      "        nan        nan        nan        nan        nan        nan\n",
      "        nan        nan        nan        nan        nan        nan\n",
      "        nan        nan        nan        nan        nan        nan\n",
      "        nan        nan        nan        nan        nan        nan\n",
      "        nan        nan        nan        nan        nan 0.81332258\n",
      " 0.81733871 0.81935484 0.81937097 0.82137097 0.82337097 0.81535484\n",
      " 0.81133871 0.81937097 0.81332258 0.82135484 0.81937097 0.82537097\n",
      " 0.82335484 0.81132258 0.81537097 0.81132258 0.81535484 0.8193871\n",
      " 0.8333871  0.82937097 0.81133871 0.82140323 0.8173871  0.82137097\n",
      " 0.8173871  0.8193871  0.81935484 0.81133871 0.81337097 0.81540323\n",
      " 0.8113871  0.81340323 0.81737097 0.81537097        nan        nan\n",
      "        nan        nan        nan        nan        nan        nan\n",
      "        nan        nan        nan        nan        nan        nan\n",
      "        nan        nan        nan        nan        nan        nan\n",
      "        nan        nan        nan        nan        nan        nan\n",
      "        nan        nan        nan        nan        nan        nan\n",
      "        nan        nan        nan        nan        nan        nan\n",
      "        nan        nan        nan        nan        nan        nan\n",
      "        nan        nan        nan        nan        nan        nan\n",
      "        nan        nan        nan        nan        nan        nan\n",
      "        nan        nan        nan        nan        nan        nan\n",
      "        nan        nan        nan        nan        nan        nan\n",
      "        nan        nan        nan        nan        nan        nan\n",
      "        nan        nan        nan        nan        nan        nan\n",
      "        nan        nan        nan        nan        nan        nan\n",
      "        nan        nan        nan        nan        nan        nan\n",
      "        nan        nan        nan        nan        nan        nan\n",
      "        nan        nan        nan        nan        nan        nan\n",
      "        nan 0.8233871  0.8193871  0.81332258 0.81533871 0.82135484\n",
      " 0.8233871  0.81535484 0.81937097 0.81332258 0.81730645 0.81732258\n",
      " 0.82329032 0.81932258 0.81933871 0.81937097 0.81737097 0.81535484\n",
      " 0.81935484 0.8293871  0.82335484 0.82133871 0.81537097 0.81535484\n",
      " 0.80933871 0.81135484 0.82537097 0.82137097 0.81733871 0.8213871\n",
      " 0.81335484 0.80935484 0.8213871  0.8153871  0.81337097 0.81135484\n",
      "        nan        nan        nan        nan        nan        nan\n",
      "        nan        nan        nan        nan        nan        nan\n",
      "        nan        nan        nan        nan        nan        nan\n",
      "        nan        nan        nan        nan        nan        nan\n",
      "        nan        nan        nan        nan        nan        nan\n",
      "        nan        nan        nan        nan        nan        nan\n",
      "        nan        nan        nan        nan        nan        nan\n",
      "        nan        nan        nan        nan        nan        nan\n",
      "        nan        nan        nan        nan        nan        nan\n",
      "        nan        nan        nan        nan        nan        nan\n",
      "        nan        nan        nan        nan        nan        nan\n",
      "        nan        nan        nan        nan        nan        nan\n",
      "        nan        nan        nan        nan        nan        nan\n",
      "        nan        nan        nan        nan        nan        nan\n",
      "        nan        nan        nan        nan        nan        nan\n",
      "        nan        nan        nan        nan        nan        nan\n",
      "        nan        nan        nan        nan        nan        nan\n",
      "        nan        nan        nan 0.81737097 0.81132258 0.81129032\n",
      " 0.80330645 0.80732258 0.80937097 0.80529032 0.82137097 0.82135484\n",
      " 0.82533871 0.82730645 0.81930645 0.82132258 0.81132258 0.81937097\n",
      " 0.82335484 0.82133871 0.81930645 0.81930645 0.81132258 0.80932258\n",
      " 0.82135484 0.8233871  0.82335484 0.82333871 0.81933871 0.81735484\n",
      " 0.80932258 0.80733871 0.81537097 0.82340323 0.8213871  0.81735484\n",
      " 0.81737097 0.80532258]\n",
      "  warnings.warn(\n"
     ]
    }
   ],
   "source": [
    "# 2. GradientBoosting\n",
    "paramgrid = {\n",
    "    'n_estimators':      [100, 150, 200, 250, 300, 400, 500],\n",
    "    'max_features':      ['auto', 'log2'],\n",
    "    'min_samples_leaf':  list(range(2, 7)),\n",
    "    'loss' :             ['deviance', 'exponential'],\n",
    "    'learning_rate':     [0.025, 0.05, 0.075, 0.1],\n",
    "}\n",
    "GS = GridSearchCV(GradientBoostingClassifier(random_state=77),\n",
    "                  paramgrid,\n",
    "                  cv=4)\n",
    "\n",
    "# Fit the data and record time taking to train\n",
    "t0 = time.time()\n",
    "GS.fit(X_dev, y_dev)\n",
    "t = time.time() - t0\n",
    "\n",
    "# Store best parameters, score and estimator\n",
    "best_clf = GS.best_estimator_\n",
    "best_params = GS.best_params_\n",
    "best_score = GS.best_score_\n",
    "\n",
    "name = 'GB'\n",
    "best_clf.fit(X_dev, y_dev)\n",
    "acc_eval = accuracy_score(y_eval, best_clf.predict(X_eval))\n",
    "\n",
    "dict_clf[name] = {\n",
    "    'best_par': best_params,\n",
    "    'best_clf': best_clf,\n",
    "    'best_score': best_score,\n",
    "    'score_eval': acc_eval,\n",
    "    'fit_time': t,\n",
    "}"
   ],
   "metadata": {
    "collapsed": false,
    "ExecuteTime": {
     "end_time": "2024-01-07T14:37:37.806368Z",
     "start_time": "2024-01-07T14:37:01.883643Z"
    }
   },
   "id": "eb56cdbe6ca1e393",
   "execution_count": 114
  },
  {
   "cell_type": "code",
   "outputs": [
    {
     "name": "stdout",
     "output_type": "stream",
     "text": [
      "RF classifier:\n",
      "\t- Best score = 82.34%\n",
      "\t- Score on evaluation set = 80.00%\n",
      "\t- Fitting time = 0.7 min\n",
      "\t- Best parameters:\n",
      "\t\t* criterion: gini\n",
      "\t\t* max_features: log2\n",
      "\t\t* min_samples_leaf: 2\n",
      "\t\t* n_estimators: 100\n",
      "GB classifier:\n",
      "\t- Best score = 83.34%\n",
      "\t- Score on evaluation set = 83.20%\n",
      "\t- Fitting time = 0.6 min\n",
      "\t- Best parameters:\n",
      "\t\t* learning_rate: 0.05\n",
      "\t\t* loss: exponential\n",
      "\t\t* max_features: log2\n",
      "\t\t* min_samples_leaf: 4\n",
      "\t\t* n_estimators: 400\n"
     ]
    }
   ],
   "source": [
    "for clf in dict_clf.keys():\n",
    "    print(\"{0} classifier:\\n\\t- Best score = {1:.2%}\".format(clf, dict_clf[clf]['best_score']))\n",
    "    print(\"\\t- Score on evaluation set = {0:.2%}\".format(dict_clf[clf]['score_eval']))\n",
    "    print(\"\\t- Fitting time = {0:.1f} min\".format(round(dict_clf[clf]['fit_time']/60, 1)))\n",
    "    print(\"\\t- Best parameters:\")\n",
    "    for par in sorted(dict_clf[clf]['best_par'].keys()):\n",
    "        print(\"\\t\\t* {0}: {1}\".format(par, dict_clf[clf]['best_par'][par]))"
   ],
   "metadata": {
    "collapsed": false,
    "ExecuteTime": {
     "end_time": "2024-01-07T14:38:13.934478Z",
     "start_time": "2024-01-07T14:38:13.919604Z"
    }
   },
   "id": "1f83ca9878acebd8",
   "execution_count": 115
  },
  {
   "cell_type": "code",
   "outputs": [
    {
     "data": {
      "text/plain": "array([0, 0, 0, 1, 1, 1, 1, 0, 1, 1, 1, 0, 0, 0, 0, 1, 0, 1, 0, 0, 0, 0,\n       0, 0, 0, 0, 0, 0, 0, 1, 0, 0, 0, 1, 0, 0, 0, 1, 1, 0, 0, 0, 0, 0,\n       1, 0, 0, 0, 0, 1, 1, 1, 0, 0, 0, 1, 0, 1, 1, 0, 0, 1, 1, 0, 0, 1,\n       0, 0, 0, 1, 1, 1, 1, 1, 0, 0, 1, 1, 1, 0, 0, 1, 1, 0, 1, 0, 1, 1,\n       0, 0, 0, 0, 0, 0, 0, 0, 0, 0, 1, 0, 0, 0, 1, 0, 0, 0, 1, 0, 0, 0,\n       1, 0, 1, 1, 0, 0, 1, 1, 1, 0, 0, 1, 1, 1, 0, 0, 1, 1, 1, 0, 1, 0,\n       0, 1, 1, 0, 1, 0, 0, 0, 0, 1, 0, 0, 0, 1, 0, 0, 1, 0, 0, 0, 0, 1,\n       0, 0, 0, 0, 1, 1, 0, 0, 0, 1, 0, 1, 0, 1, 0, 0, 1, 1, 1, 0, 0, 0,\n       0, 1, 1, 0, 0, 0, 0, 0, 1, 0, 0, 0, 0, 1, 0, 0, 0, 0, 1, 1, 1, 0,\n       1, 0, 0, 0, 1, 1, 0, 1, 0, 0, 0, 0, 1, 0, 1, 0, 0, 0, 1, 0, 1, 0,\n       0, 1, 0, 0, 0, 1, 0, 0, 1, 1, 0, 1, 0, 1, 0, 0, 1, 0, 1, 0, 0, 1,\n       0, 0, 0, 0, 0, 0, 0, 0, 0, 1, 0, 0, 0, 0, 0, 1, 0, 1, 1, 1, 1, 0,\n       0, 0, 0, 0])"
     },
     "execution_count": 118,
     "metadata": {},
     "output_type": "execute_result"
    }
   ],
   "source": [
    "from sklearn.ensemble import VotingClassifier\n",
    "\n",
    "estimators = [('RF', dict_clf['RF']['best_clf']),\n",
    "              ('GB', dict_clf['GB']['best_clf']),\n",
    "              ('KNN', knn), ('svc', svc), ('trees', decision_tree)]\n",
    "\n",
    "# Instantiate the VotingClassifier using hard voting\n",
    "voter = VotingClassifier(estimators=estimators, voting='hard')\n",
    "voter.fit(X_train, Y_train)\n",
    "\n",
    "Y_pred = voter.predict(X_test).astype(int)\n",
    "Y_pred"
   ],
   "metadata": {
    "collapsed": false,
    "ExecuteTime": {
     "end_time": "2024-01-07T14:39:25.231700Z",
     "start_time": "2024-01-07T14:39:24.880065Z"
    }
   },
   "id": "699bdc17809a9b7a",
   "execution_count": 118
  },
  {
   "cell_type": "code",
   "outputs": [
    {
     "data": {
      "text/plain": "     PassengerId  Survived\n0            892         0\n1            893         1\n2            894         0\n3            895         0\n4            896         1\n..           ...       ...\n413         1305         0\n414         1306         1\n415         1307         0\n416         1308         0\n417         1309         0\n\n[418 rows x 2 columns]",
      "text/html": "<div>\n<style scoped>\n    .dataframe tbody tr th:only-of-type {\n        vertical-align: middle;\n    }\n\n    .dataframe tbody tr th {\n        vertical-align: top;\n    }\n\n    .dataframe thead th {\n        text-align: right;\n    }\n</style>\n<table border=\"1\" class=\"dataframe\">\n  <thead>\n    <tr style=\"text-align: right;\">\n      <th></th>\n      <th>PassengerId</th>\n      <th>Survived</th>\n    </tr>\n  </thead>\n  <tbody>\n    <tr>\n      <th>0</th>\n      <td>892</td>\n      <td>0</td>\n    </tr>\n    <tr>\n      <th>1</th>\n      <td>893</td>\n      <td>1</td>\n    </tr>\n    <tr>\n      <th>2</th>\n      <td>894</td>\n      <td>0</td>\n    </tr>\n    <tr>\n      <th>3</th>\n      <td>895</td>\n      <td>0</td>\n    </tr>\n    <tr>\n      <th>4</th>\n      <td>896</td>\n      <td>1</td>\n    </tr>\n    <tr>\n      <th>...</th>\n      <td>...</td>\n      <td>...</td>\n    </tr>\n    <tr>\n      <th>413</th>\n      <td>1305</td>\n      <td>0</td>\n    </tr>\n    <tr>\n      <th>414</th>\n      <td>1306</td>\n      <td>1</td>\n    </tr>\n    <tr>\n      <th>415</th>\n      <td>1307</td>\n      <td>0</td>\n    </tr>\n    <tr>\n      <th>416</th>\n      <td>1308</td>\n      <td>0</td>\n    </tr>\n    <tr>\n      <th>417</th>\n      <td>1309</td>\n      <td>0</td>\n    </tr>\n  </tbody>\n</table>\n<p>418 rows × 2 columns</p>\n</div>"
     },
     "execution_count": 119,
     "metadata": {},
     "output_type": "execute_result"
    }
   ],
   "source": [
    "gender = pd.read_csv('gender.csv')\n",
    "gender"
   ],
   "metadata": {
    "collapsed": false,
    "ExecuteTime": {
     "end_time": "2024-01-07T14:39:36.151226Z",
     "start_time": "2024-01-07T14:39:36.136740Z"
    }
   },
   "id": "18a4abd23e02cfb1",
   "execution_count": 119
  },
  {
   "cell_type": "code",
   "outputs": [
    {
     "data": {
      "text/plain": "0      0\n1      1\n2      0\n3      0\n4      0\n      ..\n413    0\n414    1\n415    0\n416    0\n417    0\nLength: 418, dtype: int64"
     },
     "execution_count": 120,
     "metadata": {},
     "output_type": "execute_result"
    }
   ],
   "source": [
    "predict = voter.predict(test_target)\n",
    "pd.Series(predict)"
   ],
   "metadata": {
    "collapsed": false,
    "ExecuteTime": {
     "end_time": "2024-01-07T14:39:38.996344Z",
     "start_time": "2024-01-07T14:39:38.958414Z"
    }
   },
   "id": "b2abad02286fef09",
   "execution_count": 120
  },
  {
   "cell_type": "code",
   "outputs": [],
   "source": [
    "submission = pd.DataFrame({\n",
    "        \"PassengerId\": gender.PassengerId,\n",
    "        \"Survived\": predict\n",
    "    })\n",
    "submission.to_csv('myself_submission.csv', index=False)"
   ],
   "metadata": {
    "collapsed": false,
    "ExecuteTime": {
     "end_time": "2024-01-07T14:39:44.464792Z",
     "start_time": "2024-01-07T14:39:44.400203Z"
    }
   },
   "id": "925c755006bcd5f7",
   "execution_count": 121
  },
  {
   "cell_type": "markdown",
   "source": [
    "![](myself1.png)"
   ],
   "metadata": {
    "collapsed": false
   },
   "id": "677ef894318b7153"
  },
  {
   "cell_type": "markdown",
   "source": [
    "순위가 많이 올랐다.\n",
    "아까 DicisionTree는 안올렸는데 이것도 적용 시켜서 올려보자."
   ],
   "metadata": {
    "collapsed": false
   },
   "id": "7ed8b603019f2841"
  },
  {
   "cell_type": "code",
   "outputs": [
    {
     "data": {
      "text/plain": "98.88"
     },
     "execution_count": 88,
     "metadata": {},
     "output_type": "execute_result"
    }
   ],
   "source": [
    "from sklearn.tree import DecisionTreeClassifier\n",
    "\n",
    "# Decision Tree\n",
    "decision_tree = DecisionTreeClassifier()\n",
    "decision_tree.fit(X_train, Y_train)\n",
    "Y_pred = decision_tree.predict(X_test)\n",
    "acc_decision_tree = round(decision_tree.score(X_train, Y_train) * 100, 2)\n",
    "acc_decision_tree"
   ],
   "metadata": {
    "collapsed": false,
    "ExecuteTime": {
     "end_time": "2024-01-07T14:19:06.828190Z",
     "start_time": "2024-01-07T14:19:06.777894Z"
    }
   },
   "id": "3caa8504b4f1b6cf",
   "execution_count": 88
  },
  {
   "cell_type": "code",
   "outputs": [
    {
     "data": {
      "text/plain": "0      0\n1      1\n2      0\n3      0\n4      0\n      ..\n413    0\n414    1\n415    0\n416    0\n417    0\nLength: 418, dtype: int64"
     },
     "execution_count": 89,
     "metadata": {},
     "output_type": "execute_result"
    }
   ],
   "source": [
    "predict = decision_tree.predict(test_target)\n",
    "pd.Series(predict)"
   ],
   "metadata": {
    "collapsed": false,
    "ExecuteTime": {
     "end_time": "2024-01-07T14:19:08.441873Z",
     "start_time": "2024-01-07T14:19:08.407452Z"
    }
   },
   "id": "1375c3167e576a93",
   "execution_count": 89
  },
  {
   "cell_type": "code",
   "outputs": [],
   "source": [
    "submission = pd.DataFrame({\n",
    "        \"PassengerId\": gender.PassengerId,\n",
    "        \"Survived\": predict\n",
    "    })\n",
    "submission.to_csv('myself_2_submission.csv', index=False)"
   ],
   "metadata": {
    "collapsed": false,
    "ExecuteTime": {
     "end_time": "2024-01-07T14:19:22.555195Z",
     "start_time": "2024-01-07T14:19:22.499272Z"
    }
   },
   "id": "3b04b26f1b53a241",
   "execution_count": 90
  },
  {
   "cell_type": "markdown",
   "source": [
    "![](myself2.png)"
   ],
   "metadata": {
    "collapsed": false
   },
   "id": "72d5dd622ab54790"
  },
  {
   "cell_type": "markdown",
   "source": [
    "하지만 순수하게 decision tree만 적용 시킨 모델은 오히려 점수가 떨어졌다. 어떻게 된 일일까?"
   ],
   "metadata": {
    "collapsed": false
   },
   "id": "783012b4b04e27b1"
  },
  {
   "cell_type": "markdown",
   "source": [
    "분명히 훈련용, 검증용 8:2로 데이터를 분리 해 두어 훈련한 모델과 관계 없게 됐다.\n",
    "\n",
    "1. 훈련데이터가 섞였다. (제대로 분리가 안됐다.)\n",
    "1. 과적합\n",
    "\n",
    "아무튼 모델 최적화를 하기 위해서 `GridSearchCV`를 사용해 최적의 parameter를 찾아야 한다는 것을 알았다.\n",
    "\n",
    "추가적으로 공부 할것이 너무 많다..."
   ],
   "metadata": {
    "collapsed": false
   },
   "id": "7d344b99d919b15d"
  }
 ],
 "metadata": {
  "kernelspec": {
   "display_name": "Python 3",
   "language": "python",
   "name": "python3"
  },
  "language_info": {
   "codemirror_mode": {
    "name": "ipython",
    "version": 2
   },
   "file_extension": ".py",
   "mimetype": "text/x-python",
   "name": "python",
   "nbconvert_exporter": "python",
   "pygments_lexer": "ipython2",
   "version": "2.7.6"
  }
 },
 "nbformat": 4,
 "nbformat_minor": 5
}
