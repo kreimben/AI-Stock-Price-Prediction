{
 "cells": [
  {
   "cell_type": "markdown",
   "id": "b9d6ad1f-cca8-462e-9f21-6169bd18a094",
   "metadata": {
    "collapsed": false
   },
   "source": [
    "# Titanic Tutorial\n",
    "### Solving Date: Jan 5th, 2024\n",
    "#### Written by: [Jehwan Kim](https://github.com/kreimben)\n",
    "#### Followed Materials:\n",
    "* [https://kaggle-kr.tistory.com/17](https://kaggle-kr.tistory.com/17)\n",
    "* [https://kaggle-kr.tistory.com/18](https://kaggle-kr.tistory.com/18)"
   ]
  },
  {
   "cell_type": "markdown",
   "id": "1ad4972e8f1beaae",
   "metadata": {
    "collapsed": false
   },
   "source": [
    "1. 데이터셋 확인 - 대부분의 캐글 데이터들은 잘 정제되어 있습니다. 하지만 가끔 null data가 존재합니다. 이를 확인하고, 향후 수정합니다.\n",
    "2. 탐색적 데이터 분석(exploratory data analysis) - 여러 feature 들을 개별적으로 분석하고, feature 들 간의 상관관계를 확인합니다. 여러 시각화 툴을 사용하여 insight를 얻습니다.\n",
    "3. feature engineering - 모델을 세우기에 앞서, 모델의 성능을 높일 수 있도록 feature 들을 engineering 합니다. one-hot encoding, class로 나누기, 구간으로 나누기, 텍스트 데이터 처리 등을 합니다.\n",
    "4. model 만들기 - sklearn 을 사용해 모델을 만듭니다. 파이썬에서 머신러닝을 할 때는 sklearn 을 사용하면 수많은 알고리즘을 일관된 문법으로 사용할 수 있습니다. 물론 딥러닝을 위해 tensorflow, pytorch 등을 사용할 수 도 있습니다.\n",
    "5. 모델 학습 및 예측 - trainset 을 가지고 모델을 학습시킨 후, testset 을 가지고 prediction 합니다.\n",
    "6. 모델 평가 - 예측 성능이 원하는 수준인지 판단합니다. 풀려는 문제에 따라 모델을 평가하는 방식도 달라집니다. 학습된 모델이 어떤 것을 학습하였는 지 확인해봅니다."
   ]
  },
  {
   "cell_type": "code",
   "execution_count": null,
   "id": "06b42127-054a-498a-82a7-7f1bc7c9a880",
   "metadata": {},
   "outputs": [],
   "source": [
    "import pandas as pd\n",
    "import missingno as msno\n",
    "import numpy as np\n",
    "import seaborn as sns\n",
    "from sklearn.ensemble import RandomForestClassifier\n",
    "from sklearn import metrics\n",
    "from sklearn.model_selection import train_test_split\n",
    "import matplotlib.pyplot as plt\n",
    "\n",
    "%matplotlib inline"
   ]
  },
  {
   "cell_type": "code",
   "execution_count": null,
   "id": "678e8a8b-160e-4567-89e9-662923e8ab02",
   "metadata": {},
   "outputs": [],
   "source": [
    "# 1. Dataset Check"
   ]
  },
  {
   "cell_type": "code",
   "execution_count": null,
   "id": "b30b9c5b-22be-464f-8064-6fc49904e085",
   "metadata": {
    "scrolled": true
   },
   "outputs": [],
   "source": [
    "# Pclass   | class of tickets (1st = 1, etc...)\n",
    "# SibSp    | number of family (sibling and spouse)\n",
    "# Parch    | number of family (children and parents)\n",
    "# Ticket   | ticket serial number\n",
    "# Cabin    | seat serial number\n",
    "# Embarked | which port the passenger boarded\n",
    "\n",
    "df_train = pd.read_csv('train.csv')\n",
    "df_test = pd.read_csv('test.csv')\n",
    "\n",
    "df_train.head() # on tutorial variable."
   ]
  },
  {
   "cell_type": "code",
   "execution_count": null,
   "id": "bf76968e-0431-4dc1-b9c9-61010e16ca31",
   "metadata": {
    "scrolled": true
   },
   "outputs": [],
   "source": [
    "df_test.head()"
   ]
  },
  {
   "cell_type": "code",
   "execution_count": null,
   "id": "ae1f245d-00e8-4b0f-b05f-7d89f082845d",
   "metadata": {
    "scrolled": true
   },
   "outputs": [],
   "source": [
    "for col in df_train.columns:\n",
    "    df_train[ col ].info()\n",
    "    print('==========================')"
   ]
  },
  {
   "cell_type": "markdown",
   "id": "64c48458-41fc-46d6-a98c-95d8438fa417",
   "metadata": {},
   "source": [
    "> 우리가 다루는 문제에서 feature는 Pclass, Age, SibSp, Parch, Fare 이며, 예측하려는 target label 은 **Survived** 입니다."
   ]
  },
  {
   "cell_type": "code",
   "execution_count": null,
   "id": "216214a8-74f0-4cc1-8922-a1cbaaacb8e0",
   "metadata": {
    "scrolled": true
   },
   "outputs": [],
   "source": [
    "df_train.describe() # desc about fields."
   ]
  },
  {
   "cell_type": "code",
   "execution_count": null,
   "id": "bd307115-2c5a-4ee4-9328-5a743aa7646c",
   "metadata": {
    "scrolled": true
   },
   "outputs": [],
   "source": [
    "for col in df_train.columns:\n",
    "    print(f'{col=:>12}    Null %: {100 * (df_train[col].isnull().sum() / df_train[col].shape[0]):.2f}%')\n",
    "    print(f'\\t\\t    NaN %: {100 * (df_train[col].isna().sum() / df_train[col].shape[0]):.2f}%')\n",
    "    print()"
   ]
  },
  {
   "cell_type": "code",
   "execution_count": null,
   "id": "41ba6c3b-92a4-4f39-b53d-596c93314d95",
   "metadata": {
    "scrolled": true
   },
   "outputs": [],
   "source": [
    "for col in df_test.columns:\n",
    "    print(f'{col=:>12}    Null %: {100 * (df_test[col].isnull().sum() / df_test[col].shape[0]):.2f}%')\n",
    "    print(f'\\t\\t    NaN %: {100 * (df_test[col].isna().sum() / df_test[col].shape[0]):.2f}%')\n",
    "    print()"
   ]
  },
  {
   "cell_type": "markdown",
   "id": "ac5a1e1b-d176-406c-989b-0f27b79010a7",
   "metadata": {},
   "source": [
    "For the pure curiosity between `isna` and `isnull`, Found the answer.\n",
    "\n",
    "`isna` and `isnull` are **identical** as well.\n",
    "\n",
    "But there are some recommendations **about using `isna` over `isnull`**. ([stackoverflow](https://stackoverflow.com/questions/52086574/pandas-isna-and-isnull-what-is-the-difference))"
   ]
  },
  {
   "cell_type": "markdown",
   "id": "1ef74f8e-ae73-41dd-8980-33ec59dd8be8",
   "metadata": {},
   "source": [
    "To check `null` data more visually, using `missingno` library."
   ]
  },
  {
   "cell_type": "code",
   "execution_count": null,
   "id": "2a9849de-2edb-4c09-ab30-fa83f67dd920",
   "metadata": {
    "scrolled": true
   },
   "outputs": [],
   "source": [
    "msno.matrix(\n",
    "    df=df_train,#.iloc[:, :], it's same!\n",
    "    figsize=(4, 4),\n",
    "    color=(0.8, 0.5, 0.2)\n",
    ")"
   ]
  },
  {
   "cell_type": "code",
   "execution_count": null,
   "id": "a03c94eb-73e6-423c-9296-ffc8efe736f2",
   "metadata": {
    "scrolled": true
   },
   "outputs": [],
   "source": [
    "msno.bar(\n",
    "    df=df_train,\n",
    "    figsize=(4, 4),\n",
    "    color=(0.8, 0.5, 0.2)\n",
    ")"
   ]
  },
  {
   "cell_type": "markdown",
   "id": "05296c46-fad8-4be1-ad80-d7dcaff10314",
   "metadata": {},
   "source": [
    "## Checking Target Label\n",
    "> target label이 어떤 distribution 을 가지고 있는 지 확인해봐야 합니다.\n",
    "> 지금 같은 binary classification 문제의 경우에서, 1과 0의 분포가 어떠냐에 따라 모델의 평가 방법이 달라 질 수 있습니다."
   ]
  },
  {
   "cell_type": "code",
   "execution_count": null,
   "id": "7df4edc9-0eaf-4c8f-abf9-200d6d09c6c9",
   "metadata": {
    "scrolled": true
   },
   "outputs": [],
   "source": [
    "# To get more definitive data, explicitly by words,\n",
    "# I refined the data frame.\n",
    "df_train_def = df_train.copy()\n",
    "df_train_def['Survived'] = df_train['Survived'].apply(lambda x: 'alive' if x == 1 else 'died')\n",
    "df_train_def.head(2)\n",
    "# BUT, THERE ARE PROS AND CONS OF THAT WAY.\n",
    "# FOR EXAMPLE, I CANNOT GET THE AVERAGE VALUES (RATIO) ON 'HOW MANY PEOPLE SURVIVED?'."
   ]
  },
  {
   "cell_type": "code",
   "execution_count": null,
   "id": "88cf244e-ca1c-45dd-8e1b-1f40472eb3ac",
   "metadata": {
    "scrolled": true
   },
   "outputs": [],
   "source": [
    "f, ax = plt.subplots(1, 2, figsize=(18, 8))\n",
    "\n",
    "# left chart\n",
    "df_train_def['Survived'].value_counts().plot\\\n",
    "    .pie(explode=[0, 0.1], autopct='%1.1f%%', ax=ax[0], shadow=True)\n",
    "ax[0].set_title('Pie plot - Survived')\n",
    "ax[0].set_ylabel('')\n",
    "\n",
    "# right chart\n",
    "sns.countplot(x='Survived', data=df_train_def, ax=ax[1])\n",
    "ax[1].set_title('Count plot - Survived')\n",
    "\n",
    "plt"
   ]
  },
  {
   "cell_type": "markdown",
   "id": "0b05b9b8-4eab-4229-a693-3d97a1d4b24b",
   "metadata": {},
   "source": [
    "> 이제 본격적으로 데이터 분석을 해보겠습니다. 데이터는 매우 많습니다. 이 많은 데이터 안에 숨겨진 사실을 찾기 위해선 적절한 시각화가 필요합니다.\n",
    "\n",
    "> 시각화 라이브러리는 matplotlib, seaborn, plotly 등이 있습니다. 특정 목적에 맞는 소스코드를 정리해두어 필요할 때마다 참고하면 편합니다."
   ]
  },
  {
   "cell_type": "markdown",
   "id": "78189f0f-346f-4080-9155-5d0221a4aab7",
   "metadata": {},
   "source": [
    "### `Pclass` visualisation"
   ]
  },
  {
   "cell_type": "code",
   "execution_count": null,
   "id": "70dd18c5-3a18-4ebf-a3d4-9ae412301d1d",
   "metadata": {
    "scrolled": true
   },
   "outputs": [],
   "source": [
    "# Either `ordinal` and `category` itself.\n",
    "df_train['Pclass'].info()"
   ]
  },
  {
   "cell_type": "markdown",
   "id": "bda5c046-06b9-459f-ac48-c6ae04f5b93a",
   "metadata": {},
   "source": [
    "To check how many people survived by `Pclass`,"
   ]
  },
  {
   "cell_type": "code",
   "execution_count": null,
   "id": "39aa10c7-9daf-4807-b79e-b0ee38dab10d",
   "metadata": {
    "scrolled": true
   },
   "outputs": [],
   "source": [
    "# COUNT\n",
    "df_train[['Pclass', 'Survived']]\\\n",
    "    .groupby(['Pclass'], as_index=True).count()"
   ]
  },
  {
   "cell_type": "code",
   "execution_count": null,
   "id": "bec2b54a-9d0d-46ef-9239-4627b7c6ddd3",
   "metadata": {
    "scrolled": true
   },
   "outputs": [],
   "source": [
    "# SUM\n",
    "df_train[['Pclass', 'Survived']]\\\n",
    "    .groupby(['Pclass'], as_index=True).sum()"
   ]
  },
  {
   "cell_type": "code",
   "execution_count": null,
   "id": "e4d7cc6f-5cbf-42a3-81a9-37c2b51d6638",
   "metadata": {
    "scrolled": true
   },
   "outputs": [],
   "source": [
    "pd.crosstab(\n",
    "    df_train['Pclass'], df_train_def['Survived'], # for the readability...\n",
    "    margins=True\n",
    ").style.background_gradient(cmap='summer_r')"
   ]
  },
  {
   "cell_type": "markdown",
   "id": "1be9a7c5-39db-47ff-810e-f18a2e373d46",
   "metadata": {},
   "source": [
    "To get a mean value by a class (`Pclass`)..."
   ]
  },
  {
   "cell_type": "code",
   "execution_count": null,
   "id": "0c9c8c6b-7bf9-44d8-886e-550af750505e",
   "metadata": {},
   "outputs": [],
   "source": [
    "df_train[['Pclass', 'Survived']]\\\n",
    "    .groupby(['Pclass'], as_index=True)\\\n",
    "    .mean()\\\n",
    "    .sort_values(by='Survived', ascending=False)\\\n",
    "    .plot.bar()"
   ]
  },
  {
   "cell_type": "code",
   "execution_count": null,
   "id": "67ba8a14-0c23-47ad-a976-aa1852dfbee7",
   "metadata": {},
   "outputs": [],
   "source": [
    "y_position = 1.02\n",
    "\n",
    "f, ax = plt.subplots(1, 2, figsize=(18, 8))\n",
    "\n",
    "# left chart\n",
    "df_train['Pclass'].value_counts().plot.bar(color=['#CD7F32','#FFDF00','#D3D3D3'], ax=ax[0])\n",
    "ax[0].set_title('Number of passengers by a class', y=y_position)\n",
    "ax[0].set_ylabel('Count')\n",
    "\n",
    "# right chart\n",
    "sns.countplot(x='Pclass', hue='Survived', data=df_train_def, ax=ax[1])\n",
    "ax[1].set_title('Pclass: Survived vs Dead', y=y_position)\n",
    "\n",
    "plt"
   ]
  },
  {
   "cell_type": "markdown",
   "id": "2f75d0b5-4d42-4dd6-ab3d-04c1303d51dd",
   "metadata": {},
   "source": [
    "### `sex` visualisation"
   ]
  },
  {
   "cell_type": "markdown",
   "id": "44080415-5cd7-447d-ba93-2af49872727c",
   "metadata": {},
   "source": [
    "It's gonna same as `Pclass`..."
   ]
  },
  {
   "cell_type": "code",
   "execution_count": null,
   "id": "e733bbed-1eef-441d-aa8c-84c49f6296e8",
   "metadata": {},
   "outputs": [],
   "source": [
    "f, ax = plt.subplots(1, 2, figsize=(18, 8))\n",
    "\n",
    "# left chart\n",
    "df_train[['Sex', 'Survived']]\\\n",
    "    .groupby(['Sex'], as_index=True)\\\n",
    "    .mean()\\\n",
    "    .plot.bar(ax=ax[0])\n",
    "ax[0].set_title('Surviving Ratio by Sex')\n",
    "\n",
    "# right chart\n",
    "sns.countplot(x='Sex', hue='Survived', data=df_train_def, ax=ax[1])\n",
    "ax[1].set_title('Sex: Survived vs Dead')\n",
    "\n",
    "plt"
   ]
  },
  {
   "cell_type": "code",
   "execution_count": null,
   "id": "38ac343f-e1a5-4daf-876f-da38a00aa2d4",
   "metadata": {},
   "outputs": [],
   "source": [
    "df_train[['Sex', 'Survived']]\\\n",
    "    .groupby(['Sex'], as_index=True)\\\n",
    "    .mean().sort_values(by='Survived', ascending=True)"
   ]
  },
  {
   "cell_type": "code",
   "execution_count": null,
   "id": "eacfae53-2504-43e2-ae61-f88f48f80bae",
   "metadata": {},
   "outputs": [],
   "source": [
    "pd.crosstab(\n",
    "    df_train['Sex'], df_train['Survived'],\n",
    "    margins=True\n",
    ")\\\n",
    "    .style.background_gradient(cmap='summer_r')"
   ]
  },
  {
   "cell_type": "markdown",
   "id": "71a0795c-9728-42a4-b75f-3f2ca7132996",
   "metadata": {},
   "source": [
    "### Both Sex and Pclass"
   ]
  },
  {
   "cell_type": "markdown",
   "id": "28458faf-3f3b-4d6a-b2ed-7958fb04ce78",
   "metadata": {},
   "source": [
    "> 이번에는 `Sex`, `Pclass` 두가지에 관하여 생존이 어떻게 달라지는 지 확인해 봅시다\n",
    "\n",
    "> seaborn 의 factorplot 을 이용하면, 손쉽게 3개의 차원으로 이루어진 그래프를 그릴 수 있습니다."
   ]
  },
  {
   "cell_type": "code",
   "execution_count": null,
   "id": "a7f51d49-1fe2-4017-8b93-d2c6896375b7",
   "metadata": {},
   "outputs": [],
   "source": [
    "# sns.factorplot('Pclass', 'Survived', hue='Sex', data=df_train, size=6, aspect=1.5)\n",
    "sns.catplot(x='Pclass', y='Survived', hue='Sex', data=df_train, kind='point')"
   ]
  },
  {
   "cell_type": "code",
   "execution_count": null,
   "id": "5f9e5e02-d31c-4527-b499-a4be40de30b1",
   "metadata": {},
   "outputs": [],
   "source": [
    "# sns.factorplot(x='Sex', y='Survived', col='Pclass',\n",
    "#               data=df_train, satureation=.5,\n",
    "#                size=9, aspect=1)\n",
    "sns.catplot(x='Sex', y='Survived', col='Pclass',\n",
    "            data=df_train, saturation=.5,\n",
    "            kind='point')"
   ]
  },
  {
   "cell_type": "markdown",
   "id": "13b7d261-3582-4da7-90e8-f7ebe48aa5c2",
   "metadata": {},
   "source": [
    "### Age"
   ]
  },
  {
   "cell_type": "code",
   "execution_count": null,
   "id": "8ec396a1-d3d5-4946-ad4e-a251b1300b1a",
   "metadata": {},
   "outputs": [],
   "source": [
    "print(f'''\n",
    "The oldest passenger: {df_train['Age'].max():.1f} Y/O\n",
    "The youngest passenger: {df_train['Age'].min():.1f} Y/O\n",
    "The average age of passenger: {df_train['Age'].mean():.1f} Y/O\n",
    "''')"
   ]
  },
  {
   "cell_type": "code",
   "execution_count": null,
   "id": "08689105-4d5c-4bf5-8f52-de96094e0f3d",
   "metadata": {},
   "outputs": [],
   "source": [
    "f, ax = plt.subplots(1, 1, figsize=(9, 5))\n",
    "\n",
    "sns.kdeplot(df_train[ df_train['Survived'] == 1 ]['Age'], ax=ax)\n",
    "sns.kdeplot(df_train[ df_train['Survived'] == 0 ]['Age'], ax=ax)\n",
    "\n",
    "plt.legend(['Survived', 'Dead'])"
   ]
  },
  {
   "cell_type": "code",
   "execution_count": null,
   "id": "6287dc8f-1d64-4dd1-b512-e1d30314106c",
   "metadata": {},
   "outputs": [],
   "source": [
    "# Age distribution within class\n",
    "\n",
    "plt.figure(figsize=(6, 4))\n",
    "\n",
    "df_train['Age'][ df_train['Pclass'] == 1].plot(kind='kde')\n",
    "df_train['Age'][ df_train['Pclass'] == 2].plot(kind='kde')\n",
    "df_train['Age'][ df_train['Pclass'] == 3].plot(kind='kde')\n",
    "\n",
    "plt.xlabel('Age')\n",
    "plt.title('Age Distribution within class')\n",
    "plt.legend(['1st Class', '2nd Class', '3rd Class'])"
   ]
  },
  {
   "cell_type": "markdown",
   "id": "80364a2e-d9aa-45bf-b226-f626aeae2fe2",
   "metadata": {},
   "source": [
    "Class 가 높을 수록 나이 많은 사람의 비중이 커짐.\n",
    "\n",
    "나이대가 변하면서 생존률이 어떻게 되는 지 보려고 합니다.\n",
    "\n",
    "나이범위를 점점 넓혀가며, 생존률이 어떻게 되는지 한번 봅시다."
   ]
  },
  {
   "cell_type": "code",
   "execution_count": null,
   "id": "229da352-6b70-457b-9946-cab835fedc19",
   "metadata": {},
   "outputs": [],
   "source": [
    "ratio = []\n",
    "\n",
    "for i in range(1, 80):\n",
    "    target = df_train[ df_train['Age'] < i]['Survived']\n",
    "    ratio.append(\n",
    "        target.sum() / target.count()\n",
    "    )\n",
    "\n",
    "plt.figure(figsize=(5, 5))\n",
    "plt.plot(ratio)\n",
    "plt.title('Survival rate change depending on range of Age', y=1.02)\n",
    "plt.ylabel('Survival rate')\n",
    "plt.xlabel('Range of Age')"
   ]
  },
  {
   "cell_type": "markdown",
   "id": "b37c3169-568b-40db-8481-23915a972fd2",
   "metadata": {},
   "source": [
    "### Pclass, Sex, Age"
   ]
  },
  {
   "cell_type": "markdown",
   "id": "ef05d311-9357-456f-9d7f-bc565e4a3c07",
   "metadata": {},
   "source": [
    "> 지금까지 본, `Sex`, `Pclass`, `Age`, `Survived` 모두에 대해서 보고싶습니다. 이를 쉽게 그려주는 것이 seaborn 의 violinplot 입니다.\n",
    "\n",
    "> x 축은 우리가 나눠서 보고싶어하는 case(여기선 `Pclass`, `Sex`) 를 나타내고, y 축은 보고 싶어하는 distribution(Age) 입니다.\n",
    "\n",
    "> 한번 그려보겠습니다"
   ]
  },
  {
   "cell_type": "code",
   "execution_count": null,
   "id": "93ac998d-de75-48ae-86a2-1702ad27be12",
   "metadata": {},
   "outputs": [],
   "source": [
    "f, ax = plt.subplots(1, 2, figsize=(18, 8))\n",
    "\n",
    "# left chart\n",
    "sns.violinplot(x='Pclass', y='Age', hue='Survived', data=df_train, density_norm='count', split=True, ax=ax[0])\n",
    "ax[0].set_title('Pclass and Age vs Survived')\n",
    "ax[0].set_yticks(range(0, 110, 10))\n",
    "\n",
    "# right chart\n",
    "sns.violinplot(x='Sex', y='Age', hue='Survived', data=df_train, density_norm='count', split=True, ax=ax[1])\n",
    "ax[1].set_title('Sex and Age vs Survived')\n",
    "ax[1].set_yticks(range(0, 110, 10))\n"
   ]
  },
  {
   "cell_type": "markdown",
   "id": "65d31ceb-9c27-4596-8255-44434e75915c",
   "metadata": {},
   "source": [
    "1. 생존만 봤을 때, 모든 클래스에서 **나이가 어릴 수록 생존을 많이 한것을 볼 수 있습니다.**\n",
    "2. 오른쪽 그림에서 보면, **명확히 여자가 생존을 많이 한것을 볼 수 있습니다.**\n",
    "3. **여성과 아이를 먼저 챙긴 것을 볼 수 있습니다.**"
   ]
  },
  {
   "cell_type": "markdown",
   "id": "810f8cd3-0dd6-4ede-899d-29ad155bd999",
   "metadata": {},
   "source": [
    "### Embarked"
   ]
  },
  {
   "cell_type": "code",
   "execution_count": null,
   "id": "4b7a7c1b-d67d-41d2-a1e5-bd248abe594b",
   "metadata": {},
   "outputs": [],
   "source": [
    "f, ax = plt.subplots(1, 1, figsize=(7, 7))\n",
    "\n",
    "df_train[['Embarked', 'Survived']]\\\n",
    "    .groupby(['Embarked'], as_index=True)\\\n",
    "    .mean().sort_values(by='Survived', ascending=False)\\\n",
    "    .plot.bar(ax=ax)"
   ]
  },
  {
   "cell_type": "code",
   "execution_count": null,
   "id": "a044da8a-fd9e-40fa-861f-f4012efffda7",
   "metadata": {},
   "outputs": [],
   "source": [
    "f, ax = plt.subplots(2, 2, figsize=(20, 15))\n",
    "\n",
    "sns.countplot(x='Embarked', data=df_train, ax=ax[0, 0])\n",
    "ax[0, 0].set_title('(1) Number of Passengers Boarded')\n",
    "\n",
    "sns.countplot(x='Embarked', hue='Sex', data=df_train, ax=ax[0, 1])\n",
    "ax[0, 1].set_title('(2) Male-Female Split for Embarked')\n",
    "\n",
    "sns.countplot(x='Embarked', data=df_train, hue='Survived', ax=ax[1, 0])\n",
    "ax[1, 0].set_title('(3) Embarked vs Survived')\n",
    "\n",
    "sns.countplot(x='Embarked', data=df_train, hue='Pclass', ax=ax[1, 1])\n",
    "ax[1, 1].set_title('(4) Embarked vs Pclass')\n",
    "\n",
    "plt.subplots_adjust(wspace=0.2, hspace=0.5)"
   ]
  },
  {
   "cell_type": "markdown",
   "id": "84108808-9f0d-4f31-a6f3-7140e8ade823",
   "metadata": {},
   "source": [
    "### Family - SibSp (형제, 배우자) + Parch (부모, 자녀)"
   ]
  },
  {
   "cell_type": "code",
   "execution_count": null,
   "id": "124b8a82-8069-4295-bef6-11697b84cfbb",
   "metadata": {},
   "outputs": [],
   "source": [
    "df_train['FamilySize'] = df_train['SibSp'] + df_train['Parch'] + 1 # 나 자신\n",
    "df_test['FamilySize'] = df_test['SibSp'] + df_test['Parch'] + 1 # 나 자신"
   ]
  },
  {
   "cell_type": "code",
   "execution_count": null,
   "id": "bb5a1fd2-5f2e-44ad-b488-c0ee34fc8720",
   "metadata": {},
   "outputs": [],
   "source": [
    "# Relativeness of number of family\n",
    "\n",
    "f, ax = plt.subplots(1, 3, figsize=(40, 10))\n",
    "\n",
    "sns.countplot(x='FamilySize', data=df_train, ax=ax[0])\n",
    "ax[0].set_title('(1) Number of Passengers Boarded', y=1.02)\n",
    "\n",
    "sns.countplot(x='FamilySize', hue='Survived', data=df_train, ax=ax[1])\n",
    "ax[1].set_title('(2) Survived countplot depending on FamilySize')\n",
    "\n",
    "df_train[['Survived', 'FamilySize']].groupby('FamilySize')\\\n",
    "    .mean().sort_values(by='Survived', ascending=False)\\\n",
    "    .plot.bar(ax=ax[2])"
   ]
  },
  {
   "cell_type": "markdown",
   "id": "a0f16f5c-d87e-476e-8119-834da2e4ea9c",
   "metadata": {},
   "source": [
    "가족의 수가 4명인 가정일 수록 생존 확률이 높아짐.\n",
    "의외로 1인 탑승객은 생존률이 그다지 높지 않은 것을 볼 수 있음..."
   ]
  },
  {
   "cell_type": "markdown",
   "id": "f2ee2d05-df11-49e0-bb08-894c43c3b6df",
   "metadata": {},
   "source": [
    "### Fare"
   ]
  },
  {
   "cell_type": "markdown",
   "id": "52b37504-1f19-4bdd-916a-2ae3ca884b07",
   "metadata": {},
   "source": [
    "Fare is how much money passengers paid for ticket and it's continuous.\n",
    "Let's check it's skewness first."
   ]
  },
  {
   "cell_type": "code",
   "execution_count": null,
   "id": "4b847814-4615-48a7-bcf9-8d76658f1a9a",
   "metadata": {},
   "outputs": [],
   "source": [
    "f, ax = plt.subplots(1, 1, figsize=(8, 8))\n",
    "\n",
    "g = sns.distplot(df_train['Fare'], color='b', label=f'Skewness: {df_train[\"Fare\"].skew():.2f}', ax=ax)\n",
    "g = g.legend(loc='best')"
   ]
  },
  {
   "cell_type": "markdown",
   "id": "3b288b46-5194-4abc-b0e9-6c2db5532625",
   "metadata": {},
   "source": [
    "> 보시다시피, distribution이 매우 비대칭인 것을 알 수 있습니다 (high skewness). 만약 이대로 모델에 넣어준다면 자칫 모델이 잘못 학습할 수도 있습니다. 몇개 없는 outlier 에 대해서 너무 민감하게 반응한다면, 실제 예측 시에 좋지 못한 결과를 부를 수 있습니다.\n",
    "\n",
    "1. 과적합의 문제인가?\n",
    "2. log를 써서 평탄화를 하면 outlier의 영향으로부터 자유로운가? 차라리 튀는 값들을 없애는것이 더 낫지 않은가?"
   ]
  },
  {
   "cell_type": "code",
   "execution_count": null,
   "id": "28980a44-1295-474c-839f-d6aa8c86b22b",
   "metadata": {},
   "outputs": [],
   "source": [
    "df_test.loc[ df_test.Fare.isna(), 'Fare' ] = df_test['Fare'].mean() # just substitute nan value as a mean value.\n",
    "\n",
    "df_train['Fare'] = df_train['Fare'].apply(lambda x: np.log(x) if x > 0 else 0)\n",
    "df_test['Fare'] = df_test['Fare'].apply(lambda x: np.log(x) if x > 0 else 0)"
   ]
  },
  {
   "cell_type": "code",
   "execution_count": null,
   "id": "5988fe72-ecb3-4c27-8a0e-235692f24aef",
   "metadata": {},
   "outputs": [],
   "source": [
    "f, ax = plt.subplots(1, 1, figsize=(8, 8))\n",
    "\n",
    "g = sns.distplot(df_train.Fare, color='b', label=f'Skewness: {df_train.Fare.skew():.2f}', ax=ax)\n",
    "g = g.legend(loc='best')"
   ]
  },
  {
   "cell_type": "markdown",
   "id": "ef30405e-af3c-4b95-b94a-60dd0fdf172d",
   "metadata": {},
   "source": [
    "### Cabin\n",
    "pass it cuz there are so many nan values."
   ]
  },
  {
   "cell_type": "markdown",
   "id": "b9d9456f-d55d-45c4-b6f7-10be9214a1fc",
   "metadata": {},
   "source": [
    "### Ticket"
   ]
  },
  {
   "cell_type": "code",
   "execution_count": null,
   "id": "75ba6976-cefb-430e-94da-06cdf327f993",
   "metadata": {},
   "outputs": [],
   "source": [
    "df_train.Ticket.value_counts()"
   ]
  },
  {
   "cell_type": "markdown",
   "id": "ae9a79cf-a8bb-4bde-a988-9b308c1d0c71",
   "metadata": {},
   "source": [
    "> 보시다시피, ticket number 는 매우 다양합니다. 우리는 여기서 어떤 특징을 이끌어내서 생존과 연결시킬 수 있을까요?\n",
    "\n",
    "> 여러분이 직접 한번 아이디어를 내보세요! 이것이 본격적인 캐글 레이스의 시작점입니다 ^^\n",
    "\n",
    "...\n",
    "티켓 넘버로 무언가를 해볼 수 있을까?\n",
    "일련번호는 특수한 규칙을 이용해 만들어지거나 단순히 누적합 일 수 있다.\n",
    "ML의 영역에서 serial을 분석하는게 가능할까..."
   ]
  },
  {
   "cell_type": "markdown",
   "id": "0ed52cf7-aaff-404e-a68a-2e24281dbc2c",
   "metadata": {},
   "source": [
    "## 3. Feature Engineering"
   ]
  },
  {
   "cell_type": "markdown",
   "id": "eb95a338-2cd2-4dba-b2e9-9e4c57dba8aa",
   "metadata": {},
   "source": [
    "* fill the `na` value.\n",
    "* performances depend on how to fill the `na` value.\n",
    "* test set should be adjusted as same as train set be did."
   ]
  },
  {
   "cell_type": "markdown",
   "id": "ae7828ea-c716-4a40-a175-892845882f57",
   "metadata": {},
   "source": [
    "### fill null in `Age` using title"
   ]
  },
  {
   "cell_type": "code",
   "execution_count": null,
   "id": "683bd6cf-33f8-4bd4-8a92-0533f9112c2c",
   "metadata": {},
   "outputs": [],
   "source": [
    "# how many null data in Age feature?\n",
    "count = 0\n",
    "for x in df_train.Age.isna():\n",
    "    if x: count += 1\n",
    "print(f'There are {count} empty values in Age feature!')"
   ]
  },
  {
   "cell_type": "markdown",
   "id": "6578372a-5837-410d-8a6d-906a0343def6",
   "metadata": {},
   "source": [
    "> Age 에는 null data가 177개나 있습니다. 이를 채울 수 있는 여러 아이디어가 있을 것인데, 여기서 우리는 title + statistics 를 사용해 보겠습니다."
   ]
  },
  {
   "cell_type": "code",
   "execution_count": null,
   "id": "a84f044d-9eaf-4d66-8ddd-96510eecdfea",
   "metadata": {},
   "outputs": [],
   "source": [
    "df_train['Initial'] = df_train.Name.str.extract('([A-Za-z]+)\\.') # let's extract the saluations.\n",
    "df_test['Initial'] = df_test.Name.str.extract('([A-Za-z]+)\\.') # let's extract the saluations."
   ]
  },
  {
   "cell_type": "code",
   "execution_count": null,
   "id": "fe3cd397-cc8b-468a-b84d-9e24dbd7c5d1",
   "metadata": {},
   "outputs": [],
   "source": [
    "df_train.head(2)"
   ]
  },
  {
   "cell_type": "code",
   "execution_count": null,
   "id": "cfb769e4-635f-4e27-820a-544eb948612c",
   "metadata": {},
   "outputs": [],
   "source": [
    "pd.crosstab(df_train['Initial'], df_train['Sex']).T.style.background_gradient(cmap='summer_r')"
   ]
  },
  {
   "cell_type": "code",
   "execution_count": null,
   "id": "96d2b299-8c8a-4439-bdb3-6f6108ac6ee8",
   "metadata": {},
   "outputs": [],
   "source": [
    "df_train['Initial'].replace(\n",
    "    ['Mlle','Mme','Ms','Dr','Major','Lady','Countess','Jonkheer','Col','Rev','Capt','Sir','Don', 'Dona'],\n",
    "    ['Miss','Miss','Miss','Mr','Mr','Mrs','Mrs','Other','Other','Other','Mr','Mr','Mr', 'Mr'],\n",
    "    inplace=True\n",
    ")\n",
    "\n",
    "df_test['Initial'].replace(\n",
    "    ['Mlle','Mme','Ms','Dr','Major','Lady','Countess','Jonkheer','Col','Rev','Capt','Sir','Don', 'Dona'],\n",
    "    ['Miss','Miss','Miss','Mr','Mr','Mrs','Mrs','Other','Other','Other','Mr','Mr','Mr', 'Mr']\n",
    "    ,inplace=True\n",
    ")"
   ]
  },
  {
   "cell_type": "code",
   "execution_count": null,
   "id": "598b1e83-2bab-4654-a38f-943f4307cd61",
   "metadata": {},
   "outputs": [],
   "source": [
    "df_train[['Initial', 'Survived']].groupby('Initial').mean()"
   ]
  },
  {
   "cell_type": "code",
   "execution_count": null,
   "id": "4e94ed96-e26c-4957-839e-6caa6de7eecd",
   "metadata": {},
   "outputs": [],
   "source": [
    "df_train.groupby('Initial')['Survived'].mean().plot.bar()"
   ]
  },
  {
   "cell_type": "code",
   "execution_count": null,
   "id": "4e4a6340-12e2-4a34-a6a1-6f7edf3e31cc",
   "metadata": {},
   "outputs": [],
   "source": [
    "df_train[['Initial', 'Survived', 'Pclass', 'Age']].groupby('Initial').mean()"
   ]
  },
  {
   "cell_type": "code",
   "execution_count": null,
   "id": "df70643b-9cff-4706-8132-10b7ab350462",
   "metadata": {},
   "outputs": [],
   "source": [
    "df_initial = df_train[['Initial', 'Age']].groupby('Initial').mean()\n",
    "df_initial"
   ]
  },
  {
   "cell_type": "markdown",
   "id": "b29611cf-d4de-420f-a8f5-158041ac85e7",
   "metadata": {},
   "source": [
    "Now, I will fill `na` using this mean value."
   ]
  },
  {
   "cell_type": "code",
   "execution_count": null,
   "id": "64bf9aca-97a8-45b6-9c04-c5a094658f58",
   "metadata": {},
   "outputs": [],
   "source": [
    "# populate the main titles EXCEPT 'Other'.\n",
    "df_initial.index\n",
    "# df_initial.loc['Master']"
   ]
  },
  {
   "cell_type": "code",
   "execution_count": null,
   "id": "f0796c13-cb37-46af-a3a4-c30dc99a9265",
   "metadata": {
    "scrolled": true
   },
   "outputs": [],
   "source": [
    "df_bac = df_train.copy() # just for backup.\n",
    "df_bac"
   ]
  },
  {
   "cell_type": "code",
   "execution_count": null,
   "id": "53cc8272-1154-4566-b994-e113d87bd257",
   "metadata": {},
   "outputs": [],
   "source": [
    "df_age_mean = df_bac.groupby(['Survived','Initial'])['Age'].transform('mean')"
   ]
  },
  {
   "cell_type": "code",
   "execution_count": null,
   "id": "73c825d9-2f77-41b7-906a-d35a17e971e7",
   "metadata": {
    "scrolled": true
   },
   "outputs": [],
   "source": [
    "# df_train.loc[(df_train.Age.isnull())&(df_train.Initial=='Mr'),'Age'] = 33\n",
    "# df_train.loc[(df_train.Age.isnull())&(df_train.Initial=='Mrs'),'Age'] = 36\n",
    "# df_train.loc[(df_train.Age.isnull())&(df_train.Initial=='Master'),'Age'] = 5\n",
    "# df_train.loc[(df_train.Age.isnull())&(df_train.Initial=='Miss'),'Age'] = 22\n",
    "# df_train.loc[(df_train.Age.isnull())&(df_train.Initial=='Other'),'Age'] = 46\n",
    "\n",
    "# df_test.loc[(df_test.Age.isnull())&(df_test.Initial=='Mr'),'Age'] = 33\n",
    "# df_test.loc[(df_test.Age.isnull())&(df_test.Initial=='Mrs'),'Age'] = 36\n",
    "# df_test.loc[(df_test.Age.isnull())&(df_test.Initial=='Master'),'Age'] = 5\n",
    "# df_test.loc[(df_test.Age.isnull())&(df_test.Initial=='Miss'),'Age'] = 22\n",
    "# df_test.loc[(df_test.Age.isnull())&(df_test.Initial=='Other'),'Age'] = 46\n",
    "\n",
    "df_bac['Age'] = df_bac['Age'].fillna(df_age_mean)"
   ]
  },
  {
   "cell_type": "code",
   "execution_count": null,
   "id": "c4535542-16f5-4491-843b-9eca86c50a14",
   "metadata": {},
   "outputs": [],
   "source": [
    "df_bac.isna().sum()"
   ]
  },
  {
   "cell_type": "code",
   "execution_count": null,
   "id": "937b243e-2a24-4f4d-be1a-dd0f1f877dd1",
   "metadata": {},
   "outputs": [],
   "source": [
    "df_bac[ df_bac.Age.isna() ].Initial"
   ]
  },
  {
   "cell_type": "code",
   "execution_count": null,
   "id": "d22a1ba0-71f1-4796-9ac1-dfe40b3f6d40",
   "metadata": {},
   "outputs": [],
   "source": [
    "df_train = df_bac\n",
    "del df_bac, df_initial"
   ]
  },
  {
   "cell_type": "code",
   "execution_count": null,
   "id": "6e747a3c-69c1-4027-80af-aa07f0330822",
   "metadata": {},
   "outputs": [],
   "source": [
    "df_test['Age'] = df_train.Age"
   ]
  },
  {
   "cell_type": "markdown",
   "id": "1a0ec8a2-f488-4f63-8326-e89c2ccc819b",
   "metadata": {},
   "source": [
    "Filled every nan data in age feature!"
   ]
  },
  {
   "cell_type": "markdown",
   "id": "024bd195-52a1-4429-8499-d75740f4f99e",
   "metadata": {},
   "source": [
    "### Fill null in Embarked"
   ]
  },
  {
   "cell_type": "code",
   "execution_count": null,
   "id": "569ad03b-50c0-4e23-9ae1-17181daaa551",
   "metadata": {},
   "outputs": [],
   "source": [
    "# How many people don't have embarked feature?\n",
    "df_train.Embarked.isna().sum()"
   ]
  },
  {
   "cell_type": "code",
   "execution_count": null,
   "id": "8b25a4c9-a17d-4d56-be53-7035b3ce11be",
   "metadata": {},
   "outputs": [],
   "source": [
    "# df_train#['Embarked']\n",
    "# df_pivot = pd.pivot(df_train, index='Embarked', columns='Age')\n",
    "# df_pivot\n",
    "# Embarked 별로 몇개씩 있는지 집계 테이블을 만들고 싶었지만...\n",
    "\n",
    "# 1.\n",
    "df_train.groupby('Embarked').count()['Age']\n",
    "\n",
    "# 2.\n",
    "df_train.Embarked.value_counts()"
   ]
  },
  {
   "cell_type": "code",
   "execution_count": null,
   "id": "f609b1e1-1c6c-4606-8b99-ca12b79eb280",
   "metadata": {},
   "outputs": [],
   "source": [
    "# Fill the value with `S`.\n",
    "df_train['Embarked'].fillna('S', inplace=True)"
   ]
  },
  {
   "cell_type": "markdown",
   "id": "fcd6154b-2c61-4c7d-a76e-80620e0ab97b",
   "metadata": {},
   "source": [
    "## Change Initial, Embarked and Sex (String to Numerical)"
   ]
  },
  {
   "cell_type": "code",
   "execution_count": null,
   "id": "8a2642c0-e95b-424a-a64b-f582a7f6e4a4",
   "metadata": {},
   "outputs": [],
   "source": [
    "df_train['Initial'] = df_train['Initial'].map({\n",
    "    'Master': 0,\n",
    "    'Miss': 1,\n",
    "    'Mr': 2,\n",
    "    'Mrs': 3,\n",
    "    'Other': 4\n",
    "})\n",
    "\n",
    "df_test['Initial'] = df_test['Initial'].map({\n",
    "    'Master': 0,\n",
    "    'Miss': 1,\n",
    "    'Mr': 2,\n",
    "    'Mrs': 3,\n",
    "    'Other': 4\n",
    "})"
   ]
  },
  {
   "cell_type": "code",
   "execution_count": null,
   "id": "793be57f-8390-4b4d-8b16-f07cdbae9c7d",
   "metadata": {},
   "outputs": [],
   "source": [
    "df_train.Embarked.unique()"
   ]
  },
  {
   "cell_type": "code",
   "execution_count": null,
   "id": "53fab903-af48-41f4-a493-1a14e1225e05",
   "metadata": {},
   "outputs": [],
   "source": [
    "df_train.Embarked.value_counts()"
   ]
  },
  {
   "cell_type": "code",
   "execution_count": null,
   "id": "a1549cdb-5b30-4fdc-ba7b-a88042119d9d",
   "metadata": {},
   "outputs": [],
   "source": [
    "df_train['Embarked'] = df_train['Embarked'].map({'C': 0, 'Q': 1, 'S': 2})\n",
    "df_test['Embarked'] = df_test['Embarked'].map({'C': 0, 'Q': 1, 'S': 2})"
   ]
  },
  {
   "cell_type": "code",
   "execution_count": null,
   "id": "621f6fff-c667-4ec0-a67d-b48b8aeba32a",
   "metadata": {},
   "outputs": [],
   "source": [
    "# test if there are still na values.\n",
    "df_train.Embarked.isna().sum()\n",
    "df_test.Embarked.isna().sum()"
   ]
  },
  {
   "cell_type": "code",
   "execution_count": null,
   "id": "2f66704a-db5c-4aa3-a4ac-f6c3117a3fa8",
   "metadata": {},
   "outputs": [],
   "source": [
    "df_train['Sex'] = df_train['Sex'].map({'female': 0, 'male': 1})\n",
    "df_test['Sex'] = df_test['Sex'].map({'female': 0, 'male': 1})"
   ]
  },
  {
   "cell_type": "markdown",
   "id": "93421cdd-c747-45d0-8b54-3a02cc97db13",
   "metadata": {},
   "source": [
    "#### Fix every string values to numeric values for calculating relevance."
   ]
  },
  {
   "cell_type": "markdown",
   "id": "e0bba0e8-9f75-4a8b-981a-8d7b05ef8027",
   "metadata": {},
   "source": [
    "Draw heapmap using `corr()`."
   ]
  },
  {
   "cell_type": "code",
   "execution_count": null,
   "id": "741abcd1-db5a-424a-afd5-b0bc388ba1d8",
   "metadata": {},
   "outputs": [],
   "source": [
    "data = df_train[['Survived', 'Pclass', 'Sex', 'Fare', 'Embarked', 'FamilySize', 'Initial']]\n",
    "\n",
    "color_map = plt.cm.RdBu\n",
    "plt.figure(figsize=(14, 12))\n",
    "plt.title('Pearson Correlation of Features', y=1.05, size=15)\n",
    "sns.heatmap(data.astype(float).corr(), linewidths=0.1, vmax=1.0, \n",
    "            square=True, cmap=color_map, linecolor='white', annot=True, annot_kws={'size': 16})"
   ]
  },
  {
   "cell_type": "markdown",
   "id": "7d819045-d9e7-4556-8c46-6c4b7b10a1f7",
   "metadata": {},
   "source": [
    "Fare과 Pclass의 높은 상관관계를 띄고 있으나 상식적인 내용이라 pass,\n",
    "그 외에는 성별과 생존여부가 유의미하게 나왔다.\n",
    "딱히 상관관계가 있는 feature들이 없어보인다."
   ]
  },
  {
   "cell_type": "markdown",
   "id": "1edef5e9-10e0-437f-aeb8-6e8f78ac914d",
   "metadata": {},
   "source": [
    "### One-hot encoding on Initial and Embarked"
   ]
  },
  {
   "cell_type": "code",
   "execution_count": null,
   "id": "a2064c51-cd8c-41e6-ac03-96c701e78023",
   "metadata": {},
   "outputs": [],
   "source": [
    "# For the model's performance\n",
    "df_train = pd.get_dummies(df_train, columns=['Initial'], prefix='Initial')\n",
    "df_test = pd.get_dummies(df_test, columns=['Initial'], prefix='Initial')"
   ]
  },
  {
   "cell_type": "code",
   "execution_count": null,
   "id": "fa454f8e-be91-4780-b79a-aad88ca66a02",
   "metadata": {
    "scrolled": true
   },
   "outputs": [],
   "source": [
    "df_train.head(2)"
   ]
  },
  {
   "cell_type": "code",
   "execution_count": null,
   "id": "4a970d47-f0c2-4892-90ee-d3eee3aab132",
   "metadata": {
    "scrolled": true
   },
   "outputs": [],
   "source": [
    "# 마찬가지로 Embarked feature도 one-hot encoding을 해준다... (아직 이게 어떻게 왜 성능을 향상 시킨다는건지 모르겠다...)\n",
    "df_train = pd.get_dummies(df_train, columns=['Embarked'], prefix='Embarked')\n",
    "df_test = pd.get_dummies(df_test, columns=['Embarked'], prefix='Embarked')"
   ]
  },
  {
   "cell_type": "markdown",
   "id": "e74dac11-fb13-4323-9901-3a37165a4bee",
   "metadata": {},
   "source": [
    "### Drop Columns"
   ]
  },
  {
   "cell_type": "code",
   "execution_count": null,
   "id": "8912b97f-cb14-4b71-bdef-138524f940f6",
   "metadata": {},
   "outputs": [],
   "source": [
    "df_train.drop(['PassengerId', 'Name', 'SibSp', 'Parch', 'Ticket', 'Cabin'], axis=1, inplace=True)\n",
    "df_test.drop(['PassengerId', 'Name',  'SibSp', 'Parch', 'Ticket', 'Cabin'], axis=1, inplace=True)"
   ]
  },
  {
   "cell_type": "code",
   "execution_count": null,
   "id": "654dc596-b701-41b9-92a4-3f011d7edaa8",
   "metadata": {},
   "outputs": [],
   "source": [
    "df_train.head()"
   ]
  },
  {
   "cell_type": "code",
   "execution_count": null,
   "id": "9b75e90d-52d5-468a-a6bc-ae41cd52541c",
   "metadata": {},
   "outputs": [],
   "source": [
    "df_test.head()"
   ]
  },
  {
   "cell_type": "markdown",
   "id": "13a73ee7-f663-4796-bb07-9b6197f676a3",
   "metadata": {},
   "source": [
    "## Building machine learning model and prediction using the trained model"
   ]
  },
  {
   "cell_type": "code",
   "execution_count": null,
   "id": "35416c77-86a7-4273-bb45-36b383df0906",
   "metadata": {},
   "outputs": [],
   "source": [
    "# split dataset into train, valid, test set\n",
    "\n",
    "X_train = df_train.drop('Survived', axis=1).values\n",
    "target_label = df_train['Survived'].values\n",
    "X_test = df_test.values\n",
    "\n",
    "# test -> valid -> test"
   ]
  },
  {
   "cell_type": "code",
   "execution_count": null,
   "id": "2675acf2-dae3-482e-a727-cffe47615c17",
   "metadata": {},
   "outputs": [],
   "source": [
    "X_tr, X_vld, Y_tr, Y_vld = train_test_split(X_train, target_label, test_size=0.2, random_state=990321)\n",
    "# test_size 0.3 => split the dataset 80% for test and 20% for valid dataset.\n",
    "# random_state = random seed."
   ]
  },
  {
   "cell_type": "code",
   "execution_count": null,
   "id": "f06eb93e-8d2f-4dbd-8031-9d328625cf78",
   "metadata": {},
   "outputs": [],
   "source": [
    "model = RandomForestClassifier()\n",
    "model.fit(X_tr, Y_tr)\n",
    "prediction = model.predict(X_vld)"
   ]
  },
  {
   "cell_type": "code",
   "execution_count": null,
   "id": "27a6e6e8-fd22-4d39-ad5f-51e9120a90f6",
   "metadata": {},
   "outputs": [],
   "source": [
    "f'Predicted survival {100 * metrics.accuracy_score(prediction, Y_vld):.2f}% out of {Y_vld.shape[0]} people'"
   ]
  },
  {
   "cell_type": "markdown",
   "id": "a1a011bd-8f11-4631-8c3a-01c540f10d05",
   "metadata": {},
   "source": [
    "## Feature Importance"
   ]
  },
  {
   "cell_type": "markdown",
   "id": "1a794c6b-7382-48cd-a8f5-9a3029268b07",
   "metadata": {},
   "source": [
    "지금 모델은 당연히 학습된 feature들에 영향을 가짐. 그래서 얼마나 그 수치를 가졌는지 구해보는 단계."
   ]
  },
  {
   "cell_type": "code",
   "execution_count": null,
   "id": "9c471bf2-944f-4ea3-8eff-92ff7ae5ad88",
   "metadata": {},
   "outputs": [],
   "source": [
    "from pandas import Series\n",
    "\n",
    "feature_importance = model.feature_importances_\n",
    "series_feat_imp = Series(feature_importance, index=df_test.columns)"
   ]
  },
  {
   "cell_type": "code",
   "execution_count": null,
   "id": "e07b74a6-36d2-4366-a264-a10b1914ab7a",
   "metadata": {},
   "outputs": [],
   "source": [
    "feature_importance"
   ]
  },
  {
   "cell_type": "code",
   "execution_count": null,
   "id": "1a019853-67c0-4177-8fc7-033d96761c97",
   "metadata": {},
   "outputs": [],
   "source": [
    "plt.figure(figsize=(8, 8))\n",
    "series_feat_imp.sort_values(ascending=True).plot.barh()\n",
    "plt.xlabel('Feature importance')\n",
    "plt.ylabel('Feature')\n",
    "plt"
   ]
  },
  {
   "cell_type": "markdown",
   "id": "438ff1cf-8280-4ecd-b9e5-da603c02915d",
   "metadata": {},
   "source": [
    "위에서 봤듯이 나이와 요금이 높은 상관관계를 보였고, initial 2인 'Mr'이 영향을 줬다.\n",
    "블로그와 그래프가 낮게 나온 이유는 나이대를 분류화 하지 않아서 그러지 않을까 싶다."
   ]
  },
  {
   "cell_type": "markdown",
   "id": "ce459370-4ef2-46ba-995f-717377e14180",
   "metadata": {},
   "source": [
    "## Prediction on Test set"
   ]
  },
  {
   "cell_type": "code",
   "execution_count": null,
   "id": "433e0990-b230-469b-8ded-3ad48ee52067",
   "metadata": {},
   "outputs": [],
   "source": [
    "submission = pd.read_csv('gender.csv')"
   ]
  },
  {
   "cell_type": "code",
   "execution_count": null,
   "id": "dab8a2cc-02af-4ff7-b708-6e71bd403023",
   "metadata": {},
   "outputs": [],
   "source": [
    "submission.head()"
   ]
  },
  {
   "cell_type": "code",
   "execution_count": null,
   "id": "9c3ea16d-7ef6-4f64-a123-65d5a868d782",
   "metadata": {
    "scrolled": true
   },
   "outputs": [],
   "source": [
    "X_test = df_test.values\n",
    "prediction = model.predict(X_test)\n",
    "prediction"
   ]
  },
  {
   "cell_type": "code",
   "execution_count": null,
   "id": "a7d3de06-1677-47b4-ac48-bc52098e542f",
   "metadata": {},
   "outputs": [],
   "source": [
    "submission['Survived'] = prediction"
   ]
  },
  {
   "cell_type": "code",
   "execution_count": null,
   "id": "1dc6af8c-4e8e-41e5-8429-3573797a8909",
   "metadata": {},
   "outputs": [],
   "source": [
    "submission"
   ]
  },
  {
   "cell_type": "code",
   "execution_count": null,
   "id": "7dd02d2c-e9a3-4231-92a5-99e585badac0",
   "metadata": {},
   "outputs": [],
   "source": [
    "submission.to_csv('tistory_blog_submission.csv', index=False)"
   ]
  },
  {
   "cell_type": "markdown",
   "id": "20c80efd0bf34845",
   "metadata": {
    "collapsed": false
   },
   "source": [
    "![image](kaggle_leaderboard_1.png \"Kaggle Leaderboard\")"
   ]
  },
  {
   "cell_type": "code",
   "outputs": [],
   "source": [],
   "metadata": {
    "collapsed": false
   },
   "id": "c99d889509bd5359"
  }
 ],
 "metadata": {
  "kernelspec": {
   "display_name": "Python 3 (ipykernel)",
   "language": "python",
   "name": "python3"
  },
  "language_info": {
   "codemirror_mode": {
    "name": "ipython",
    "version": 3
   },
   "file_extension": ".py",
   "mimetype": "text/x-python",
   "name": "python",
   "nbconvert_exporter": "python",
   "pygments_lexer": "ipython3",
   "version": "3.11.7"
  }
 },
 "nbformat": 4,
 "nbformat_minor": 5
}
