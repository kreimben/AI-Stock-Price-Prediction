{
 "cells": [
  {
   "cell_type": "raw",
   "source": [
    "# Titanic Tutorial\n",
    "Jan 4th, 2024\n",
    "Written by: Jehwan Kim"
   ],
   "metadata": {
    "collapsed": false
   },
   "id": "6bdce61bc766d268"
  }
 ],
 "metadata": {
  "kernelspec": {
   "display_name": "Python 3",
   "language": "python",
   "name": "python3"
  },
  "language_info": {
   "codemirror_mode": {
    "name": "ipython",
    "version": 2
   },
   "file_extension": ".py",
   "mimetype": "text/x-python",
   "name": "python",
   "nbconvert_exporter": "python",
   "pygments_lexer": "ipython2",
   "version": "2.7.6"
  }
 },
 "nbformat": 4,
 "nbformat_minor": 5
}
